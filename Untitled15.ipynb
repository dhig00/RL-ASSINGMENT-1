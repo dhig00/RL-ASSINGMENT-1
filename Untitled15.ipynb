{
  "nbformat": 4,
  "nbformat_minor": 0,
  "metadata": {
    "colab": {
      "provenance": []
    },
    "kernelspec": {
      "name": "python3",
      "display_name": "Python 3"
    },
    "language_info": {
      "name": "python"
    }
  },
  "cells": [
    {
      "cell_type": "code",
      "source": [
        "!pip install mlflow"
      ],
      "metadata": {
        "colab": {
          "base_uri": "https://localhost:8080/"
        },
        "id": "Hn4T54ve3fD8",
        "outputId": "876c381a-a902-439b-fea3-aa8a675b3d6f"
      },
      "execution_count": 3,
      "outputs": [
        {
          "output_type": "stream",
          "name": "stdout",
          "text": [
            "Collecting mlflow\n",
            "  Downloading mlflow-2.21.2-py3-none-any.whl.metadata (30 kB)\n",
            "Collecting mlflow-skinny==2.21.2 (from mlflow)\n",
            "  Downloading mlflow_skinny-2.21.2-py3-none-any.whl.metadata (31 kB)\n",
            "Requirement already satisfied: Flask<4 in /usr/local/lib/python3.11/dist-packages (from mlflow) (3.1.0)\n",
            "Requirement already satisfied: Jinja2<4,>=2.11 in /usr/local/lib/python3.11/dist-packages (from mlflow) (3.1.6)\n",
            "Collecting alembic!=1.10.0,<2 (from mlflow)\n",
            "  Downloading alembic-1.15.2-py3-none-any.whl.metadata (7.3 kB)\n",
            "Collecting docker<8,>=4.0.0 (from mlflow)\n",
            "  Downloading docker-7.1.0-py3-none-any.whl.metadata (3.8 kB)\n",
            "Collecting graphene<4 (from mlflow)\n",
            "  Downloading graphene-3.4.3-py2.py3-none-any.whl.metadata (6.9 kB)\n",
            "Collecting gunicorn<24 (from mlflow)\n",
            "  Downloading gunicorn-23.0.0-py3-none-any.whl.metadata (4.4 kB)\n",
            "Requirement already satisfied: markdown<4,>=3.3 in /usr/local/lib/python3.11/dist-packages (from mlflow) (3.7)\n",
            "Requirement already satisfied: matplotlib<4 in /usr/local/lib/python3.11/dist-packages (from mlflow) (3.10.0)\n",
            "Requirement already satisfied: numpy<3 in /usr/local/lib/python3.11/dist-packages (from mlflow) (2.0.2)\n",
            "Requirement already satisfied: pandas<3 in /usr/local/lib/python3.11/dist-packages (from mlflow) (2.2.2)\n",
            "Requirement already satisfied: pyarrow<20,>=4.0.0 in /usr/local/lib/python3.11/dist-packages (from mlflow) (18.1.0)\n",
            "Requirement already satisfied: scikit-learn<2 in /usr/local/lib/python3.11/dist-packages (from mlflow) (1.6.1)\n",
            "Requirement already satisfied: scipy<2 in /usr/local/lib/python3.11/dist-packages (from mlflow) (1.14.1)\n",
            "Requirement already satisfied: sqlalchemy<3,>=1.4.0 in /usr/local/lib/python3.11/dist-packages (from mlflow) (2.0.39)\n",
            "Requirement already satisfied: cachetools<6,>=5.0.0 in /usr/local/lib/python3.11/dist-packages (from mlflow-skinny==2.21.2->mlflow) (5.5.2)\n",
            "Requirement already satisfied: click<9,>=7.0 in /usr/local/lib/python3.11/dist-packages (from mlflow-skinny==2.21.2->mlflow) (8.1.8)\n",
            "Requirement already satisfied: cloudpickle<4 in /usr/local/lib/python3.11/dist-packages (from mlflow-skinny==2.21.2->mlflow) (3.1.1)\n",
            "Collecting databricks-sdk<1,>=0.20.0 (from mlflow-skinny==2.21.2->mlflow)\n",
            "  Downloading databricks_sdk-0.49.0-py3-none-any.whl.metadata (38 kB)\n",
            "Collecting fastapi<1 (from mlflow-skinny==2.21.2->mlflow)\n",
            "  Downloading fastapi-0.115.12-py3-none-any.whl.metadata (27 kB)\n",
            "Requirement already satisfied: gitpython<4,>=3.1.9 in /usr/local/lib/python3.11/dist-packages (from mlflow-skinny==2.21.2->mlflow) (3.1.44)\n",
            "Requirement already satisfied: importlib_metadata!=4.7.0,<9,>=3.7.0 in /usr/local/lib/python3.11/dist-packages (from mlflow-skinny==2.21.2->mlflow) (8.6.1)\n",
            "Requirement already satisfied: opentelemetry-api<3,>=1.9.0 in /usr/local/lib/python3.11/dist-packages (from mlflow-skinny==2.21.2->mlflow) (1.31.1)\n",
            "Requirement already satisfied: opentelemetry-sdk<3,>=1.9.0 in /usr/local/lib/python3.11/dist-packages (from mlflow-skinny==2.21.2->mlflow) (1.31.1)\n",
            "Requirement already satisfied: packaging<25 in /usr/local/lib/python3.11/dist-packages (from mlflow-skinny==2.21.2->mlflow) (24.2)\n",
            "Requirement already satisfied: protobuf<6,>=3.12.0 in /usr/local/lib/python3.11/dist-packages (from mlflow-skinny==2.21.2->mlflow) (5.29.4)\n",
            "Requirement already satisfied: pydantic<3,>=1.10.8 in /usr/local/lib/python3.11/dist-packages (from mlflow-skinny==2.21.2->mlflow) (2.10.6)\n",
            "Requirement already satisfied: pyyaml<7,>=5.1 in /usr/local/lib/python3.11/dist-packages (from mlflow-skinny==2.21.2->mlflow) (6.0.2)\n",
            "Requirement already satisfied: requests<3,>=2.17.3 in /usr/local/lib/python3.11/dist-packages (from mlflow-skinny==2.21.2->mlflow) (2.32.3)\n",
            "Requirement already satisfied: sqlparse<1,>=0.4.0 in /usr/local/lib/python3.11/dist-packages (from mlflow-skinny==2.21.2->mlflow) (0.5.3)\n",
            "Requirement already satisfied: typing-extensions<5,>=4.0.0 in /usr/local/lib/python3.11/dist-packages (from mlflow-skinny==2.21.2->mlflow) (4.12.2)\n",
            "Collecting uvicorn<1 (from mlflow-skinny==2.21.2->mlflow)\n",
            "  Downloading uvicorn-0.34.0-py3-none-any.whl.metadata (6.5 kB)\n",
            "Requirement already satisfied: Mako in /usr/lib/python3/dist-packages (from alembic!=1.10.0,<2->mlflow) (1.1.3)\n",
            "Requirement already satisfied: urllib3>=1.26.0 in /usr/local/lib/python3.11/dist-packages (from docker<8,>=4.0.0->mlflow) (2.3.0)\n",
            "Requirement already satisfied: Werkzeug>=3.1 in /usr/local/lib/python3.11/dist-packages (from Flask<4->mlflow) (3.1.3)\n",
            "Requirement already satisfied: itsdangerous>=2.2 in /usr/local/lib/python3.11/dist-packages (from Flask<4->mlflow) (2.2.0)\n",
            "Requirement already satisfied: blinker>=1.9 in /usr/local/lib/python3.11/dist-packages (from Flask<4->mlflow) (1.9.0)\n",
            "Collecting graphql-core<3.3,>=3.1 (from graphene<4->mlflow)\n",
            "  Downloading graphql_core-3.2.6-py3-none-any.whl.metadata (11 kB)\n",
            "Collecting graphql-relay<3.3,>=3.1 (from graphene<4->mlflow)\n",
            "  Downloading graphql_relay-3.2.0-py3-none-any.whl.metadata (12 kB)\n",
            "Requirement already satisfied: python-dateutil<3,>=2.7.0 in /usr/local/lib/python3.11/dist-packages (from graphene<4->mlflow) (2.8.2)\n",
            "Requirement already satisfied: MarkupSafe>=2.0 in /usr/local/lib/python3.11/dist-packages (from Jinja2<4,>=2.11->mlflow) (3.0.2)\n",
            "Requirement already satisfied: contourpy>=1.0.1 in /usr/local/lib/python3.11/dist-packages (from matplotlib<4->mlflow) (1.3.1)\n",
            "Requirement already satisfied: cycler>=0.10 in /usr/local/lib/python3.11/dist-packages (from matplotlib<4->mlflow) (0.12.1)\n",
            "Requirement already satisfied: fonttools>=4.22.0 in /usr/local/lib/python3.11/dist-packages (from matplotlib<4->mlflow) (4.56.0)\n",
            "Requirement already satisfied: kiwisolver>=1.3.1 in /usr/local/lib/python3.11/dist-packages (from matplotlib<4->mlflow) (1.4.8)\n",
            "Requirement already satisfied: pillow>=8 in /usr/local/lib/python3.11/dist-packages (from matplotlib<4->mlflow) (11.1.0)\n",
            "Requirement already satisfied: pyparsing>=2.3.1 in /usr/local/lib/python3.11/dist-packages (from matplotlib<4->mlflow) (3.2.1)\n",
            "Requirement already satisfied: pytz>=2020.1 in /usr/local/lib/python3.11/dist-packages (from pandas<3->mlflow) (2025.1)\n",
            "Requirement already satisfied: tzdata>=2022.7 in /usr/local/lib/python3.11/dist-packages (from pandas<3->mlflow) (2025.1)\n",
            "Requirement already satisfied: joblib>=1.2.0 in /usr/local/lib/python3.11/dist-packages (from scikit-learn<2->mlflow) (1.4.2)\n",
            "Requirement already satisfied: threadpoolctl>=3.1.0 in /usr/local/lib/python3.11/dist-packages (from scikit-learn<2->mlflow) (3.6.0)\n",
            "Requirement already satisfied: greenlet!=0.4.17 in /usr/local/lib/python3.11/dist-packages (from sqlalchemy<3,>=1.4.0->mlflow) (3.1.1)\n",
            "Requirement already satisfied: google-auth~=2.0 in /usr/local/lib/python3.11/dist-packages (from databricks-sdk<1,>=0.20.0->mlflow-skinny==2.21.2->mlflow) (2.38.0)\n",
            "Collecting starlette<0.47.0,>=0.40.0 (from fastapi<1->mlflow-skinny==2.21.2->mlflow)\n",
            "  Downloading starlette-0.46.1-py3-none-any.whl.metadata (6.2 kB)\n",
            "Requirement already satisfied: gitdb<5,>=4.0.1 in /usr/local/lib/python3.11/dist-packages (from gitpython<4,>=3.1.9->mlflow-skinny==2.21.2->mlflow) (4.0.12)\n",
            "Requirement already satisfied: zipp>=3.20 in /usr/local/lib/python3.11/dist-packages (from importlib_metadata!=4.7.0,<9,>=3.7.0->mlflow-skinny==2.21.2->mlflow) (3.21.0)\n",
            "Requirement already satisfied: deprecated>=1.2.6 in /usr/local/lib/python3.11/dist-packages (from opentelemetry-api<3,>=1.9.0->mlflow-skinny==2.21.2->mlflow) (1.2.18)\n",
            "Requirement already satisfied: opentelemetry-semantic-conventions==0.52b1 in /usr/local/lib/python3.11/dist-packages (from opentelemetry-sdk<3,>=1.9.0->mlflow-skinny==2.21.2->mlflow) (0.52b1)\n",
            "Requirement already satisfied: annotated-types>=0.6.0 in /usr/local/lib/python3.11/dist-packages (from pydantic<3,>=1.10.8->mlflow-skinny==2.21.2->mlflow) (0.7.0)\n",
            "Requirement already satisfied: pydantic-core==2.27.2 in /usr/local/lib/python3.11/dist-packages (from pydantic<3,>=1.10.8->mlflow-skinny==2.21.2->mlflow) (2.27.2)\n",
            "Requirement already satisfied: six>=1.5 in /usr/local/lib/python3.11/dist-packages (from python-dateutil<3,>=2.7.0->graphene<4->mlflow) (1.17.0)\n",
            "Requirement already satisfied: charset-normalizer<4,>=2 in /usr/local/lib/python3.11/dist-packages (from requests<3,>=2.17.3->mlflow-skinny==2.21.2->mlflow) (3.4.1)\n",
            "Requirement already satisfied: idna<4,>=2.5 in /usr/local/lib/python3.11/dist-packages (from requests<3,>=2.17.3->mlflow-skinny==2.21.2->mlflow) (3.10)\n",
            "Requirement already satisfied: certifi>=2017.4.17 in /usr/local/lib/python3.11/dist-packages (from requests<3,>=2.17.3->mlflow-skinny==2.21.2->mlflow) (2025.1.31)\n",
            "Requirement already satisfied: h11>=0.8 in /usr/local/lib/python3.11/dist-packages (from uvicorn<1->mlflow-skinny==2.21.2->mlflow) (0.14.0)\n",
            "Requirement already satisfied: wrapt<2,>=1.10 in /usr/local/lib/python3.11/dist-packages (from deprecated>=1.2.6->opentelemetry-api<3,>=1.9.0->mlflow-skinny==2.21.2->mlflow) (1.17.2)\n",
            "Requirement already satisfied: smmap<6,>=3.0.1 in /usr/local/lib/python3.11/dist-packages (from gitdb<5,>=4.0.1->gitpython<4,>=3.1.9->mlflow-skinny==2.21.2->mlflow) (5.0.2)\n",
            "Requirement already satisfied: pyasn1-modules>=0.2.1 in /usr/local/lib/python3.11/dist-packages (from google-auth~=2.0->databricks-sdk<1,>=0.20.0->mlflow-skinny==2.21.2->mlflow) (0.4.1)\n",
            "Requirement already satisfied: rsa<5,>=3.1.4 in /usr/local/lib/python3.11/dist-packages (from google-auth~=2.0->databricks-sdk<1,>=0.20.0->mlflow-skinny==2.21.2->mlflow) (4.9)\n",
            "Requirement already satisfied: anyio<5,>=3.6.2 in /usr/local/lib/python3.11/dist-packages (from starlette<0.47.0,>=0.40.0->fastapi<1->mlflow-skinny==2.21.2->mlflow) (4.9.0)\n",
            "Requirement already satisfied: sniffio>=1.1 in /usr/local/lib/python3.11/dist-packages (from anyio<5,>=3.6.2->starlette<0.47.0,>=0.40.0->fastapi<1->mlflow-skinny==2.21.2->mlflow) (1.3.1)\n",
            "Requirement already satisfied: pyasn1<0.7.0,>=0.4.6 in /usr/local/lib/python3.11/dist-packages (from pyasn1-modules>=0.2.1->google-auth~=2.0->databricks-sdk<1,>=0.20.0->mlflow-skinny==2.21.2->mlflow) (0.6.1)\n",
            "Downloading mlflow-2.21.2-py3-none-any.whl (28.2 MB)\n",
            "\u001b[2K   \u001b[90m━━━━━━━━━━━━━━━━━━━━━━━━━━━━━━━━━━━━━━━━\u001b[0m \u001b[32m28.2/28.2 MB\u001b[0m \u001b[31m60.9 MB/s\u001b[0m eta \u001b[36m0:00:00\u001b[0m\n",
            "\u001b[?25hDownloading mlflow_skinny-2.21.2-py3-none-any.whl (6.1 MB)\n",
            "\u001b[2K   \u001b[90m━━━━━━━━━━━━━━━━━━━━━━━━━━━━━━━━━━━━━━━━\u001b[0m \u001b[32m6.1/6.1 MB\u001b[0m \u001b[31m96.4 MB/s\u001b[0m eta \u001b[36m0:00:00\u001b[0m\n",
            "\u001b[?25hDownloading alembic-1.15.2-py3-none-any.whl (231 kB)\n",
            "\u001b[2K   \u001b[90m━━━━━━━━━━━━━━━━━━━━━━━━━━━━━━━━━━━━━━━━\u001b[0m \u001b[32m231.9/231.9 kB\u001b[0m \u001b[31m17.7 MB/s\u001b[0m eta \u001b[36m0:00:00\u001b[0m\n",
            "\u001b[?25hDownloading docker-7.1.0-py3-none-any.whl (147 kB)\n",
            "\u001b[2K   \u001b[90m━━━━━━━━━━━━━━━━━━━━━━━━━━━━━━━━━━━━━━━━\u001b[0m \u001b[32m147.8/147.8 kB\u001b[0m \u001b[31m12.7 MB/s\u001b[0m eta \u001b[36m0:00:00\u001b[0m\n",
            "\u001b[?25hDownloading graphene-3.4.3-py2.py3-none-any.whl (114 kB)\n",
            "\u001b[2K   \u001b[90m━━━━━━━━━━━━━━━━━━━━━━━━━━━━━━━━━━━━━━━━\u001b[0m \u001b[32m114.9/114.9 kB\u001b[0m \u001b[31m9.0 MB/s\u001b[0m eta \u001b[36m0:00:00\u001b[0m\n",
            "\u001b[?25hDownloading gunicorn-23.0.0-py3-none-any.whl (85 kB)\n",
            "\u001b[2K   \u001b[90m━━━━━━━━━━━━━━━━━━━━━━━━━━━━━━━━━━━━━━━━\u001b[0m \u001b[32m85.0/85.0 kB\u001b[0m \u001b[31m7.0 MB/s\u001b[0m eta \u001b[36m0:00:00\u001b[0m\n",
            "\u001b[?25hDownloading databricks_sdk-0.49.0-py3-none-any.whl (683 kB)\n",
            "\u001b[2K   \u001b[90m━━━━━━━━━━━━━━━━━━━━━━━━━━━━━━━━━━━━━━━━\u001b[0m \u001b[32m684.0/684.0 kB\u001b[0m \u001b[31m36.9 MB/s\u001b[0m eta \u001b[36m0:00:00\u001b[0m\n",
            "\u001b[?25hDownloading fastapi-0.115.12-py3-none-any.whl (95 kB)\n",
            "\u001b[2K   \u001b[90m━━━━━━━━━━━━━━━━━━━━━━━━━━━━━━━━━━━━━━━━\u001b[0m \u001b[32m95.2/95.2 kB\u001b[0m \u001b[31m7.8 MB/s\u001b[0m eta \u001b[36m0:00:00\u001b[0m\n",
            "\u001b[?25hDownloading graphql_core-3.2.6-py3-none-any.whl (203 kB)\n",
            "\u001b[2K   \u001b[90m━━━━━━━━━━━━━━━━━━━━━━━━━━━━━━━━━━━━━━━━\u001b[0m \u001b[32m203.4/203.4 kB\u001b[0m \u001b[31m17.1 MB/s\u001b[0m eta \u001b[36m0:00:00\u001b[0m\n",
            "\u001b[?25hDownloading graphql_relay-3.2.0-py3-none-any.whl (16 kB)\n",
            "Downloading uvicorn-0.34.0-py3-none-any.whl (62 kB)\n",
            "\u001b[2K   \u001b[90m━━━━━━━━━━━━━━━━━━━━━━━━━━━━━━━━━━━━━━━━\u001b[0m \u001b[32m62.3/62.3 kB\u001b[0m \u001b[31m5.5 MB/s\u001b[0m eta \u001b[36m0:00:00\u001b[0m\n",
            "\u001b[?25hDownloading starlette-0.46.1-py3-none-any.whl (71 kB)\n",
            "\u001b[2K   \u001b[90m━━━━━━━━━━━━━━━━━━━━━━━━━━━━━━━━━━━━━━━━\u001b[0m \u001b[32m72.0/72.0 kB\u001b[0m \u001b[31m6.0 MB/s\u001b[0m eta \u001b[36m0:00:00\u001b[0m\n",
            "\u001b[?25hInstalling collected packages: uvicorn, gunicorn, graphql-core, starlette, graphql-relay, docker, alembic, graphene, fastapi, databricks-sdk, mlflow-skinny, mlflow\n",
            "Successfully installed alembic-1.15.2 databricks-sdk-0.49.0 docker-7.1.0 fastapi-0.115.12 graphene-3.4.3 graphql-core-3.2.6 graphql-relay-3.2.0 gunicorn-23.0.0 mlflow-2.21.2 mlflow-skinny-2.21.2 starlette-0.46.1 uvicorn-0.34.0\n"
          ]
        }
      ]
    },
    {
      "cell_type": "code",
      "source": [
        "!pip install minigrid"
      ],
      "metadata": {
        "colab": {
          "base_uri": "https://localhost:8080/"
        },
        "id": "6UMGYTNx4I7R",
        "outputId": "813b8b84-90bd-468a-f5b0-019705fd4a6d"
      },
      "execution_count": 7,
      "outputs": [
        {
          "output_type": "stream",
          "name": "stdout",
          "text": [
            "Collecting minigrid\n",
            "  Downloading minigrid-3.0.0-py3-none-any.whl.metadata (6.7 kB)\n",
            "Requirement already satisfied: numpy>=1.18.0 in /usr/local/lib/python3.11/dist-packages (from minigrid) (2.0.2)\n",
            "Requirement already satisfied: gymnasium>=0.28.1 in /usr/local/lib/python3.11/dist-packages (from minigrid) (1.1.1)\n",
            "Requirement already satisfied: pygame>=2.4.0 in /usr/local/lib/python3.11/dist-packages (from minigrid) (2.6.1)\n",
            "Requirement already satisfied: cloudpickle>=1.2.0 in /usr/local/lib/python3.11/dist-packages (from gymnasium>=0.28.1->minigrid) (3.1.1)\n",
            "Requirement already satisfied: typing-extensions>=4.3.0 in /usr/local/lib/python3.11/dist-packages (from gymnasium>=0.28.1->minigrid) (4.12.2)\n",
            "Requirement already satisfied: farama-notifications>=0.0.1 in /usr/local/lib/python3.11/dist-packages (from gymnasium>=0.28.1->minigrid) (0.0.4)\n",
            "Downloading minigrid-3.0.0-py3-none-any.whl (136 kB)\n",
            "\u001b[?25l   \u001b[90m━━━━━━━━━━━━━━━━━━━━━━━━━━━━━━━━━━━━━━━━\u001b[0m \u001b[32m0.0/136.7 kB\u001b[0m \u001b[31m?\u001b[0m eta \u001b[36m-:--:--\u001b[0m\r\u001b[2K   \u001b[90m━━━━━━━━━━━━━━━━━━━━━━━━━━━━━━━━━━━━━━━━\u001b[0m \u001b[32m136.7/136.7 kB\u001b[0m \u001b[31m8.7 MB/s\u001b[0m eta \u001b[36m0:00:00\u001b[0m\n",
            "\u001b[?25hInstalling collected packages: minigrid\n",
            "Successfully installed minigrid-3.0.0\n"
          ]
        }
      ]
    },
    {
      "cell_type": "code",
      "execution_count": 15,
      "metadata": {
        "colab": {
          "base_uri": "https://localhost:8080/"
        },
        "id": "tFx2SLLx3ZU9",
        "outputId": "29567a33-9f43-439e-fcae-758dde5483d8"
      },
      "outputs": [
        {
          "output_type": "stream",
          "name": "stderr",
          "text": [
            "2025/03/30 16:43:34 INFO mlflow.tracking.fluent: Experiment with name 'MiniGrid_RL_Comparison_20250330_164334' does not exist. Creating a new experiment.\n"
          ]
        },
        {
          "output_type": "stream",
          "name": "stdout",
          "text": [
            "\n",
            "Running with params: {'alpha': 0.01, 'gamma': 0.9, 'epsilon': 0.1, 'temp': 0.5, 'num_episodes': 500, 'max_steps': 100}\n"
          ]
        },
        {
          "output_type": "stream",
          "name": "stderr",
          "text": [
            "Training QLearningAgent epsilon_greedy: 100%|██████████| 500/500 [00:07<00:00, 70.07it/s]\n",
            "Training QLearningAgent softmax: 100%|██████████| 500/500 [00:03<00:00, 154.73it/s]\n",
            "Training SARSAAgent epsilon_greedy: 100%|██████████| 500/500 [00:06<00:00, 77.76it/s]\n",
            "Training SARSAAgent softmax: 100%|██████████| 500/500 [00:01<00:00, 272.76it/s]\n"
          ]
        },
        {
          "output_type": "stream",
          "name": "stdout",
          "text": [
            "New best reward: -0.861512\n",
            "\n",
            "Running with params: {'alpha': 0.01, 'gamma': 0.9, 'epsilon': 0.1, 'temp': 1.0, 'num_episodes': 500, 'max_steps': 100}\n"
          ]
        },
        {
          "output_type": "stream",
          "name": "stderr",
          "text": [
            "Training QLearningAgent epsilon_greedy: 100%|██████████| 500/500 [00:08<00:00, 60.45it/s]\n",
            "Training QLearningAgent softmax: 100%|██████████| 500/500 [00:01<00:00, 312.42it/s]\n",
            "Training SARSAAgent epsilon_greedy: 100%|██████████| 500/500 [00:07<00:00, 67.75it/s]\n",
            "Training SARSAAgent softmax: 100%|██████████| 500/500 [00:01<00:00, 348.22it/s]\n"
          ]
        },
        {
          "output_type": "stream",
          "name": "stdout",
          "text": [
            "New best reward: -0.86\n",
            "\n",
            "Running with params: {'alpha': 0.01, 'gamma': 0.9, 'epsilon': 0.1, 'temp': 2.0, 'num_episodes': 500, 'max_steps': 100}\n"
          ]
        },
        {
          "output_type": "stream",
          "name": "stderr",
          "text": [
            "Training QLearningAgent epsilon_greedy: 100%|██████████| 500/500 [00:07<00:00, 67.38it/s]\n",
            "Training QLearningAgent softmax: 100%|██████████| 500/500 [00:01<00:00, 270.35it/s]\n",
            "Training SARSAAgent epsilon_greedy: 100%|██████████| 500/500 [00:07<00:00, 70.99it/s]\n",
            "Training SARSAAgent softmax: 100%|██████████| 500/500 [00:01<00:00, 381.73it/s]\n"
          ]
        },
        {
          "output_type": "stream",
          "name": "stdout",
          "text": [
            "\n",
            "Running with params: {'alpha': 0.01, 'gamma': 0.9, 'epsilon': 0.2, 'temp': 0.5, 'num_episodes': 500, 'max_steps': 100}\n"
          ]
        },
        {
          "output_type": "stream",
          "name": "stderr",
          "text": [
            "Training QLearningAgent epsilon_greedy: 100%|██████████| 500/500 [00:05<00:00, 92.82it/s] \n",
            "Training QLearningAgent softmax: 100%|██████████| 500/500 [00:02<00:00, 215.89it/s]\n",
            "Training SARSAAgent epsilon_greedy: 100%|██████████| 500/500 [00:04<00:00, 124.75it/s]\n",
            "Training SARSAAgent softmax: 100%|██████████| 500/500 [00:01<00:00, 295.74it/s]\n"
          ]
        },
        {
          "output_type": "stream",
          "name": "stdout",
          "text": [
            "\n",
            "Running with params: {'alpha': 0.01, 'gamma': 0.9, 'epsilon': 0.2, 'temp': 1.0, 'num_episodes': 500, 'max_steps': 100}\n"
          ]
        },
        {
          "output_type": "stream",
          "name": "stderr",
          "text": [
            "Training QLearningAgent epsilon_greedy: 100%|██████████| 500/500 [00:05<00:00, 91.49it/s] \n",
            "Training QLearningAgent softmax: 100%|██████████| 500/500 [00:01<00:00, 319.52it/s]\n",
            "Training SARSAAgent epsilon_greedy: 100%|██████████| 500/500 [00:03<00:00, 132.92it/s]\n",
            "Training SARSAAgent softmax: 100%|██████████| 500/500 [00:01<00:00, 340.18it/s]\n"
          ]
        },
        {
          "output_type": "stream",
          "name": "stdout",
          "text": [
            "\n",
            "Running with params: {'alpha': 0.01, 'gamma': 0.9, 'epsilon': 0.2, 'temp': 2.0, 'num_episodes': 500, 'max_steps': 100}\n"
          ]
        },
        {
          "output_type": "stream",
          "name": "stderr",
          "text": [
            "Training QLearningAgent epsilon_greedy: 100%|██████████| 500/500 [00:05<00:00, 95.34it/s] \n",
            "Training QLearningAgent softmax: 100%|██████████| 500/500 [00:01<00:00, 357.64it/s]\n",
            "Training SARSAAgent epsilon_greedy: 100%|██████████| 500/500 [00:03<00:00, 129.85it/s]\n",
            "Training SARSAAgent softmax: 100%|██████████| 500/500 [00:01<00:00, 364.44it/s]\n"
          ]
        },
        {
          "output_type": "stream",
          "name": "stdout",
          "text": [
            "\n",
            "Running with params: {'alpha': 0.01, 'gamma': 0.9, 'epsilon': 0.3, 'temp': 0.5, 'num_episodes': 500, 'max_steps': 100}\n"
          ]
        },
        {
          "output_type": "stream",
          "name": "stderr",
          "text": [
            "Training QLearningAgent epsilon_greedy: 100%|██████████| 500/500 [00:03<00:00, 129.19it/s]\n",
            "Training QLearningAgent softmax: 100%|██████████| 500/500 [00:02<00:00, 191.61it/s]\n",
            "Training SARSAAgent epsilon_greedy: 100%|██████████| 500/500 [00:02<00:00, 183.02it/s]\n",
            "Training SARSAAgent softmax: 100%|██████████| 500/500 [00:01<00:00, 293.31it/s]\n"
          ]
        },
        {
          "output_type": "stream",
          "name": "stdout",
          "text": [
            "\n",
            "Running with params: {'alpha': 0.01, 'gamma': 0.9, 'epsilon': 0.3, 'temp': 1.0, 'num_episodes': 500, 'max_steps': 100}\n"
          ]
        },
        {
          "output_type": "stream",
          "name": "stderr",
          "text": [
            "Training QLearningAgent epsilon_greedy: 100%|██████████| 500/500 [00:03<00:00, 136.72it/s]\n",
            "Training QLearningAgent softmax: 100%|██████████| 500/500 [00:02<00:00, 237.34it/s]\n",
            "Training SARSAAgent epsilon_greedy: 100%|██████████| 500/500 [00:02<00:00, 181.99it/s]\n",
            "Training SARSAAgent softmax: 100%|██████████| 500/500 [00:01<00:00, 335.95it/s]\n"
          ]
        },
        {
          "output_type": "stream",
          "name": "stdout",
          "text": [
            "\n",
            "Running with params: {'alpha': 0.01, 'gamma': 0.9, 'epsilon': 0.3, 'temp': 2.0, 'num_episodes': 500, 'max_steps': 100}\n"
          ]
        },
        {
          "output_type": "stream",
          "name": "stderr",
          "text": [
            "Training QLearningAgent epsilon_greedy: 100%|██████████| 500/500 [00:02<00:00, 186.27it/s]\n",
            "Training QLearningAgent softmax: 100%|██████████| 500/500 [00:01<00:00, 364.05it/s]\n",
            "Training SARSAAgent epsilon_greedy: 100%|██████████| 500/500 [00:03<00:00, 131.63it/s]\n",
            "Training SARSAAgent softmax: 100%|██████████| 500/500 [00:01<00:00, 381.64it/s]\n"
          ]
        },
        {
          "output_type": "stream",
          "name": "stdout",
          "text": [
            "\n",
            "Running with params: {'alpha': 0.01, 'gamma': 0.95, 'epsilon': 0.1, 'temp': 0.5, 'num_episodes': 500, 'max_steps': 100}\n"
          ]
        },
        {
          "output_type": "stream",
          "name": "stderr",
          "text": [
            "Training QLearningAgent epsilon_greedy: 100%|██████████| 500/500 [00:07<00:00, 68.75it/s]\n",
            "Training QLearningAgent softmax: 100%|██████████| 500/500 [00:03<00:00, 148.20it/s]\n",
            "Training SARSAAgent epsilon_greedy: 100%|██████████| 500/500 [00:06<00:00, 79.13it/s]\n",
            "Training SARSAAgent softmax: 100%|██████████| 500/500 [00:01<00:00, 291.04it/s]\n"
          ]
        },
        {
          "output_type": "stream",
          "name": "stdout",
          "text": [
            "\n",
            "Running with params: {'alpha': 0.01, 'gamma': 0.95, 'epsilon': 0.1, 'temp': 1.0, 'num_episodes': 500, 'max_steps': 100}\n"
          ]
        },
        {
          "output_type": "stream",
          "name": "stderr",
          "text": [
            "Training QLearningAgent epsilon_greedy: 100%|██████████| 500/500 [00:08<00:00, 60.15it/s]\n",
            "Training QLearningAgent softmax: 100%|██████████| 500/500 [00:01<00:00, 315.46it/s]\n",
            "Training SARSAAgent epsilon_greedy: 100%|██████████| 500/500 [00:07<00:00, 66.67it/s]\n",
            "Training SARSAAgent softmax: 100%|██████████| 500/500 [00:01<00:00, 340.21it/s]\n"
          ]
        },
        {
          "output_type": "stream",
          "name": "stdout",
          "text": [
            "New best reward: -0.842\n",
            "\n",
            "Running with params: {'alpha': 0.01, 'gamma': 0.95, 'epsilon': 0.1, 'temp': 2.0, 'num_episodes': 500, 'max_steps': 100}\n"
          ]
        },
        {
          "output_type": "stream",
          "name": "stderr",
          "text": [
            "Training QLearningAgent epsilon_greedy: 100%|██████████| 500/500 [00:07<00:00, 66.82it/s]\n",
            "Training QLearningAgent softmax: 100%|██████████| 500/500 [00:02<00:00, 243.14it/s]\n",
            "Training SARSAAgent epsilon_greedy: 100%|██████████| 500/500 [00:06<00:00, 79.82it/s]\n",
            "Training SARSAAgent softmax: 100%|██████████| 500/500 [00:01<00:00, 400.39it/s]\n"
          ]
        },
        {
          "output_type": "stream",
          "name": "stdout",
          "text": [
            "\n",
            "Running with params: {'alpha': 0.01, 'gamma': 0.95, 'epsilon': 0.2, 'temp': 0.5, 'num_episodes': 500, 'max_steps': 100}\n"
          ]
        },
        {
          "output_type": "stream",
          "name": "stderr",
          "text": [
            "Training QLearningAgent epsilon_greedy: 100%|██████████| 500/500 [00:05<00:00, 99.39it/s] \n",
            "Training QLearningAgent softmax: 100%|██████████| 500/500 [00:02<00:00, 213.18it/s]\n",
            "Training SARSAAgent epsilon_greedy: 100%|██████████| 500/500 [00:03<00:00, 128.77it/s]\n",
            "Training SARSAAgent softmax: 100%|██████████| 500/500 [00:01<00:00, 290.39it/s]\n"
          ]
        },
        {
          "output_type": "stream",
          "name": "stdout",
          "text": [
            "\n",
            "Running with params: {'alpha': 0.01, 'gamma': 0.95, 'epsilon': 0.2, 'temp': 1.0, 'num_episodes': 500, 'max_steps': 100}\n"
          ]
        },
        {
          "output_type": "stream",
          "name": "stderr",
          "text": [
            "Training QLearningAgent epsilon_greedy: 100%|██████████| 500/500 [00:04<00:00, 101.67it/s]\n",
            "Training QLearningAgent softmax: 100%|██████████| 500/500 [00:01<00:00, 312.46it/s]\n",
            "Training SARSAAgent epsilon_greedy: 100%|██████████| 500/500 [00:04<00:00, 123.78it/s]\n",
            "Training SARSAAgent softmax: 100%|██████████| 500/500 [00:01<00:00, 366.87it/s]\n"
          ]
        },
        {
          "output_type": "stream",
          "name": "stdout",
          "text": [
            "\n",
            "Running with params: {'alpha': 0.01, 'gamma': 0.95, 'epsilon': 0.2, 'temp': 2.0, 'num_episodes': 500, 'max_steps': 100}\n"
          ]
        },
        {
          "output_type": "stream",
          "name": "stderr",
          "text": [
            "Training QLearningAgent epsilon_greedy: 100%|██████████| 500/500 [00:05<00:00, 94.43it/s] \n",
            "Training QLearningAgent softmax: 100%|██████████| 500/500 [00:01<00:00, 355.87it/s]\n",
            "Training SARSAAgent epsilon_greedy: 100%|██████████| 500/500 [00:03<00:00, 132.83it/s]\n",
            "Training SARSAAgent softmax: 100%|██████████| 500/500 [00:01<00:00, 380.60it/s]\n"
          ]
        },
        {
          "output_type": "stream",
          "name": "stdout",
          "text": [
            "\n",
            "Running with params: {'alpha': 0.01, 'gamma': 0.95, 'epsilon': 0.3, 'temp': 0.5, 'num_episodes': 500, 'max_steps': 100}\n"
          ]
        },
        {
          "output_type": "stream",
          "name": "stderr",
          "text": [
            "Training QLearningAgent epsilon_greedy: 100%|██████████| 500/500 [00:03<00:00, 132.12it/s]\n",
            "Training QLearningAgent softmax: 100%|██████████| 500/500 [00:02<00:00, 216.39it/s]\n",
            "Training SARSAAgent epsilon_greedy: 100%|██████████| 500/500 [00:02<00:00, 181.36it/s]\n",
            "Training SARSAAgent softmax: 100%|██████████| 500/500 [00:01<00:00, 310.36it/s]\n"
          ]
        },
        {
          "output_type": "stream",
          "name": "stdout",
          "text": [
            "\n",
            "Running with params: {'alpha': 0.01, 'gamma': 0.95, 'epsilon': 0.3, 'temp': 1.0, 'num_episodes': 500, 'max_steps': 100}\n"
          ]
        },
        {
          "output_type": "stream",
          "name": "stderr",
          "text": [
            "Training QLearningAgent epsilon_greedy: 100%|██████████| 500/500 [00:03<00:00, 161.52it/s]\n",
            "Training QLearningAgent softmax: 100%|██████████| 500/500 [00:02<00:00, 213.34it/s]\n",
            "Training SARSAAgent epsilon_greedy: 100%|██████████| 500/500 [00:02<00:00, 175.25it/s]\n",
            "Training SARSAAgent softmax: 100%|██████████| 500/500 [00:01<00:00, 371.63it/s]\n"
          ]
        },
        {
          "output_type": "stream",
          "name": "stdout",
          "text": [
            "\n",
            "Running with params: {'alpha': 0.01, 'gamma': 0.95, 'epsilon': 0.3, 'temp': 2.0, 'num_episodes': 500, 'max_steps': 100}\n"
          ]
        },
        {
          "output_type": "stream",
          "name": "stderr",
          "text": [
            "Training QLearningAgent epsilon_greedy: 100%|██████████| 500/500 [00:02<00:00, 176.37it/s]\n",
            "Training QLearningAgent softmax: 100%|██████████| 500/500 [00:01<00:00, 353.95it/s]\n",
            "Training SARSAAgent epsilon_greedy: 100%|██████████| 500/500 [00:03<00:00, 131.39it/s]\n",
            "Training SARSAAgent softmax: 100%|██████████| 500/500 [00:01<00:00, 362.03it/s]\n"
          ]
        },
        {
          "output_type": "stream",
          "name": "stdout",
          "text": [
            "\n",
            "Running with params: {'alpha': 0.01, 'gamma': 0.99, 'epsilon': 0.1, 'temp': 0.5, 'num_episodes': 500, 'max_steps': 100}\n"
          ]
        },
        {
          "output_type": "stream",
          "name": "stderr",
          "text": [
            "Training QLearningAgent epsilon_greedy: 100%|██████████| 500/500 [00:07<00:00, 66.56it/s]\n",
            "Training QLearningAgent softmax: 100%|██████████| 500/500 [00:03<00:00, 154.89it/s]\n",
            "Training SARSAAgent epsilon_greedy: 100%|██████████| 500/500 [00:06<00:00, 75.78it/s]\n",
            "Training SARSAAgent softmax: 100%|██████████| 500/500 [00:01<00:00, 299.34it/s]\n"
          ]
        },
        {
          "output_type": "stream",
          "name": "stdout",
          "text": [
            "New best reward: -0.824304\n",
            "\n",
            "Running with params: {'alpha': 0.01, 'gamma': 0.99, 'epsilon': 0.1, 'temp': 1.0, 'num_episodes': 500, 'max_steps': 100}\n"
          ]
        },
        {
          "output_type": "stream",
          "name": "stderr",
          "text": [
            "Training QLearningAgent epsilon_greedy: 100%|██████████| 500/500 [00:07<00:00, 65.37it/s]\n",
            "Training QLearningAgent softmax: 100%|██████████| 500/500 [00:01<00:00, 306.40it/s]\n",
            "Training SARSAAgent epsilon_greedy: 100%|██████████| 500/500 [00:07<00:00, 66.58it/s]\n",
            "Training SARSAAgent softmax: 100%|██████████| 500/500 [00:01<00:00, 363.06it/s]\n"
          ]
        },
        {
          "output_type": "stream",
          "name": "stdout",
          "text": [
            "\n",
            "Running with params: {'alpha': 0.01, 'gamma': 0.99, 'epsilon': 0.1, 'temp': 2.0, 'num_episodes': 500, 'max_steps': 100}\n"
          ]
        },
        {
          "output_type": "stream",
          "name": "stderr",
          "text": [
            "Training QLearningAgent epsilon_greedy: 100%|██████████| 500/500 [00:07<00:00, 65.22it/s]\n",
            "Training QLearningAgent softmax: 100%|██████████| 500/500 [00:02<00:00, 217.65it/s]\n",
            "Training SARSAAgent epsilon_greedy: 100%|██████████| 500/500 [00:06<00:00, 79.12it/s]\n",
            "Training SARSAAgent softmax: 100%|██████████| 500/500 [00:01<00:00, 391.60it/s]\n"
          ]
        },
        {
          "output_type": "stream",
          "name": "stdout",
          "text": [
            "\n",
            "Running with params: {'alpha': 0.01, 'gamma': 0.99, 'epsilon': 0.2, 'temp': 0.5, 'num_episodes': 500, 'max_steps': 100}\n"
          ]
        },
        {
          "output_type": "stream",
          "name": "stderr",
          "text": [
            "Training QLearningAgent epsilon_greedy: 100%|██████████| 500/500 [00:05<00:00, 95.33it/s] \n",
            "Training QLearningAgent softmax: 100%|██████████| 500/500 [00:02<00:00, 208.23it/s]\n",
            "Training SARSAAgent epsilon_greedy: 100%|██████████| 500/500 [00:03<00:00, 128.91it/s]\n",
            "Training SARSAAgent softmax: 100%|██████████| 500/500 [00:01<00:00, 323.15it/s]\n"
          ]
        },
        {
          "output_type": "stream",
          "name": "stdout",
          "text": [
            "\n",
            "Running with params: {'alpha': 0.01, 'gamma': 0.99, 'epsilon': 0.2, 'temp': 1.0, 'num_episodes': 500, 'max_steps': 100}\n"
          ]
        },
        {
          "output_type": "stream",
          "name": "stderr",
          "text": [
            "Training QLearningAgent epsilon_greedy: 100%|██████████| 500/500 [00:04<00:00, 100.26it/s]\n",
            "Training QLearningAgent softmax: 100%|██████████| 500/500 [00:01<00:00, 312.03it/s]\n",
            "Training SARSAAgent epsilon_greedy: 100%|██████████| 500/500 [00:03<00:00, 131.99it/s]\n",
            "Training SARSAAgent softmax: 100%|██████████| 500/500 [00:01<00:00, 340.53it/s]\n"
          ]
        },
        {
          "output_type": "stream",
          "name": "stdout",
          "text": [
            "\n",
            "Running with params: {'alpha': 0.01, 'gamma': 0.99, 'epsilon': 0.2, 'temp': 2.0, 'num_episodes': 500, 'max_steps': 100}\n"
          ]
        },
        {
          "output_type": "stream",
          "name": "stderr",
          "text": [
            "Training QLearningAgent epsilon_greedy: 100%|██████████| 500/500 [00:05<00:00, 92.60it/s] \n",
            "Training QLearningAgent softmax: 100%|██████████| 500/500 [00:01<00:00, 374.32it/s]\n",
            "Training SARSAAgent epsilon_greedy: 100%|██████████| 500/500 [00:03<00:00, 133.17it/s]\n",
            "Training SARSAAgent softmax: 100%|██████████| 500/500 [00:01<00:00, 380.98it/s]\n"
          ]
        },
        {
          "output_type": "stream",
          "name": "stdout",
          "text": [
            "\n",
            "Running with params: {'alpha': 0.01, 'gamma': 0.99, 'epsilon': 0.3, 'temp': 0.5, 'num_episodes': 500, 'max_steps': 100}\n"
          ]
        },
        {
          "output_type": "stream",
          "name": "stderr",
          "text": [
            "Training QLearningAgent epsilon_greedy: 100%|██████████| 500/500 [00:03<00:00, 127.11it/s]\n",
            "Training QLearningAgent softmax: 100%|██████████| 500/500 [00:02<00:00, 203.78it/s]\n",
            "Training SARSAAgent epsilon_greedy: 100%|██████████| 500/500 [00:02<00:00, 183.37it/s]\n",
            "Training SARSAAgent softmax: 100%|██████████| 500/500 [00:01<00:00, 307.77it/s]\n"
          ]
        },
        {
          "output_type": "stream",
          "name": "stdout",
          "text": [
            "\n",
            "Running with params: {'alpha': 0.01, 'gamma': 0.99, 'epsilon': 0.3, 'temp': 1.0, 'num_episodes': 500, 'max_steps': 100}\n"
          ]
        },
        {
          "output_type": "stream",
          "name": "stderr",
          "text": [
            "Training QLearningAgent epsilon_greedy: 100%|██████████| 500/500 [00:02<00:00, 182.34it/s]\n",
            "Training QLearningAgent softmax: 100%|██████████| 500/500 [00:02<00:00, 200.74it/s]\n",
            "Training SARSAAgent epsilon_greedy: 100%|██████████| 500/500 [00:02<00:00, 171.68it/s]\n",
            "Training SARSAAgent softmax: 100%|██████████| 500/500 [00:01<00:00, 356.31it/s]\n"
          ]
        },
        {
          "output_type": "stream",
          "name": "stdout",
          "text": [
            "\n",
            "Running with params: {'alpha': 0.01, 'gamma': 0.99, 'epsilon': 0.3, 'temp': 2.0, 'num_episodes': 500, 'max_steps': 100}\n"
          ]
        },
        {
          "output_type": "stream",
          "name": "stderr",
          "text": [
            "Training QLearningAgent epsilon_greedy: 100%|██████████| 500/500 [00:03<00:00, 163.21it/s]\n",
            "Training QLearningAgent softmax: 100%|██████████| 500/500 [00:01<00:00, 356.09it/s]\n",
            "Training SARSAAgent epsilon_greedy: 100%|██████████| 500/500 [00:03<00:00, 135.68it/s]\n",
            "Training SARSAAgent softmax: 100%|██████████| 500/500 [00:01<00:00, 362.86it/s]\n"
          ]
        },
        {
          "output_type": "stream",
          "name": "stdout",
          "text": [
            "\n",
            "Running with params: {'alpha': 0.1, 'gamma': 0.9, 'epsilon': 0.1, 'temp': 0.5, 'num_episodes': 500, 'max_steps': 100}\n"
          ]
        },
        {
          "output_type": "stream",
          "name": "stderr",
          "text": [
            "Training QLearningAgent epsilon_greedy: 100%|██████████| 500/500 [00:07<00:00, 69.09it/s]\n",
            "Training QLearningAgent softmax: 100%|██████████| 500/500 [00:03<00:00, 138.30it/s]\n",
            "Training SARSAAgent epsilon_greedy: 100%|██████████| 500/500 [00:06<00:00, 77.88it/s]\n",
            "Training SARSAAgent softmax: 100%|██████████| 500/500 [00:01<00:00, 315.08it/s]\n"
          ]
        },
        {
          "output_type": "stream",
          "name": "stdout",
          "text": [
            "\n",
            "Running with params: {'alpha': 0.1, 'gamma': 0.9, 'epsilon': 0.1, 'temp': 1.0, 'num_episodes': 500, 'max_steps': 100}\n"
          ]
        },
        {
          "output_type": "stream",
          "name": "stderr",
          "text": [
            "Training QLearningAgent epsilon_greedy: 100%|██████████| 500/500 [00:08<00:00, 57.87it/s]\n",
            "Training QLearningAgent softmax: 100%|██████████| 500/500 [00:01<00:00, 294.80it/s]\n",
            "Training SARSAAgent epsilon_greedy: 100%|██████████| 500/500 [00:07<00:00, 63.59it/s]\n",
            "Training SARSAAgent softmax: 100%|██████████| 500/500 [00:01<00:00, 348.49it/s]\n"
          ]
        },
        {
          "output_type": "stream",
          "name": "stdout",
          "text": [
            "\n",
            "Running with params: {'alpha': 0.1, 'gamma': 0.9, 'epsilon': 0.1, 'temp': 2.0, 'num_episodes': 500, 'max_steps': 100}\n"
          ]
        },
        {
          "output_type": "stream",
          "name": "stderr",
          "text": [
            "Training QLearningAgent epsilon_greedy: 100%|██████████| 500/500 [00:07<00:00, 71.07it/s]\n",
            "Training QLearningAgent softmax: 100%|██████████| 500/500 [00:02<00:00, 232.13it/s]\n",
            "Training SARSAAgent epsilon_greedy: 100%|██████████| 500/500 [00:05<00:00, 83.94it/s]\n",
            "Training SARSAAgent softmax: 100%|██████████| 500/500 [00:01<00:00, 383.14it/s]\n"
          ]
        },
        {
          "output_type": "stream",
          "name": "stdout",
          "text": [
            "\n",
            "Running with params: {'alpha': 0.1, 'gamma': 0.9, 'epsilon': 0.2, 'temp': 0.5, 'num_episodes': 500, 'max_steps': 100}\n"
          ]
        },
        {
          "output_type": "stream",
          "name": "stderr",
          "text": [
            "Training QLearningAgent epsilon_greedy: 100%|██████████| 500/500 [00:04<00:00, 107.94it/s]\n",
            "Training QLearningAgent softmax: 100%|██████████| 500/500 [00:02<00:00, 194.37it/s]\n",
            "Training SARSAAgent epsilon_greedy: 100%|██████████| 500/500 [00:03<00:00, 131.02it/s]\n",
            "Training SARSAAgent softmax: 100%|██████████| 500/500 [00:01<00:00, 281.65it/s]\n"
          ]
        },
        {
          "output_type": "stream",
          "name": "stdout",
          "text": [
            "\n",
            "Running with params: {'alpha': 0.1, 'gamma': 0.9, 'epsilon': 0.2, 'temp': 1.0, 'num_episodes': 500, 'max_steps': 100}\n"
          ]
        },
        {
          "output_type": "stream",
          "name": "stderr",
          "text": [
            "Training QLearningAgent epsilon_greedy: 100%|██████████| 500/500 [00:05<00:00, 92.33it/s] \n",
            "Training QLearningAgent softmax: 100%|██████████| 500/500 [00:01<00:00, 293.08it/s]\n",
            "Training SARSAAgent epsilon_greedy: 100%|██████████| 500/500 [00:04<00:00, 121.47it/s]\n",
            "Training SARSAAgent softmax: 100%|██████████| 500/500 [00:01<00:00, 368.51it/s]\n"
          ]
        },
        {
          "output_type": "stream",
          "name": "stdout",
          "text": [
            "\n",
            "Running with params: {'alpha': 0.1, 'gamma': 0.9, 'epsilon': 0.2, 'temp': 2.0, 'num_episodes': 500, 'max_steps': 100}\n"
          ]
        },
        {
          "output_type": "stream",
          "name": "stderr",
          "text": [
            "Training QLearningAgent epsilon_greedy: 100%|██████████| 500/500 [00:05<00:00, 98.31it/s] \n",
            "Training QLearningAgent softmax: 100%|██████████| 500/500 [00:01<00:00, 347.57it/s]\n",
            "Training SARSAAgent epsilon_greedy: 100%|██████████| 500/500 [00:03<00:00, 133.55it/s]\n",
            "Training SARSAAgent softmax: 100%|██████████| 500/500 [00:01<00:00, 374.75it/s]\n"
          ]
        },
        {
          "output_type": "stream",
          "name": "stdout",
          "text": [
            "\n",
            "Running with params: {'alpha': 0.1, 'gamma': 0.9, 'epsilon': 0.3, 'temp': 0.5, 'num_episodes': 500, 'max_steps': 100}\n"
          ]
        },
        {
          "output_type": "stream",
          "name": "stderr",
          "text": [
            "Training QLearningAgent epsilon_greedy: 100%|██████████| 500/500 [00:03<00:00, 128.67it/s]\n",
            "Training QLearningAgent softmax: 100%|██████████| 500/500 [00:02<00:00, 195.43it/s]\n",
            "Training SARSAAgent epsilon_greedy: 100%|██████████| 500/500 [00:02<00:00, 185.82it/s]\n",
            "Training SARSAAgent softmax: 100%|██████████| 500/500 [00:01<00:00, 315.85it/s]\n"
          ]
        },
        {
          "output_type": "stream",
          "name": "stdout",
          "text": [
            "\n",
            "Running with params: {'alpha': 0.1, 'gamma': 0.9, 'epsilon': 0.3, 'temp': 1.0, 'num_episodes': 500, 'max_steps': 100}\n"
          ]
        },
        {
          "output_type": "stream",
          "name": "stderr",
          "text": [
            "Training QLearningAgent epsilon_greedy: 100%|██████████| 500/500 [00:03<00:00, 158.53it/s]\n",
            "Training QLearningAgent softmax: 100%|██████████| 500/500 [00:02<00:00, 205.23it/s]\n",
            "Training SARSAAgent epsilon_greedy: 100%|██████████| 500/500 [00:02<00:00, 187.18it/s]\n",
            "Training SARSAAgent softmax: 100%|██████████| 500/500 [00:01<00:00, 363.84it/s]\n"
          ]
        },
        {
          "output_type": "stream",
          "name": "stdout",
          "text": [
            "\n",
            "Running with params: {'alpha': 0.1, 'gamma': 0.9, 'epsilon': 0.3, 'temp': 2.0, 'num_episodes': 500, 'max_steps': 100}\n"
          ]
        },
        {
          "output_type": "stream",
          "name": "stderr",
          "text": [
            "Training QLearningAgent epsilon_greedy: 100%|██████████| 500/500 [00:02<00:00, 171.68it/s]\n",
            "Training QLearningAgent softmax: 100%|██████████| 500/500 [00:01<00:00, 354.34it/s]\n",
            "Training SARSAAgent epsilon_greedy: 100%|██████████| 500/500 [00:03<00:00, 128.79it/s]\n",
            "Training SARSAAgent softmax: 100%|██████████| 500/500 [00:01<00:00, 405.79it/s]\n"
          ]
        },
        {
          "output_type": "stream",
          "name": "stdout",
          "text": [
            "\n",
            "Running with params: {'alpha': 0.1, 'gamma': 0.95, 'epsilon': 0.1, 'temp': 0.5, 'num_episodes': 500, 'max_steps': 100}\n"
          ]
        },
        {
          "output_type": "stream",
          "name": "stderr",
          "text": [
            "Training QLearningAgent epsilon_greedy: 100%|██████████| 500/500 [00:07<00:00, 69.63it/s]\n",
            "Training QLearningAgent softmax: 100%|██████████| 500/500 [00:03<00:00, 145.52it/s]\n",
            "Training SARSAAgent epsilon_greedy: 100%|██████████| 500/500 [00:06<00:00, 75.08it/s]\n",
            "Training SARSAAgent softmax: 100%|██████████| 500/500 [00:01<00:00, 346.35it/s]\n"
          ]
        },
        {
          "output_type": "stream",
          "name": "stdout",
          "text": [
            "\n",
            "Running with params: {'alpha': 0.1, 'gamma': 0.95, 'epsilon': 0.1, 'temp': 1.0, 'num_episodes': 500, 'max_steps': 100}\n"
          ]
        },
        {
          "output_type": "stream",
          "name": "stderr",
          "text": [
            "Training QLearningAgent epsilon_greedy: 100%|██████████| 500/500 [00:08<00:00, 61.03it/s]\n",
            "Training QLearningAgent softmax: 100%|██████████| 500/500 [00:01<00:00, 283.53it/s]\n",
            "Training SARSAAgent epsilon_greedy: 100%|██████████| 500/500 [00:07<00:00, 66.44it/s]\n",
            "Training SARSAAgent softmax: 100%|██████████| 500/500 [00:01<00:00, 403.32it/s]\n"
          ]
        },
        {
          "output_type": "stream",
          "name": "stdout",
          "text": [
            "\n",
            "Running with params: {'alpha': 0.1, 'gamma': 0.95, 'epsilon': 0.1, 'temp': 2.0, 'num_episodes': 500, 'max_steps': 100}\n"
          ]
        },
        {
          "output_type": "stream",
          "name": "stderr",
          "text": [
            "Training QLearningAgent epsilon_greedy: 100%|██████████| 500/500 [00:07<00:00, 66.81it/s]\n",
            "Training QLearningAgent softmax: 100%|██████████| 500/500 [00:02<00:00, 228.68it/s]\n",
            "Training SARSAAgent epsilon_greedy: 100%|██████████| 500/500 [00:06<00:00, 74.97it/s]\n",
            "Training SARSAAgent softmax: 100%|██████████| 500/500 [00:01<00:00, 402.46it/s]\n"
          ]
        },
        {
          "output_type": "stream",
          "name": "stdout",
          "text": [
            "\n",
            "Running with params: {'alpha': 0.1, 'gamma': 0.95, 'epsilon': 0.2, 'temp': 0.5, 'num_episodes': 500, 'max_steps': 100}\n"
          ]
        },
        {
          "output_type": "stream",
          "name": "stderr",
          "text": [
            "Training QLearningAgent epsilon_greedy: 100%|██████████| 500/500 [00:05<00:00, 97.50it/s] \n",
            "Training QLearningAgent softmax: 100%|██████████| 500/500 [00:02<00:00, 205.85it/s]\n",
            "Training SARSAAgent epsilon_greedy: 100%|██████████| 500/500 [00:03<00:00, 133.10it/s]\n",
            "Training SARSAAgent softmax: 100%|██████████| 500/500 [00:01<00:00, 334.76it/s]\n"
          ]
        },
        {
          "output_type": "stream",
          "name": "stdout",
          "text": [
            "\n",
            "Running with params: {'alpha': 0.1, 'gamma': 0.95, 'epsilon': 0.2, 'temp': 1.0, 'num_episodes': 500, 'max_steps': 100}\n"
          ]
        },
        {
          "output_type": "stream",
          "name": "stderr",
          "text": [
            "Training QLearningAgent epsilon_greedy: 100%|██████████| 500/500 [00:04<00:00, 102.48it/s]\n",
            "Training QLearningAgent softmax: 100%|██████████| 500/500 [00:01<00:00, 287.73it/s]\n",
            "Training SARSAAgent epsilon_greedy: 100%|██████████| 500/500 [00:03<00:00, 141.13it/s]\n",
            "Training SARSAAgent softmax: 100%|██████████| 500/500 [00:01<00:00, 386.36it/s]\n"
          ]
        },
        {
          "output_type": "stream",
          "name": "stdout",
          "text": [
            "\n",
            "Running with params: {'alpha': 0.1, 'gamma': 0.95, 'epsilon': 0.2, 'temp': 2.0, 'num_episodes': 500, 'max_steps': 100}\n"
          ]
        },
        {
          "output_type": "stream",
          "name": "stderr",
          "text": [
            "Training QLearningAgent epsilon_greedy: 100%|██████████| 500/500 [00:04<00:00, 105.58it/s]\n",
            "Training QLearningAgent softmax: 100%|██████████| 500/500 [00:01<00:00, 342.62it/s]\n",
            "Training SARSAAgent epsilon_greedy: 100%|██████████| 500/500 [00:03<00:00, 126.60it/s]\n",
            "Training SARSAAgent softmax: 100%|██████████| 500/500 [00:01<00:00, 424.97it/s]\n"
          ]
        },
        {
          "output_type": "stream",
          "name": "stdout",
          "text": [
            "\n",
            "Running with params: {'alpha': 0.1, 'gamma': 0.95, 'epsilon': 0.3, 'temp': 0.5, 'num_episodes': 500, 'max_steps': 100}\n"
          ]
        },
        {
          "output_type": "stream",
          "name": "stderr",
          "text": [
            "Training QLearningAgent epsilon_greedy: 100%|██████████| 500/500 [00:03<00:00, 150.24it/s]\n",
            "Training QLearningAgent softmax: 100%|██████████| 500/500 [00:03<00:00, 146.95it/s]\n",
            "Training SARSAAgent epsilon_greedy: 100%|██████████| 500/500 [00:02<00:00, 191.04it/s]\n",
            "Training SARSAAgent softmax: 100%|██████████| 500/500 [00:01<00:00, 354.63it/s]\n"
          ]
        },
        {
          "output_type": "stream",
          "name": "stdout",
          "text": [
            "\n",
            "Running with params: {'alpha': 0.1, 'gamma': 0.95, 'epsilon': 0.3, 'temp': 1.0, 'num_episodes': 500, 'max_steps': 100}\n"
          ]
        },
        {
          "output_type": "stream",
          "name": "stderr",
          "text": [
            "Training QLearningAgent epsilon_greedy: 100%|██████████| 500/500 [00:02<00:00, 170.22it/s]\n",
            "Training QLearningAgent softmax: 100%|██████████| 500/500 [00:02<00:00, 240.67it/s]\n",
            "Training SARSAAgent epsilon_greedy: 100%|██████████| 500/500 [00:03<00:00, 138.17it/s]\n",
            "Training SARSAAgent softmax: 100%|██████████| 500/500 [00:01<00:00, 376.08it/s]\n"
          ]
        },
        {
          "output_type": "stream",
          "name": "stdout",
          "text": [
            "\n",
            "Running with params: {'alpha': 0.1, 'gamma': 0.95, 'epsilon': 0.3, 'temp': 2.0, 'num_episodes': 500, 'max_steps': 100}\n"
          ]
        },
        {
          "output_type": "stream",
          "name": "stderr",
          "text": [
            "Training QLearningAgent epsilon_greedy: 100%|██████████| 500/500 [00:02<00:00, 167.94it/s]\n",
            "Training QLearningAgent softmax: 100%|██████████| 500/500 [00:01<00:00, 366.51it/s]\n",
            "Training SARSAAgent epsilon_greedy: 100%|██████████| 500/500 [00:03<00:00, 161.13it/s]\n",
            "Training SARSAAgent softmax: 100%|██████████| 500/500 [00:01<00:00, 282.26it/s]\n"
          ]
        },
        {
          "output_type": "stream",
          "name": "stdout",
          "text": [
            "\n",
            "Running with params: {'alpha': 0.1, 'gamma': 0.99, 'epsilon': 0.1, 'temp': 0.5, 'num_episodes': 500, 'max_steps': 100}\n"
          ]
        },
        {
          "output_type": "stream",
          "name": "stderr",
          "text": [
            "Training QLearningAgent epsilon_greedy: 100%|██████████| 500/500 [00:07<00:00, 66.90it/s]\n",
            "Training QLearningAgent softmax: 100%|██████████| 500/500 [00:02<00:00, 172.82it/s]\n",
            "Training SARSAAgent epsilon_greedy: 100%|██████████| 500/500 [00:07<00:00, 68.86it/s]\n",
            "Training SARSAAgent softmax: 100%|██████████| 500/500 [00:01<00:00, 379.61it/s]\n"
          ]
        },
        {
          "output_type": "stream",
          "name": "stdout",
          "text": [
            "\n",
            "Running with params: {'alpha': 0.1, 'gamma': 0.99, 'epsilon': 0.1, 'temp': 1.0, 'num_episodes': 500, 'max_steps': 100}\n"
          ]
        },
        {
          "output_type": "stream",
          "name": "stderr",
          "text": [
            "Training QLearningAgent epsilon_greedy: 100%|██████████| 500/500 [00:08<00:00, 58.53it/s]\n",
            "Training QLearningAgent softmax: 100%|██████████| 500/500 [00:01<00:00, 298.35it/s]\n",
            "Training SARSAAgent epsilon_greedy: 100%|██████████| 500/500 [00:07<00:00, 66.23it/s]\n",
            "Training SARSAAgent softmax: 100%|██████████| 500/500 [00:01<00:00, 409.15it/s]\n"
          ]
        },
        {
          "output_type": "stream",
          "name": "stdout",
          "text": [
            "\n",
            "Running with params: {'alpha': 0.1, 'gamma': 0.99, 'epsilon': 0.1, 'temp': 2.0, 'num_episodes': 500, 'max_steps': 100}\n"
          ]
        },
        {
          "output_type": "stream",
          "name": "stderr",
          "text": [
            "Training QLearningAgent epsilon_greedy: 100%|██████████| 500/500 [00:07<00:00, 68.74it/s]\n",
            "Training QLearningAgent softmax: 100%|██████████| 500/500 [00:01<00:00, 276.10it/s]\n",
            "Training SARSAAgent epsilon_greedy: 100%|██████████| 500/500 [00:07<00:00, 70.07it/s]\n",
            "Training SARSAAgent softmax: 100%|██████████| 500/500 [00:01<00:00, 408.42it/s]\n"
          ]
        },
        {
          "output_type": "stream",
          "name": "stdout",
          "text": [
            "\n",
            "Running with params: {'alpha': 0.1, 'gamma': 0.99, 'epsilon': 0.2, 'temp': 0.5, 'num_episodes': 500, 'max_steps': 100}\n"
          ]
        },
        {
          "output_type": "stream",
          "name": "stderr",
          "text": [
            "Training QLearningAgent epsilon_greedy: 100%|██████████| 500/500 [00:05<00:00, 92.77it/s] \n",
            "Training QLearningAgent softmax: 100%|██████████| 500/500 [00:02<00:00, 196.22it/s]\n",
            "Training SARSAAgent epsilon_greedy: 100%|██████████| 500/500 [00:03<00:00, 132.44it/s]\n",
            "Training SARSAAgent softmax: 100%|██████████| 500/500 [00:01<00:00, 380.04it/s]\n"
          ]
        },
        {
          "output_type": "stream",
          "name": "stdout",
          "text": [
            "\n",
            "Running with params: {'alpha': 0.1, 'gamma': 0.99, 'epsilon': 0.2, 'temp': 1.0, 'num_episodes': 500, 'max_steps': 100}\n"
          ]
        },
        {
          "output_type": "stream",
          "name": "stderr",
          "text": [
            "Training QLearningAgent epsilon_greedy: 100%|██████████| 500/500 [00:05<00:00, 92.74it/s]\n",
            "Training QLearningAgent softmax: 100%|██████████| 500/500 [00:01<00:00, 300.65it/s]\n",
            "Training SARSAAgent epsilon_greedy: 100%|██████████| 500/500 [00:03<00:00, 138.90it/s]\n",
            "Training SARSAAgent softmax: 100%|██████████| 500/500 [00:01<00:00, 389.74it/s]\n"
          ]
        },
        {
          "output_type": "stream",
          "name": "stdout",
          "text": [
            "\n",
            "Running with params: {'alpha': 0.1, 'gamma': 0.99, 'epsilon': 0.2, 'temp': 2.0, 'num_episodes': 500, 'max_steps': 100}\n"
          ]
        },
        {
          "output_type": "stream",
          "name": "stderr",
          "text": [
            "Training QLearningAgent epsilon_greedy: 100%|██████████| 500/500 [00:04<00:00, 103.54it/s]\n",
            "Training QLearningAgent softmax: 100%|██████████| 500/500 [00:01<00:00, 357.31it/s]\n",
            "Training SARSAAgent epsilon_greedy: 100%|██████████| 500/500 [00:04<00:00, 124.89it/s]\n",
            "Training SARSAAgent softmax: 100%|██████████| 500/500 [00:01<00:00, 406.56it/s]\n"
          ]
        },
        {
          "output_type": "stream",
          "name": "stdout",
          "text": [
            "\n",
            "Running with params: {'alpha': 0.1, 'gamma': 0.99, 'epsilon': 0.3, 'temp': 0.5, 'num_episodes': 500, 'max_steps': 100}\n"
          ]
        },
        {
          "output_type": "stream",
          "name": "stderr",
          "text": [
            "Training QLearningAgent epsilon_greedy: 100%|██████████| 500/500 [00:03<00:00, 145.09it/s]\n",
            "Training QLearningAgent softmax: 100%|██████████| 500/500 [00:03<00:00, 151.58it/s]\n",
            "Training SARSAAgent epsilon_greedy: 100%|██████████| 500/500 [00:02<00:00, 196.24it/s]\n",
            "Training SARSAAgent softmax: 100%|██████████| 500/500 [00:01<00:00, 377.75it/s]\n"
          ]
        },
        {
          "output_type": "stream",
          "name": "stdout",
          "text": [
            "\n",
            "Running with params: {'alpha': 0.1, 'gamma': 0.99, 'epsilon': 0.3, 'temp': 1.0, 'num_episodes': 500, 'max_steps': 100}\n"
          ]
        },
        {
          "output_type": "stream",
          "name": "stderr",
          "text": [
            "Training QLearningAgent epsilon_greedy: 100%|██████████| 500/500 [00:02<00:00, 180.50it/s]\n",
            "Training QLearningAgent softmax: 100%|██████████| 500/500 [00:02<00:00, 245.96it/s]\n",
            "Training SARSAAgent epsilon_greedy: 100%|██████████| 500/500 [00:03<00:00, 150.80it/s]\n",
            "Training SARSAAgent softmax: 100%|██████████| 500/500 [00:01<00:00, 404.59it/s]\n"
          ]
        },
        {
          "output_type": "stream",
          "name": "stdout",
          "text": [
            "\n",
            "Running with params: {'alpha': 0.1, 'gamma': 0.99, 'epsilon': 0.3, 'temp': 2.0, 'num_episodes': 500, 'max_steps': 100}\n"
          ]
        },
        {
          "output_type": "stream",
          "name": "stderr",
          "text": [
            "Training QLearningAgent epsilon_greedy: 100%|██████████| 500/500 [00:02<00:00, 169.31it/s]\n",
            "Training QLearningAgent softmax: 100%|██████████| 500/500 [00:01<00:00, 354.66it/s]\n",
            "Training SARSAAgent epsilon_greedy: 100%|██████████| 500/500 [00:02<00:00, 173.25it/s]\n",
            "Training SARSAAgent softmax: 100%|██████████| 500/500 [00:01<00:00, 268.16it/s]\n"
          ]
        },
        {
          "output_type": "stream",
          "name": "stdout",
          "text": [
            "\n",
            "Running with params: {'alpha': 0.5, 'gamma': 0.9, 'epsilon': 0.1, 'temp': 0.5, 'num_episodes': 500, 'max_steps': 100}\n"
          ]
        },
        {
          "output_type": "stream",
          "name": "stderr",
          "text": [
            "Training QLearningAgent epsilon_greedy: 100%|██████████| 500/500 [00:07<00:00, 67.88it/s]\n",
            "Training QLearningAgent softmax: 100%|██████████| 500/500 [00:03<00:00, 156.71it/s]\n",
            "Training SARSAAgent epsilon_greedy: 100%|██████████| 500/500 [00:07<00:00, 63.99it/s]\n",
            "Training SARSAAgent softmax: 100%|██████████| 500/500 [00:01<00:00, 292.33it/s]\n"
          ]
        },
        {
          "output_type": "stream",
          "name": "stdout",
          "text": [
            "\n",
            "Running with params: {'alpha': 0.5, 'gamma': 0.9, 'epsilon': 0.1, 'temp': 1.0, 'num_episodes': 500, 'max_steps': 100}\n"
          ]
        },
        {
          "output_type": "stream",
          "name": "stderr",
          "text": [
            "Training QLearningAgent epsilon_greedy: 100%|██████████| 500/500 [00:07<00:00, 62.68it/s]\n",
            "Training QLearningAgent softmax: 100%|██████████| 500/500 [00:01<00:00, 298.22it/s]\n",
            "Training SARSAAgent epsilon_greedy: 100%|██████████| 500/500 [00:07<00:00, 68.44it/s]\n",
            "Training SARSAAgent softmax: 100%|██████████| 500/500 [00:01<00:00, 391.38it/s]\n"
          ]
        },
        {
          "output_type": "stream",
          "name": "stdout",
          "text": [
            "\n",
            "Running with params: {'alpha': 0.5, 'gamma': 0.9, 'epsilon': 0.1, 'temp': 2.0, 'num_episodes': 500, 'max_steps': 100}\n"
          ]
        },
        {
          "output_type": "stream",
          "name": "stderr",
          "text": [
            "Training QLearningAgent epsilon_greedy: 100%|██████████| 500/500 [00:06<00:00, 71.82it/s]\n",
            "Training QLearningAgent softmax: 100%|██████████| 500/500 [00:01<00:00, 351.48it/s]\n",
            "Training SARSAAgent epsilon_greedy: 100%|██████████| 500/500 [00:07<00:00, 66.08it/s]\n",
            "Training SARSAAgent softmax: 100%|██████████| 500/500 [00:01<00:00, 382.60it/s]\n"
          ]
        },
        {
          "output_type": "stream",
          "name": "stdout",
          "text": [
            "\n",
            "Running with params: {'alpha': 0.5, 'gamma': 0.9, 'epsilon': 0.2, 'temp': 0.5, 'num_episodes': 500, 'max_steps': 100}\n"
          ]
        },
        {
          "output_type": "stream",
          "name": "stderr",
          "text": [
            "Training QLearningAgent epsilon_greedy: 100%|██████████| 500/500 [00:05<00:00, 91.24it/s]\n",
            "Training QLearningAgent softmax: 100%|██████████| 500/500 [00:02<00:00, 170.01it/s]\n",
            "Training SARSAAgent epsilon_greedy: 100%|██████████| 500/500 [00:03<00:00, 126.21it/s]\n",
            "Training SARSAAgent softmax: 100%|██████████| 500/500 [00:01<00:00, 290.79it/s]\n"
          ]
        },
        {
          "output_type": "stream",
          "name": "stdout",
          "text": [
            "\n",
            "Running with params: {'alpha': 0.5, 'gamma': 0.9, 'epsilon': 0.2, 'temp': 1.0, 'num_episodes': 500, 'max_steps': 100}\n"
          ]
        },
        {
          "output_type": "stream",
          "name": "stderr",
          "text": [
            "Training QLearningAgent epsilon_greedy: 100%|██████████| 500/500 [00:05<00:00, 97.01it/s] \n",
            "Training QLearningAgent softmax: 100%|██████████| 500/500 [00:01<00:00, 301.28it/s]\n",
            "Training SARSAAgent epsilon_greedy: 100%|██████████| 500/500 [00:03<00:00, 133.29it/s]\n",
            "Training SARSAAgent softmax: 100%|██████████| 500/500 [00:01<00:00, 373.06it/s]\n"
          ]
        },
        {
          "output_type": "stream",
          "name": "stdout",
          "text": [
            "\n",
            "Running with params: {'alpha': 0.5, 'gamma': 0.9, 'epsilon': 0.2, 'temp': 2.0, 'num_episodes': 500, 'max_steps': 100}\n"
          ]
        },
        {
          "output_type": "stream",
          "name": "stderr",
          "text": [
            "Training QLearningAgent epsilon_greedy: 100%|██████████| 500/500 [00:05<00:00, 99.91it/s] \n",
            "Training QLearningAgent softmax: 100%|██████████| 500/500 [00:01<00:00, 377.31it/s]\n",
            "Training SARSAAgent epsilon_greedy: 100%|██████████| 500/500 [00:03<00:00, 137.98it/s]\n",
            "Training SARSAAgent softmax: 100%|██████████| 500/500 [00:01<00:00, 391.97it/s]\n"
          ]
        },
        {
          "output_type": "stream",
          "name": "stdout",
          "text": [
            "\n",
            "Running with params: {'alpha': 0.5, 'gamma': 0.9, 'epsilon': 0.3, 'temp': 0.5, 'num_episodes': 500, 'max_steps': 100}\n"
          ]
        },
        {
          "output_type": "stream",
          "name": "stderr",
          "text": [
            "Training QLearningAgent epsilon_greedy: 100%|██████████| 500/500 [00:02<00:00, 173.75it/s]\n",
            "Training QLearningAgent softmax: 100%|██████████| 500/500 [00:03<00:00, 135.99it/s]\n",
            "Training SARSAAgent epsilon_greedy: 100%|██████████| 500/500 [00:02<00:00, 181.95it/s]\n",
            "Training SARSAAgent softmax: 100%|██████████| 500/500 [00:01<00:00, 306.98it/s]\n"
          ]
        },
        {
          "output_type": "stream",
          "name": "stdout",
          "text": [
            "\n",
            "Running with params: {'alpha': 0.5, 'gamma': 0.9, 'epsilon': 0.3, 'temp': 1.0, 'num_episodes': 500, 'max_steps': 100}\n"
          ]
        },
        {
          "output_type": "stream",
          "name": "stderr",
          "text": [
            "Training QLearningAgent epsilon_greedy: 100%|██████████| 500/500 [00:03<00:00, 156.27it/s]\n",
            "Training QLearningAgent softmax: 100%|██████████| 500/500 [00:02<00:00, 200.50it/s]\n",
            "Training SARSAAgent epsilon_greedy: 100%|██████████| 500/500 [00:02<00:00, 181.40it/s]\n",
            "Training SARSAAgent softmax: 100%|██████████| 500/500 [00:01<00:00, 366.95it/s]\n"
          ]
        },
        {
          "output_type": "stream",
          "name": "stdout",
          "text": [
            "\n",
            "Running with params: {'alpha': 0.5, 'gamma': 0.9, 'epsilon': 0.3, 'temp': 2.0, 'num_episodes': 500, 'max_steps': 100}\n"
          ]
        },
        {
          "output_type": "stream",
          "name": "stderr",
          "text": [
            "Training QLearningAgent epsilon_greedy: 100%|██████████| 500/500 [00:02<00:00, 168.59it/s]\n",
            "Training QLearningAgent softmax: 100%|██████████| 500/500 [00:01<00:00, 363.93it/s]\n",
            "Training SARSAAgent epsilon_greedy: 100%|██████████| 500/500 [00:03<00:00, 138.71it/s]\n",
            "Training SARSAAgent softmax: 100%|██████████| 500/500 [00:01<00:00, 318.60it/s]\n"
          ]
        },
        {
          "output_type": "stream",
          "name": "stdout",
          "text": [
            "\n",
            "Running with params: {'alpha': 0.5, 'gamma': 0.95, 'epsilon': 0.1, 'temp': 0.5, 'num_episodes': 500, 'max_steps': 100}\n"
          ]
        },
        {
          "output_type": "stream",
          "name": "stderr",
          "text": [
            "Training QLearningAgent epsilon_greedy: 100%|██████████| 500/500 [00:07<00:00, 67.14it/s]\n",
            "Training QLearningAgent softmax: 100%|██████████| 500/500 [00:03<00:00, 141.10it/s]\n",
            "Training SARSAAgent epsilon_greedy: 100%|██████████| 500/500 [00:06<00:00, 75.17it/s]\n",
            "Training SARSAAgent softmax: 100%|██████████| 500/500 [00:01<00:00, 329.00it/s]\n"
          ]
        },
        {
          "output_type": "stream",
          "name": "stdout",
          "text": [
            "\n",
            "Running with params: {'alpha': 0.5, 'gamma': 0.95, 'epsilon': 0.1, 'temp': 1.0, 'num_episodes': 500, 'max_steps': 100}\n"
          ]
        },
        {
          "output_type": "stream",
          "name": "stderr",
          "text": [
            "Training QLearningAgent epsilon_greedy: 100%|██████████| 500/500 [00:08<00:00, 60.36it/s]\n",
            "Training QLearningAgent softmax: 100%|██████████| 500/500 [00:01<00:00, 292.40it/s]\n",
            "Training SARSAAgent epsilon_greedy: 100%|██████████| 500/500 [00:07<00:00, 66.53it/s]\n",
            "Training SARSAAgent softmax: 100%|██████████| 500/500 [00:01<00:00, 382.29it/s]\n"
          ]
        },
        {
          "output_type": "stream",
          "name": "stdout",
          "text": [
            "\n",
            "Running with params: {'alpha': 0.5, 'gamma': 0.95, 'epsilon': 0.1, 'temp': 2.0, 'num_episodes': 500, 'max_steps': 100}\n"
          ]
        },
        {
          "output_type": "stream",
          "name": "stderr",
          "text": [
            "Training QLearningAgent epsilon_greedy: 100%|██████████| 500/500 [00:07<00:00, 64.87it/s]\n",
            "Training QLearningAgent softmax: 100%|██████████| 500/500 [00:02<00:00, 241.37it/s]\n",
            "Training SARSAAgent epsilon_greedy: 100%|██████████| 500/500 [00:06<00:00, 73.87it/s]\n",
            "Training SARSAAgent softmax: 100%|██████████| 500/500 [00:01<00:00, 395.51it/s]\n"
          ]
        },
        {
          "output_type": "stream",
          "name": "stdout",
          "text": [
            "\n",
            "Running with params: {'alpha': 0.5, 'gamma': 0.95, 'epsilon': 0.2, 'temp': 0.5, 'num_episodes': 500, 'max_steps': 100}\n"
          ]
        },
        {
          "output_type": "stream",
          "name": "stderr",
          "text": [
            "Training QLearningAgent epsilon_greedy: 100%|██████████| 500/500 [00:04<00:00, 100.40it/s]\n",
            "Training QLearningAgent softmax: 100%|██████████| 500/500 [00:02<00:00, 167.17it/s]\n",
            "Training SARSAAgent epsilon_greedy: 100%|██████████| 500/500 [00:03<00:00, 133.81it/s]\n",
            "Training SARSAAgent softmax: 100%|██████████| 500/500 [00:01<00:00, 362.35it/s]\n"
          ]
        },
        {
          "output_type": "stream",
          "name": "stdout",
          "text": [
            "\n",
            "Running with params: {'alpha': 0.5, 'gamma': 0.95, 'epsilon': 0.2, 'temp': 1.0, 'num_episodes': 500, 'max_steps': 100}\n"
          ]
        },
        {
          "output_type": "stream",
          "name": "stderr",
          "text": [
            "Training QLearningAgent epsilon_greedy: 100%|██████████| 500/500 [00:05<00:00, 88.24it/s] \n",
            "Training QLearningAgent softmax: 100%|██████████| 500/500 [00:01<00:00, 276.65it/s]\n",
            "Training SARSAAgent epsilon_greedy: 100%|██████████| 500/500 [00:03<00:00, 126.69it/s]\n",
            "Training SARSAAgent softmax: 100%|██████████| 500/500 [00:01<00:00, 402.19it/s]\n"
          ]
        },
        {
          "output_type": "stream",
          "name": "stdout",
          "text": [
            "\n",
            "Running with params: {'alpha': 0.5, 'gamma': 0.95, 'epsilon': 0.2, 'temp': 2.0, 'num_episodes': 500, 'max_steps': 100}\n"
          ]
        },
        {
          "output_type": "stream",
          "name": "stderr",
          "text": [
            "Training QLearningAgent epsilon_greedy: 100%|██████████| 500/500 [00:05<00:00, 95.39it/s] \n",
            "Training QLearningAgent softmax: 100%|██████████| 500/500 [00:01<00:00, 352.62it/s]\n",
            "Training SARSAAgent epsilon_greedy: 100%|██████████| 500/500 [00:03<00:00, 128.41it/s]\n",
            "Training SARSAAgent softmax: 100%|██████████| 500/500 [00:01<00:00, 382.58it/s]\n"
          ]
        },
        {
          "output_type": "stream",
          "name": "stdout",
          "text": [
            "\n",
            "Running with params: {'alpha': 0.5, 'gamma': 0.95, 'epsilon': 0.3, 'temp': 0.5, 'num_episodes': 500, 'max_steps': 100}\n"
          ]
        },
        {
          "output_type": "stream",
          "name": "stderr",
          "text": [
            "Training QLearningAgent epsilon_greedy: 100%|██████████| 500/500 [00:04<00:00, 114.89it/s]\n",
            "Training QLearningAgent softmax: 100%|██████████| 500/500 [00:02<00:00, 170.00it/s]\n",
            "Training SARSAAgent epsilon_greedy: 100%|██████████| 500/500 [00:02<00:00, 187.94it/s]\n",
            "Training SARSAAgent softmax: 100%|██████████| 500/500 [00:01<00:00, 353.41it/s]\n"
          ]
        },
        {
          "output_type": "stream",
          "name": "stdout",
          "text": [
            "\n",
            "Running with params: {'alpha': 0.5, 'gamma': 0.95, 'epsilon': 0.3, 'temp': 1.0, 'num_episodes': 500, 'max_steps': 100}\n"
          ]
        },
        {
          "output_type": "stream",
          "name": "stderr",
          "text": [
            "Training QLearningAgent epsilon_greedy: 100%|██████████| 500/500 [00:03<00:00, 128.34it/s]\n",
            "Training QLearningAgent softmax: 100%|██████████| 500/500 [00:01<00:00, 252.60it/s]\n",
            "Training SARSAAgent epsilon_greedy: 100%|██████████| 500/500 [00:02<00:00, 182.09it/s]\n",
            "Training SARSAAgent softmax: 100%|██████████| 500/500 [00:01<00:00, 353.87it/s]\n"
          ]
        },
        {
          "output_type": "stream",
          "name": "stdout",
          "text": [
            "\n",
            "Running with params: {'alpha': 0.5, 'gamma': 0.95, 'epsilon': 0.3, 'temp': 2.0, 'num_episodes': 500, 'max_steps': 100}\n"
          ]
        },
        {
          "output_type": "stream",
          "name": "stderr",
          "text": [
            "Training QLearningAgent epsilon_greedy: 100%|██████████| 500/500 [00:03<00:00, 156.75it/s]\n",
            "Training QLearningAgent softmax: 100%|██████████| 500/500 [00:02<00:00, 233.21it/s]\n",
            "Training SARSAAgent epsilon_greedy: 100%|██████████| 500/500 [00:03<00:00, 164.78it/s]\n",
            "Training SARSAAgent softmax: 100%|██████████| 500/500 [00:01<00:00, 384.71it/s]\n"
          ]
        },
        {
          "output_type": "stream",
          "name": "stdout",
          "text": [
            "\n",
            "Running with params: {'alpha': 0.5, 'gamma': 0.99, 'epsilon': 0.1, 'temp': 0.5, 'num_episodes': 500, 'max_steps': 100}\n"
          ]
        },
        {
          "output_type": "stream",
          "name": "stderr",
          "text": [
            "Training QLearningAgent epsilon_greedy: 100%|██████████| 500/500 [00:08<00:00, 59.03it/s]\n",
            "Training QLearningAgent softmax: 100%|██████████| 500/500 [00:03<00:00, 161.94it/s]\n",
            "Training SARSAAgent epsilon_greedy: 100%|██████████| 500/500 [00:06<00:00, 82.20it/s]\n",
            "Training SARSAAgent softmax: 100%|██████████| 500/500 [00:01<00:00, 342.19it/s]\n"
          ]
        },
        {
          "output_type": "stream",
          "name": "stdout",
          "text": [
            "\n",
            "Running with params: {'alpha': 0.5, 'gamma': 0.99, 'epsilon': 0.1, 'temp': 1.0, 'num_episodes': 500, 'max_steps': 100}\n"
          ]
        },
        {
          "output_type": "stream",
          "name": "stderr",
          "text": [
            "Training QLearningAgent epsilon_greedy: 100%|██████████| 500/500 [00:08<00:00, 59.98it/s]\n",
            "Training QLearningAgent softmax: 100%|██████████| 500/500 [00:01<00:00, 303.80it/s]\n",
            "Training SARSAAgent epsilon_greedy: 100%|██████████| 500/500 [00:07<00:00, 67.34it/s]\n",
            "Training SARSAAgent softmax: 100%|██████████| 500/500 [00:01<00:00, 394.12it/s]\n"
          ]
        },
        {
          "output_type": "stream",
          "name": "stdout",
          "text": [
            "\n",
            "Running with params: {'alpha': 0.5, 'gamma': 0.99, 'epsilon': 0.1, 'temp': 2.0, 'num_episodes': 500, 'max_steps': 100}\n"
          ]
        },
        {
          "output_type": "stream",
          "name": "stderr",
          "text": [
            "Training QLearningAgent epsilon_greedy: 100%|██████████| 500/500 [00:08<00:00, 62.06it/s]\n",
            "Training QLearningAgent softmax: 100%|██████████| 500/500 [00:01<00:00, 347.20it/s]\n",
            "Training SARSAAgent epsilon_greedy: 100%|██████████| 500/500 [00:06<00:00, 75.11it/s]\n",
            "Training SARSAAgent softmax: 100%|██████████| 500/500 [00:01<00:00, 410.52it/s]\n"
          ]
        },
        {
          "output_type": "stream",
          "name": "stdout",
          "text": [
            "\n",
            "Running with params: {'alpha': 0.5, 'gamma': 0.99, 'epsilon': 0.2, 'temp': 0.5, 'num_episodes': 500, 'max_steps': 100}\n"
          ]
        },
        {
          "output_type": "stream",
          "name": "stderr",
          "text": [
            "Training QLearningAgent epsilon_greedy: 100%|██████████| 500/500 [00:05<00:00, 96.48it/s] \n",
            "Training QLearningAgent softmax: 100%|██████████| 500/500 [00:02<00:00, 169.53it/s]\n",
            "Training SARSAAgent epsilon_greedy: 100%|██████████| 500/500 [00:03<00:00, 137.16it/s]\n",
            "Training SARSAAgent softmax: 100%|██████████| 500/500 [00:01<00:00, 287.95it/s]\n"
          ]
        },
        {
          "output_type": "stream",
          "name": "stdout",
          "text": [
            "\n",
            "Running with params: {'alpha': 0.5, 'gamma': 0.99, 'epsilon': 0.2, 'temp': 1.0, 'num_episodes': 500, 'max_steps': 100}\n"
          ]
        },
        {
          "output_type": "stream",
          "name": "stderr",
          "text": [
            "Training QLearningAgent epsilon_greedy: 100%|██████████| 500/500 [00:04<00:00, 114.09it/s]\n",
            "Training QLearningAgent softmax: 100%|██████████| 500/500 [00:01<00:00, 289.74it/s]\n",
            "Training SARSAAgent epsilon_greedy: 100%|██████████| 500/500 [00:03<00:00, 138.12it/s]\n",
            "Training SARSAAgent softmax: 100%|██████████| 500/500 [00:01<00:00, 335.53it/s]\n"
          ]
        },
        {
          "output_type": "stream",
          "name": "stdout",
          "text": [
            "\n",
            "Running with params: {'alpha': 0.5, 'gamma': 0.99, 'epsilon': 0.2, 'temp': 2.0, 'num_episodes': 500, 'max_steps': 100}\n"
          ]
        },
        {
          "output_type": "stream",
          "name": "stderr",
          "text": [
            "Training QLearningAgent epsilon_greedy: 100%|██████████| 500/500 [00:04<00:00, 113.89it/s]\n",
            "Training QLearningAgent softmax: 100%|██████████| 500/500 [00:01<00:00, 362.92it/s]\n",
            "Training SARSAAgent epsilon_greedy: 100%|██████████| 500/500 [00:03<00:00, 131.00it/s]\n",
            "Training SARSAAgent softmax: 100%|██████████| 500/500 [00:01<00:00, 400.96it/s]\n"
          ]
        },
        {
          "output_type": "stream",
          "name": "stdout",
          "text": [
            "\n",
            "Running with params: {'alpha': 0.5, 'gamma': 0.99, 'epsilon': 0.3, 'temp': 0.5, 'num_episodes': 500, 'max_steps': 100}\n"
          ]
        },
        {
          "output_type": "stream",
          "name": "stderr",
          "text": [
            "Training QLearningAgent epsilon_greedy: 100%|██████████| 500/500 [00:03<00:00, 132.90it/s]\n",
            "Training QLearningAgent softmax: 100%|██████████| 500/500 [00:02<00:00, 175.34it/s]\n",
            "Training SARSAAgent epsilon_greedy: 100%|██████████| 500/500 [00:02<00:00, 189.84it/s]\n",
            "Training SARSAAgent softmax: 100%|██████████| 500/500 [00:01<00:00, 404.69it/s]\n"
          ]
        },
        {
          "output_type": "stream",
          "name": "stdout",
          "text": [
            "\n",
            "Running with params: {'alpha': 0.5, 'gamma': 0.99, 'epsilon': 0.3, 'temp': 1.0, 'num_episodes': 500, 'max_steps': 100}\n"
          ]
        },
        {
          "output_type": "stream",
          "name": "stderr",
          "text": [
            "Training QLearningAgent epsilon_greedy: 100%|██████████| 500/500 [00:03<00:00, 129.22it/s]\n",
            "Training QLearningAgent softmax: 100%|██████████| 500/500 [00:02<00:00, 248.41it/s]\n",
            "Training SARSAAgent epsilon_greedy: 100%|██████████| 500/500 [00:02<00:00, 193.61it/s]\n",
            "Training SARSAAgent softmax: 100%|██████████| 500/500 [00:01<00:00, 418.91it/s]\n"
          ]
        },
        {
          "output_type": "stream",
          "name": "stdout",
          "text": [
            "\n",
            "Running with params: {'alpha': 0.5, 'gamma': 0.99, 'epsilon': 0.3, 'temp': 2.0, 'num_episodes': 500, 'max_steps': 100}\n"
          ]
        },
        {
          "output_type": "stream",
          "name": "stderr",
          "text": [
            "Training QLearningAgent epsilon_greedy: 100%|██████████| 500/500 [00:03<00:00, 165.98it/s]\n",
            "Training QLearningAgent softmax: 100%|██████████| 500/500 [00:01<00:00, 344.50it/s]\n",
            "Training SARSAAgent epsilon_greedy: 100%|██████████| 500/500 [00:03<00:00, 134.35it/s]\n",
            "Training SARSAAgent softmax: 100%|██████████| 500/500 [00:01<00:00, 385.13it/s]\n"
          ]
        },
        {
          "output_type": "stream",
          "name": "stdout",
          "text": [
            "\n",
            "Hyperparameter sweep complete!\n",
            "Best reward: -0.824304\n",
            "Best parameters: {'alpha': 0.01, 'gamma': 0.99, 'epsilon': 0.1, 'temp': 0.5, 'num_episodes': 500, 'max_steps': 100}\n"
          ]
        }
      ],
      "source": [
        "import numpy as np\n",
        "import gymnasium as gym\n",
        "from minigrid.wrappers import FlatObsWrapper\n",
        "from collections import defaultdict\n",
        "import random\n",
        "import matplotlib.pyplot as plt\n",
        "import os\n",
        "from tqdm import tqdm\n",
        "import mlflow\n",
        "from datetime import datetime\n",
        "import warnings\n",
        "\n",
        "# Suppress warnings\n",
        "warnings.filterwarnings(\"ignore\")\n",
        "\n",
        "class BaseAgent:\n",
        "    def __init__(self, action_space, alpha=0.1, gamma=0.99, epsilon=0.1, temp=1.0, policy_type='epsilon_greedy'):\n",
        "        self.action_space = action_space\n",
        "        self.alpha = alpha\n",
        "        self.gamma = gamma\n",
        "        self.epsilon = epsilon\n",
        "        self.temp = temp\n",
        "        self.policy_type = policy_type\n",
        "        self.q_table = defaultdict(lambda: np.zeros(action_space.n))\n",
        "\n",
        "    def discretize_state(self, state):\n",
        "        \"\"\"Convert MiniGrid observation to discrete key\"\"\"\n",
        "        if isinstance(state, np.ndarray):\n",
        "            return tuple(state[:5].astype(int))\n",
        "        return tuple(state['image'].flatten()[:5].astype(int))\n",
        "\n",
        "    def get_action(self, state):\n",
        "        \"\"\"Select action based on policy type\"\"\"\n",
        "        state_key = self.discretize_state(state)\n",
        "        if self.policy_type == 'epsilon_greedy':\n",
        "            if random.random() < self.epsilon:\n",
        "                return self.action_space.sample()\n",
        "            return np.argmax(self.q_table[state_key])\n",
        "        else:  # softmax\n",
        "            probs = self._softmax(self.q_table[state_key])\n",
        "            return np.random.choice(len(probs), p=probs)\n",
        "\n",
        "    def _softmax(self, x):\n",
        "        \"\"\"Compute softmax values for each set of scores in x\"\"\"\n",
        "        e_x = np.exp((x - np.max(x)) / self.temp)\n",
        "        return e_x / e_x.sum()\n",
        "\n",
        "class QLearningAgent(BaseAgent):\n",
        "    def update(self, state, action, reward, next_state, done):\n",
        "        \"\"\"Q-learning update rule\"\"\"\n",
        "        state_key = self.discretize_state(state)\n",
        "        next_state_key = self.discretize_state(next_state)\n",
        "\n",
        "        current_q = self.q_table[state_key][action]\n",
        "        max_next_q = np.max(self.q_table[next_state_key]) if not done else 0\n",
        "\n",
        "        new_q = current_q + self.alpha * (reward + self.gamma * max_next_q - current_q)\n",
        "        self.q_table[state_key][action] = new_q\n",
        "\n",
        "class SARSAAgent(BaseAgent):\n",
        "    def update(self, state, action, reward, next_state, next_action, done):\n",
        "        \"\"\"SARSA update rule\"\"\"\n",
        "        state_key = self.discretize_state(state)\n",
        "        next_state_key = self.discretize_state(next_state)\n",
        "\n",
        "        current_q = self.q_table[state_key][action]\n",
        "        next_q = self.q_table[next_state_key][next_action] if not done else 0\n",
        "\n",
        "        new_q = current_q + self.alpha * (reward + self.gamma * next_q - current_q)\n",
        "        self.q_table[state_key][action] = new_q\n",
        "\n",
        "def train_agent(env, agent, num_episodes=1000, max_steps=100):\n",
        "    rewards = []\n",
        "    steps_to_complete = []\n",
        "\n",
        "    for episode in tqdm(range(num_episodes), desc=f\"Training {type(agent).__name__} {agent.policy_type}\"):\n",
        "        state, _ = env.reset()\n",
        "        total_reward = 0\n",
        "        done = False\n",
        "        step = 0\n",
        "\n",
        "        if isinstance(agent, SARSAAgent):\n",
        "            action = agent.get_action(state)\n",
        "\n",
        "        while not done and step < max_steps:\n",
        "            if isinstance(agent, QLearningAgent):\n",
        "                action = agent.get_action(state)\n",
        "                next_state, reward, terminated, truncated, _ = env.step(action)\n",
        "                done = terminated or truncated\n",
        "                agent.update(state, action, reward, next_state, done)\n",
        "            else:  # SARSA\n",
        "                next_state, reward, terminated, truncated, _ = env.step(action)\n",
        "                done = terminated or truncated\n",
        "                next_action = agent.get_action(next_state)\n",
        "                agent.update(state, action, reward, next_state, next_action, done)\n",
        "                action = next_action\n",
        "\n",
        "            state = next_state\n",
        "            total_reward += reward\n",
        "            step += 1\n",
        "\n",
        "        rewards.append(total_reward)\n",
        "        if reward > 0:\n",
        "            steps_to_complete.append(step)\n",
        "\n",
        "        # Log metrics every 10 episodes\n",
        "        if episode % 10 == 0:\n",
        "            mlflow.log_metrics({\n",
        "                f\"{type(agent).__name__}_{agent.policy_type}/episode_reward\": total_reward,\n",
        "                f\"{type(agent).__name__}_{agent.policy_type}/steps\": step\n",
        "            }, step=episode)\n",
        "\n",
        "    return rewards, steps_to_complete\n",
        "\n",
        "def run_comparison_experiment(params, parent_run=None):\n",
        "    env = gym.make('MiniGrid-Dynamic-Obstacles-5x5-v0')\n",
        "    env = FlatObsWrapper(env)\n",
        "\n",
        "    with mlflow.start_run(nested=True) if parent_run else mlflow.start_run():\n",
        "        # Log all parameters\n",
        "        mlflow.log_params(params)\n",
        "\n",
        "        # Initialize agents\n",
        "        agents = [\n",
        "            QLearningAgent(env.action_space, params['alpha'], params['gamma'],\n",
        "                         params['epsilon'], params['temp'], 'epsilon_greedy'),\n",
        "            QLearningAgent(env.action_space, params['alpha'], params['gamma'],\n",
        "                         0, params['temp'], 'softmax'),  # epsilon=0 for softmax\n",
        "            SARSAAgent(env.action_space, params['alpha'], params['gamma'],\n",
        "                      params['epsilon'], params['temp'], 'epsilon_greedy'),\n",
        "            SARSAAgent(env.action_space, params['alpha'], params['gamma'],\n",
        "                      0, params['temp'], 'softmax')  # epsilon=0 for softmax\n",
        "        ]\n",
        "\n",
        "        results = {}\n",
        "        for agent in agents:\n",
        "            rewards, steps = train_agent(\n",
        "                env,\n",
        "                agent,\n",
        "                num_episodes=params['num_episodes'],\n",
        "                max_steps=params['max_steps']\n",
        "            )\n",
        "\n",
        "            # Store results\n",
        "            key = f\"{type(agent).__name__}_{agent.policy_type}\"\n",
        "            results[key] = {\n",
        "                'rewards': rewards,\n",
        "                'success_rate': len(steps) / params['num_episodes'],\n",
        "                'avg_reward': np.mean(rewards),\n",
        "                'avg_steps': np.mean(steps) if steps else 0\n",
        "            }\n",
        "\n",
        "            # Log final metrics\n",
        "            mlflow.log_metrics({\n",
        "                f\"final/{key}/success_rate\": results[key]['success_rate'],\n",
        "                f\"final/{key}/avg_reward\": results[key]['avg_reward'],\n",
        "                f\"final/{key}/avg_steps\": results[key]['avg_steps']\n",
        "            })\n",
        "\n",
        "        # Create and save comparison plots\n",
        "        plt.figure(figsize=(15, 10))\n",
        "\n",
        "        # Q-learning comparison\n",
        "        plt.subplot(2, 1, 1)\n",
        "        window_size = 50\n",
        "        q_eg_rewards = results['QLearningAgent_epsilon_greedy']['rewards']\n",
        "        q_sm_rewards = results['QLearningAgent_softmax']['rewards']\n",
        "        plt.plot(np.convolve(q_eg_rewards, np.ones(window_size)/window_size, mode='valid'),\n",
        "                label='Q-learning (ε-greedy)')\n",
        "        plt.plot(np.convolve(q_sm_rewards, np.ones(window_size)/window_size, mode='valid'),\n",
        "                label='Q-learning (softmax)')\n",
        "        plt.title('Q-learning: ε-greedy vs Softmax')\n",
        "        plt.xlabel('Episode')\n",
        "        plt.ylabel('Smoothed Reward')\n",
        "        plt.legend()\n",
        "        plt.grid(True)\n",
        "\n",
        "        # SARSA comparison\n",
        "        plt.subplot(2, 1, 2)\n",
        "        sarsa_eg_rewards = results['SARSAAgent_epsilon_greedy']['rewards']\n",
        "        sarsa_sm_rewards = results['SARSAAgent_softmax']['rewards']\n",
        "        plt.plot(np.convolve(sarsa_eg_rewards, np.ones(window_size)/window_size, mode='valid'),\n",
        "                label='SARSA (ε-greedy)')\n",
        "        plt.plot(np.convolve(sarsa_sm_rewards, np.ones(window_size)/window_size, mode='valid'),\n",
        "                label='SARSA (softmax)')\n",
        "        plt.title('SARSA: ε-greedy vs Softmax')\n",
        "        plt.xlabel('Episode')\n",
        "        plt.ylabel('Smoothed Reward')\n",
        "        plt.legend()\n",
        "        plt.grid(True)\n",
        "\n",
        "        # Save plots\n",
        "        os.makedirs(\"plots\", exist_ok=True)\n",
        "        plot_path = \"plots/policy_comparison.png\"\n",
        "        plt.tight_layout()\n",
        "        plt.savefig(plot_path)\n",
        "        plt.close()\n",
        "        mlflow.log_artifact(plot_path)\n",
        "\n",
        "        env.close()\n",
        "\n",
        "        return results\n",
        "\n",
        "def hyperparameter_sweep():\n",
        "    # Define hyperparameter search space\n",
        "    param_combinations = [\n",
        "        {\n",
        "            'alpha': alpha,\n",
        "            'gamma': gamma,\n",
        "            'epsilon': epsilon,\n",
        "            'temp': temp,\n",
        "            'num_episodes': 500,\n",
        "            'max_steps': 100\n",
        "        }\n",
        "        for alpha in [0.01, 0.1, 0.5]\n",
        "        for gamma in [0.9, 0.95, 0.99]\n",
        "        for epsilon in [0.1, 0.2, 0.3]\n",
        "        for temp in [0.5, 1.0, 2.0]\n",
        "    ]\n",
        "\n",
        "    best_reward = -np.inf\n",
        "    best_params = None\n",
        "\n",
        "    # Start parent run for the sweep\n",
        "    with mlflow.start_run(run_name=\"hyperparameter_sweep\"):\n",
        "        for params in param_combinations:\n",
        "            print(f\"\\nRunning with params: {params}\")\n",
        "            results = run_comparison_experiment(params, parent_run=True)\n",
        "\n",
        "            # Track best configuration based on Q-learning ε-greedy performance\n",
        "            current_reward = results['QLearningAgent_epsilon_greedy']['avg_reward']\n",
        "            if current_reward > best_reward:\n",
        "                best_reward = current_reward\n",
        "                best_params = params\n",
        "                print(f\"New best reward: {best_reward}\")\n",
        "\n",
        "        print(\"\\nHyperparameter sweep complete!\")\n",
        "        print(f\"Best reward: {best_reward}\")\n",
        "        print(f\"Best parameters: {best_params}\")\n",
        "\n",
        "        # Save best parameters\n",
        "        with open(\"best_params.txt\", \"w\") as f:\n",
        "            f.write(str(best_params))\n",
        "        mlflow.log_artifact(\"best_params.txt\")\n",
        "\n",
        "def main():\n",
        "    # Set up MLflow\n",
        "    mlflow.set_tracking_uri(\"file:./mlruns\")  # Local storage\n",
        "    experiment_name = f\"MiniGrid_RL_Comparison_{datetime.now().strftime('%Y%m%d_%H%M%S')}\"\n",
        "    mlflow.set_experiment(experiment_name)\n",
        "\n",
        "    # Run hyperparameter sweep\n",
        "    hyperparameter_sweep()\n",
        "\n",
        "if __name__ == \"__main__\":\n",
        "    # Install required packages\n",
        "    try:\n",
        "        import gymnasium\n",
        "        from minigrid.wrappers import FlatObsWrapper\n",
        "        import mlflow\n",
        "    except ImportError:\n",
        "        print(\"Installing required packages...\")\n",
        "        import subprocess\n",
        "        subprocess.run([\"pip\", \"install\", \"gymnasium\", \"minigrid\", \"mlflow\"])\n",
        "\n",
        "    main()"
      ]
    },
    {
      "cell_type": "code",
      "source": [
        "import numpy as np\n",
        "import gymnasium as gym\n",
        "from minigrid.wrappers import FlatObsWrapper\n",
        "import matplotlib.pyplot as plt\n",
        "from collections import defaultdict\n",
        "import random\n",
        "\n",
        "# Best parameters from your sweep\n",
        "best_params = {\n",
        "    'alpha': 0.01,\n",
        "    'gamma': 0.99,\n",
        "    'epsilon': 0.1,\n",
        "    'temp': 0.5,\n",
        "    'num_episodes': 1000,\n",
        "    'max_steps': 100\n",
        "}\n",
        "\n",
        "class BaseAgent:\n",
        "    def __init__(self, action_space, alpha, gamma, epsilon, temp, policy_type):\n",
        "        self.action_space = action_space\n",
        "        self.alpha = alpha\n",
        "        self.gamma = gamma\n",
        "        self.epsilon = epsilon\n",
        "        self.temp = temp\n",
        "        self.policy_type = policy_type\n",
        "        self.q_table = defaultdict(lambda: np.zeros(action_space.n))\n",
        "\n",
        "    def discretize_state(self, state):\n",
        "        \"\"\"Convert observation to discrete key\"\"\"\n",
        "        return tuple(state[:5].astype(int))  # Using first 5 elements\n",
        "\n",
        "    def get_action(self, state):\n",
        "        state_key = self.discretize_state(state)\n",
        "        if self.policy_type == 'epsilon_greedy':\n",
        "            if random.random() < self.epsilon:\n",
        "                return self.action_space.sample()\n",
        "            return np.argmax(self.q_table[state_key])\n",
        "        else:  # softmax\n",
        "            probs = np.exp(self.q_table[state_key]/self.temp)\n",
        "            probs /= probs.sum()\n",
        "            return np.random.choice(len(probs), p=probs)\n",
        "\n",
        "class QLearningAgent(BaseAgent):\n",
        "    def update(self, state, action, reward, next_state, done):\n",
        "        state_key = self.discretize_state(state)\n",
        "        next_state_key = self.discretize_state(next_state)\n",
        "        current_q = self.q_table[state_key][action]\n",
        "        max_next_q = np.max(self.q_table[next_state_key]) if not done else 0\n",
        "        self.q_table[state_key][action] = current_q + self.alpha * (reward + self.gamma * max_next_q - current_q)\n",
        "\n",
        "class SARSAAgent(BaseAgent):\n",
        "    def update(self, state, action, reward, next_state, next_action, done):\n",
        "        state_key = self.discretize_state(state)\n",
        "        next_state_key = self.discretize_state(next_state)\n",
        "        current_q = self.q_table[state_key][action]\n",
        "        next_q = self.q_table[next_state_key][next_action] if not done else 0\n",
        "        self.q_table[state_key][action] = current_q + self.alpha * (reward + self.gamma * next_q - current_q)\n",
        "\n",
        "def train_agent(env, agent, num_episodes, max_steps):\n",
        "    rewards = []\n",
        "    for _ in range(num_episodes):\n",
        "        state, _ = env.reset()\n",
        "        total_reward = 0\n",
        "        done = False\n",
        "        step = 0\n",
        "\n",
        "        # Initialize action for SARSA\n",
        "        if isinstance(agent, SARSAAgent):\n",
        "            action = agent.get_action(state)\n",
        "\n",
        "        while not done and step < max_steps:\n",
        "            if isinstance(agent, QLearningAgent):\n",
        "                action = agent.get_action(state)\n",
        "                next_state, reward, terminated, truncated, _ = env.step(action)\n",
        "                done = terminated or truncated\n",
        "                agent.update(state, action, reward, next_state, done)\n",
        "            else:  # SARSA\n",
        "                next_state, reward, terminated, truncated, _ = env.step(action)\n",
        "                done = terminated or truncated\n",
        "                next_action = agent.get_action(next_state)\n",
        "                agent.update(state, action, reward, next_state, next_action, done)\n",
        "                action = next_action\n",
        "\n",
        "            state = next_state\n",
        "            total_reward += reward\n",
        "            step += 1\n",
        "\n",
        "        rewards.append(total_reward)\n",
        "    return rewards\n",
        "\n",
        "# Create environment\n",
        "env = gym.make('MiniGrid-Dynamic-Obstacles-5x5-v0')\n",
        "env = FlatObsWrapper(env)\n",
        "\n",
        "# Initialize agents with best parameters\n",
        "agents = {\n",
        "    'Q-learning ε-greedy': QLearningAgent(env.action_space, best_params['alpha'], best_params['gamma'],\n",
        "                           best_params['epsilon'], best_params['temp'], 'epsilon_greedy'),\n",
        "    'Q-learning softmax': QLearningAgent(env.action_space, best_params['alpha'], best_params['gamma'],\n",
        "                          0, best_params['temp'], 'softmax'),\n",
        "    'SARSA ε-greedy': SARSAAgent(env.action_space, best_params['alpha'], best_params['gamma'],\n",
        "                         best_params['epsilon'], best_params['temp'], 'epsilon_greedy'),\n",
        "    'SARSA softmax': SARSAAgent(env.action_space, best_params['alpha'], best_params['gamma'],\n",
        "                      0, best_params['temp'], 'softmax')\n",
        "}\n",
        "\n",
        "# Train all agents\n",
        "results = {}\n",
        "for name, agent in agents.items():\n",
        "    print(f\"Training {name}...\")\n",
        "    rewards = train_agent(env, agent, best_params['num_episodes'], best_params['max_steps'])\n",
        "    results[name] = rewards\n",
        "    print(f\"{name} average reward: {np.mean(rewards):.2f}\")\n",
        "\n",
        "# Create comparison plots\n",
        "plt.figure(figsize=(15, 10))\n",
        "\n",
        "# Q-learning comparison\n",
        "plt.subplot(2, 1, 1)\n",
        "window_size = 50\n",
        "q_eg = np.convolve(results['Q-learning ε-greedy'], np.ones(window_size)/window_size, mode='valid')\n",
        "q_sm = np.convolve(results['Q-learning softmax'], np.ones(window_size)/window_size, mode='valid')\n",
        "plt.plot(q_eg, label=f'ε-greedy (avg: {np.mean(q_eg):.2f})')\n",
        "plt.plot(q_sm, label=f'softmax (avg: {np.mean(q_sm):.2f})')\n",
        "plt.title('Q-learning with Best Parameters')\n",
        "plt.xlabel('Episode')\n",
        "plt.ylabel('Smoothed Reward')\n",
        "plt.legend()\n",
        "plt.grid(True)\n",
        "\n",
        "# SARSA comparison\n",
        "plt.subplot(2, 1, 2)\n",
        "sarsa_eg = np.convolve(results['SARSA ε-greedy'], np.ones(window_size)/window_size, mode='valid')\n",
        "sarsa_sm = np.convolve(results['SARSA softmax'], np.ones(window_size)/window_size, mode='valid')\n",
        "plt.plot(sarsa_eg, label=f'ε-greedy (avg: {np.mean(sarsa_eg):.2f})')\n",
        "plt.plot(sarsa_sm, label=f'softmax (avg: {np.mean(sarsa_sm):.2f})')\n",
        "plt.title('SARSA with Best Parameters')\n",
        "plt.xlabel('Episode')\n",
        "plt.ylabel('Smoothed Reward')\n",
        "plt.legend()\n",
        "plt.grid(True)\n",
        "\n",
        "plt.tight_layout()\n",
        "plt.show()\n",
        "\n",
        "env.close()"
      ],
      "metadata": {
        "colab": {
          "base_uri": "https://localhost:8080/",
          "height": 1000
        },
        "id": "rKZNV0J_AycV",
        "outputId": "a029ef6d-40d2-4431-8f3a-b66fa2d7a297"
      },
      "execution_count": 22,
      "outputs": [
        {
          "output_type": "stream",
          "name": "stdout",
          "text": [
            "Training Q-learning ε-greedy...\n",
            "Q-learning ε-greedy average reward: -0.86\n",
            "Training Q-learning softmax...\n",
            "Q-learning softmax average reward: -0.99\n",
            "Training SARSA ε-greedy...\n",
            "SARSA ε-greedy average reward: -0.86\n",
            "Training SARSA softmax...\n",
            "SARSA softmax average reward: -0.99\n"
          ]
        },
        {
          "output_type": "display_data",
          "data": {
            "text/plain": [
              "<Figure size 1500x1000 with 2 Axes>"
            ],
            "image/png": "[encoded data removed]"
          },
          "metadata": {}
        }
      ]
    }
  ]
}