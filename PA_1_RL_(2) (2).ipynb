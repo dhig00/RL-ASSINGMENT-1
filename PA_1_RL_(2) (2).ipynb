{
  "cells": [
    {
      "cell_type": "code",
      "execution_count": 1,
      "metadata": {
        "colab": {
          "base_uri": "https://localhost:8080/",
          "height": 1000
        },
        "id": "ob16YtxW1BXK",
        "outputId": "db2a9d21-111d-4b0a-ccf2-813453ad693c"
      },
      "outputs": [
        {
          "output_type": "stream",
          "name": "stderr",
          "text": [
            "\u001b[34m\u001b[1mwandb\u001b[0m: Using wandb-core as the SDK backend.  Please refer to https://wandb.me/wandb-core for more information.\n"
          ]
        },
        {
          "output_type": "display_data",
          "data": {
            "text/plain": [
              "<IPython.core.display.Javascript object>"
            ],
            "application/javascript": [
              "\n",
              "        window._wandbApiKey = new Promise((resolve, reject) => {\n",
              "            function loadScript(url) {\n",
              "            return new Promise(function(resolve, reject) {\n",
              "                let newScript = document.createElement(\"script\");\n",
              "                newScript.onerror = reject;\n",
              "                newScript.onload = resolve;\n",
              "                document.body.appendChild(newScript);\n",
              "                newScript.src = url;\n",
              "            });\n",
              "            }\n",
              "            loadScript(\"https://cdn.jsdelivr.net/npm/postmate/build/postmate.min.js\").then(() => {\n",
              "            const iframe = document.createElement('iframe')\n",
              "            iframe.style.cssText = \"width:0;height:0;border:none\"\n",
              "            document.body.appendChild(iframe)\n",
              "            const handshake = new Postmate({\n",
              "                container: iframe,\n",
              "                url: 'https://wandb.ai/authorize'\n",
              "            });\n",
              "            const timeout = setTimeout(() => reject(\"Couldn't auto authenticate\"), 5000)\n",
              "            handshake.then(function(child) {\n",
              "                child.on('authorize', data => {\n",
              "                    clearTimeout(timeout)\n",
              "                    resolve(data)\n",
              "                });\n",
              "            });\n",
              "            })\n",
              "        });\n",
              "    "
            ]
          },
          "metadata": {}
        },
        {
          "output_type": "stream",
          "name": "stderr",
          "text": [
            "\u001b[34m\u001b[1mwandb\u001b[0m: Logging into wandb.ai. (Learn how to deploy a W&B server locally: https://wandb.me/wandb-server)\n",
            "\u001b[34m\u001b[1mwandb\u001b[0m: You can find your API key in your browser here: https://wandb.ai/authorize\n",
            "wandb: Paste an API key from your profile and hit enter:"
          ]
        },
        {
          "name": "stdout",
          "output_type": "stream",
          "text": [
            " ··········\n"
          ]
        },
        {
          "output_type": "stream",
          "name": "stderr",
          "text": [
            "\u001b[34m\u001b[1mwandb\u001b[0m: \u001b[33mWARNING\u001b[0m If you're specifying your api key in code, ensure this code is not shared publicly.\n",
            "\u001b[34m\u001b[1mwandb\u001b[0m: \u001b[33mWARNING\u001b[0m Consider setting the WANDB_API_KEY environment variable, or running `wandb login` from the command line.\n",
            "\u001b[34m\u001b[1mwandb\u001b[0m: No netrc file found, creating one.\n",
            "\u001b[34m\u001b[1mwandb\u001b[0m: Appending key for api.wandb.ai to your netrc file: /root/.netrc\n",
            "\u001b[34m\u001b[1mwandb\u001b[0m: Currently logged in as: \u001b[33med22b051\u001b[0m (\u001b[33med22b051-iit-madras-foundation\u001b[0m) to \u001b[32mhttps://api.wandb.ai\u001b[0m. Use \u001b[1m`wandb login --relogin`\u001b[0m to force relogin\n"
          ]
        },
        {
          "output_type": "stream",
          "name": "stdout",
          "text": [
            "Running hyperparameter sweep...\n",
            "Create sweep with ID: vluleyzf\n",
            "Sweep URL: https://wandb.ai/ed22b051-iit-madras-foundation/RL_PA1_Sweep_PolicyComparison_FixedGamma/sweeps/vluleyzf\n"
          ]
        },
        {
          "output_type": "stream",
          "name": "stderr",
          "text": [
            "\u001b[34m\u001b[1mwandb\u001b[0m: Agent Starting Run: 7kln1xf1 with config:\n",
            "\u001b[34m\u001b[1mwandb\u001b[0m: \talgorithm: q_learning\n",
            "\u001b[34m\u001b[1mwandb\u001b[0m: \talpha: 0.4579817040226939\n",
            "\u001b[34m\u001b[1mwandb\u001b[0m: \tparam_value: 0.2414591020692337\n",
            "\u001b[34m\u001b[1mwandb\u001b[0m: \tpolicy_type: epsilon_greedy\n"
          ]
        },
        {
          "output_type": "display_data",
          "data": {
            "text/plain": [
              "<IPython.core.display.HTML object>"
            ],
            "text/html": [
              "Tracking run with wandb version 0.19.8"
            ]
          },
          "metadata": {}
        },
        {
          "output_type": "display_data",
          "data": {
            "text/plain": [
              "<IPython.core.display.HTML object>"
            ],
            "text/html": [
              "Run data is saved locally in <code>/content/wandb/run-20250330_113919-7kln1xf1</code>"
            ]
          },
          "metadata": {}
        },
        {
          "output_type": "display_data",
          "data": {
            "text/plain": [
              "<IPython.core.display.HTML object>"
            ],
            "text/html": [
              "Syncing run <strong><a href='https://wandb.ai/ed22b051-iit-madras-foundation/RL_PA1_Sweep_PolicyComparison_FixedGamma/runs/7kln1xf1' target=\"_blank\">daily-sweep-1</a></strong> to <a href='https://wandb.ai/ed22b051-iit-madras-foundation/RL_PA1_Sweep_PolicyComparison_FixedGamma' target=\"_blank\">Weights & Biases</a> (<a href='https://wandb.me/developer-guide' target=\"_blank\">docs</a>)<br>Sweep page: <a href='https://wandb.ai/ed22b051-iit-madras-foundation/RL_PA1_Sweep_PolicyComparison_FixedGamma/sweeps/vluleyzf' target=\"_blank\">https://wandb.ai/ed22b051-iit-madras-foundation/RL_PA1_Sweep_PolicyComparison_FixedGamma/sweeps/vluleyzf</a>"
            ]
          },
          "metadata": {}
        },
        {
          "output_type": "display_data",
          "data": {
            "text/plain": [
              "<IPython.core.display.HTML object>"
            ],
            "text/html": [
              " View project at <a href='https://wandb.ai/ed22b051-iit-madras-foundation/RL_PA1_Sweep_PolicyComparison_FixedGamma' target=\"_blank\">https://wandb.ai/ed22b051-iit-madras-foundation/RL_PA1_Sweep_PolicyComparison_FixedGamma</a>"
            ]
          },
          "metadata": {}
        },
        {
          "output_type": "display_data",
          "data": {
            "text/plain": [
              "<IPython.core.display.HTML object>"
            ],
            "text/html": [
              " View sweep at <a href='https://wandb.ai/ed22b051-iit-madras-foundation/RL_PA1_Sweep_PolicyComparison_FixedGamma/sweeps/vluleyzf' target=\"_blank\">https://wandb.ai/ed22b051-iit-madras-foundation/RL_PA1_Sweep_PolicyComparison_FixedGamma/sweeps/vluleyzf</a>"
            ]
          },
          "metadata": {}
        },
        {
          "output_type": "display_data",
          "data": {
            "text/plain": [
              "<IPython.core.display.HTML object>"
            ],
            "text/html": [
              " View run at <a href='https://wandb.ai/ed22b051-iit-madras-foundation/RL_PA1_Sweep_PolicyComparison_FixedGamma/runs/7kln1xf1' target=\"_blank\">https://wandb.ai/ed22b051-iit-madras-foundation/RL_PA1_Sweep_PolicyComparison_FixedGamma/runs/7kln1xf1</a>"
            ]
          },
          "metadata": {}
        },
        {
          "output_type": "stream",
          "name": "stderr",
          "text": [
            "Q-Learning (epsilon_greedy): 100%|██████████| 1000/1000 [00:16<00:00, 61.33it/s]\n",
            "Q-Learning (epsilon_greedy): 100%|██████████| 1000/1000 [00:14<00:00, 68.83it/s]\n",
            "Q-Learning (epsilon_greedy): 100%|██████████| 1000/1000 [00:15<00:00, 64.10it/s]\n"
          ]
        },
        {
          "output_type": "display_data",
          "data": {
            "text/plain": [
              "<IPython.core.display.HTML object>"
            ],
            "text/html": []
          },
          "metadata": {}
        },
        {
          "output_type": "display_data",
          "data": {
            "text/plain": [
              "<IPython.core.display.HTML object>"
            ],
            "text/html": [
              "<br>    <style><br>        .wandb-row {<br>            display: flex;<br>            flex-direction: row;<br>            flex-wrap: wrap;<br>            justify-content: flex-start;<br>            width: 100%;<br>        }<br>        .wandb-col {<br>            display: flex;<br>            flex-direction: column;<br>            flex-basis: 100%;<br>            flex: 1;<br>            padding: 10px;<br>        }<br>    </style><br><div class=\"wandb-row\"><div class=\"wandb-col\"><h3>Run history:</h3><br/><table class=\"wandb\"><tr><td>Q_epsilon_greedy/reward</td><td>▁▅▄▃▄▄▃▃▅▅▆▃▄▃▄▁▁▂▂▂▄▃▂▅▃▅▄▃▁▁▅▄▅▂▅▃▄▆▂█</td></tr><tr><td>avg_reward</td><td>▁</td></tr><tr><td>episode</td><td>▂▃▃▃▃▃▄▄▄▅▆▇▃▃▃▄▄▅▅▅▇▇▇▇▁▁▁▂▂▂▃▄▅▅▆▆▆▆▆█</td></tr></table><br/></div><div class=\"wandb-col\"><h3>Run summary:</h3><br/><table class=\"wandb\"><tr><td>Q_epsilon_greedy/reward</td><td>236</td></tr><tr><td>avg_reward</td><td>120.60667</td></tr><tr><td>episode</td><td>999</td></tr></table><br/></div></div>"
            ]
          },
          "metadata": {}
        },
        {
          "output_type": "display_data",
          "data": {
            "text/plain": [
              "<IPython.core.display.HTML object>"
            ],
            "text/html": [
              " View run <strong style=\"color:#cdcd00\">daily-sweep-1</strong> at: <a href='https://wandb.ai/ed22b051-iit-madras-foundation/RL_PA1_Sweep_PolicyComparison_FixedGamma/runs/7kln1xf1' target=\"_blank\">https://wandb.ai/ed22b051-iit-madras-foundation/RL_PA1_Sweep_PolicyComparison_FixedGamma/runs/7kln1xf1</a><br> View project at: <a href='https://wandb.ai/ed22b051-iit-madras-foundation/RL_PA1_Sweep_PolicyComparison_FixedGamma' target=\"_blank\">https://wandb.ai/ed22b051-iit-madras-foundation/RL_PA1_Sweep_PolicyComparison_FixedGamma</a><br>Synced 5 W&B file(s), 0 media file(s), 0 artifact file(s) and 0 other file(s)"
            ]
          },
          "metadata": {}
        },
        {
          "output_type": "display_data",
          "data": {
            "text/plain": [
              "<IPython.core.display.HTML object>"
            ],
            "text/html": [
              "Find logs at: <code>./wandb/run-20250330_113919-7kln1xf1/logs</code>"
            ]
          },
          "metadata": {}
        },
        {
          "output_type": "stream",
          "name": "stderr",
          "text": [
            "\u001b[34m\u001b[1mwandb\u001b[0m: Agent Starting Run: pofs5isk with config:\n",
            "\u001b[34m\u001b[1mwandb\u001b[0m: \talgorithm: sarsa\n",
            "\u001b[34m\u001b[1mwandb\u001b[0m: \talpha: 0.6594393073807638\n",
            "\u001b[34m\u001b[1mwandb\u001b[0m: \tparam_value: 0.05949161022351888\n",
            "\u001b[34m\u001b[1mwandb\u001b[0m: \tpolicy_type: softmax\n"
          ]
        },
        {
          "output_type": "display_data",
          "data": {
            "text/plain": [
              "<IPython.core.display.HTML object>"
            ],
            "text/html": [
              "Tracking run with wandb version 0.19.8"
            ]
          },
          "metadata": {}
        },
        {
          "output_type": "display_data",
          "data": {
            "text/plain": [
              "<IPython.core.display.HTML object>"
            ],
            "text/html": [
              "Run data is saved locally in <code>/content/wandb/run-20250330_114009-pofs5isk</code>"
            ]
          },
          "metadata": {}
        },
        {
          "output_type": "display_data",
          "data": {
            "text/plain": [
              "<IPython.core.display.HTML object>"
            ],
            "text/html": [
              "Syncing run <strong><a href='https://wandb.ai/ed22b051-iit-madras-foundation/RL_PA1_Sweep_PolicyComparison_FixedGamma/runs/pofs5isk' target=\"_blank\">fresh-sweep-2</a></strong> to <a href='https://wandb.ai/ed22b051-iit-madras-foundation/RL_PA1_Sweep_PolicyComparison_FixedGamma' target=\"_blank\">Weights & Biases</a> (<a href='https://wandb.me/developer-guide' target=\"_blank\">docs</a>)<br>Sweep page: <a href='https://wandb.ai/ed22b051-iit-madras-foundation/RL_PA1_Sweep_PolicyComparison_FixedGamma/sweeps/vluleyzf' target=\"_blank\">https://wandb.ai/ed22b051-iit-madras-foundation/RL_PA1_Sweep_PolicyComparison_FixedGamma/sweeps/vluleyzf</a>"
            ]
          },
          "metadata": {}
        },
        {
          "output_type": "display_data",
          "data": {
            "text/plain": [
              "<IPython.core.display.HTML object>"
            ],
            "text/html": [
              " View project at <a href='https://wandb.ai/ed22b051-iit-madras-foundation/RL_PA1_Sweep_PolicyComparison_FixedGamma' target=\"_blank\">https://wandb.ai/ed22b051-iit-madras-foundation/RL_PA1_Sweep_PolicyComparison_FixedGamma</a>"
            ]
          },
          "metadata": {}
        },
        {
          "output_type": "display_data",
          "data": {
            "text/plain": [
              "<IPython.core.display.HTML object>"
            ],
            "text/html": [
              " View sweep at <a href='https://wandb.ai/ed22b051-iit-madras-foundation/RL_PA1_Sweep_PolicyComparison_FixedGamma/sweeps/vluleyzf' target=\"_blank\">https://wandb.ai/ed22b051-iit-madras-foundation/RL_PA1_Sweep_PolicyComparison_FixedGamma/sweeps/vluleyzf</a>"
            ]
          },
          "metadata": {}
        },
        {
          "output_type": "display_data",
          "data": {
            "text/plain": [
              "<IPython.core.display.HTML object>"
            ],
            "text/html": [
              " View run at <a href='https://wandb.ai/ed22b051-iit-madras-foundation/RL_PA1_Sweep_PolicyComparison_FixedGamma/runs/pofs5isk' target=\"_blank\">https://wandb.ai/ed22b051-iit-madras-foundation/RL_PA1_Sweep_PolicyComparison_FixedGamma/runs/pofs5isk</a>"
            ]
          },
          "metadata": {}
        },
        {
          "output_type": "stream",
          "name": "stderr",
          "text": [
            "SARSA (softmax): 100%|██████████| 1000/1000 [00:05<00:00, 187.18it/s]\n",
            "SARSA (softmax): 100%|██████████| 1000/1000 [00:10<00:00, 98.40it/s]\n",
            "SARSA (softmax): 100%|██████████| 1000/1000 [00:04<00:00, 245.03it/s]\n"
          ]
        },
        {
          "output_type": "display_data",
          "data": {
            "text/plain": [
              "<IPython.core.display.HTML object>"
            ],
            "text/html": []
          },
          "metadata": {}
        },
        {
          "output_type": "display_data",
          "data": {
            "text/plain": [
              "<IPython.core.display.HTML object>"
            ],
            "text/html": [
              "<br>    <style><br>        .wandb-row {<br>            display: flex;<br>            flex-direction: row;<br>            flex-wrap: wrap;<br>            justify-content: flex-start;<br>            width: 100%;<br>        }<br>        .wandb-col {<br>            display: flex;<br>            flex-direction: column;<br>            flex-basis: 100%;<br>            flex: 1;<br>            padding: 10px;<br>        }<br>    </style><br><div class=\"wandb-row\"><div class=\"wandb-col\"><h3>Run history:</h3><br/><table class=\"wandb\"><tr><td>SARSA_softmax/reward</td><td>▂▂▂▃▁▁▁▄▂▂▁▁▂▅▂▁▃▂▃▁▂▇▁▂▆▁▇▂▁▅▂▇█▂▁▁▁▁▁▂</td></tr><tr><td>avg_reward</td><td>▁</td></tr><tr><td>episode</td><td>▁▁▂▄▄▄▅▅▆▆▇▇▇▇█▁▁▂▂▂▅▆▆▆▇█▁▁▃▄▅▆▆▆▆▇▇▇██</td></tr></table><br/></div><div class=\"wandb-col\"><h3>Run summary:</h3><br/><table class=\"wandb\"><tr><td>SARSA_softmax/reward</td><td>14</td></tr><tr><td>avg_reward</td><td>26.96667</td></tr><tr><td>episode</td><td>999</td></tr></table><br/></div></div>"
            ]
          },
          "metadata": {}
        },
        {
          "output_type": "display_data",
          "data": {
            "text/plain": [
              "<IPython.core.display.HTML object>"
            ],
            "text/html": [
              " View run <strong style=\"color:#cdcd00\">fresh-sweep-2</strong> at: <a href='https://wandb.ai/ed22b051-iit-madras-foundation/RL_PA1_Sweep_PolicyComparison_FixedGamma/runs/pofs5isk' target=\"_blank\">https://wandb.ai/ed22b051-iit-madras-foundation/RL_PA1_Sweep_PolicyComparison_FixedGamma/runs/pofs5isk</a><br> View project at: <a href='https://wandb.ai/ed22b051-iit-madras-foundation/RL_PA1_Sweep_PolicyComparison_FixedGamma' target=\"_blank\">https://wandb.ai/ed22b051-iit-madras-foundation/RL_PA1_Sweep_PolicyComparison_FixedGamma</a><br>Synced 5 W&B file(s), 0 media file(s), 0 artifact file(s) and 0 other file(s)"
            ]
          },
          "metadata": {}
        },
        {
          "output_type": "display_data",
          "data": {
            "text/plain": [
              "<IPython.core.display.HTML object>"
            ],
            "text/html": [
              "Find logs at: <code>./wandb/run-20250330_114009-pofs5isk/logs</code>"
            ]
          },
          "metadata": {}
        },
        {
          "output_type": "stream",
          "name": "stderr",
          "text": [
            "\u001b[34m\u001b[1mwandb\u001b[0m: Agent Starting Run: 3gz0o3uj with config:\n",
            "\u001b[34m\u001b[1mwandb\u001b[0m: \talgorithm: q_learning\n",
            "\u001b[34m\u001b[1mwandb\u001b[0m: \talpha: 0.6299235147719722\n",
            "\u001b[34m\u001b[1mwandb\u001b[0m: \tparam_value: 0.20196945144001893\n",
            "\u001b[34m\u001b[1mwandb\u001b[0m: \tpolicy_type: softmax\n"
          ]
        },
        {
          "output_type": "display_data",
          "data": {
            "text/plain": [
              "<IPython.core.display.HTML object>"
            ],
            "text/html": [
              "Tracking run with wandb version 0.19.8"
            ]
          },
          "metadata": {}
        },
        {
          "output_type": "display_data",
          "data": {
            "text/plain": [
              "<IPython.core.display.HTML object>"
            ],
            "text/html": [
              "Run data is saved locally in <code>/content/wandb/run-20250330_114035-3gz0o3uj</code>"
            ]
          },
          "metadata": {}
        },
        {
          "output_type": "display_data",
          "data": {
            "text/plain": [
              "<IPython.core.display.HTML object>"
            ],
            "text/html": [
              "Syncing run <strong><a href='https://wandb.ai/ed22b051-iit-madras-foundation/RL_PA1_Sweep_PolicyComparison_FixedGamma/runs/3gz0o3uj' target=\"_blank\">silver-sweep-3</a></strong> to <a href='https://wandb.ai/ed22b051-iit-madras-foundation/RL_PA1_Sweep_PolicyComparison_FixedGamma' target=\"_blank\">Weights & Biases</a> (<a href='https://wandb.me/developer-guide' target=\"_blank\">docs</a>)<br>Sweep page: <a href='https://wandb.ai/ed22b051-iit-madras-foundation/RL_PA1_Sweep_PolicyComparison_FixedGamma/sweeps/vluleyzf' target=\"_blank\">https://wandb.ai/ed22b051-iit-madras-foundation/RL_PA1_Sweep_PolicyComparison_FixedGamma/sweeps/vluleyzf</a>"
            ]
          },
          "metadata": {}
        },
        {
          "output_type": "display_data",
          "data": {
            "text/plain": [
              "<IPython.core.display.HTML object>"
            ],
            "text/html": [
              " View project at <a href='https://wandb.ai/ed22b051-iit-madras-foundation/RL_PA1_Sweep_PolicyComparison_FixedGamma' target=\"_blank\">https://wandb.ai/ed22b051-iit-madras-foundation/RL_PA1_Sweep_PolicyComparison_FixedGamma</a>"
            ]
          },
          "metadata": {}
        },
        {
          "output_type": "display_data",
          "data": {
            "text/plain": [
              "<IPython.core.display.HTML object>"
            ],
            "text/html": [
              " View sweep at <a href='https://wandb.ai/ed22b051-iit-madras-foundation/RL_PA1_Sweep_PolicyComparison_FixedGamma/sweeps/vluleyzf' target=\"_blank\">https://wandb.ai/ed22b051-iit-madras-foundation/RL_PA1_Sweep_PolicyComparison_FixedGamma/sweeps/vluleyzf</a>"
            ]
          },
          "metadata": {}
        },
        {
          "output_type": "display_data",
          "data": {
            "text/plain": [
              "<IPython.core.display.HTML object>"
            ],
            "text/html": [
              " View run at <a href='https://wandb.ai/ed22b051-iit-madras-foundation/RL_PA1_Sweep_PolicyComparison_FixedGamma/runs/3gz0o3uj' target=\"_blank\">https://wandb.ai/ed22b051-iit-madras-foundation/RL_PA1_Sweep_PolicyComparison_FixedGamma/runs/3gz0o3uj</a>"
            ]
          },
          "metadata": {}
        },
        {
          "output_type": "stream",
          "name": "stderr",
          "text": [
            "Q-Learning (softmax): 100%|██████████| 1000/1000 [00:06<00:00, 163.21it/s]\n",
            "Q-Learning (softmax): 100%|██████████| 1000/1000 [00:06<00:00, 151.11it/s]\n",
            "Q-Learning (softmax): 100%|██████████| 1000/1000 [00:06<00:00, 147.69it/s]\n"
          ]
        },
        {
          "output_type": "display_data",
          "data": {
            "text/plain": [
              "<IPython.core.display.HTML object>"
            ],
            "text/html": []
          },
          "metadata": {}
        },
        {
          "output_type": "display_data",
          "data": {
            "text/plain": [
              "<IPython.core.display.HTML object>"
            ],
            "text/html": [
              "<br>    <style><br>        .wandb-row {<br>            display: flex;<br>            flex-direction: row;<br>            flex-wrap: wrap;<br>            justify-content: flex-start;<br>            width: 100%;<br>        }<br>        .wandb-col {<br>            display: flex;<br>            flex-direction: column;<br>            flex-basis: 100%;<br>            flex: 1;<br>            padding: 10px;<br>        }<br>    </style><br><div class=\"wandb-row\"><div class=\"wandb-col\"><h3>Run history:</h3><br/><table class=\"wandb\"><tr><td>Q_softmax/reward</td><td>▁▁▁▄▁▁▇▁▂▂▁▂▄▆▃▂▃▃▃▃▂▂▇▂▇▂▇▁▃█▇▂▇▂▆█▇▇▂▂</td></tr><tr><td>avg_reward</td><td>▁</td></tr><tr><td>episode</td><td>▁▂▂▂▂▅▅▅▅▆▇▇▇██▂▃▃▄▄▆▇▇█▁▂▂▃▄▄▅▅▆▆▆▇▇▇▇█</td></tr></table><br/></div><div class=\"wandb-col\"><h3>Run summary:</h3><br/><table class=\"wandb\"><tr><td>Q_softmax/reward</td><td>23</td></tr><tr><td>avg_reward</td><td>27.89333</td></tr><tr><td>episode</td><td>999</td></tr></table><br/></div></div>"
            ]
          },
          "metadata": {}
        },
        {
          "output_type": "display_data",
          "data": {
            "text/plain": [
              "<IPython.core.display.HTML object>"
            ],
            "text/html": [
              " View run <strong style=\"color:#cdcd00\">silver-sweep-3</strong> at: <a href='https://wandb.ai/ed22b051-iit-madras-foundation/RL_PA1_Sweep_PolicyComparison_FixedGamma/runs/3gz0o3uj' target=\"_blank\">https://wandb.ai/ed22b051-iit-madras-foundation/RL_PA1_Sweep_PolicyComparison_FixedGamma/runs/3gz0o3uj</a><br> View project at: <a href='https://wandb.ai/ed22b051-iit-madras-foundation/RL_PA1_Sweep_PolicyComparison_FixedGamma' target=\"_blank\">https://wandb.ai/ed22b051-iit-madras-foundation/RL_PA1_Sweep_PolicyComparison_FixedGamma</a><br>Synced 5 W&B file(s), 0 media file(s), 0 artifact file(s) and 0 other file(s)"
            ]
          },
          "metadata": {}
        },
        {
          "output_type": "display_data",
          "data": {
            "text/plain": [
              "<IPython.core.display.HTML object>"
            ],
            "text/html": [
              "Find logs at: <code>./wandb/run-20250330_114035-3gz0o3uj/logs</code>"
            ]
          },
          "metadata": {}
        },
        {
          "output_type": "stream",
          "name": "stderr",
          "text": [
            "\u001b[34m\u001b[1mwandb\u001b[0m: Agent Starting Run: 4o3hbn7h with config:\n",
            "\u001b[34m\u001b[1mwandb\u001b[0m: \talgorithm: q_learning\n",
            "\u001b[34m\u001b[1mwandb\u001b[0m: \talpha: 0.4493305780256567\n",
            "\u001b[34m\u001b[1mwandb\u001b[0m: \tparam_value: 0.22756898944870524\n",
            "\u001b[34m\u001b[1mwandb\u001b[0m: \tpolicy_type: softmax\n"
          ]
        },
        {
          "output_type": "display_data",
          "data": {
            "text/plain": [
              "<IPython.core.display.HTML object>"
            ],
            "text/html": [
              "Tracking run with wandb version 0.19.8"
            ]
          },
          "metadata": {}
        },
        {
          "output_type": "display_data",
          "data": {
            "text/plain": [
              "<IPython.core.display.HTML object>"
            ],
            "text/html": [
              "Run data is saved locally in <code>/content/wandb/run-20250330_114101-4o3hbn7h</code>"
            ]
          },
          "metadata": {}
        },
        {
          "output_type": "display_data",
          "data": {
            "text/plain": [
              "<IPython.core.display.HTML object>"
            ],
            "text/html": [
              "Syncing run <strong><a href='https://wandb.ai/ed22b051-iit-madras-foundation/RL_PA1_Sweep_PolicyComparison_FixedGamma/runs/4o3hbn7h' target=\"_blank\">zany-sweep-4</a></strong> to <a href='https://wandb.ai/ed22b051-iit-madras-foundation/RL_PA1_Sweep_PolicyComparison_FixedGamma' target=\"_blank\">Weights & Biases</a> (<a href='https://wandb.me/developer-guide' target=\"_blank\">docs</a>)<br>Sweep page: <a href='https://wandb.ai/ed22b051-iit-madras-foundation/RL_PA1_Sweep_PolicyComparison_FixedGamma/sweeps/vluleyzf' target=\"_blank\">https://wandb.ai/ed22b051-iit-madras-foundation/RL_PA1_Sweep_PolicyComparison_FixedGamma/sweeps/vluleyzf</a>"
            ]
          },
          "metadata": {}
        },
        {
          "output_type": "display_data",
          "data": {
            "text/plain": [
              "<IPython.core.display.HTML object>"
            ],
            "text/html": [
              " View project at <a href='https://wandb.ai/ed22b051-iit-madras-foundation/RL_PA1_Sweep_PolicyComparison_FixedGamma' target=\"_blank\">https://wandb.ai/ed22b051-iit-madras-foundation/RL_PA1_Sweep_PolicyComparison_FixedGamma</a>"
            ]
          },
          "metadata": {}
        },
        {
          "output_type": "display_data",
          "data": {
            "text/plain": [
              "<IPython.core.display.HTML object>"
            ],
            "text/html": [
              " View sweep at <a href='https://wandb.ai/ed22b051-iit-madras-foundation/RL_PA1_Sweep_PolicyComparison_FixedGamma/sweeps/vluleyzf' target=\"_blank\">https://wandb.ai/ed22b051-iit-madras-foundation/RL_PA1_Sweep_PolicyComparison_FixedGamma/sweeps/vluleyzf</a>"
            ]
          },
          "metadata": {}
        },
        {
          "output_type": "display_data",
          "data": {
            "text/plain": [
              "<IPython.core.display.HTML object>"
            ],
            "text/html": [
              " View run at <a href='https://wandb.ai/ed22b051-iit-madras-foundation/RL_PA1_Sweep_PolicyComparison_FixedGamma/runs/4o3hbn7h' target=\"_blank\">https://wandb.ai/ed22b051-iit-madras-foundation/RL_PA1_Sweep_PolicyComparison_FixedGamma/runs/4o3hbn7h</a>"
            ]
          },
          "metadata": {}
        },
        {
          "output_type": "stream",
          "name": "stderr",
          "text": [
            "Q-Learning (softmax): 100%|██████████| 1000/1000 [00:03<00:00, 269.99it/s]\n",
            "Q-Learning (softmax): 100%|██████████| 1000/1000 [00:08<00:00, 124.66it/s]\n",
            "Q-Learning (softmax): 100%|██████████| 1000/1000 [00:09<00:00, 108.38it/s]\n"
          ]
        },
        {
          "output_type": "display_data",
          "data": {
            "text/plain": [
              "<IPython.core.display.HTML object>"
            ],
            "text/html": []
          },
          "metadata": {}
        },
        {
          "output_type": "display_data",
          "data": {
            "text/plain": [
              "<IPython.core.display.HTML object>"
            ],
            "text/html": [
              "<br>    <style><br>        .wandb-row {<br>            display: flex;<br>            flex-direction: row;<br>            flex-wrap: wrap;<br>            justify-content: flex-start;<br>            width: 100%;<br>        }<br>        .wandb-col {<br>            display: flex;<br>            flex-direction: column;<br>            flex-basis: 100%;<br>            flex: 1;<br>            padding: 10px;<br>        }<br>    </style><br><div class=\"wandb-row\"><div class=\"wandb-col\"><h3>Run history:</h3><br/><table class=\"wandb\"><tr><td>Q_softmax/reward</td><td>▃▂▁▁▂▁▂▁▁▁▁▁▁▁█▅▁▆▁▇▇▃▂▄▄▃▁▁▃▂▃▅▄▂▅▆▆▅▄▂</td></tr><tr><td>avg_reward</td><td>▁</td></tr><tr><td>episode</td><td>▁▂▂▃▃▄▅▅▅▅▆▆▇██▂▃▃▃▄▆▆▆▆▇█▁▂▂▂▂▃▃▄▅▆▆▆▇█</td></tr></table><br/></div><div class=\"wandb-col\"><h3>Run summary:</h3><br/><table class=\"wandb\"><tr><td>Q_softmax/reward</td><td>15</td></tr><tr><td>avg_reward</td><td>28.8</td></tr><tr><td>episode</td><td>999</td></tr></table><br/></div></div>"
            ]
          },
          "metadata": {}
        },
        {
          "output_type": "display_data",
          "data": {
            "text/plain": [
              "<IPython.core.display.HTML object>"
            ],
            "text/html": [
              " View run <strong style=\"color:#cdcd00\">zany-sweep-4</strong> at: <a href='https://wandb.ai/ed22b051-iit-madras-foundation/RL_PA1_Sweep_PolicyComparison_FixedGamma/runs/4o3hbn7h' target=\"_blank\">https://wandb.ai/ed22b051-iit-madras-foundation/RL_PA1_Sweep_PolicyComparison_FixedGamma/runs/4o3hbn7h</a><br> View project at: <a href='https://wandb.ai/ed22b051-iit-madras-foundation/RL_PA1_Sweep_PolicyComparison_FixedGamma' target=\"_blank\">https://wandb.ai/ed22b051-iit-madras-foundation/RL_PA1_Sweep_PolicyComparison_FixedGamma</a><br>Synced 5 W&B file(s), 0 media file(s), 0 artifact file(s) and 0 other file(s)"
            ]
          },
          "metadata": {}
        },
        {
          "output_type": "display_data",
          "data": {
            "text/plain": [
              "<IPython.core.display.HTML object>"
            ],
            "text/html": [
              "Find logs at: <code>./wandb/run-20250330_114101-4o3hbn7h/logs</code>"
            ]
          },
          "metadata": {}
        },
        {
          "output_type": "stream",
          "name": "stderr",
          "text": [
            "\u001b[34m\u001b[1mwandb\u001b[0m: Agent Starting Run: y5x7p3qh with config:\n",
            "\u001b[34m\u001b[1mwandb\u001b[0m: \talgorithm: q_learning\n",
            "\u001b[34m\u001b[1mwandb\u001b[0m: \talpha: 0.4737559271885352\n",
            "\u001b[34m\u001b[1mwandb\u001b[0m: \tparam_value: 0.24862615181922676\n",
            "\u001b[34m\u001b[1mwandb\u001b[0m: \tpolicy_type: epsilon_greedy\n"
          ]
        },
        {
          "output_type": "display_data",
          "data": {
            "text/plain": [
              "<IPython.core.display.HTML object>"
            ],
            "text/html": [
              "Tracking run with wandb version 0.19.8"
            ]
          },
          "metadata": {}
        },
        {
          "output_type": "display_data",
          "data": {
            "text/plain": [
              "<IPython.core.display.HTML object>"
            ],
            "text/html": [
              "Run data is saved locally in <code>/content/wandb/run-20250330_114126-y5x7p3qh</code>"
            ]
          },
          "metadata": {}
        },
        {
          "output_type": "display_data",
          "data": {
            "text/plain": [
              "<IPython.core.display.HTML object>"
            ],
            "text/html": [
              "Syncing run <strong><a href='https://wandb.ai/ed22b051-iit-madras-foundation/RL_PA1_Sweep_PolicyComparison_FixedGamma/runs/y5x7p3qh' target=\"_blank\">playful-sweep-5</a></strong> to <a href='https://wandb.ai/ed22b051-iit-madras-foundation/RL_PA1_Sweep_PolicyComparison_FixedGamma' target=\"_blank\">Weights & Biases</a> (<a href='https://wandb.me/developer-guide' target=\"_blank\">docs</a>)<br>Sweep page: <a href='https://wandb.ai/ed22b051-iit-madras-foundation/RL_PA1_Sweep_PolicyComparison_FixedGamma/sweeps/vluleyzf' target=\"_blank\">https://wandb.ai/ed22b051-iit-madras-foundation/RL_PA1_Sweep_PolicyComparison_FixedGamma/sweeps/vluleyzf</a>"
            ]
          },
          "metadata": {}
        },
        {
          "output_type": "display_data",
          "data": {
            "text/plain": [
              "<IPython.core.display.HTML object>"
            ],
            "text/html": [
              " View project at <a href='https://wandb.ai/ed22b051-iit-madras-foundation/RL_PA1_Sweep_PolicyComparison_FixedGamma' target=\"_blank\">https://wandb.ai/ed22b051-iit-madras-foundation/RL_PA1_Sweep_PolicyComparison_FixedGamma</a>"
            ]
          },
          "metadata": {}
        },
        {
          "output_type": "display_data",
          "data": {
            "text/plain": [
              "<IPython.core.display.HTML object>"
            ],
            "text/html": [
              " View sweep at <a href='https://wandb.ai/ed22b051-iit-madras-foundation/RL_PA1_Sweep_PolicyComparison_FixedGamma/sweeps/vluleyzf' target=\"_blank\">https://wandb.ai/ed22b051-iit-madras-foundation/RL_PA1_Sweep_PolicyComparison_FixedGamma/sweeps/vluleyzf</a>"
            ]
          },
          "metadata": {}
        },
        {
          "output_type": "display_data",
          "data": {
            "text/plain": [
              "<IPython.core.display.HTML object>"
            ],
            "text/html": [
              " View run at <a href='https://wandb.ai/ed22b051-iit-madras-foundation/RL_PA1_Sweep_PolicyComparison_FixedGamma/runs/y5x7p3qh' target=\"_blank\">https://wandb.ai/ed22b051-iit-madras-foundation/RL_PA1_Sweep_PolicyComparison_FixedGamma/runs/y5x7p3qh</a>"
            ]
          },
          "metadata": {}
        },
        {
          "output_type": "stream",
          "name": "stderr",
          "text": [
            "Q-Learning (epsilon_greedy): 100%|██████████| 1000/1000 [00:16<00:00, 61.23it/s]\n",
            "Q-Learning (epsilon_greedy): 100%|██████████| 1000/1000 [00:15<00:00, 65.71it/s]\n",
            "Q-Learning (epsilon_greedy): 100%|██████████| 1000/1000 [00:17<00:00, 55.76it/s]\n"
          ]
        },
        {
          "output_type": "display_data",
          "data": {
            "text/plain": [
              "<IPython.core.display.HTML object>"
            ],
            "text/html": []
          },
          "metadata": {}
        },
        {
          "output_type": "display_data",
          "data": {
            "text/plain": [
              "<IPython.core.display.HTML object>"
            ],
            "text/html": [
              "<br>    <style><br>        .wandb-row {<br>            display: flex;<br>            flex-direction: row;<br>            flex-wrap: wrap;<br>            justify-content: flex-start;<br>            width: 100%;<br>        }<br>        .wandb-col {<br>            display: flex;<br>            flex-direction: column;<br>            flex-basis: 100%;<br>            flex: 1;<br>            padding: 10px;<br>        }<br>    </style><br><div class=\"wandb-row\"><div class=\"wandb-col\"><h3>Run history:</h3><br/><table class=\"wandb\"><tr><td>Q_epsilon_greedy/reward</td><td>▁▁▁▄▁▄▃▄▅▃▄▄█▂▂▅▂▂▃▃▅▆▄▅▃▄▃▄▆▅▆▃▂▃▅▆▄▃▃▃</td></tr><tr><td>avg_reward</td><td>▁</td></tr><tr><td>episode</td><td>▁▁▂▂▃▃▅▅▅▅▆▆▆▆▆▇▇█▁▂▄▅▅▅▅▇▇██▁▂▃▃▃▄▄▅▆▆▇</td></tr></table><br/></div><div class=\"wandb-col\"><h3>Run summary:</h3><br/><table class=\"wandb\"><tr><td>Q_epsilon_greedy/reward</td><td>74</td></tr><tr><td>avg_reward</td><td>119.53</td></tr><tr><td>episode</td><td>999</td></tr></table><br/></div></div>"
            ]
          },
          "metadata": {}
        },
        {
          "output_type": "display_data",
          "data": {
            "text/plain": [
              "<IPython.core.display.HTML object>"
            ],
            "text/html": [
              " View run <strong style=\"color:#cdcd00\">playful-sweep-5</strong> at: <a href='https://wandb.ai/ed22b051-iit-madras-foundation/RL_PA1_Sweep_PolicyComparison_FixedGamma/runs/y5x7p3qh' target=\"_blank\">https://wandb.ai/ed22b051-iit-madras-foundation/RL_PA1_Sweep_PolicyComparison_FixedGamma/runs/y5x7p3qh</a><br> View project at: <a href='https://wandb.ai/ed22b051-iit-madras-foundation/RL_PA1_Sweep_PolicyComparison_FixedGamma' target=\"_blank\">https://wandb.ai/ed22b051-iit-madras-foundation/RL_PA1_Sweep_PolicyComparison_FixedGamma</a><br>Synced 5 W&B file(s), 0 media file(s), 0 artifact file(s) and 0 other file(s)"
            ]
          },
          "metadata": {}
        },
        {
          "output_type": "display_data",
          "data": {
            "text/plain": [
              "<IPython.core.display.HTML object>"
            ],
            "text/html": [
              "Find logs at: <code>./wandb/run-20250330_114126-y5x7p3qh/logs</code>"
            ]
          },
          "metadata": {}
        },
        {
          "output_type": "stream",
          "name": "stderr",
          "text": [
            "\u001b[34m\u001b[1mwandb\u001b[0m: Agent Starting Run: tpit393k with config:\n",
            "\u001b[34m\u001b[1mwandb\u001b[0m: \talgorithm: q_learning\n",
            "\u001b[34m\u001b[1mwandb\u001b[0m: \talpha: 0.4218662788635139\n",
            "\u001b[34m\u001b[1mwandb\u001b[0m: \tparam_value: 0.2753038293991187\n",
            "\u001b[34m\u001b[1mwandb\u001b[0m: \tpolicy_type: epsilon_greedy\n"
          ]
        },
        {
          "output_type": "display_data",
          "data": {
            "text/plain": [
              "<IPython.core.display.HTML object>"
            ],
            "text/html": [
              "Tracking run with wandb version 0.19.8"
            ]
          },
          "metadata": {}
        },
        {
          "output_type": "display_data",
          "data": {
            "text/plain": [
              "<IPython.core.display.HTML object>"
            ],
            "text/html": [
              "Run data is saved locally in <code>/content/wandb/run-20250330_114222-tpit393k</code>"
            ]
          },
          "metadata": {}
        },
        {
          "output_type": "display_data",
          "data": {
            "text/plain": [
              "<IPython.core.display.HTML object>"
            ],
            "text/html": [
              "Syncing run <strong><a href='https://wandb.ai/ed22b051-iit-madras-foundation/RL_PA1_Sweep_PolicyComparison_FixedGamma/runs/tpit393k' target=\"_blank\">volcanic-sweep-6</a></strong> to <a href='https://wandb.ai/ed22b051-iit-madras-foundation/RL_PA1_Sweep_PolicyComparison_FixedGamma' target=\"_blank\">Weights & Biases</a> (<a href='https://wandb.me/developer-guide' target=\"_blank\">docs</a>)<br>Sweep page: <a href='https://wandb.ai/ed22b051-iit-madras-foundation/RL_PA1_Sweep_PolicyComparison_FixedGamma/sweeps/vluleyzf' target=\"_blank\">https://wandb.ai/ed22b051-iit-madras-foundation/RL_PA1_Sweep_PolicyComparison_FixedGamma/sweeps/vluleyzf</a>"
            ]
          },
          "metadata": {}
        },
        {
          "output_type": "display_data",
          "data": {
            "text/plain": [
              "<IPython.core.display.HTML object>"
            ],
            "text/html": [
              " View project at <a href='https://wandb.ai/ed22b051-iit-madras-foundation/RL_PA1_Sweep_PolicyComparison_FixedGamma' target=\"_blank\">https://wandb.ai/ed22b051-iit-madras-foundation/RL_PA1_Sweep_PolicyComparison_FixedGamma</a>"
            ]
          },
          "metadata": {}
        },
        {
          "output_type": "display_data",
          "data": {
            "text/plain": [
              "<IPython.core.display.HTML object>"
            ],
            "text/html": [
              " View sweep at <a href='https://wandb.ai/ed22b051-iit-madras-foundation/RL_PA1_Sweep_PolicyComparison_FixedGamma/sweeps/vluleyzf' target=\"_blank\">https://wandb.ai/ed22b051-iit-madras-foundation/RL_PA1_Sweep_PolicyComparison_FixedGamma/sweeps/vluleyzf</a>"
            ]
          },
          "metadata": {}
        },
        {
          "output_type": "display_data",
          "data": {
            "text/plain": [
              "<IPython.core.display.HTML object>"
            ],
            "text/html": [
              " View run at <a href='https://wandb.ai/ed22b051-iit-madras-foundation/RL_PA1_Sweep_PolicyComparison_FixedGamma/runs/tpit393k' target=\"_blank\">https://wandb.ai/ed22b051-iit-madras-foundation/RL_PA1_Sweep_PolicyComparison_FixedGamma/runs/tpit393k</a>"
            ]
          },
          "metadata": {}
        },
        {
          "output_type": "stream",
          "name": "stderr",
          "text": [
            "Q-Learning (epsilon_greedy): 100%|██████████| 1000/1000 [00:16<00:00, 60.22it/s]\n",
            "Q-Learning (epsilon_greedy): 100%|██████████| 1000/1000 [00:15<00:00, 65.13it/s]\n",
            "Q-Learning (epsilon_greedy): 100%|██████████| 1000/1000 [00:16<00:00, 58.96it/s]\n"
          ]
        },
        {
          "output_type": "display_data",
          "data": {
            "text/plain": [
              "<IPython.core.display.HTML object>"
            ],
            "text/html": []
          },
          "metadata": {}
        },
        {
          "output_type": "display_data",
          "data": {
            "text/plain": [
              "<IPython.core.display.HTML object>"
            ],
            "text/html": [
              "<br>    <style><br>        .wandb-row {<br>            display: flex;<br>            flex-direction: row;<br>            flex-wrap: wrap;<br>            justify-content: flex-start;<br>            width: 100%;<br>        }<br>        .wandb-col {<br>            display: flex;<br>            flex-direction: column;<br>            flex-basis: 100%;<br>            flex: 1;<br>            padding: 10px;<br>        }<br>    </style><br><div class=\"wandb-row\"><div class=\"wandb-col\"><h3>Run history:</h3><br/><table class=\"wandb\"><tr><td>Q_epsilon_greedy/reward</td><td>▂▅▃▄▃▂▃▅▅▆█▃▆▁▅▃▄▃▃▄▂▅▆▃▇▇▁▁▂▁▇▄▇▇▅▃█▄▇▄</td></tr><tr><td>avg_reward</td><td>▁</td></tr><tr><td>episode</td><td>▁▂▂▃▃▄▄▄▄▅▅▅▆▆▆███▁▁▃▃▃▃▃▄▅▅▅▆▆▇▇█▂▄▅▅▅█</td></tr></table><br/></div><div class=\"wandb-col\"><h3>Run summary:</h3><br/><table class=\"wandb\"><tr><td>Q_epsilon_greedy/reward</td><td>200</td></tr><tr><td>avg_reward</td><td>113.65667</td></tr><tr><td>episode</td><td>999</td></tr></table><br/></div></div>"
            ]
          },
          "metadata": {}
        },
        {
          "output_type": "display_data",
          "data": {
            "text/plain": [
              "<IPython.core.display.HTML object>"
            ],
            "text/html": [
              " View run <strong style=\"color:#cdcd00\">volcanic-sweep-6</strong> at: <a href='https://wandb.ai/ed22b051-iit-madras-foundation/RL_PA1_Sweep_PolicyComparison_FixedGamma/runs/tpit393k' target=\"_blank\">https://wandb.ai/ed22b051-iit-madras-foundation/RL_PA1_Sweep_PolicyComparison_FixedGamma/runs/tpit393k</a><br> View project at: <a href='https://wandb.ai/ed22b051-iit-madras-foundation/RL_PA1_Sweep_PolicyComparison_FixedGamma' target=\"_blank\">https://wandb.ai/ed22b051-iit-madras-foundation/RL_PA1_Sweep_PolicyComparison_FixedGamma</a><br>Synced 5 W&B file(s), 0 media file(s), 0 artifact file(s) and 0 other file(s)"
            ]
          },
          "metadata": {}
        },
        {
          "output_type": "display_data",
          "data": {
            "text/plain": [
              "<IPython.core.display.HTML object>"
            ],
            "text/html": [
              "Find logs at: <code>./wandb/run-20250330_114222-tpit393k/logs</code>"
            ]
          },
          "metadata": {}
        },
        {
          "output_type": "stream",
          "name": "stderr",
          "text": [
            "\u001b[34m\u001b[1mwandb\u001b[0m: Agent Starting Run: xwgbcbn8 with config:\n",
            "\u001b[34m\u001b[1mwandb\u001b[0m: \talgorithm: q_learning\n",
            "\u001b[34m\u001b[1mwandb\u001b[0m: \talpha: 0.3957897486570775\n",
            "\u001b[34m\u001b[1mwandb\u001b[0m: \tparam_value: 0.20248860478766503\n",
            "\u001b[34m\u001b[1mwandb\u001b[0m: \tpolicy_type: epsilon_greedy\n"
          ]
        },
        {
          "output_type": "display_data",
          "data": {
            "text/plain": [
              "<IPython.core.display.HTML object>"
            ],
            "text/html": [
              "Tracking run with wandb version 0.19.8"
            ]
          },
          "metadata": {}
        },
        {
          "output_type": "display_data",
          "data": {
            "text/plain": [
              "<IPython.core.display.HTML object>"
            ],
            "text/html": [
              "Run data is saved locally in <code>/content/wandb/run-20250330_114319-xwgbcbn8</code>"
            ]
          },
          "metadata": {}
        },
        {
          "output_type": "display_data",
          "data": {
            "text/plain": [
              "<IPython.core.display.HTML object>"
            ],
            "text/html": [
              "Syncing run <strong><a href='https://wandb.ai/ed22b051-iit-madras-foundation/RL_PA1_Sweep_PolicyComparison_FixedGamma/runs/xwgbcbn8' target=\"_blank\">eager-sweep-7</a></strong> to <a href='https://wandb.ai/ed22b051-iit-madras-foundation/RL_PA1_Sweep_PolicyComparison_FixedGamma' target=\"_blank\">Weights & Biases</a> (<a href='https://wandb.me/developer-guide' target=\"_blank\">docs</a>)<br>Sweep page: <a href='https://wandb.ai/ed22b051-iit-madras-foundation/RL_PA1_Sweep_PolicyComparison_FixedGamma/sweeps/vluleyzf' target=\"_blank\">https://wandb.ai/ed22b051-iit-madras-foundation/RL_PA1_Sweep_PolicyComparison_FixedGamma/sweeps/vluleyzf</a>"
            ]
          },
          "metadata": {}
        },
        {
          "output_type": "display_data",
          "data": {
            "text/plain": [
              "<IPython.core.display.HTML object>"
            ],
            "text/html": [
              " View project at <a href='https://wandb.ai/ed22b051-iit-madras-foundation/RL_PA1_Sweep_PolicyComparison_FixedGamma' target=\"_blank\">https://wandb.ai/ed22b051-iit-madras-foundation/RL_PA1_Sweep_PolicyComparison_FixedGamma</a>"
            ]
          },
          "metadata": {}
        },
        {
          "output_type": "display_data",
          "data": {
            "text/plain": [
              "<IPython.core.display.HTML object>"
            ],
            "text/html": [
              " View sweep at <a href='https://wandb.ai/ed22b051-iit-madras-foundation/RL_PA1_Sweep_PolicyComparison_FixedGamma/sweeps/vluleyzf' target=\"_blank\">https://wandb.ai/ed22b051-iit-madras-foundation/RL_PA1_Sweep_PolicyComparison_FixedGamma/sweeps/vluleyzf</a>"
            ]
          },
          "metadata": {}
        },
        {
          "output_type": "display_data",
          "data": {
            "text/plain": [
              "<IPython.core.display.HTML object>"
            ],
            "text/html": [
              " View run at <a href='https://wandb.ai/ed22b051-iit-madras-foundation/RL_PA1_Sweep_PolicyComparison_FixedGamma/runs/xwgbcbn8' target=\"_blank\">https://wandb.ai/ed22b051-iit-madras-foundation/RL_PA1_Sweep_PolicyComparison_FixedGamma/runs/xwgbcbn8</a>"
            ]
          },
          "metadata": {}
        },
        {
          "output_type": "stream",
          "name": "stderr",
          "text": [
            "Q-Learning (epsilon_greedy): 100%|██████████| 1000/1000 [00:13<00:00, 74.61it/s]\n",
            "Q-Learning (epsilon_greedy): 100%|██████████| 1000/1000 [00:16<00:00, 61.08it/s]\n",
            "Q-Learning (epsilon_greedy): 100%|██████████| 1000/1000 [00:17<00:00, 58.47it/s]\n"
          ]
        },
        {
          "output_type": "display_data",
          "data": {
            "text/plain": [
              "<IPython.core.display.HTML object>"
            ],
            "text/html": []
          },
          "metadata": {}
        },
        {
          "output_type": "display_data",
          "data": {
            "text/plain": [
              "<IPython.core.display.HTML object>"
            ],
            "text/html": [
              "<br>    <style><br>        .wandb-row {<br>            display: flex;<br>            flex-direction: row;<br>            flex-wrap: wrap;<br>            justify-content: flex-start;<br>            width: 100%;<br>        }<br>        .wandb-col {<br>            display: flex;<br>            flex-direction: column;<br>            flex-basis: 100%;<br>            flex: 1;<br>            padding: 10px;<br>        }<br>    </style><br><div class=\"wandb-row\"><div class=\"wandb-col\"><h3>Run history:</h3><br/><table class=\"wandb\"><tr><td>Q_epsilon_greedy/reward</td><td>▁▁▁▁▂▂▃▂▂▁▁▁▁▁▂▃▃▁▃▂▄▁▄▂▃▆▁▁▃█▃▃▃▃▃▃▂▂▂▂</td></tr><tr><td>avg_reward</td><td>▁</td></tr><tr><td>episode</td><td>▂▂▃▃▅▇█▁▁▁▂▂▃▃▃▄▄▅▆▇▇▇██▁▁▁▁▂▂▃▃▃▄▄▆▆▇██</td></tr></table><br/></div><div class=\"wandb-col\"><h3>Run summary:</h3><br/><table class=\"wandb\"><tr><td>Q_epsilon_greedy/reward</td><td>206</td></tr><tr><td>avg_reward</td><td>117.30333</td></tr><tr><td>episode</td><td>999</td></tr></table><br/></div></div>"
            ]
          },
          "metadata": {}
        },
        {
          "output_type": "display_data",
          "data": {
            "text/plain": [
              "<IPython.core.display.HTML object>"
            ],
            "text/html": [
              " View run <strong style=\"color:#cdcd00\">eager-sweep-7</strong> at: <a href='https://wandb.ai/ed22b051-iit-madras-foundation/RL_PA1_Sweep_PolicyComparison_FixedGamma/runs/xwgbcbn8' target=\"_blank\">https://wandb.ai/ed22b051-iit-madras-foundation/RL_PA1_Sweep_PolicyComparison_FixedGamma/runs/xwgbcbn8</a><br> View project at: <a href='https://wandb.ai/ed22b051-iit-madras-foundation/RL_PA1_Sweep_PolicyComparison_FixedGamma' target=\"_blank\">https://wandb.ai/ed22b051-iit-madras-foundation/RL_PA1_Sweep_PolicyComparison_FixedGamma</a><br>Synced 5 W&B file(s), 0 media file(s), 0 artifact file(s) and 0 other file(s)"
            ]
          },
          "metadata": {}
        },
        {
          "output_type": "display_data",
          "data": {
            "text/plain": [
              "<IPython.core.display.HTML object>"
            ],
            "text/html": [
              "Find logs at: <code>./wandb/run-20250330_114319-xwgbcbn8/logs</code>"
            ]
          },
          "metadata": {}
        },
        {
          "output_type": "stream",
          "name": "stderr",
          "text": [
            "\u001b[34m\u001b[1mwandb\u001b[0m: Agent Starting Run: tekvufqr with config:\n",
            "\u001b[34m\u001b[1mwandb\u001b[0m: \talgorithm: q_learning\n",
            "\u001b[34m\u001b[1mwandb\u001b[0m: \talpha: 0.44405905856991057\n",
            "\u001b[34m\u001b[1mwandb\u001b[0m: \tparam_value: 0.20183429259637292\n",
            "\u001b[34m\u001b[1mwandb\u001b[0m: \tpolicy_type: epsilon_greedy\n"
          ]
        },
        {
          "output_type": "display_data",
          "data": {
            "text/plain": [
              "<IPython.core.display.HTML object>"
            ],
            "text/html": [
              "Tracking run with wandb version 0.19.8"
            ]
          },
          "metadata": {}
        },
        {
          "output_type": "display_data",
          "data": {
            "text/plain": [
              "<IPython.core.display.HTML object>"
            ],
            "text/html": [
              "Run data is saved locally in <code>/content/wandb/run-20250330_114410-tekvufqr</code>"
            ]
          },
          "metadata": {}
        },
        {
          "output_type": "display_data",
          "data": {
            "text/plain": [
              "<IPython.core.display.HTML object>"
            ],
            "text/html": [
              "Syncing run <strong><a href='https://wandb.ai/ed22b051-iit-madras-foundation/RL_PA1_Sweep_PolicyComparison_FixedGamma/runs/tekvufqr' target=\"_blank\">dazzling-sweep-8</a></strong> to <a href='https://wandb.ai/ed22b051-iit-madras-foundation/RL_PA1_Sweep_PolicyComparison_FixedGamma' target=\"_blank\">Weights & Biases</a> (<a href='https://wandb.me/developer-guide' target=\"_blank\">docs</a>)<br>Sweep page: <a href='https://wandb.ai/ed22b051-iit-madras-foundation/RL_PA1_Sweep_PolicyComparison_FixedGamma/sweeps/vluleyzf' target=\"_blank\">https://wandb.ai/ed22b051-iit-madras-foundation/RL_PA1_Sweep_PolicyComparison_FixedGamma/sweeps/vluleyzf</a>"
            ]
          },
          "metadata": {}
        },
        {
          "output_type": "display_data",
          "data": {
            "text/plain": [
              "<IPython.core.display.HTML object>"
            ],
            "text/html": [
              " View project at <a href='https://wandb.ai/ed22b051-iit-madras-foundation/RL_PA1_Sweep_PolicyComparison_FixedGamma' target=\"_blank\">https://wandb.ai/ed22b051-iit-madras-foundation/RL_PA1_Sweep_PolicyComparison_FixedGamma</a>"
            ]
          },
          "metadata": {}
        },
        {
          "output_type": "display_data",
          "data": {
            "text/plain": [
              "<IPython.core.display.HTML object>"
            ],
            "text/html": [
              " View sweep at <a href='https://wandb.ai/ed22b051-iit-madras-foundation/RL_PA1_Sweep_PolicyComparison_FixedGamma/sweeps/vluleyzf' target=\"_blank\">https://wandb.ai/ed22b051-iit-madras-foundation/RL_PA1_Sweep_PolicyComparison_FixedGamma/sweeps/vluleyzf</a>"
            ]
          },
          "metadata": {}
        },
        {
          "output_type": "display_data",
          "data": {
            "text/plain": [
              "<IPython.core.display.HTML object>"
            ],
            "text/html": [
              " View run at <a href='https://wandb.ai/ed22b051-iit-madras-foundation/RL_PA1_Sweep_PolicyComparison_FixedGamma/runs/tekvufqr' target=\"_blank\">https://wandb.ai/ed22b051-iit-madras-foundation/RL_PA1_Sweep_PolicyComparison_FixedGamma/runs/tekvufqr</a>"
            ]
          },
          "metadata": {}
        },
        {
          "output_type": "stream",
          "name": "stderr",
          "text": [
            "Q-Learning (epsilon_greedy): 100%|██████████| 1000/1000 [00:17<00:00, 58.52it/s]\n",
            "Q-Learning (epsilon_greedy): 100%|██████████| 1000/1000 [00:14<00:00, 67.96it/s]\n",
            "Q-Learning (epsilon_greedy): 100%|██████████| 1000/1000 [00:16<00:00, 61.14it/s]\n"
          ]
        },
        {
          "output_type": "display_data",
          "data": {
            "text/plain": [
              "<IPython.core.display.HTML object>"
            ],
            "text/html": []
          },
          "metadata": {}
        },
        {
          "output_type": "display_data",
          "data": {
            "text/plain": [
              "<IPython.core.display.HTML object>"
            ],
            "text/html": [
              "<br>    <style><br>        .wandb-row {<br>            display: flex;<br>            flex-direction: row;<br>            flex-wrap: wrap;<br>            justify-content: flex-start;<br>            width: 100%;<br>        }<br>        .wandb-col {<br>            display: flex;<br>            flex-direction: column;<br>            flex-basis: 100%;<br>            flex: 1;<br>            padding: 10px;<br>        }<br>    </style><br><div class=\"wandb-row\"><div class=\"wandb-col\"><h3>Run history:</h3><br/><table class=\"wandb\"><tr><td>Q_epsilon_greedy/reward</td><td>▁▂▁▄▆▂▃▄▂▃▃▁▁▁▃▄▂▃▆▃▃▁▁▁▁▂▂▃▂▄▃▃▂█▃▆▂▃█▅</td></tr><tr><td>avg_reward</td><td>▁</td></tr><tr><td>episode</td><td>▁▂▃▃▄▅▅▆▇▇▇█▁▁▃▄▄▅▅▅▅▆▇▇▇██▁▂▂▃▄▄▅▅▅▆▇██</td></tr></table><br/></div><div class=\"wandb-col\"><h3>Run summary:</h3><br/><table class=\"wandb\"><tr><td>Q_epsilon_greedy/reward</td><td>118</td></tr><tr><td>avg_reward</td><td>117.27</td></tr><tr><td>episode</td><td>999</td></tr></table><br/></div></div>"
            ]
          },
          "metadata": {}
        },
        {
          "output_type": "display_data",
          "data": {
            "text/plain": [
              "<IPython.core.display.HTML object>"
            ],
            "text/html": [
              " View run <strong style=\"color:#cdcd00\">dazzling-sweep-8</strong> at: <a href='https://wandb.ai/ed22b051-iit-madras-foundation/RL_PA1_Sweep_PolicyComparison_FixedGamma/runs/tekvufqr' target=\"_blank\">https://wandb.ai/ed22b051-iit-madras-foundation/RL_PA1_Sweep_PolicyComparison_FixedGamma/runs/tekvufqr</a><br> View project at: <a href='https://wandb.ai/ed22b051-iit-madras-foundation/RL_PA1_Sweep_PolicyComparison_FixedGamma' target=\"_blank\">https://wandb.ai/ed22b051-iit-madras-foundation/RL_PA1_Sweep_PolicyComparison_FixedGamma</a><br>Synced 5 W&B file(s), 0 media file(s), 0 artifact file(s) and 0 other file(s)"
            ]
          },
          "metadata": {}
        },
        {
          "output_type": "display_data",
          "data": {
            "text/plain": [
              "<IPython.core.display.HTML object>"
            ],
            "text/html": [
              "Find logs at: <code>./wandb/run-20250330_114410-tekvufqr/logs</code>"
            ]
          },
          "metadata": {}
        },
        {
          "output_type": "stream",
          "name": "stderr",
          "text": [
            "\u001b[34m\u001b[1mwandb\u001b[0m: Agent Starting Run: 86obshap with config:\n",
            "\u001b[34m\u001b[1mwandb\u001b[0m: \talgorithm: q_learning\n",
            "\u001b[34m\u001b[1mwandb\u001b[0m: \talpha: 0.4746376198310135\n",
            "\u001b[34m\u001b[1mwandb\u001b[0m: \tparam_value: 0.2266923051979476\n",
            "\u001b[34m\u001b[1mwandb\u001b[0m: \tpolicy_type: epsilon_greedy\n"
          ]
        },
        {
          "output_type": "display_data",
          "data": {
            "text/plain": [
              "<IPython.core.display.HTML object>"
            ],
            "text/html": [
              "Tracking run with wandb version 0.19.8"
            ]
          },
          "metadata": {}
        },
        {
          "output_type": "display_data",
          "data": {
            "text/plain": [
              "<IPython.core.display.HTML object>"
            ],
            "text/html": [
              "Run data is saved locally in <code>/content/wandb/run-20250330_114501-86obshap</code>"
            ]
          },
          "metadata": {}
        },
        {
          "output_type": "display_data",
          "data": {
            "text/plain": [
              "<IPython.core.display.HTML object>"
            ],
            "text/html": [
              "Syncing run <strong><a href='https://wandb.ai/ed22b051-iit-madras-foundation/RL_PA1_Sweep_PolicyComparison_FixedGamma/runs/86obshap' target=\"_blank\">upbeat-sweep-9</a></strong> to <a href='https://wandb.ai/ed22b051-iit-madras-foundation/RL_PA1_Sweep_PolicyComparison_FixedGamma' target=\"_blank\">Weights & Biases</a> (<a href='https://wandb.me/developer-guide' target=\"_blank\">docs</a>)<br>Sweep page: <a href='https://wandb.ai/ed22b051-iit-madras-foundation/RL_PA1_Sweep_PolicyComparison_FixedGamma/sweeps/vluleyzf' target=\"_blank\">https://wandb.ai/ed22b051-iit-madras-foundation/RL_PA1_Sweep_PolicyComparison_FixedGamma/sweeps/vluleyzf</a>"
            ]
          },
          "metadata": {}
        },
        {
          "output_type": "display_data",
          "data": {
            "text/plain": [
              "<IPython.core.display.HTML object>"
            ],
            "text/html": [
              " View project at <a href='https://wandb.ai/ed22b051-iit-madras-foundation/RL_PA1_Sweep_PolicyComparison_FixedGamma' target=\"_blank\">https://wandb.ai/ed22b051-iit-madras-foundation/RL_PA1_Sweep_PolicyComparison_FixedGamma</a>"
            ]
          },
          "metadata": {}
        },
        {
          "output_type": "display_data",
          "data": {
            "text/plain": [
              "<IPython.core.display.HTML object>"
            ],
            "text/html": [
              " View sweep at <a href='https://wandb.ai/ed22b051-iit-madras-foundation/RL_PA1_Sweep_PolicyComparison_FixedGamma/sweeps/vluleyzf' target=\"_blank\">https://wandb.ai/ed22b051-iit-madras-foundation/RL_PA1_Sweep_PolicyComparison_FixedGamma/sweeps/vluleyzf</a>"
            ]
          },
          "metadata": {}
        },
        {
          "output_type": "display_data",
          "data": {
            "text/plain": [
              "<IPython.core.display.HTML object>"
            ],
            "text/html": [
              " View run at <a href='https://wandb.ai/ed22b051-iit-madras-foundation/RL_PA1_Sweep_PolicyComparison_FixedGamma/runs/86obshap' target=\"_blank\">https://wandb.ai/ed22b051-iit-madras-foundation/RL_PA1_Sweep_PolicyComparison_FixedGamma/runs/86obshap</a>"
            ]
          },
          "metadata": {}
        },
        {
          "output_type": "stream",
          "name": "stderr",
          "text": [
            "Q-Learning (epsilon_greedy): 100%|██████████| 1000/1000 [00:16<00:00, 59.26it/s]\n",
            "Q-Learning (epsilon_greedy): 100%|██████████| 1000/1000 [00:15<00:00, 65.63it/s]\n",
            "Q-Learning (epsilon_greedy): 100%|██████████| 1000/1000 [00:15<00:00, 63.38it/s]\n"
          ]
        },
        {
          "output_type": "display_data",
          "data": {
            "text/plain": [
              "<IPython.core.display.HTML object>"
            ],
            "text/html": []
          },
          "metadata": {}
        },
        {
          "output_type": "display_data",
          "data": {
            "text/plain": [
              "<IPython.core.display.HTML object>"
            ],
            "text/html": [
              "<br>    <style><br>        .wandb-row {<br>            display: flex;<br>            flex-direction: row;<br>            flex-wrap: wrap;<br>            justify-content: flex-start;<br>            width: 100%;<br>        }<br>        .wandb-col {<br>            display: flex;<br>            flex-direction: column;<br>            flex-basis: 100%;<br>            flex: 1;<br>            padding: 10px;<br>        }<br>    </style><br><div class=\"wandb-row\"><div class=\"wandb-col\"><h3>Run history:</h3><br/><table class=\"wandb\"><tr><td>Q_epsilon_greedy/reward</td><td>▁▄▃▃▂▆▃▃▂▄▃▃▃▃▂▃█▃▁▂▁▂▄▃▁▂▃▅▄▃▂▁▂▄▃▃▃▃▃▅</td></tr><tr><td>avg_reward</td><td>▁</td></tr><tr><td>episode</td><td>▁▁▂▃▃▅▅▆▇▇██▁▁▂▃▃▃▄▅▆▆▆▇▇▇▇█▂▂▃▃▄▄▅▆▆▆▇▇</td></tr></table><br/></div><div class=\"wandb-col\"><h3>Run summary:</h3><br/><table class=\"wandb\"><tr><td>Q_epsilon_greedy/reward</td><td>94</td></tr><tr><td>avg_reward</td><td>110.21</td></tr><tr><td>episode</td><td>999</td></tr></table><br/></div></div>"
            ]
          },
          "metadata": {}
        },
        {
          "output_type": "display_data",
          "data": {
            "text/plain": [
              "<IPython.core.display.HTML object>"
            ],
            "text/html": [
              " View run <strong style=\"color:#cdcd00\">upbeat-sweep-9</strong> at: <a href='https://wandb.ai/ed22b051-iit-madras-foundation/RL_PA1_Sweep_PolicyComparison_FixedGamma/runs/86obshap' target=\"_blank\">https://wandb.ai/ed22b051-iit-madras-foundation/RL_PA1_Sweep_PolicyComparison_FixedGamma/runs/86obshap</a><br> View project at: <a href='https://wandb.ai/ed22b051-iit-madras-foundation/RL_PA1_Sweep_PolicyComparison_FixedGamma' target=\"_blank\">https://wandb.ai/ed22b051-iit-madras-foundation/RL_PA1_Sweep_PolicyComparison_FixedGamma</a><br>Synced 5 W&B file(s), 0 media file(s), 0 artifact file(s) and 0 other file(s)"
            ]
          },
          "metadata": {}
        },
        {
          "output_type": "display_data",
          "data": {
            "text/plain": [
              "<IPython.core.display.HTML object>"
            ],
            "text/html": [
              "Find logs at: <code>./wandb/run-20250330_114501-86obshap/logs</code>"
            ]
          },
          "metadata": {}
        },
        {
          "output_type": "stream",
          "name": "stderr",
          "text": [
            "\u001b[34m\u001b[1mwandb\u001b[0m: Sweep Agent: Waiting for job.\n",
            "\u001b[34m\u001b[1mwandb\u001b[0m: Job received.\n",
            "\u001b[34m\u001b[1mwandb\u001b[0m: Agent Starting Run: s2ovohuc with config:\n",
            "\u001b[34m\u001b[1mwandb\u001b[0m: \talgorithm: q_learning\n",
            "\u001b[34m\u001b[1mwandb\u001b[0m: \talpha: 0.43968229675214665\n",
            "\u001b[34m\u001b[1mwandb\u001b[0m: \tparam_value: 0.20119811207983307\n",
            "\u001b[34m\u001b[1mwandb\u001b[0m: \tpolicy_type: epsilon_greedy\n"
          ]
        },
        {
          "output_type": "display_data",
          "data": {
            "text/plain": [
              "<IPython.core.display.HTML object>"
            ],
            "text/html": [
              "Tracking run with wandb version 0.19.8"
            ]
          },
          "metadata": {}
        },
        {
          "output_type": "display_data",
          "data": {
            "text/plain": [
              "<IPython.core.display.HTML object>"
            ],
            "text/html": [
              "Run data is saved locally in <code>/content/wandb/run-20250330_114602-s2ovohuc</code>"
            ]
          },
          "metadata": {}
        },
        {
          "output_type": "display_data",
          "data": {
            "text/plain": [
              "<IPython.core.display.HTML object>"
            ],
            "text/html": [
              "Syncing run <strong><a href='https://wandb.ai/ed22b051-iit-madras-foundation/RL_PA1_Sweep_PolicyComparison_FixedGamma/runs/s2ovohuc' target=\"_blank\">youthful-sweep-10</a></strong> to <a href='https://wandb.ai/ed22b051-iit-madras-foundation/RL_PA1_Sweep_PolicyComparison_FixedGamma' target=\"_blank\">Weights & Biases</a> (<a href='https://wandb.me/developer-guide' target=\"_blank\">docs</a>)<br>Sweep page: <a href='https://wandb.ai/ed22b051-iit-madras-foundation/RL_PA1_Sweep_PolicyComparison_FixedGamma/sweeps/vluleyzf' target=\"_blank\">https://wandb.ai/ed22b051-iit-madras-foundation/RL_PA1_Sweep_PolicyComparison_FixedGamma/sweeps/vluleyzf</a>"
            ]
          },
          "metadata": {}
        },
        {
          "output_type": "display_data",
          "data": {
            "text/plain": [
              "<IPython.core.display.HTML object>"
            ],
            "text/html": [
              " View project at <a href='https://wandb.ai/ed22b051-iit-madras-foundation/RL_PA1_Sweep_PolicyComparison_FixedGamma' target=\"_blank\">https://wandb.ai/ed22b051-iit-madras-foundation/RL_PA1_Sweep_PolicyComparison_FixedGamma</a>"
            ]
          },
          "metadata": {}
        },
        {
          "output_type": "display_data",
          "data": {
            "text/plain": [
              "<IPython.core.display.HTML object>"
            ],
            "text/html": [
              " View sweep at <a href='https://wandb.ai/ed22b051-iit-madras-foundation/RL_PA1_Sweep_PolicyComparison_FixedGamma/sweeps/vluleyzf' target=\"_blank\">https://wandb.ai/ed22b051-iit-madras-foundation/RL_PA1_Sweep_PolicyComparison_FixedGamma/sweeps/vluleyzf</a>"
            ]
          },
          "metadata": {}
        },
        {
          "output_type": "display_data",
          "data": {
            "text/plain": [
              "<IPython.core.display.HTML object>"
            ],
            "text/html": [
              " View run at <a href='https://wandb.ai/ed22b051-iit-madras-foundation/RL_PA1_Sweep_PolicyComparison_FixedGamma/runs/s2ovohuc' target=\"_blank\">https://wandb.ai/ed22b051-iit-madras-foundation/RL_PA1_Sweep_PolicyComparison_FixedGamma/runs/s2ovohuc</a>"
            ]
          },
          "metadata": {}
        },
        {
          "output_type": "stream",
          "name": "stderr",
          "text": [
            "Q-Learning (epsilon_greedy): 100%|██████████| 1000/1000 [00:13<00:00, 73.32it/s]\n",
            "Q-Learning (epsilon_greedy): 100%|██████████| 1000/1000 [00:17<00:00, 55.83it/s]\n",
            "Q-Learning (epsilon_greedy): 100%|██████████| 1000/1000 [00:16<00:00, 60.42it/s]\n"
          ]
        },
        {
          "output_type": "display_data",
          "data": {
            "text/plain": [
              "<IPython.core.display.HTML object>"
            ],
            "text/html": []
          },
          "metadata": {}
        },
        {
          "output_type": "display_data",
          "data": {
            "text/plain": [
              "<IPython.core.display.HTML object>"
            ],
            "text/html": [
              "<br>    <style><br>        .wandb-row {<br>            display: flex;<br>            flex-direction: row;<br>            flex-wrap: wrap;<br>            justify-content: flex-start;<br>            width: 100%;<br>        }<br>        .wandb-col {<br>            display: flex;<br>            flex-direction: column;<br>            flex-basis: 100%;<br>            flex: 1;<br>            padding: 10px;<br>        }<br>    </style><br><div class=\"wandb-row\"><div class=\"wandb-col\"><h3>Run history:</h3><br/><table class=\"wandb\"><tr><td>Q_epsilon_greedy/reward</td><td>▁▁▂▂▃▂▂▅▂▂▃▆▃▃▃▅▂▅▆▄▄▇▂▁▃▅▃▆▆▄█▆▄▅▄▅▂▄▃▃</td></tr><tr><td>avg_reward</td><td>▁</td></tr><tr><td>episode</td><td>▁▂▂▂▃▄▅▆▆▆▇▇██▁▃▃▅▆▆█▁▂▂▂▂▂▃▃▃▄▄▄▄▅▅▅▆▆█</td></tr></table><br/></div><div class=\"wandb-col\"><h3>Run summary:</h3><br/><table class=\"wandb\"><tr><td>Q_epsilon_greedy/reward</td><td>126</td></tr><tr><td>avg_reward</td><td>117.11333</td></tr><tr><td>episode</td><td>999</td></tr></table><br/></div></div>"
            ]
          },
          "metadata": {}
        },
        {
          "output_type": "display_data",
          "data": {
            "text/plain": [
              "<IPython.core.display.HTML object>"
            ],
            "text/html": [
              " View run <strong style=\"color:#cdcd00\">youthful-sweep-10</strong> at: <a href='https://wandb.ai/ed22b051-iit-madras-foundation/RL_PA1_Sweep_PolicyComparison_FixedGamma/runs/s2ovohuc' target=\"_blank\">https://wandb.ai/ed22b051-iit-madras-foundation/RL_PA1_Sweep_PolicyComparison_FixedGamma/runs/s2ovohuc</a><br> View project at: <a href='https://wandb.ai/ed22b051-iit-madras-foundation/RL_PA1_Sweep_PolicyComparison_FixedGamma' target=\"_blank\">https://wandb.ai/ed22b051-iit-madras-foundation/RL_PA1_Sweep_PolicyComparison_FixedGamma</a><br>Synced 5 W&B file(s), 0 media file(s), 0 artifact file(s) and 0 other file(s)"
            ]
          },
          "metadata": {}
        },
        {
          "output_type": "display_data",
          "data": {
            "text/plain": [
              "<IPython.core.display.HTML object>"
            ],
            "text/html": [
              "Find logs at: <code>./wandb/run-20250330_114602-s2ovohuc/logs</code>"
            ]
          },
          "metadata": {}
        },
        {
          "output_type": "stream",
          "name": "stderr",
          "text": [
            "\u001b[34m\u001b[1mwandb\u001b[0m: Sweep Agent: Waiting for job.\n",
            "\u001b[34m\u001b[1mwandb\u001b[0m: Job received.\n",
            "\u001b[34m\u001b[1mwandb\u001b[0m: Agent Starting Run: 3s0ub4c6 with config:\n",
            "\u001b[34m\u001b[1mwandb\u001b[0m: \talgorithm: q_learning\n",
            "\u001b[34m\u001b[1mwandb\u001b[0m: \talpha: 0.32846686617217047\n",
            "\u001b[34m\u001b[1mwandb\u001b[0m: \tparam_value: 0.23957218009944287\n",
            "\u001b[34m\u001b[1mwandb\u001b[0m: \tpolicy_type: epsilon_greedy\n"
          ]
        },
        {
          "output_type": "display_data",
          "data": {
            "text/plain": [
              "<IPython.core.display.HTML object>"
            ],
            "text/html": [
              "Tracking run with wandb version 0.19.8"
            ]
          },
          "metadata": {}
        },
        {
          "output_type": "display_data",
          "data": {
            "text/plain": [
              "<IPython.core.display.HTML object>"
            ],
            "text/html": [
              "Run data is saved locally in <code>/content/wandb/run-20250330_114703-3s0ub4c6</code>"
            ]
          },
          "metadata": {}
        },
        {
          "output_type": "display_data",
          "data": {
            "text/plain": [
              "<IPython.core.display.HTML object>"
            ],
            "text/html": [
              "Syncing run <strong><a href='https://wandb.ai/ed22b051-iit-madras-foundation/RL_PA1_Sweep_PolicyComparison_FixedGamma/runs/3s0ub4c6' target=\"_blank\">lively-sweep-11</a></strong> to <a href='https://wandb.ai/ed22b051-iit-madras-foundation/RL_PA1_Sweep_PolicyComparison_FixedGamma' target=\"_blank\">Weights & Biases</a> (<a href='https://wandb.me/developer-guide' target=\"_blank\">docs</a>)<br>Sweep page: <a href='https://wandb.ai/ed22b051-iit-madras-foundation/RL_PA1_Sweep_PolicyComparison_FixedGamma/sweeps/vluleyzf' target=\"_blank\">https://wandb.ai/ed22b051-iit-madras-foundation/RL_PA1_Sweep_PolicyComparison_FixedGamma/sweeps/vluleyzf</a>"
            ]
          },
          "metadata": {}
        },
        {
          "output_type": "display_data",
          "data": {
            "text/plain": [
              "<IPython.core.display.HTML object>"
            ],
            "text/html": [
              " View project at <a href='https://wandb.ai/ed22b051-iit-madras-foundation/RL_PA1_Sweep_PolicyComparison_FixedGamma' target=\"_blank\">https://wandb.ai/ed22b051-iit-madras-foundation/RL_PA1_Sweep_PolicyComparison_FixedGamma</a>"
            ]
          },
          "metadata": {}
        },
        {
          "output_type": "display_data",
          "data": {
            "text/plain": [
              "<IPython.core.display.HTML object>"
            ],
            "text/html": [
              " View sweep at <a href='https://wandb.ai/ed22b051-iit-madras-foundation/RL_PA1_Sweep_PolicyComparison_FixedGamma/sweeps/vluleyzf' target=\"_blank\">https://wandb.ai/ed22b051-iit-madras-foundation/RL_PA1_Sweep_PolicyComparison_FixedGamma/sweeps/vluleyzf</a>"
            ]
          },
          "metadata": {}
        },
        {
          "output_type": "display_data",
          "data": {
            "text/plain": [
              "<IPython.core.display.HTML object>"
            ],
            "text/html": [
              " View run at <a href='https://wandb.ai/ed22b051-iit-madras-foundation/RL_PA1_Sweep_PolicyComparison_FixedGamma/runs/3s0ub4c6' target=\"_blank\">https://wandb.ai/ed22b051-iit-madras-foundation/RL_PA1_Sweep_PolicyComparison_FixedGamma/runs/3s0ub4c6</a>"
            ]
          },
          "metadata": {}
        },
        {
          "output_type": "stream",
          "name": "stderr",
          "text": [
            "Q-Learning (epsilon_greedy): 100%|██████████| 1000/1000 [00:13<00:00, 73.71it/s]\n",
            "Q-Learning (epsilon_greedy): 100%|██████████| 1000/1000 [00:17<00:00, 56.15it/s]\n",
            "Q-Learning (epsilon_greedy): 100%|██████████| 1000/1000 [00:18<00:00, 55.48it/s]\n"
          ]
        },
        {
          "output_type": "display_data",
          "data": {
            "text/plain": [
              "<IPython.core.display.HTML object>"
            ],
            "text/html": []
          },
          "metadata": {}
        },
        {
          "output_type": "display_data",
          "data": {
            "text/plain": [
              "<IPython.core.display.HTML object>"
            ],
            "text/html": [
              "<br>    <style><br>        .wandb-row {<br>            display: flex;<br>            flex-direction: row;<br>            flex-wrap: wrap;<br>            justify-content: flex-start;<br>            width: 100%;<br>        }<br>        .wandb-col {<br>            display: flex;<br>            flex-direction: column;<br>            flex-basis: 100%;<br>            flex: 1;<br>            padding: 10px;<br>        }<br>    </style><br><div class=\"wandb-row\"><div class=\"wandb-col\"><h3>Run history:</h3><br/><table class=\"wandb\"><tr><td>Q_epsilon_greedy/reward</td><td>▁▁▁▁▁▁▁▁▂▅▃▂▃▅▄▄▆▁▁▁▄▂▃▄▃█▃▄▄▇▂▃▄▄▄▄▃▃▅▄</td></tr><tr><td>avg_reward</td><td>▁</td></tr><tr><td>episode</td><td>▃▃▄▄▄▅▆▆▆▁▂▂▂▂▃▃▄▅▅▆▇███▁▂▃▃▃▄▄▄▄▅▆▆▇▇██</td></tr></table><br/></div><div class=\"wandb-col\"><h3>Run summary:</h3><br/><table class=\"wandb\"><tr><td>Q_epsilon_greedy/reward</td><td>181</td></tr><tr><td>avg_reward</td><td>126.57333</td></tr><tr><td>episode</td><td>999</td></tr></table><br/></div></div>"
            ]
          },
          "metadata": {}
        },
        {
          "output_type": "display_data",
          "data": {
            "text/plain": [
              "<IPython.core.display.HTML object>"
            ],
            "text/html": [
              " View run <strong style=\"color:#cdcd00\">lively-sweep-11</strong> at: <a href='https://wandb.ai/ed22b051-iit-madras-foundation/RL_PA1_Sweep_PolicyComparison_FixedGamma/runs/3s0ub4c6' target=\"_blank\">https://wandb.ai/ed22b051-iit-madras-foundation/RL_PA1_Sweep_PolicyComparison_FixedGamma/runs/3s0ub4c6</a><br> View project at: <a href='https://wandb.ai/ed22b051-iit-madras-foundation/RL_PA1_Sweep_PolicyComparison_FixedGamma' target=\"_blank\">https://wandb.ai/ed22b051-iit-madras-foundation/RL_PA1_Sweep_PolicyComparison_FixedGamma</a><br>Synced 5 W&B file(s), 0 media file(s), 0 artifact file(s) and 0 other file(s)"
            ]
          },
          "metadata": {}
        },
        {
          "output_type": "display_data",
          "data": {
            "text/plain": [
              "<IPython.core.display.HTML object>"
            ],
            "text/html": [
              "Find logs at: <code>./wandb/run-20250330_114703-3s0ub4c6/logs</code>"
            ]
          },
          "metadata": {}
        },
        {
          "output_type": "stream",
          "name": "stderr",
          "text": [
            "\u001b[34m\u001b[1mwandb\u001b[0m: Agent Starting Run: 9js9v9o9 with config:\n",
            "\u001b[34m\u001b[1mwandb\u001b[0m: \talgorithm: q_learning\n",
            "\u001b[34m\u001b[1mwandb\u001b[0m: \talpha: 0.23573443517911016\n",
            "\u001b[34m\u001b[1mwandb\u001b[0m: \tparam_value: 0.2378794750626667\n",
            "\u001b[34m\u001b[1mwandb\u001b[0m: \tpolicy_type: epsilon_greedy\n"
          ]
        },
        {
          "output_type": "display_data",
          "data": {
            "text/plain": [
              "<IPython.core.display.HTML object>"
            ],
            "text/html": [
              "Tracking run with wandb version 0.19.8"
            ]
          },
          "metadata": {}
        },
        {
          "output_type": "display_data",
          "data": {
            "text/plain": [
              "<IPython.core.display.HTML object>"
            ],
            "text/html": [
              "Run data is saved locally in <code>/content/wandb/run-20250330_114759-9js9v9o9</code>"
            ]
          },
          "metadata": {}
        },
        {
          "output_type": "display_data",
          "data": {
            "text/plain": [
              "<IPython.core.display.HTML object>"
            ],
            "text/html": [
              "Syncing run <strong><a href='https://wandb.ai/ed22b051-iit-madras-foundation/RL_PA1_Sweep_PolicyComparison_FixedGamma/runs/9js9v9o9' target=\"_blank\">kind-sweep-12</a></strong> to <a href='https://wandb.ai/ed22b051-iit-madras-foundation/RL_PA1_Sweep_PolicyComparison_FixedGamma' target=\"_blank\">Weights & Biases</a> (<a href='https://wandb.me/developer-guide' target=\"_blank\">docs</a>)<br>Sweep page: <a href='https://wandb.ai/ed22b051-iit-madras-foundation/RL_PA1_Sweep_PolicyComparison_FixedGamma/sweeps/vluleyzf' target=\"_blank\">https://wandb.ai/ed22b051-iit-madras-foundation/RL_PA1_Sweep_PolicyComparison_FixedGamma/sweeps/vluleyzf</a>"
            ]
          },
          "metadata": {}
        },
        {
          "output_type": "display_data",
          "data": {
            "text/plain": [
              "<IPython.core.display.HTML object>"
            ],
            "text/html": [
              " View project at <a href='https://wandb.ai/ed22b051-iit-madras-foundation/RL_PA1_Sweep_PolicyComparison_FixedGamma' target=\"_blank\">https://wandb.ai/ed22b051-iit-madras-foundation/RL_PA1_Sweep_PolicyComparison_FixedGamma</a>"
            ]
          },
          "metadata": {}
        },
        {
          "output_type": "display_data",
          "data": {
            "text/plain": [
              "<IPython.core.display.HTML object>"
            ],
            "text/html": [
              " View sweep at <a href='https://wandb.ai/ed22b051-iit-madras-foundation/RL_PA1_Sweep_PolicyComparison_FixedGamma/sweeps/vluleyzf' target=\"_blank\">https://wandb.ai/ed22b051-iit-madras-foundation/RL_PA1_Sweep_PolicyComparison_FixedGamma/sweeps/vluleyzf</a>"
            ]
          },
          "metadata": {}
        },
        {
          "output_type": "display_data",
          "data": {
            "text/plain": [
              "<IPython.core.display.HTML object>"
            ],
            "text/html": [
              " View run at <a href='https://wandb.ai/ed22b051-iit-madras-foundation/RL_PA1_Sweep_PolicyComparison_FixedGamma/runs/9js9v9o9' target=\"_blank\">https://wandb.ai/ed22b051-iit-madras-foundation/RL_PA1_Sweep_PolicyComparison_FixedGamma/runs/9js9v9o9</a>"
            ]
          },
          "metadata": {}
        },
        {
          "output_type": "stream",
          "name": "stderr",
          "text": [
            "Q-Learning (epsilon_greedy): 100%|██████████| 1000/1000 [00:13<00:00, 76.84it/s]\n",
            "Q-Learning (epsilon_greedy): 100%|██████████| 1000/1000 [00:15<00:00, 64.82it/s]\n",
            "Q-Learning (epsilon_greedy): 100%|██████████| 1000/1000 [00:12<00:00, 79.19it/s]\n"
          ]
        },
        {
          "output_type": "display_data",
          "data": {
            "text/plain": [
              "<IPython.core.display.HTML object>"
            ],
            "text/html": []
          },
          "metadata": {}
        },
        {
          "output_type": "display_data",
          "data": {
            "text/plain": [
              "<IPython.core.display.HTML object>"
            ],
            "text/html": [
              "<br>    <style><br>        .wandb-row {<br>            display: flex;<br>            flex-direction: row;<br>            flex-wrap: wrap;<br>            justify-content: flex-start;<br>            width: 100%;<br>        }<br>        .wandb-col {<br>            display: flex;<br>            flex-direction: column;<br>            flex-basis: 100%;<br>            flex: 1;<br>            padding: 10px;<br>        }<br>    </style><br><div class=\"wandb-row\"><div class=\"wandb-col\"><h3>Run history:</h3><br/><table class=\"wandb\"><tr><td>Q_epsilon_greedy/reward</td><td>▁▁▁▁▁█▂▂▂▂▁▃▂▄▅▂▇▄▃▂▃▂▁▁▁▁▁▁▁▁▂▂▂▂▃▁▂▂▃▁</td></tr><tr><td>avg_reward</td><td>▁</td></tr><tr><td>episode</td><td>▂▂▃▃▄▅▅▆▆▇██▁▁▁▄▄▄▅▅▆▇▇▇█▂▂▂▃▄▅▅▅▆▆▇▇▇▇█</td></tr></table><br/></div><div class=\"wandb-col\"><h3>Run summary:</h3><br/><table class=\"wandb\"><tr><td>Q_epsilon_greedy/reward</td><td>177</td></tr><tr><td>avg_reward</td><td>110.55667</td></tr><tr><td>episode</td><td>999</td></tr></table><br/></div></div>"
            ]
          },
          "metadata": {}
        },
        {
          "output_type": "display_data",
          "data": {
            "text/plain": [
              "<IPython.core.display.HTML object>"
            ],
            "text/html": [
              " View run <strong style=\"color:#cdcd00\">kind-sweep-12</strong> at: <a href='https://wandb.ai/ed22b051-iit-madras-foundation/RL_PA1_Sweep_PolicyComparison_FixedGamma/runs/9js9v9o9' target=\"_blank\">https://wandb.ai/ed22b051-iit-madras-foundation/RL_PA1_Sweep_PolicyComparison_FixedGamma/runs/9js9v9o9</a><br> View project at: <a href='https://wandb.ai/ed22b051-iit-madras-foundation/RL_PA1_Sweep_PolicyComparison_FixedGamma' target=\"_blank\">https://wandb.ai/ed22b051-iit-madras-foundation/RL_PA1_Sweep_PolicyComparison_FixedGamma</a><br>Synced 5 W&B file(s), 0 media file(s), 0 artifact file(s) and 0 other file(s)"
            ]
          },
          "metadata": {}
        },
        {
          "output_type": "display_data",
          "data": {
            "text/plain": [
              "<IPython.core.display.HTML object>"
            ],
            "text/html": [
              "Find logs at: <code>./wandb/run-20250330_114759-9js9v9o9/logs</code>"
            ]
          },
          "metadata": {}
        },
        {
          "output_type": "stream",
          "name": "stderr",
          "text": [
            "\u001b[34m\u001b[1mwandb\u001b[0m: Agent Starting Run: n9xllklp with config:\n",
            "\u001b[34m\u001b[1mwandb\u001b[0m: \talgorithm: q_learning\n",
            "\u001b[34m\u001b[1mwandb\u001b[0m: \talpha: 0.3989674305985624\n",
            "\u001b[34m\u001b[1mwandb\u001b[0m: \tparam_value: 0.23311853896134804\n",
            "\u001b[34m\u001b[1mwandb\u001b[0m: \tpolicy_type: epsilon_greedy\n"
          ]
        },
        {
          "output_type": "display_data",
          "data": {
            "text/plain": [
              "<IPython.core.display.HTML object>"
            ],
            "text/html": [
              "Tracking run with wandb version 0.19.8"
            ]
          },
          "metadata": {}
        },
        {
          "output_type": "display_data",
          "data": {
            "text/plain": [
              "<IPython.core.display.HTML object>"
            ],
            "text/html": [
              "Run data is saved locally in <code>/content/wandb/run-20250330_114845-n9xllklp</code>"
            ]
          },
          "metadata": {}
        },
        {
          "output_type": "display_data",
          "data": {
            "text/plain": [
              "<IPython.core.display.HTML object>"
            ],
            "text/html": [
              "Syncing run <strong><a href='https://wandb.ai/ed22b051-iit-madras-foundation/RL_PA1_Sweep_PolicyComparison_FixedGamma/runs/n9xllklp' target=\"_blank\">fiery-sweep-13</a></strong> to <a href='https://wandb.ai/ed22b051-iit-madras-foundation/RL_PA1_Sweep_PolicyComparison_FixedGamma' target=\"_blank\">Weights & Biases</a> (<a href='https://wandb.me/developer-guide' target=\"_blank\">docs</a>)<br>Sweep page: <a href='https://wandb.ai/ed22b051-iit-madras-foundation/RL_PA1_Sweep_PolicyComparison_FixedGamma/sweeps/vluleyzf' target=\"_blank\">https://wandb.ai/ed22b051-iit-madras-foundation/RL_PA1_Sweep_PolicyComparison_FixedGamma/sweeps/vluleyzf</a>"
            ]
          },
          "metadata": {}
        },
        {
          "output_type": "display_data",
          "data": {
            "text/plain": [
              "<IPython.core.display.HTML object>"
            ],
            "text/html": [
              " View project at <a href='https://wandb.ai/ed22b051-iit-madras-foundation/RL_PA1_Sweep_PolicyComparison_FixedGamma' target=\"_blank\">https://wandb.ai/ed22b051-iit-madras-foundation/RL_PA1_Sweep_PolicyComparison_FixedGamma</a>"
            ]
          },
          "metadata": {}
        },
        {
          "output_type": "display_data",
          "data": {
            "text/plain": [
              "<IPython.core.display.HTML object>"
            ],
            "text/html": [
              " View sweep at <a href='https://wandb.ai/ed22b051-iit-madras-foundation/RL_PA1_Sweep_PolicyComparison_FixedGamma/sweeps/vluleyzf' target=\"_blank\">https://wandb.ai/ed22b051-iit-madras-foundation/RL_PA1_Sweep_PolicyComparison_FixedGamma/sweeps/vluleyzf</a>"
            ]
          },
          "metadata": {}
        },
        {
          "output_type": "display_data",
          "data": {
            "text/plain": [
              "<IPython.core.display.HTML object>"
            ],
            "text/html": [
              " View run at <a href='https://wandb.ai/ed22b051-iit-madras-foundation/RL_PA1_Sweep_PolicyComparison_FixedGamma/runs/n9xllklp' target=\"_blank\">https://wandb.ai/ed22b051-iit-madras-foundation/RL_PA1_Sweep_PolicyComparison_FixedGamma/runs/n9xllklp</a>"
            ]
          },
          "metadata": {}
        },
        {
          "output_type": "stream",
          "name": "stderr",
          "text": [
            "Q-Learning (epsilon_greedy): 100%|██████████| 1000/1000 [00:17<00:00, 56.89it/s]\n",
            "Q-Learning (epsilon_greedy): 100%|██████████| 1000/1000 [00:17<00:00, 58.54it/s]\n",
            "Q-Learning (epsilon_greedy): 100%|██████████| 1000/1000 [00:16<00:00, 60.69it/s]\n"
          ]
        },
        {
          "output_type": "display_data",
          "data": {
            "text/plain": [
              "<IPython.core.display.HTML object>"
            ],
            "text/html": []
          },
          "metadata": {}
        },
        {
          "output_type": "display_data",
          "data": {
            "text/plain": [
              "<IPython.core.display.HTML object>"
            ],
            "text/html": [
              "<br>    <style><br>        .wandb-row {<br>            display: flex;<br>            flex-direction: row;<br>            flex-wrap: wrap;<br>            justify-content: flex-start;<br>            width: 100%;<br>        }<br>        .wandb-col {<br>            display: flex;<br>            flex-direction: column;<br>            flex-basis: 100%;<br>            flex: 1;<br>            padding: 10px;<br>        }<br>    </style><br><div class=\"wandb-row\"><div class=\"wandb-col\"><h3>Run history:</h3><br/><table class=\"wandb\"><tr><td>Q_epsilon_greedy/reward</td><td>▁▂▄▇▃▁▄▅▃▁▄▄▂▆▃▄▃▃▂▃▅▂▂▃▃▃▃▁▃▁▅▄▃▅▄▄▇▄█▄</td></tr><tr><td>avg_reward</td><td>▁</td></tr><tr><td>episode</td><td>▃▃▃▃▄▄▅▆▇▇▇██▁▁▂▂▂▂▃▄▄▄▄▅▆▆▆▇▇▁▂▂▃▃▅▅▆▆█</td></tr></table><br/></div><div class=\"wandb-col\"><h3>Run summary:</h3><br/><table class=\"wandb\"><tr><td>Q_epsilon_greedy/reward</td><td>60</td></tr><tr><td>avg_reward</td><td>140.34667</td></tr><tr><td>episode</td><td>999</td></tr></table><br/></div></div>"
            ]
          },
          "metadata": {}
        },
        {
          "output_type": "display_data",
          "data": {
            "text/plain": [
              "<IPython.core.display.HTML object>"
            ],
            "text/html": [
              " View run <strong style=\"color:#cdcd00\">fiery-sweep-13</strong> at: <a href='https://wandb.ai/ed22b051-iit-madras-foundation/RL_PA1_Sweep_PolicyComparison_FixedGamma/runs/n9xllklp' target=\"_blank\">https://wandb.ai/ed22b051-iit-madras-foundation/RL_PA1_Sweep_PolicyComparison_FixedGamma/runs/n9xllklp</a><br> View project at: <a href='https://wandb.ai/ed22b051-iit-madras-foundation/RL_PA1_Sweep_PolicyComparison_FixedGamma' target=\"_blank\">https://wandb.ai/ed22b051-iit-madras-foundation/RL_PA1_Sweep_PolicyComparison_FixedGamma</a><br>Synced 5 W&B file(s), 0 media file(s), 0 artifact file(s) and 0 other file(s)"
            ]
          },
          "metadata": {}
        },
        {
          "output_type": "display_data",
          "data": {
            "text/plain": [
              "<IPython.core.display.HTML object>"
            ],
            "text/html": [
              "Find logs at: <code>./wandb/run-20250330_114845-n9xllklp/logs</code>"
            ]
          },
          "metadata": {}
        },
        {
          "output_type": "stream",
          "name": "stderr",
          "text": [
            "\u001b[34m\u001b[1mwandb\u001b[0m: Agent Starting Run: 6jtfpgl3 with config:\n",
            "\u001b[34m\u001b[1mwandb\u001b[0m: \talgorithm: q_learning\n",
            "\u001b[34m\u001b[1mwandb\u001b[0m: \talpha: 0.44596235572487375\n",
            "\u001b[34m\u001b[1mwandb\u001b[0m: \tparam_value: 0.243879820509454\n",
            "\u001b[34m\u001b[1mwandb\u001b[0m: \tpolicy_type: epsilon_greedy\n"
          ]
        },
        {
          "output_type": "display_data",
          "data": {
            "text/plain": [
              "<IPython.core.display.HTML object>"
            ],
            "text/html": [
              "Tracking run with wandb version 0.19.8"
            ]
          },
          "metadata": {}
        },
        {
          "output_type": "display_data",
          "data": {
            "text/plain": [
              "<IPython.core.display.HTML object>"
            ],
            "text/html": [
              "Run data is saved locally in <code>/content/wandb/run-20250330_114941-6jtfpgl3</code>"
            ]
          },
          "metadata": {}
        },
        {
          "output_type": "display_data",
          "data": {
            "text/plain": [
              "<IPython.core.display.HTML object>"
            ],
            "text/html": [
              "Syncing run <strong><a href='https://wandb.ai/ed22b051-iit-madras-foundation/RL_PA1_Sweep_PolicyComparison_FixedGamma/runs/6jtfpgl3' target=\"_blank\">magic-sweep-14</a></strong> to <a href='https://wandb.ai/ed22b051-iit-madras-foundation/RL_PA1_Sweep_PolicyComparison_FixedGamma' target=\"_blank\">Weights & Biases</a> (<a href='https://wandb.me/developer-guide' target=\"_blank\">docs</a>)<br>Sweep page: <a href='https://wandb.ai/ed22b051-iit-madras-foundation/RL_PA1_Sweep_PolicyComparison_FixedGamma/sweeps/vluleyzf' target=\"_blank\">https://wandb.ai/ed22b051-iit-madras-foundation/RL_PA1_Sweep_PolicyComparison_FixedGamma/sweeps/vluleyzf</a>"
            ]
          },
          "metadata": {}
        },
        {
          "output_type": "display_data",
          "data": {
            "text/plain": [
              "<IPython.core.display.HTML object>"
            ],
            "text/html": [
              " View project at <a href='https://wandb.ai/ed22b051-iit-madras-foundation/RL_PA1_Sweep_PolicyComparison_FixedGamma' target=\"_blank\">https://wandb.ai/ed22b051-iit-madras-foundation/RL_PA1_Sweep_PolicyComparison_FixedGamma</a>"
            ]
          },
          "metadata": {}
        },
        {
          "output_type": "display_data",
          "data": {
            "text/plain": [
              "<IPython.core.display.HTML object>"
            ],
            "text/html": [
              " View sweep at <a href='https://wandb.ai/ed22b051-iit-madras-foundation/RL_PA1_Sweep_PolicyComparison_FixedGamma/sweeps/vluleyzf' target=\"_blank\">https://wandb.ai/ed22b051-iit-madras-foundation/RL_PA1_Sweep_PolicyComparison_FixedGamma/sweeps/vluleyzf</a>"
            ]
          },
          "metadata": {}
        },
        {
          "output_type": "display_data",
          "data": {
            "text/plain": [
              "<IPython.core.display.HTML object>"
            ],
            "text/html": [
              " View run at <a href='https://wandb.ai/ed22b051-iit-madras-foundation/RL_PA1_Sweep_PolicyComparison_FixedGamma/runs/6jtfpgl3' target=\"_blank\">https://wandb.ai/ed22b051-iit-madras-foundation/RL_PA1_Sweep_PolicyComparison_FixedGamma/runs/6jtfpgl3</a>"
            ]
          },
          "metadata": {}
        },
        {
          "output_type": "stream",
          "name": "stderr",
          "text": [
            "Q-Learning (epsilon_greedy): 100%|██████████| 1000/1000 [00:19<00:00, 52.05it/s]\n",
            "Q-Learning (epsilon_greedy): 100%|██████████| 1000/1000 [00:17<00:00, 57.93it/s]\n",
            "Q-Learning (epsilon_greedy): 100%|██████████| 1000/1000 [00:16<00:00, 61.88it/s]\n"
          ]
        },
        {
          "output_type": "display_data",
          "data": {
            "text/plain": [
              "<IPython.core.display.HTML object>"
            ],
            "text/html": []
          },
          "metadata": {}
        },
        {
          "output_type": "display_data",
          "data": {
            "text/plain": [
              "<IPython.core.display.HTML object>"
            ],
            "text/html": [
              "<br>    <style><br>        .wandb-row {<br>            display: flex;<br>            flex-direction: row;<br>            flex-wrap: wrap;<br>            justify-content: flex-start;<br>            width: 100%;<br>        }<br>        .wandb-col {<br>            display: flex;<br>            flex-direction: column;<br>            flex-basis: 100%;<br>            flex: 1;<br>            padding: 10px;<br>        }<br>    </style><br><div class=\"wandb-row\"><div class=\"wandb-col\"><h3>Run history:</h3><br/><table class=\"wandb\"><tr><td>Q_epsilon_greedy/reward</td><td>▁▄▃▃▃▆█▅▃▂▅▂▁▇▁▁▂▁▄▃▂▄▃▁▄▂▂▂▁▁▃▃▄▃▂▃▅▃▂▄</td></tr><tr><td>avg_reward</td><td>▁</td></tr><tr><td>episode</td><td>▁▂▃▃▄▆▆▇▇▇▇▂▂▃▃▄▄▅▅▆▇███▁▁▂▂▃▃▄▅▆▆▆▆▆▇▇█</td></tr></table><br/></div><div class=\"wandb-col\"><h3>Run summary:</h3><br/><table class=\"wandb\"><tr><td>Q_epsilon_greedy/reward</td><td>242</td></tr><tr><td>avg_reward</td><td>141.20667</td></tr><tr><td>episode</td><td>999</td></tr></table><br/></div></div>"
            ]
          },
          "metadata": {}
        },
        {
          "output_type": "display_data",
          "data": {
            "text/plain": [
              "<IPython.core.display.HTML object>"
            ],
            "text/html": [
              " View run <strong style=\"color:#cdcd00\">magic-sweep-14</strong> at: <a href='https://wandb.ai/ed22b051-iit-madras-foundation/RL_PA1_Sweep_PolicyComparison_FixedGamma/runs/6jtfpgl3' target=\"_blank\">https://wandb.ai/ed22b051-iit-madras-foundation/RL_PA1_Sweep_PolicyComparison_FixedGamma/runs/6jtfpgl3</a><br> View project at: <a href='https://wandb.ai/ed22b051-iit-madras-foundation/RL_PA1_Sweep_PolicyComparison_FixedGamma' target=\"_blank\">https://wandb.ai/ed22b051-iit-madras-foundation/RL_PA1_Sweep_PolicyComparison_FixedGamma</a><br>Synced 5 W&B file(s), 0 media file(s), 0 artifact file(s) and 0 other file(s)"
            ]
          },
          "metadata": {}
        },
        {
          "output_type": "display_data",
          "data": {
            "text/plain": [
              "<IPython.core.display.HTML object>"
            ],
            "text/html": [
              "Find logs at: <code>./wandb/run-20250330_114941-6jtfpgl3/logs</code>"
            ]
          },
          "metadata": {}
        },
        {
          "output_type": "stream",
          "name": "stderr",
          "text": [
            "\u001b[34m\u001b[1mwandb\u001b[0m: Agent Starting Run: 6zzo2dng with config:\n",
            "\u001b[34m\u001b[1mwandb\u001b[0m: \talgorithm: q_learning\n",
            "\u001b[34m\u001b[1mwandb\u001b[0m: \talpha: 0.3430404593027546\n",
            "\u001b[34m\u001b[1mwandb\u001b[0m: \tparam_value: 0.2502282446134461\n",
            "\u001b[34m\u001b[1mwandb\u001b[0m: \tpolicy_type: epsilon_greedy\n"
          ]
        },
        {
          "output_type": "display_data",
          "data": {
            "text/plain": [
              "<IPython.core.display.HTML object>"
            ],
            "text/html": [
              "Tracking run with wandb version 0.19.8"
            ]
          },
          "metadata": {}
        },
        {
          "output_type": "display_data",
          "data": {
            "text/plain": [
              "<IPython.core.display.HTML object>"
            ],
            "text/html": [
              "Run data is saved locally in <code>/content/wandb/run-20250330_115038-6zzo2dng</code>"
            ]
          },
          "metadata": {}
        },
        {
          "output_type": "display_data",
          "data": {
            "text/plain": [
              "<IPython.core.display.HTML object>"
            ],
            "text/html": [
              "Syncing run <strong><a href='https://wandb.ai/ed22b051-iit-madras-foundation/RL_PA1_Sweep_PolicyComparison_FixedGamma/runs/6zzo2dng' target=\"_blank\">swift-sweep-15</a></strong> to <a href='https://wandb.ai/ed22b051-iit-madras-foundation/RL_PA1_Sweep_PolicyComparison_FixedGamma' target=\"_blank\">Weights & Biases</a> (<a href='https://wandb.me/developer-guide' target=\"_blank\">docs</a>)<br>Sweep page: <a href='https://wandb.ai/ed22b051-iit-madras-foundation/RL_PA1_Sweep_PolicyComparison_FixedGamma/sweeps/vluleyzf' target=\"_blank\">https://wandb.ai/ed22b051-iit-madras-foundation/RL_PA1_Sweep_PolicyComparison_FixedGamma/sweeps/vluleyzf</a>"
            ]
          },
          "metadata": {}
        },
        {
          "output_type": "display_data",
          "data": {
            "text/plain": [
              "<IPython.core.display.HTML object>"
            ],
            "text/html": [
              " View project at <a href='https://wandb.ai/ed22b051-iit-madras-foundation/RL_PA1_Sweep_PolicyComparison_FixedGamma' target=\"_blank\">https://wandb.ai/ed22b051-iit-madras-foundation/RL_PA1_Sweep_PolicyComparison_FixedGamma</a>"
            ]
          },
          "metadata": {}
        },
        {
          "output_type": "display_data",
          "data": {
            "text/plain": [
              "<IPython.core.display.HTML object>"
            ],
            "text/html": [
              " View sweep at <a href='https://wandb.ai/ed22b051-iit-madras-foundation/RL_PA1_Sweep_PolicyComparison_FixedGamma/sweeps/vluleyzf' target=\"_blank\">https://wandb.ai/ed22b051-iit-madras-foundation/RL_PA1_Sweep_PolicyComparison_FixedGamma/sweeps/vluleyzf</a>"
            ]
          },
          "metadata": {}
        },
        {
          "output_type": "display_data",
          "data": {
            "text/plain": [
              "<IPython.core.display.HTML object>"
            ],
            "text/html": [
              " View run at <a href='https://wandb.ai/ed22b051-iit-madras-foundation/RL_PA1_Sweep_PolicyComparison_FixedGamma/runs/6zzo2dng' target=\"_blank\">https://wandb.ai/ed22b051-iit-madras-foundation/RL_PA1_Sweep_PolicyComparison_FixedGamma/runs/6zzo2dng</a>"
            ]
          },
          "metadata": {}
        },
        {
          "output_type": "stream",
          "name": "stderr",
          "text": [
            "Q-Learning (epsilon_greedy): 100%|██████████| 1000/1000 [00:15<00:00, 66.47it/s]\n",
            "Q-Learning (epsilon_greedy): 100%|██████████| 1000/1000 [00:12<00:00, 78.46it/s]\n",
            "Q-Learning (epsilon_greedy): 100%|██████████| 1000/1000 [00:16<00:00, 61.74it/s]\n"
          ]
        },
        {
          "output_type": "display_data",
          "data": {
            "text/plain": [
              "<IPython.core.display.HTML object>"
            ],
            "text/html": []
          },
          "metadata": {}
        },
        {
          "output_type": "display_data",
          "data": {
            "text/plain": [
              "<IPython.core.display.HTML object>"
            ],
            "text/html": [
              "<br>    <style><br>        .wandb-row {<br>            display: flex;<br>            flex-direction: row;<br>            flex-wrap: wrap;<br>            justify-content: flex-start;<br>            width: 100%;<br>        }<br>        .wandb-col {<br>            display: flex;<br>            flex-direction: column;<br>            flex-basis: 100%;<br>            flex: 1;<br>            padding: 10px;<br>        }<br>    </style><br><div class=\"wandb-row\"><div class=\"wandb-col\"><h3>Run history:</h3><br/><table class=\"wandb\"><tr><td>Q_epsilon_greedy/reward</td><td>▁▁▂▁█▇█▃▃▃▃█▅▄▁▂▁▃▃▃▃▅▅▅▄▅▃▅▅▆▄▅▂▅▆█▆▅▇▁</td></tr><tr><td>avg_reward</td><td>▁</td></tr><tr><td>episode</td><td>▁▁▂▃▃▄▄▄▅▅▆▇█▂▂▃▃▅▅▅▆▆▆▇█▁▁▁▂▂▂▃▃▃▄▄▅▅▆█</td></tr></table><br/></div><div class=\"wandb-col\"><h3>Run summary:</h3><br/><table class=\"wandb\"><tr><td>Q_epsilon_greedy/reward</td><td>62</td></tr><tr><td>avg_reward</td><td>120.23667</td></tr><tr><td>episode</td><td>999</td></tr></table><br/></div></div>"
            ]
          },
          "metadata": {}
        },
        {
          "output_type": "display_data",
          "data": {
            "text/plain": [
              "<IPython.core.display.HTML object>"
            ],
            "text/html": [
              " View run <strong style=\"color:#cdcd00\">swift-sweep-15</strong> at: <a href='https://wandb.ai/ed22b051-iit-madras-foundation/RL_PA1_Sweep_PolicyComparison_FixedGamma/runs/6zzo2dng' target=\"_blank\">https://wandb.ai/ed22b051-iit-madras-foundation/RL_PA1_Sweep_PolicyComparison_FixedGamma/runs/6zzo2dng</a><br> View project at: <a href='https://wandb.ai/ed22b051-iit-madras-foundation/RL_PA1_Sweep_PolicyComparison_FixedGamma' target=\"_blank\">https://wandb.ai/ed22b051-iit-madras-foundation/RL_PA1_Sweep_PolicyComparison_FixedGamma</a><br>Synced 5 W&B file(s), 0 media file(s), 0 artifact file(s) and 0 other file(s)"
            ]
          },
          "metadata": {}
        },
        {
          "output_type": "display_data",
          "data": {
            "text/plain": [
              "<IPython.core.display.HTML object>"
            ],
            "text/html": [
              "Find logs at: <code>./wandb/run-20250330_115038-6zzo2dng/logs</code>"
            ]
          },
          "metadata": {}
        },
        {
          "output_type": "stream",
          "name": "stderr",
          "text": [
            "\u001b[34m\u001b[1mwandb\u001b[0m: Agent Starting Run: 5qv23aeq with config:\n",
            "\u001b[34m\u001b[1mwandb\u001b[0m: \talgorithm: q_learning\n",
            "\u001b[34m\u001b[1mwandb\u001b[0m: \talpha: 0.4102406622053104\n",
            "\u001b[34m\u001b[1mwandb\u001b[0m: \tparam_value: 0.2556693709929978\n",
            "\u001b[34m\u001b[1mwandb\u001b[0m: \tpolicy_type: softmax\n"
          ]
        },
        {
          "output_type": "display_data",
          "data": {
            "text/plain": [
              "<IPython.core.display.HTML object>"
            ],
            "text/html": [
              "Tracking run with wandb version 0.19.8"
            ]
          },
          "metadata": {}
        },
        {
          "output_type": "display_data",
          "data": {
            "text/plain": [
              "<IPython.core.display.HTML object>"
            ],
            "text/html": [
              "Run data is saved locally in <code>/content/wandb/run-20250330_115129-5qv23aeq</code>"
            ]
          },
          "metadata": {}
        },
        {
          "output_type": "display_data",
          "data": {
            "text/plain": [
              "<IPython.core.display.HTML object>"
            ],
            "text/html": [
              "Syncing run <strong><a href='https://wandb.ai/ed22b051-iit-madras-foundation/RL_PA1_Sweep_PolicyComparison_FixedGamma/runs/5qv23aeq' target=\"_blank\">daily-sweep-16</a></strong> to <a href='https://wandb.ai/ed22b051-iit-madras-foundation/RL_PA1_Sweep_PolicyComparison_FixedGamma' target=\"_blank\">Weights & Biases</a> (<a href='https://wandb.me/developer-guide' target=\"_blank\">docs</a>)<br>Sweep page: <a href='https://wandb.ai/ed22b051-iit-madras-foundation/RL_PA1_Sweep_PolicyComparison_FixedGamma/sweeps/vluleyzf' target=\"_blank\">https://wandb.ai/ed22b051-iit-madras-foundation/RL_PA1_Sweep_PolicyComparison_FixedGamma/sweeps/vluleyzf</a>"
            ]
          },
          "metadata": {}
        },
        {
          "output_type": "display_data",
          "data": {
            "text/plain": [
              "<IPython.core.display.HTML object>"
            ],
            "text/html": [
              " View project at <a href='https://wandb.ai/ed22b051-iit-madras-foundation/RL_PA1_Sweep_PolicyComparison_FixedGamma' target=\"_blank\">https://wandb.ai/ed22b051-iit-madras-foundation/RL_PA1_Sweep_PolicyComparison_FixedGamma</a>"
            ]
          },
          "metadata": {}
        },
        {
          "output_type": "display_data",
          "data": {
            "text/plain": [
              "<IPython.core.display.HTML object>"
            ],
            "text/html": [
              " View sweep at <a href='https://wandb.ai/ed22b051-iit-madras-foundation/RL_PA1_Sweep_PolicyComparison_FixedGamma/sweeps/vluleyzf' target=\"_blank\">https://wandb.ai/ed22b051-iit-madras-foundation/RL_PA1_Sweep_PolicyComparison_FixedGamma/sweeps/vluleyzf</a>"
            ]
          },
          "metadata": {}
        },
        {
          "output_type": "display_data",
          "data": {
            "text/plain": [
              "<IPython.core.display.HTML object>"
            ],
            "text/html": [
              " View run at <a href='https://wandb.ai/ed22b051-iit-madras-foundation/RL_PA1_Sweep_PolicyComparison_FixedGamma/runs/5qv23aeq' target=\"_blank\">https://wandb.ai/ed22b051-iit-madras-foundation/RL_PA1_Sweep_PolicyComparison_FixedGamma/runs/5qv23aeq</a>"
            ]
          },
          "metadata": {}
        },
        {
          "output_type": "stream",
          "name": "stderr",
          "text": [
            "Q-Learning (softmax): 100%|██████████| 1000/1000 [00:05<00:00, 193.23it/s]\n",
            "Q-Learning (softmax): 100%|██████████| 1000/1000 [00:11<00:00, 87.17it/s]\n",
            "Q-Learning (softmax): 100%|██████████| 1000/1000 [00:05<00:00, 190.23it/s]\n"
          ]
        },
        {
          "output_type": "display_data",
          "data": {
            "text/plain": [
              "<IPython.core.display.HTML object>"
            ],
            "text/html": []
          },
          "metadata": {}
        },
        {
          "output_type": "display_data",
          "data": {
            "text/plain": [
              "<IPython.core.display.HTML object>"
            ],
            "text/html": [
              "<br>    <style><br>        .wandb-row {<br>            display: flex;<br>            flex-direction: row;<br>            flex-wrap: wrap;<br>            justify-content: flex-start;<br>            width: 100%;<br>        }<br>        .wandb-col {<br>            display: flex;<br>            flex-direction: column;<br>            flex-basis: 100%;<br>            flex: 1;<br>            padding: 10px;<br>        }<br>    </style><br><div class=\"wandb-row\"><div class=\"wandb-col\"><h3>Run history:</h3><br/><table class=\"wandb\"><tr><td>Q_softmax/reward</td><td>▂▃▁▁▃▁▁▃▃▃▁▁▁▂▃▁▂▃▃▆▆▂▄██▅▃▁▁▁▁▂▁▁▂▁▂▅▁▁</td></tr><tr><td>avg_reward</td><td>▁</td></tr><tr><td>episode</td><td>▁▁▂▃▃▃▄▄▄▅▆▆▇▁▂▃▃▃▃▃▆▆▇▇▇▁▁▁▃▃▃▃▄▄▅▇▇▇██</td></tr></table><br/></div><div class=\"wandb-col\"><h3>Run summary:</h3><br/><table class=\"wandb\"><tr><td>Q_softmax/reward</td><td>11</td></tr><tr><td>avg_reward</td><td>29.63333</td></tr><tr><td>episode</td><td>999</td></tr></table><br/></div></div>"
            ]
          },
          "metadata": {}
        },
        {
          "output_type": "display_data",
          "data": {
            "text/plain": [
              "<IPython.core.display.HTML object>"
            ],
            "text/html": [
              " View run <strong style=\"color:#cdcd00\">daily-sweep-16</strong> at: <a href='https://wandb.ai/ed22b051-iit-madras-foundation/RL_PA1_Sweep_PolicyComparison_FixedGamma/runs/5qv23aeq' target=\"_blank\">https://wandb.ai/ed22b051-iit-madras-foundation/RL_PA1_Sweep_PolicyComparison_FixedGamma/runs/5qv23aeq</a><br> View project at: <a href='https://wandb.ai/ed22b051-iit-madras-foundation/RL_PA1_Sweep_PolicyComparison_FixedGamma' target=\"_blank\">https://wandb.ai/ed22b051-iit-madras-foundation/RL_PA1_Sweep_PolicyComparison_FixedGamma</a><br>Synced 5 W&B file(s), 0 media file(s), 0 artifact file(s) and 0 other file(s)"
            ]
          },
          "metadata": {}
        },
        {
          "output_type": "display_data",
          "data": {
            "text/plain": [
              "<IPython.core.display.HTML object>"
            ],
            "text/html": [
              "Find logs at: <code>./wandb/run-20250330_115129-5qv23aeq/logs</code>"
            ]
          },
          "metadata": {}
        },
        {
          "output_type": "stream",
          "name": "stderr",
          "text": [
            "\u001b[34m\u001b[1mwandb\u001b[0m: Sweep Agent: Waiting for job.\n",
            "\u001b[34m\u001b[1mwandb\u001b[0m: Job received.\n",
            "\u001b[34m\u001b[1mwandb\u001b[0m: Agent Starting Run: 0w7hbaz6 with config:\n",
            "\u001b[34m\u001b[1mwandb\u001b[0m: \talgorithm: q_learning\n",
            "\u001b[34m\u001b[1mwandb\u001b[0m: \talpha: 0.4212609928829508\n",
            "\u001b[34m\u001b[1mwandb\u001b[0m: \tparam_value: 0.2273035046794839\n",
            "\u001b[34m\u001b[1mwandb\u001b[0m: \tpolicy_type: epsilon_greedy\n"
          ]
        },
        {
          "output_type": "display_data",
          "data": {
            "text/plain": [
              "<IPython.core.display.HTML object>"
            ],
            "text/html": [
              "Tracking run with wandb version 0.19.8"
            ]
          },
          "metadata": {}
        },
        {
          "output_type": "display_data",
          "data": {
            "text/plain": [
              "<IPython.core.display.HTML object>"
            ],
            "text/html": [
              "Run data is saved locally in <code>/content/wandb/run-20250330_115204-0w7hbaz6</code>"
            ]
          },
          "metadata": {}
        },
        {
          "output_type": "display_data",
          "data": {
            "text/plain": [
              "<IPython.core.display.HTML object>"
            ],
            "text/html": [
              "Syncing run <strong><a href='https://wandb.ai/ed22b051-iit-madras-foundation/RL_PA1_Sweep_PolicyComparison_FixedGamma/runs/0w7hbaz6' target=\"_blank\">pleasant-sweep-17</a></strong> to <a href='https://wandb.ai/ed22b051-iit-madras-foundation/RL_PA1_Sweep_PolicyComparison_FixedGamma' target=\"_blank\">Weights & Biases</a> (<a href='https://wandb.me/developer-guide' target=\"_blank\">docs</a>)<br>Sweep page: <a href='https://wandb.ai/ed22b051-iit-madras-foundation/RL_PA1_Sweep_PolicyComparison_FixedGamma/sweeps/vluleyzf' target=\"_blank\">https://wandb.ai/ed22b051-iit-madras-foundation/RL_PA1_Sweep_PolicyComparison_FixedGamma/sweeps/vluleyzf</a>"
            ]
          },
          "metadata": {}
        },
        {
          "output_type": "display_data",
          "data": {
            "text/plain": [
              "<IPython.core.display.HTML object>"
            ],
            "text/html": [
              " View project at <a href='https://wandb.ai/ed22b051-iit-madras-foundation/RL_PA1_Sweep_PolicyComparison_FixedGamma' target=\"_blank\">https://wandb.ai/ed22b051-iit-madras-foundation/RL_PA1_Sweep_PolicyComparison_FixedGamma</a>"
            ]
          },
          "metadata": {}
        },
        {
          "output_type": "display_data",
          "data": {
            "text/plain": [
              "<IPython.core.display.HTML object>"
            ],
            "text/html": [
              " View sweep at <a href='https://wandb.ai/ed22b051-iit-madras-foundation/RL_PA1_Sweep_PolicyComparison_FixedGamma/sweeps/vluleyzf' target=\"_blank\">https://wandb.ai/ed22b051-iit-madras-foundation/RL_PA1_Sweep_PolicyComparison_FixedGamma/sweeps/vluleyzf</a>"
            ]
          },
          "metadata": {}
        },
        {
          "output_type": "display_data",
          "data": {
            "text/plain": [
              "<IPython.core.display.HTML object>"
            ],
            "text/html": [
              " View run at <a href='https://wandb.ai/ed22b051-iit-madras-foundation/RL_PA1_Sweep_PolicyComparison_FixedGamma/runs/0w7hbaz6' target=\"_blank\">https://wandb.ai/ed22b051-iit-madras-foundation/RL_PA1_Sweep_PolicyComparison_FixedGamma/runs/0w7hbaz6</a>"
            ]
          },
          "metadata": {}
        },
        {
          "output_type": "stream",
          "name": "stderr",
          "text": [
            "Q-Learning (epsilon_greedy): 100%|██████████| 1000/1000 [00:16<00:00, 61.32it/s]\n",
            "Q-Learning (epsilon_greedy): 100%|██████████| 1000/1000 [00:18<00:00, 53.39it/s]\n",
            "Q-Learning (epsilon_greedy): 100%|██████████| 1000/1000 [00:15<00:00, 65.04it/s]\n"
          ]
        },
        {
          "output_type": "display_data",
          "data": {
            "text/plain": [
              "<IPython.core.display.HTML object>"
            ],
            "text/html": []
          },
          "metadata": {}
        },
        {
          "output_type": "display_data",
          "data": {
            "text/plain": [
              "<IPython.core.display.HTML object>"
            ],
            "text/html": [
              "<br>    <style><br>        .wandb-row {<br>            display: flex;<br>            flex-direction: row;<br>            flex-wrap: wrap;<br>            justify-content: flex-start;<br>            width: 100%;<br>        }<br>        .wandb-col {<br>            display: flex;<br>            flex-direction: column;<br>            flex-basis: 100%;<br>            flex: 1;<br>            padding: 10px;<br>        }<br>    </style><br><div class=\"wandb-row\"><div class=\"wandb-col\"><h3>Run history:</h3><br/><table class=\"wandb\"><tr><td>Q_epsilon_greedy/reward</td><td>▁▁▁▁▃▄▅▂▆▄▁▁▄▄▃▅▅▄▃▁▅▆▁▂▁▁▂▅▄▁▆▄▃▄▂█▃▂▅▂</td></tr><tr><td>avg_reward</td><td>▁</td></tr><tr><td>episode</td><td>▁▂▂▃▄▄▄▅▅▆▇▇▂▂▃▃▃▃▄▄▆▆▁▁▁▂▂▂▂▃▃▄▅▆▆▇▇███</td></tr></table><br/></div><div class=\"wandb-col\"><h3>Run summary:</h3><br/><table class=\"wandb\"><tr><td>Q_epsilon_greedy/reward</td><td>73</td></tr><tr><td>avg_reward</td><td>120.98667</td></tr><tr><td>episode</td><td>999</td></tr></table><br/></div></div>"
            ]
          },
          "metadata": {}
        },
        {
          "output_type": "display_data",
          "data": {
            "text/plain": [
              "<IPython.core.display.HTML object>"
            ],
            "text/html": [
              " View run <strong style=\"color:#cdcd00\">pleasant-sweep-17</strong> at: <a href='https://wandb.ai/ed22b051-iit-madras-foundation/RL_PA1_Sweep_PolicyComparison_FixedGamma/runs/0w7hbaz6' target=\"_blank\">https://wandb.ai/ed22b051-iit-madras-foundation/RL_PA1_Sweep_PolicyComparison_FixedGamma/runs/0w7hbaz6</a><br> View project at: <a href='https://wandb.ai/ed22b051-iit-madras-foundation/RL_PA1_Sweep_PolicyComparison_FixedGamma' target=\"_blank\">https://wandb.ai/ed22b051-iit-madras-foundation/RL_PA1_Sweep_PolicyComparison_FixedGamma</a><br>Synced 5 W&B file(s), 0 media file(s), 0 artifact file(s) and 0 other file(s)"
            ]
          },
          "metadata": {}
        },
        {
          "output_type": "display_data",
          "data": {
            "text/plain": [
              "<IPython.core.display.HTML object>"
            ],
            "text/html": [
              "Find logs at: <code>./wandb/run-20250330_115204-0w7hbaz6/logs</code>"
            ]
          },
          "metadata": {}
        },
        {
          "output_type": "stream",
          "name": "stderr",
          "text": [
            "\u001b[34m\u001b[1mwandb\u001b[0m: Agent Starting Run: p4ph3hi2 with config:\n",
            "\u001b[34m\u001b[1mwandb\u001b[0m: \talgorithm: q_learning\n",
            "\u001b[34m\u001b[1mwandb\u001b[0m: \talpha: 0.35998434028213033\n",
            "\u001b[34m\u001b[1mwandb\u001b[0m: \tparam_value: 0.2201693384116052\n",
            "\u001b[34m\u001b[1mwandb\u001b[0m: \tpolicy_type: softmax\n"
          ]
        },
        {
          "output_type": "display_data",
          "data": {
            "text/plain": [
              "<IPython.core.display.HTML object>"
            ],
            "text/html": [
              "Tracking run with wandb version 0.19.8"
            ]
          },
          "metadata": {}
        },
        {
          "output_type": "display_data",
          "data": {
            "text/plain": [
              "<IPython.core.display.HTML object>"
            ],
            "text/html": [
              "Run data is saved locally in <code>/content/wandb/run-20250330_115300-p4ph3hi2</code>"
            ]
          },
          "metadata": {}
        },
        {
          "output_type": "display_data",
          "data": {
            "text/plain": [
              "<IPython.core.display.HTML object>"
            ],
            "text/html": [
              "Syncing run <strong><a href='https://wandb.ai/ed22b051-iit-madras-foundation/RL_PA1_Sweep_PolicyComparison_FixedGamma/runs/p4ph3hi2' target=\"_blank\">soft-sweep-18</a></strong> to <a href='https://wandb.ai/ed22b051-iit-madras-foundation/RL_PA1_Sweep_PolicyComparison_FixedGamma' target=\"_blank\">Weights & Biases</a> (<a href='https://wandb.me/developer-guide' target=\"_blank\">docs</a>)<br>Sweep page: <a href='https://wandb.ai/ed22b051-iit-madras-foundation/RL_PA1_Sweep_PolicyComparison_FixedGamma/sweeps/vluleyzf' target=\"_blank\">https://wandb.ai/ed22b051-iit-madras-foundation/RL_PA1_Sweep_PolicyComparison_FixedGamma/sweeps/vluleyzf</a>"
            ]
          },
          "metadata": {}
        },
        {
          "output_type": "display_data",
          "data": {
            "text/plain": [
              "<IPython.core.display.HTML object>"
            ],
            "text/html": [
              " View project at <a href='https://wandb.ai/ed22b051-iit-madras-foundation/RL_PA1_Sweep_PolicyComparison_FixedGamma' target=\"_blank\">https://wandb.ai/ed22b051-iit-madras-foundation/RL_PA1_Sweep_PolicyComparison_FixedGamma</a>"
            ]
          },
          "metadata": {}
        },
        {
          "output_type": "display_data",
          "data": {
            "text/plain": [
              "<IPython.core.display.HTML object>"
            ],
            "text/html": [
              " View sweep at <a href='https://wandb.ai/ed22b051-iit-madras-foundation/RL_PA1_Sweep_PolicyComparison_FixedGamma/sweeps/vluleyzf' target=\"_blank\">https://wandb.ai/ed22b051-iit-madras-foundation/RL_PA1_Sweep_PolicyComparison_FixedGamma/sweeps/vluleyzf</a>"
            ]
          },
          "metadata": {}
        },
        {
          "output_type": "display_data",
          "data": {
            "text/plain": [
              "<IPython.core.display.HTML object>"
            ],
            "text/html": [
              " View run at <a href='https://wandb.ai/ed22b051-iit-madras-foundation/RL_PA1_Sweep_PolicyComparison_FixedGamma/runs/p4ph3hi2' target=\"_blank\">https://wandb.ai/ed22b051-iit-madras-foundation/RL_PA1_Sweep_PolicyComparison_FixedGamma/runs/p4ph3hi2</a>"
            ]
          },
          "metadata": {}
        },
        {
          "output_type": "stream",
          "name": "stderr",
          "text": [
            "Q-Learning (softmax): 100%|██████████| 1000/1000 [00:08<00:00, 115.73it/s]\n",
            "Q-Learning (softmax): 100%|██████████| 1000/1000 [00:12<00:00, 82.08it/s]\n",
            "Q-Learning (softmax): 100%|██████████| 1000/1000 [00:08<00:00, 120.67it/s]\n"
          ]
        },
        {
          "output_type": "display_data",
          "data": {
            "text/plain": [
              "<IPython.core.display.HTML object>"
            ],
            "text/html": []
          },
          "metadata": {}
        },
        {
          "output_type": "display_data",
          "data": {
            "text/plain": [
              "<IPython.core.display.HTML object>"
            ],
            "text/html": [
              "<br>    <style><br>        .wandb-row {<br>            display: flex;<br>            flex-direction: row;<br>            flex-wrap: wrap;<br>            justify-content: flex-start;<br>            width: 100%;<br>        }<br>        .wandb-col {<br>            display: flex;<br>            flex-direction: column;<br>            flex-basis: 100%;<br>            flex: 1;<br>            padding: 10px;<br>        }<br>    </style><br><div class=\"wandb-row\"><div class=\"wandb-col\"><h3>Run history:</h3><br/><table class=\"wandb\"><tr><td>Q_softmax/reward</td><td>▄▂▁▂▁▂▂▁▁▂▂▂▂▂▁▃▃▃▂▄▅▃▃▃▃▃▃▁▁▂▃▂▂▂▂▄▃▁▃█</td></tr><tr><td>avg_reward</td><td>▁</td></tr><tr><td>episode</td><td>▁▁▁▂▂▂▃▃▃▄▇▇█▁▁▂▂▂▂▃▄▄▄▅▆▆▆▇▇█▁▃▄▅▅▅▆▇▇█</td></tr></table><br/></div><div class=\"wandb-col\"><h3>Run summary:</h3><br/><table class=\"wandb\"><tr><td>Q_softmax/reward</td><td>46</td></tr><tr><td>avg_reward</td><td>40.88</td></tr><tr><td>episode</td><td>999</td></tr></table><br/></div></div>"
            ]
          },
          "metadata": {}
        },
        {
          "output_type": "display_data",
          "data": {
            "text/plain": [
              "<IPython.core.display.HTML object>"
            ],
            "text/html": [
              " View run <strong style=\"color:#cdcd00\">soft-sweep-18</strong> at: <a href='https://wandb.ai/ed22b051-iit-madras-foundation/RL_PA1_Sweep_PolicyComparison_FixedGamma/runs/p4ph3hi2' target=\"_blank\">https://wandb.ai/ed22b051-iit-madras-foundation/RL_PA1_Sweep_PolicyComparison_FixedGamma/runs/p4ph3hi2</a><br> View project at: <a href='https://wandb.ai/ed22b051-iit-madras-foundation/RL_PA1_Sweep_PolicyComparison_FixedGamma' target=\"_blank\">https://wandb.ai/ed22b051-iit-madras-foundation/RL_PA1_Sweep_PolicyComparison_FixedGamma</a><br>Synced 5 W&B file(s), 0 media file(s), 0 artifact file(s) and 0 other file(s)"
            ]
          },
          "metadata": {}
        },
        {
          "output_type": "display_data",
          "data": {
            "text/plain": [
              "<IPython.core.display.HTML object>"
            ],
            "text/html": [
              "Find logs at: <code>./wandb/run-20250330_115300-p4ph3hi2/logs</code>"
            ]
          },
          "metadata": {}
        },
        {
          "output_type": "stream",
          "name": "stderr",
          "text": [
            "\u001b[34m\u001b[1mwandb\u001b[0m: Agent Starting Run: 1dmt5idv with config:\n",
            "\u001b[34m\u001b[1mwandb\u001b[0m: \talgorithm: q_learning\n",
            "\u001b[34m\u001b[1mwandb\u001b[0m: \talpha: 0.40543624174008686\n",
            "\u001b[34m\u001b[1mwandb\u001b[0m: \tparam_value: 0.21408494884749696\n",
            "\u001b[34m\u001b[1mwandb\u001b[0m: \tpolicy_type: epsilon_greedy\n"
          ]
        },
        {
          "output_type": "display_data",
          "data": {
            "text/plain": [
              "<IPython.core.display.HTML object>"
            ],
            "text/html": [
              "Tracking run with wandb version 0.19.8"
            ]
          },
          "metadata": {}
        },
        {
          "output_type": "display_data",
          "data": {
            "text/plain": [
              "<IPython.core.display.HTML object>"
            ],
            "text/html": [
              "Run data is saved locally in <code>/content/wandb/run-20250330_115336-1dmt5idv</code>"
            ]
          },
          "metadata": {}
        },
        {
          "output_type": "display_data",
          "data": {
            "text/plain": [
              "<IPython.core.display.HTML object>"
            ],
            "text/html": [
              "Syncing run <strong><a href='https://wandb.ai/ed22b051-iit-madras-foundation/RL_PA1_Sweep_PolicyComparison_FixedGamma/runs/1dmt5idv' target=\"_blank\">stellar-sweep-19</a></strong> to <a href='https://wandb.ai/ed22b051-iit-madras-foundation/RL_PA1_Sweep_PolicyComparison_FixedGamma' target=\"_blank\">Weights & Biases</a> (<a href='https://wandb.me/developer-guide' target=\"_blank\">docs</a>)<br>Sweep page: <a href='https://wandb.ai/ed22b051-iit-madras-foundation/RL_PA1_Sweep_PolicyComparison_FixedGamma/sweeps/vluleyzf' target=\"_blank\">https://wandb.ai/ed22b051-iit-madras-foundation/RL_PA1_Sweep_PolicyComparison_FixedGamma/sweeps/vluleyzf</a>"
            ]
          },
          "metadata": {}
        },
        {
          "output_type": "display_data",
          "data": {
            "text/plain": [
              "<IPython.core.display.HTML object>"
            ],
            "text/html": [
              " View project at <a href='https://wandb.ai/ed22b051-iit-madras-foundation/RL_PA1_Sweep_PolicyComparison_FixedGamma' target=\"_blank\">https://wandb.ai/ed22b051-iit-madras-foundation/RL_PA1_Sweep_PolicyComparison_FixedGamma</a>"
            ]
          },
          "metadata": {}
        },
        {
          "output_type": "display_data",
          "data": {
            "text/plain": [
              "<IPython.core.display.HTML object>"
            ],
            "text/html": [
              " View sweep at <a href='https://wandb.ai/ed22b051-iit-madras-foundation/RL_PA1_Sweep_PolicyComparison_FixedGamma/sweeps/vluleyzf' target=\"_blank\">https://wandb.ai/ed22b051-iit-madras-foundation/RL_PA1_Sweep_PolicyComparison_FixedGamma/sweeps/vluleyzf</a>"
            ]
          },
          "metadata": {}
        },
        {
          "output_type": "display_data",
          "data": {
            "text/plain": [
              "<IPython.core.display.HTML object>"
            ],
            "text/html": [
              " View run at <a href='https://wandb.ai/ed22b051-iit-madras-foundation/RL_PA1_Sweep_PolicyComparison_FixedGamma/runs/1dmt5idv' target=\"_blank\">https://wandb.ai/ed22b051-iit-madras-foundation/RL_PA1_Sweep_PolicyComparison_FixedGamma/runs/1dmt5idv</a>"
            ]
          },
          "metadata": {}
        },
        {
          "output_type": "stream",
          "name": "stderr",
          "text": [
            "Q-Learning (epsilon_greedy): 100%|██████████| 1000/1000 [00:19<00:00, 52.27it/s]\n",
            "Q-Learning (epsilon_greedy): 100%|██████████| 1000/1000 [00:16<00:00, 58.83it/s]\n",
            "Q-Learning (epsilon_greedy): 100%|██████████| 1000/1000 [00:18<00:00, 55.01it/s]\n"
          ]
        },
        {
          "output_type": "display_data",
          "data": {
            "text/plain": [
              "<IPython.core.display.HTML object>"
            ],
            "text/html": []
          },
          "metadata": {}
        },
        {
          "output_type": "display_data",
          "data": {
            "text/plain": [
              "<IPython.core.display.HTML object>"
            ],
            "text/html": [
              "<br>    <style><br>        .wandb-row {<br>            display: flex;<br>            flex-direction: row;<br>            flex-wrap: wrap;<br>            justify-content: flex-start;<br>            width: 100%;<br>        }<br>        .wandb-col {<br>            display: flex;<br>            flex-direction: column;<br>            flex-basis: 100%;<br>            flex: 1;<br>            padding: 10px;<br>        }<br>    </style><br><div class=\"wandb-row\"><div class=\"wandb-col\"><h3>Run history:</h3><br/><table class=\"wandb\"><tr><td>Q_epsilon_greedy/reward</td><td>▁▁▁▁▃▃▂▃▃▂▃▂▄▁▁▂▃▂▂▂▂▂▃▃▃▂▃█▂▃▁▁▁▃▂▂▁▂▂▂</td></tr><tr><td>avg_reward</td><td>▁</td></tr><tr><td>episode</td><td>▁▁▂▂▂▃▄▄▄▄▄▆▆▆▆▇▇▇▇▇██▂▂▃▄▅▅▆▇█▁▂▂▃▄▄▅▅█</td></tr></table><br/></div><div class=\"wandb-col\"><h3>Run summary:</h3><br/><table class=\"wandb\"><tr><td>Q_epsilon_greedy/reward</td><td>82</td></tr><tr><td>avg_reward</td><td>111.12333</td></tr><tr><td>episode</td><td>999</td></tr></table><br/></div></div>"
            ]
          },
          "metadata": {}
        },
        {
          "output_type": "display_data",
          "data": {
            "text/plain": [
              "<IPython.core.display.HTML object>"
            ],
            "text/html": [
              " View run <strong style=\"color:#cdcd00\">stellar-sweep-19</strong> at: <a href='https://wandb.ai/ed22b051-iit-madras-foundation/RL_PA1_Sweep_PolicyComparison_FixedGamma/runs/1dmt5idv' target=\"_blank\">https://wandb.ai/ed22b051-iit-madras-foundation/RL_PA1_Sweep_PolicyComparison_FixedGamma/runs/1dmt5idv</a><br> View project at: <a href='https://wandb.ai/ed22b051-iit-madras-foundation/RL_PA1_Sweep_PolicyComparison_FixedGamma' target=\"_blank\">https://wandb.ai/ed22b051-iit-madras-foundation/RL_PA1_Sweep_PolicyComparison_FixedGamma</a><br>Synced 5 W&B file(s), 0 media file(s), 0 artifact file(s) and 0 other file(s)"
            ]
          },
          "metadata": {}
        },
        {
          "output_type": "display_data",
          "data": {
            "text/plain": [
              "<IPython.core.display.HTML object>"
            ],
            "text/html": [
              "Find logs at: <code>./wandb/run-20250330_115336-1dmt5idv/logs</code>"
            ]
          },
          "metadata": {}
        },
        {
          "output_type": "stream",
          "name": "stderr",
          "text": [
            "\u001b[34m\u001b[1mwandb\u001b[0m: Agent Starting Run: mizxks3u with config:\n",
            "\u001b[34m\u001b[1mwandb\u001b[0m: \talgorithm: q_learning\n",
            "\u001b[34m\u001b[1mwandb\u001b[0m: \talpha: 0.31899944690170423\n",
            "\u001b[34m\u001b[1mwandb\u001b[0m: \tparam_value: 0.20729597394285493\n",
            "\u001b[34m\u001b[1mwandb\u001b[0m: \tpolicy_type: epsilon_greedy\n"
          ]
        },
        {
          "output_type": "display_data",
          "data": {
            "text/plain": [
              "<IPython.core.display.HTML object>"
            ],
            "text/html": [
              "Tracking run with wandb version 0.19.8"
            ]
          },
          "metadata": {}
        },
        {
          "output_type": "display_data",
          "data": {
            "text/plain": [
              "<IPython.core.display.HTML object>"
            ],
            "text/html": [
              "Run data is saved locally in <code>/content/wandb/run-20250330_115438-mizxks3u</code>"
            ]
          },
          "metadata": {}
        },
        {
          "output_type": "display_data",
          "data": {
            "text/plain": [
              "<IPython.core.display.HTML object>"
            ],
            "text/html": [
              "Syncing run <strong><a href='https://wandb.ai/ed22b051-iit-madras-foundation/RL_PA1_Sweep_PolicyComparison_FixedGamma/runs/mizxks3u' target=\"_blank\">easy-sweep-20</a></strong> to <a href='https://wandb.ai/ed22b051-iit-madras-foundation/RL_PA1_Sweep_PolicyComparison_FixedGamma' target=\"_blank\">Weights & Biases</a> (<a href='https://wandb.me/developer-guide' target=\"_blank\">docs</a>)<br>Sweep page: <a href='https://wandb.ai/ed22b051-iit-madras-foundation/RL_PA1_Sweep_PolicyComparison_FixedGamma/sweeps/vluleyzf' target=\"_blank\">https://wandb.ai/ed22b051-iit-madras-foundation/RL_PA1_Sweep_PolicyComparison_FixedGamma/sweeps/vluleyzf</a>"
            ]
          },
          "metadata": {}
        },
        {
          "output_type": "display_data",
          "data": {
            "text/plain": [
              "<IPython.core.display.HTML object>"
            ],
            "text/html": [
              " View project at <a href='https://wandb.ai/ed22b051-iit-madras-foundation/RL_PA1_Sweep_PolicyComparison_FixedGamma' target=\"_blank\">https://wandb.ai/ed22b051-iit-madras-foundation/RL_PA1_Sweep_PolicyComparison_FixedGamma</a>"
            ]
          },
          "metadata": {}
        },
        {
          "output_type": "display_data",
          "data": {
            "text/plain": [
              "<IPython.core.display.HTML object>"
            ],
            "text/html": [
              " View sweep at <a href='https://wandb.ai/ed22b051-iit-madras-foundation/RL_PA1_Sweep_PolicyComparison_FixedGamma/sweeps/vluleyzf' target=\"_blank\">https://wandb.ai/ed22b051-iit-madras-foundation/RL_PA1_Sweep_PolicyComparison_FixedGamma/sweeps/vluleyzf</a>"
            ]
          },
          "metadata": {}
        },
        {
          "output_type": "display_data",
          "data": {
            "text/plain": [
              "<IPython.core.display.HTML object>"
            ],
            "text/html": [
              " View run at <a href='https://wandb.ai/ed22b051-iit-madras-foundation/RL_PA1_Sweep_PolicyComparison_FixedGamma/runs/mizxks3u' target=\"_blank\">https://wandb.ai/ed22b051-iit-madras-foundation/RL_PA1_Sweep_PolicyComparison_FixedGamma/runs/mizxks3u</a>"
            ]
          },
          "metadata": {}
        },
        {
          "output_type": "stream",
          "name": "stderr",
          "text": [
            "Q-Learning (epsilon_greedy): 100%|██████████| 1000/1000 [00:14<00:00, 67.14it/s]\n",
            "Q-Learning (epsilon_greedy): 100%|██████████| 1000/1000 [00:18<00:00, 53.00it/s]\n",
            "Q-Learning (epsilon_greedy): 100%|██████████| 1000/1000 [00:13<00:00, 74.78it/s]\n"
          ]
        },
        {
          "output_type": "display_data",
          "data": {
            "text/plain": [
              "<IPython.core.display.HTML object>"
            ],
            "text/html": []
          },
          "metadata": {}
        },
        {
          "output_type": "display_data",
          "data": {
            "text/plain": [
              "<IPython.core.display.HTML object>"
            ],
            "text/html": [
              "<br>    <style><br>        .wandb-row {<br>            display: flex;<br>            flex-direction: row;<br>            flex-wrap: wrap;<br>            justify-content: flex-start;<br>            width: 100%;<br>        }<br>        .wandb-col {<br>            display: flex;<br>            flex-direction: column;<br>            flex-basis: 100%;<br>            flex: 1;<br>            padding: 10px;<br>        }<br>    </style><br><div class=\"wandb-row\"><div class=\"wandb-col\"><h3>Run history:</h3><br/><table class=\"wandb\"><tr><td>Q_epsilon_greedy/reward</td><td>▁▃▁▁▂▂▃▂▃█▄▂▂▂▂▃▁▃▅▄▃▄▃▄▃▂▃▄▃▃▃▁▁▁▁▂▂▃▂▄</td></tr><tr><td>avg_reward</td><td>▁</td></tr><tr><td>episode</td><td>▁▁▂▂▂▂▃▃▃▅▅▅▅▆▆▆▆▆▇▇██▃▃▄▅▅▆▆▇▄▄▅▅▅▆▇▇▇█</td></tr></table><br/></div><div class=\"wandb-col\"><h3>Run summary:</h3><br/><table class=\"wandb\"><tr><td>Q_epsilon_greedy/reward</td><td>110</td></tr><tr><td>avg_reward</td><td>108.50667</td></tr><tr><td>episode</td><td>999</td></tr></table><br/></div></div>"
            ]
          },
          "metadata": {}
        },
        {
          "output_type": "display_data",
          "data": {
            "text/plain": [
              "<IPython.core.display.HTML object>"
            ],
            "text/html": [
              " View run <strong style=\"color:#cdcd00\">easy-sweep-20</strong> at: <a href='https://wandb.ai/ed22b051-iit-madras-foundation/RL_PA1_Sweep_PolicyComparison_FixedGamma/runs/mizxks3u' target=\"_blank\">https://wandb.ai/ed22b051-iit-madras-foundation/RL_PA1_Sweep_PolicyComparison_FixedGamma/runs/mizxks3u</a><br> View project at: <a href='https://wandb.ai/ed22b051-iit-madras-foundation/RL_PA1_Sweep_PolicyComparison_FixedGamma' target=\"_blank\">https://wandb.ai/ed22b051-iit-madras-foundation/RL_PA1_Sweep_PolicyComparison_FixedGamma</a><br>Synced 5 W&B file(s), 0 media file(s), 0 artifact file(s) and 0 other file(s)"
            ]
          },
          "metadata": {}
        },
        {
          "output_type": "display_data",
          "data": {
            "text/plain": [
              "<IPython.core.display.HTML object>"
            ],
            "text/html": [
              "Find logs at: <code>./wandb/run-20250330_115438-mizxks3u/logs</code>"
            ]
          },
          "metadata": {}
        },
        {
          "output_type": "stream",
          "name": "stderr",
          "text": [
            "\u001b[34m\u001b[1mwandb\u001b[0m: Sweep Agent: Waiting for job.\n",
            "\u001b[34m\u001b[1mwandb\u001b[0m: Job received.\n",
            "\u001b[34m\u001b[1mwandb\u001b[0m: Agent Starting Run: c9u86kyu with config:\n",
            "\u001b[34m\u001b[1mwandb\u001b[0m: \talgorithm: q_learning\n",
            "\u001b[34m\u001b[1mwandb\u001b[0m: \talpha: 0.36952583895948576\n",
            "\u001b[34m\u001b[1mwandb\u001b[0m: \tparam_value: 0.2414199674540164\n",
            "\u001b[34m\u001b[1mwandb\u001b[0m: \tpolicy_type: epsilon_greedy\n"
          ]
        },
        {
          "output_type": "display_data",
          "data": {
            "text/plain": [
              "<IPython.core.display.HTML object>"
            ],
            "text/html": [
              "Tracking run with wandb version 0.19.8"
            ]
          },
          "metadata": {}
        },
        {
          "output_type": "display_data",
          "data": {
            "text/plain": [
              "<IPython.core.display.HTML object>"
            ],
            "text/html": [
              "Run data is saved locally in <code>/content/wandb/run-20250330_115548-c9u86kyu</code>"
            ]
          },
          "metadata": {}
        },
        {
          "output_type": "display_data",
          "data": {
            "text/plain": [
              "<IPython.core.display.HTML object>"
            ],
            "text/html": [
              "Syncing run <strong><a href='https://wandb.ai/ed22b051-iit-madras-foundation/RL_PA1_Sweep_PolicyComparison_FixedGamma/runs/c9u86kyu' target=\"_blank\">different-sweep-21</a></strong> to <a href='https://wandb.ai/ed22b051-iit-madras-foundation/RL_PA1_Sweep_PolicyComparison_FixedGamma' target=\"_blank\">Weights & Biases</a> (<a href='https://wandb.me/developer-guide' target=\"_blank\">docs</a>)<br>Sweep page: <a href='https://wandb.ai/ed22b051-iit-madras-foundation/RL_PA1_Sweep_PolicyComparison_FixedGamma/sweeps/vluleyzf' target=\"_blank\">https://wandb.ai/ed22b051-iit-madras-foundation/RL_PA1_Sweep_PolicyComparison_FixedGamma/sweeps/vluleyzf</a>"
            ]
          },
          "metadata": {}
        },
        {
          "output_type": "display_data",
          "data": {
            "text/plain": [
              "<IPython.core.display.HTML object>"
            ],
            "text/html": [
              " View project at <a href='https://wandb.ai/ed22b051-iit-madras-foundation/RL_PA1_Sweep_PolicyComparison_FixedGamma' target=\"_blank\">https://wandb.ai/ed22b051-iit-madras-foundation/RL_PA1_Sweep_PolicyComparison_FixedGamma</a>"
            ]
          },
          "metadata": {}
        },
        {
          "output_type": "display_data",
          "data": {
            "text/plain": [
              "<IPython.core.display.HTML object>"
            ],
            "text/html": [
              " View sweep at <a href='https://wandb.ai/ed22b051-iit-madras-foundation/RL_PA1_Sweep_PolicyComparison_FixedGamma/sweeps/vluleyzf' target=\"_blank\">https://wandb.ai/ed22b051-iit-madras-foundation/RL_PA1_Sweep_PolicyComparison_FixedGamma/sweeps/vluleyzf</a>"
            ]
          },
          "metadata": {}
        },
        {
          "output_type": "display_data",
          "data": {
            "text/plain": [
              "<IPython.core.display.HTML object>"
            ],
            "text/html": [
              " View run at <a href='https://wandb.ai/ed22b051-iit-madras-foundation/RL_PA1_Sweep_PolicyComparison_FixedGamma/runs/c9u86kyu' target=\"_blank\">https://wandb.ai/ed22b051-iit-madras-foundation/RL_PA1_Sweep_PolicyComparison_FixedGamma/runs/c9u86kyu</a>"
            ]
          },
          "metadata": {}
        },
        {
          "output_type": "stream",
          "name": "stderr",
          "text": [
            "Q-Learning (epsilon_greedy): 100%|██████████| 1000/1000 [00:16<00:00, 61.25it/s]\n",
            "Q-Learning (epsilon_greedy): 100%|██████████| 1000/1000 [00:17<00:00, 57.50it/s]\n",
            "Q-Learning (epsilon_greedy): 100%|██████████| 1000/1000 [00:12<00:00, 77.83it/s]\n"
          ]
        },
        {
          "output_type": "display_data",
          "data": {
            "text/plain": [
              "<IPython.core.display.HTML object>"
            ],
            "text/html": []
          },
          "metadata": {}
        },
        {
          "output_type": "display_data",
          "data": {
            "text/plain": [
              "<IPython.core.display.HTML object>"
            ],
            "text/html": [
              "<br>    <style><br>        .wandb-row {<br>            display: flex;<br>            flex-direction: row;<br>            flex-wrap: wrap;<br>            justify-content: flex-start;<br>            width: 100%;<br>        }<br>        .wandb-col {<br>            display: flex;<br>            flex-direction: column;<br>            flex-basis: 100%;<br>            flex: 1;<br>            padding: 10px;<br>        }<br>    </style><br><div class=\"wandb-row\"><div class=\"wandb-col\"><h3>Run history:</h3><br/><table class=\"wandb\"><tr><td>Q_epsilon_greedy/reward</td><td>▁▃▃▄▃▇█▄▅▂▂▂▆▄▄▁▃▃▂▆▃▄▃▁▆▃▅▃▁▁▁▂▃▂▂▅▂▂▂▃</td></tr><tr><td>avg_reward</td><td>▁</td></tr><tr><td>episode</td><td>▂▃▃▄▄▅▅▆▆▆█▁▁▂▂▂▃▄▄▅▆▆▆▆▇▁▁▂▂▂▃▃▄▄▅▅▆▆▆█</td></tr></table><br/></div><div class=\"wandb-col\"><h3>Run summary:</h3><br/><table class=\"wandb\"><tr><td>Q_epsilon_greedy/reward</td><td>131</td></tr><tr><td>avg_reward</td><td>119.92667</td></tr><tr><td>episode</td><td>999</td></tr></table><br/></div></div>"
            ]
          },
          "metadata": {}
        },
        {
          "output_type": "display_data",
          "data": {
            "text/plain": [
              "<IPython.core.display.HTML object>"
            ],
            "text/html": [
              " View run <strong style=\"color:#cdcd00\">different-sweep-21</strong> at: <a href='https://wandb.ai/ed22b051-iit-madras-foundation/RL_PA1_Sweep_PolicyComparison_FixedGamma/runs/c9u86kyu' target=\"_blank\">https://wandb.ai/ed22b051-iit-madras-foundation/RL_PA1_Sweep_PolicyComparison_FixedGamma/runs/c9u86kyu</a><br> View project at: <a href='https://wandb.ai/ed22b051-iit-madras-foundation/RL_PA1_Sweep_PolicyComparison_FixedGamma' target=\"_blank\">https://wandb.ai/ed22b051-iit-madras-foundation/RL_PA1_Sweep_PolicyComparison_FixedGamma</a><br>Synced 5 W&B file(s), 0 media file(s), 0 artifact file(s) and 0 other file(s)"
            ]
          },
          "metadata": {}
        },
        {
          "output_type": "display_data",
          "data": {
            "text/plain": [
              "<IPython.core.display.HTML object>"
            ],
            "text/html": [
              "Find logs at: <code>./wandb/run-20250330_115548-c9u86kyu/logs</code>"
            ]
          },
          "metadata": {}
        },
        {
          "output_type": "stream",
          "name": "stderr",
          "text": [
            "\u001b[34m\u001b[1mwandb\u001b[0m: Agent Starting Run: cjdpbizz with config:\n",
            "\u001b[34m\u001b[1mwandb\u001b[0m: \talgorithm: q_learning\n",
            "\u001b[34m\u001b[1mwandb\u001b[0m: \talpha: 0.4155865213139286\n",
            "\u001b[34m\u001b[1mwandb\u001b[0m: \tparam_value: 0.23113207584464196\n",
            "\u001b[34m\u001b[1mwandb\u001b[0m: \tpolicy_type: epsilon_greedy\n"
          ]
        },
        {
          "output_type": "display_data",
          "data": {
            "text/plain": [
              "<IPython.core.display.HTML object>"
            ],
            "text/html": [
              "Tracking run with wandb version 0.19.8"
            ]
          },
          "metadata": {}
        },
        {
          "output_type": "display_data",
          "data": {
            "text/plain": [
              "<IPython.core.display.HTML object>"
            ],
            "text/html": [
              "Run data is saved locally in <code>/content/wandb/run-20250330_115641-cjdpbizz</code>"
            ]
          },
          "metadata": {}
        },
        {
          "output_type": "display_data",
          "data": {
            "text/plain": [
              "<IPython.core.display.HTML object>"
            ],
            "text/html": [
              "Syncing run <strong><a href='https://wandb.ai/ed22b051-iit-madras-foundation/RL_PA1_Sweep_PolicyComparison_FixedGamma/runs/cjdpbizz' target=\"_blank\">lucky-sweep-22</a></strong> to <a href='https://wandb.ai/ed22b051-iit-madras-foundation/RL_PA1_Sweep_PolicyComparison_FixedGamma' target=\"_blank\">Weights & Biases</a> (<a href='https://wandb.me/developer-guide' target=\"_blank\">docs</a>)<br>Sweep page: <a href='https://wandb.ai/ed22b051-iit-madras-foundation/RL_PA1_Sweep_PolicyComparison_FixedGamma/sweeps/vluleyzf' target=\"_blank\">https://wandb.ai/ed22b051-iit-madras-foundation/RL_PA1_Sweep_PolicyComparison_FixedGamma/sweeps/vluleyzf</a>"
            ]
          },
          "metadata": {}
        },
        {
          "output_type": "display_data",
          "data": {
            "text/plain": [
              "<IPython.core.display.HTML object>"
            ],
            "text/html": [
              " View project at <a href='https://wandb.ai/ed22b051-iit-madras-foundation/RL_PA1_Sweep_PolicyComparison_FixedGamma' target=\"_blank\">https://wandb.ai/ed22b051-iit-madras-foundation/RL_PA1_Sweep_PolicyComparison_FixedGamma</a>"
            ]
          },
          "metadata": {}
        },
        {
          "output_type": "display_data",
          "data": {
            "text/plain": [
              "<IPython.core.display.HTML object>"
            ],
            "text/html": [
              " View sweep at <a href='https://wandb.ai/ed22b051-iit-madras-foundation/RL_PA1_Sweep_PolicyComparison_FixedGamma/sweeps/vluleyzf' target=\"_blank\">https://wandb.ai/ed22b051-iit-madras-foundation/RL_PA1_Sweep_PolicyComparison_FixedGamma/sweeps/vluleyzf</a>"
            ]
          },
          "metadata": {}
        },
        {
          "output_type": "display_data",
          "data": {
            "text/plain": [
              "<IPython.core.display.HTML object>"
            ],
            "text/html": [
              " View run at <a href='https://wandb.ai/ed22b051-iit-madras-foundation/RL_PA1_Sweep_PolicyComparison_FixedGamma/runs/cjdpbizz' target=\"_blank\">https://wandb.ai/ed22b051-iit-madras-foundation/RL_PA1_Sweep_PolicyComparison_FixedGamma/runs/cjdpbizz</a>"
            ]
          },
          "metadata": {}
        },
        {
          "output_type": "stream",
          "name": "stderr",
          "text": [
            "Q-Learning (epsilon_greedy): 100%|██████████| 1000/1000 [00:17<00:00, 57.91it/s]\n",
            "Q-Learning (epsilon_greedy): 100%|██████████| 1000/1000 [00:17<00:00, 55.61it/s]\n",
            "Q-Learning (epsilon_greedy): 100%|██████████| 1000/1000 [00:14<00:00, 68.58it/s]\n"
          ]
        },
        {
          "output_type": "display_data",
          "data": {
            "text/plain": [
              "<IPython.core.display.HTML object>"
            ],
            "text/html": []
          },
          "metadata": {}
        },
        {
          "output_type": "display_data",
          "data": {
            "text/plain": [
              "<IPython.core.display.HTML object>"
            ],
            "text/html": [
              "<br>    <style><br>        .wandb-row {<br>            display: flex;<br>            flex-direction: row;<br>            flex-wrap: wrap;<br>            justify-content: flex-start;<br>            width: 100%;<br>        }<br>        .wandb-col {<br>            display: flex;<br>            flex-direction: column;<br>            flex-basis: 100%;<br>            flex: 1;<br>            padding: 10px;<br>        }<br>    </style><br><div class=\"wandb-row\"><div class=\"wandb-col\"><h3>Run history:</h3><br/><table class=\"wandb\"><tr><td>Q_epsilon_greedy/reward</td><td>▁▁▂▄▂▂▃▃▃▅▅▁▁▂▃▂▂▂▂▄██▂▄▄▁▁▂▂▃▂▃▁▅▂▃▃▂▁▄</td></tr><tr><td>avg_reward</td><td>▁</td></tr><tr><td>episode</td><td>▁▁▂▂▂▃▄▄▆▆███▁▃▄▄▄▄▄▄▅▅▆▆▇▇█▁▁▂▂▃▃▅▆▇▇▇█</td></tr></table><br/></div><div class=\"wandb-col\"><h3>Run summary:</h3><br/><table class=\"wandb\"><tr><td>Q_epsilon_greedy/reward</td><td>94</td></tr><tr><td>avg_reward</td><td>130.61</td></tr><tr><td>episode</td><td>999</td></tr></table><br/></div></div>"
            ]
          },
          "metadata": {}
        },
        {
          "output_type": "display_data",
          "data": {
            "text/plain": [
              "<IPython.core.display.HTML object>"
            ],
            "text/html": [
              " View run <strong style=\"color:#cdcd00\">lucky-sweep-22</strong> at: <a href='https://wandb.ai/ed22b051-iit-madras-foundation/RL_PA1_Sweep_PolicyComparison_FixedGamma/runs/cjdpbizz' target=\"_blank\">https://wandb.ai/ed22b051-iit-madras-foundation/RL_PA1_Sweep_PolicyComparison_FixedGamma/runs/cjdpbizz</a><br> View project at: <a href='https://wandb.ai/ed22b051-iit-madras-foundation/RL_PA1_Sweep_PolicyComparison_FixedGamma' target=\"_blank\">https://wandb.ai/ed22b051-iit-madras-foundation/RL_PA1_Sweep_PolicyComparison_FixedGamma</a><br>Synced 5 W&B file(s), 0 media file(s), 0 artifact file(s) and 0 other file(s)"
            ]
          },
          "metadata": {}
        },
        {
          "output_type": "display_data",
          "data": {
            "text/plain": [
              "<IPython.core.display.HTML object>"
            ],
            "text/html": [
              "Find logs at: <code>./wandb/run-20250330_115641-cjdpbizz/logs</code>"
            ]
          },
          "metadata": {}
        },
        {
          "output_type": "stream",
          "name": "stderr",
          "text": [
            "\u001b[34m\u001b[1mwandb\u001b[0m: Agent Starting Run: ev6f4z0c with config:\n",
            "\u001b[34m\u001b[1mwandb\u001b[0m: \talgorithm: q_learning\n",
            "\u001b[34m\u001b[1mwandb\u001b[0m: \talpha: 0.4293378198000344\n",
            "\u001b[34m\u001b[1mwandb\u001b[0m: \tparam_value: 0.21966424880097157\n",
            "\u001b[34m\u001b[1mwandb\u001b[0m: \tpolicy_type: epsilon_greedy\n"
          ]
        },
        {
          "output_type": "display_data",
          "data": {
            "text/plain": [
              "<IPython.core.display.HTML object>"
            ],
            "text/html": [
              "Tracking run with wandb version 0.19.8"
            ]
          },
          "metadata": {}
        },
        {
          "output_type": "display_data",
          "data": {
            "text/plain": [
              "<IPython.core.display.HTML object>"
            ],
            "text/html": [
              "Run data is saved locally in <code>/content/wandb/run-20250330_115736-ev6f4z0c</code>"
            ]
          },
          "metadata": {}
        },
        {
          "output_type": "display_data",
          "data": {
            "text/plain": [
              "<IPython.core.display.HTML object>"
            ],
            "text/html": [
              "Syncing run <strong><a href='https://wandb.ai/ed22b051-iit-madras-foundation/RL_PA1_Sweep_PolicyComparison_FixedGamma/runs/ev6f4z0c' target=\"_blank\">fearless-sweep-23</a></strong> to <a href='https://wandb.ai/ed22b051-iit-madras-foundation/RL_PA1_Sweep_PolicyComparison_FixedGamma' target=\"_blank\">Weights & Biases</a> (<a href='https://wandb.me/developer-guide' target=\"_blank\">docs</a>)<br>Sweep page: <a href='https://wandb.ai/ed22b051-iit-madras-foundation/RL_PA1_Sweep_PolicyComparison_FixedGamma/sweeps/vluleyzf' target=\"_blank\">https://wandb.ai/ed22b051-iit-madras-foundation/RL_PA1_Sweep_PolicyComparison_FixedGamma/sweeps/vluleyzf</a>"
            ]
          },
          "metadata": {}
        },
        {
          "output_type": "display_data",
          "data": {
            "text/plain": [
              "<IPython.core.display.HTML object>"
            ],
            "text/html": [
              " View project at <a href='https://wandb.ai/ed22b051-iit-madras-foundation/RL_PA1_Sweep_PolicyComparison_FixedGamma' target=\"_blank\">https://wandb.ai/ed22b051-iit-madras-foundation/RL_PA1_Sweep_PolicyComparison_FixedGamma</a>"
            ]
          },
          "metadata": {}
        },
        {
          "output_type": "display_data",
          "data": {
            "text/plain": [
              "<IPython.core.display.HTML object>"
            ],
            "text/html": [
              " View sweep at <a href='https://wandb.ai/ed22b051-iit-madras-foundation/RL_PA1_Sweep_PolicyComparison_FixedGamma/sweeps/vluleyzf' target=\"_blank\">https://wandb.ai/ed22b051-iit-madras-foundation/RL_PA1_Sweep_PolicyComparison_FixedGamma/sweeps/vluleyzf</a>"
            ]
          },
          "metadata": {}
        },
        {
          "output_type": "display_data",
          "data": {
            "text/plain": [
              "<IPython.core.display.HTML object>"
            ],
            "text/html": [
              " View run at <a href='https://wandb.ai/ed22b051-iit-madras-foundation/RL_PA1_Sweep_PolicyComparison_FixedGamma/runs/ev6f4z0c' target=\"_blank\">https://wandb.ai/ed22b051-iit-madras-foundation/RL_PA1_Sweep_PolicyComparison_FixedGamma/runs/ev6f4z0c</a>"
            ]
          },
          "metadata": {}
        },
        {
          "output_type": "stream",
          "name": "stderr",
          "text": [
            "Q-Learning (epsilon_greedy): 100%|██████████| 1000/1000 [00:17<00:00, 56.45it/s]\n",
            "Q-Learning (epsilon_greedy): 100%|██████████| 1000/1000 [00:18<00:00, 53.53it/s]\n",
            "Q-Learning (epsilon_greedy): 100%|██████████| 1000/1000 [00:20<00:00, 49.21it/s]\n"
          ]
        },
        {
          "output_type": "display_data",
          "data": {
            "text/plain": [
              "<IPython.core.display.HTML object>"
            ],
            "text/html": []
          },
          "metadata": {}
        },
        {
          "output_type": "display_data",
          "data": {
            "text/plain": [
              "<IPython.core.display.HTML object>"
            ],
            "text/html": [
              "<br>    <style><br>        .wandb-row {<br>            display: flex;<br>            flex-direction: row;<br>            flex-wrap: wrap;<br>            justify-content: flex-start;<br>            width: 100%;<br>        }<br>        .wandb-col {<br>            display: flex;<br>            flex-direction: column;<br>            flex-basis: 100%;<br>            flex: 1;<br>            padding: 10px;<br>        }<br>    </style><br><div class=\"wandb-row\"><div class=\"wandb-col\"><h3>Run history:</h3><br/><table class=\"wandb\"><tr><td>Q_epsilon_greedy/reward</td><td>▁▁▁▁▃▂▃▂▄▂▁▁▆▂▃▂▁▃▂▄▃▅▃▃▃▃▂▅▂▂▃▅▄▂▇▄▁▂█▃</td></tr><tr><td>avg_reward</td><td>▁</td></tr><tr><td>episode</td><td>▁▁▂▂▃▄▄▆▆▆▇▇▇██▁▂▂▂▃▄▄▅▆▆▇▇▇██▁▂▂▂▂▃▄▅▆▇</td></tr></table><br/></div><div class=\"wandb-col\"><h3>Run summary:</h3><br/><table class=\"wandb\"><tr><td>Q_epsilon_greedy/reward</td><td>223</td></tr><tr><td>avg_reward</td><td>141.40667</td></tr><tr><td>episode</td><td>999</td></tr></table><br/></div></div>"
            ]
          },
          "metadata": {}
        },
        {
          "output_type": "display_data",
          "data": {
            "text/plain": [
              "<IPython.core.display.HTML object>"
            ],
            "text/html": [
              " View run <strong style=\"color:#cdcd00\">fearless-sweep-23</strong> at: <a href='https://wandb.ai/ed22b051-iit-madras-foundation/RL_PA1_Sweep_PolicyComparison_FixedGamma/runs/ev6f4z0c' target=\"_blank\">https://wandb.ai/ed22b051-iit-madras-foundation/RL_PA1_Sweep_PolicyComparison_FixedGamma/runs/ev6f4z0c</a><br> View project at: <a href='https://wandb.ai/ed22b051-iit-madras-foundation/RL_PA1_Sweep_PolicyComparison_FixedGamma' target=\"_blank\">https://wandb.ai/ed22b051-iit-madras-foundation/RL_PA1_Sweep_PolicyComparison_FixedGamma</a><br>Synced 5 W&B file(s), 0 media file(s), 0 artifact file(s) and 0 other file(s)"
            ]
          },
          "metadata": {}
        },
        {
          "output_type": "display_data",
          "data": {
            "text/plain": [
              "<IPython.core.display.HTML object>"
            ],
            "text/html": [
              "Find logs at: <code>./wandb/run-20250330_115736-ev6f4z0c/logs</code>"
            ]
          },
          "metadata": {}
        },
        {
          "output_type": "stream",
          "name": "stderr",
          "text": [
            "\u001b[34m\u001b[1mwandb\u001b[0m: Agent Starting Run: vedk7zv7 with config:\n",
            "\u001b[34m\u001b[1mwandb\u001b[0m: \talgorithm: q_learning\n",
            "\u001b[34m\u001b[1mwandb\u001b[0m: \talpha: 0.16960813191185864\n",
            "\u001b[34m\u001b[1mwandb\u001b[0m: \tparam_value: 0.25713144394209253\n",
            "\u001b[34m\u001b[1mwandb\u001b[0m: \tpolicy_type: softmax\n"
          ]
        },
        {
          "output_type": "display_data",
          "data": {
            "text/plain": [
              "<IPython.core.display.HTML object>"
            ],
            "text/html": [
              "Tracking run with wandb version 0.19.8"
            ]
          },
          "metadata": {}
        },
        {
          "output_type": "display_data",
          "data": {
            "text/plain": [
              "<IPython.core.display.HTML object>"
            ],
            "text/html": [
              "Run data is saved locally in <code>/content/wandb/run-20250330_115838-vedk7zv7</code>"
            ]
          },
          "metadata": {}
        },
        {
          "output_type": "display_data",
          "data": {
            "text/plain": [
              "<IPython.core.display.HTML object>"
            ],
            "text/html": [
              "Syncing run <strong><a href='https://wandb.ai/ed22b051-iit-madras-foundation/RL_PA1_Sweep_PolicyComparison_FixedGamma/runs/vedk7zv7' target=\"_blank\">morning-sweep-24</a></strong> to <a href='https://wandb.ai/ed22b051-iit-madras-foundation/RL_PA1_Sweep_PolicyComparison_FixedGamma' target=\"_blank\">Weights & Biases</a> (<a href='https://wandb.me/developer-guide' target=\"_blank\">docs</a>)<br>Sweep page: <a href='https://wandb.ai/ed22b051-iit-madras-foundation/RL_PA1_Sweep_PolicyComparison_FixedGamma/sweeps/vluleyzf' target=\"_blank\">https://wandb.ai/ed22b051-iit-madras-foundation/RL_PA1_Sweep_PolicyComparison_FixedGamma/sweeps/vluleyzf</a>"
            ]
          },
          "metadata": {}
        },
        {
          "output_type": "display_data",
          "data": {
            "text/plain": [
              "<IPython.core.display.HTML object>"
            ],
            "text/html": [
              " View project at <a href='https://wandb.ai/ed22b051-iit-madras-foundation/RL_PA1_Sweep_PolicyComparison_FixedGamma' target=\"_blank\">https://wandb.ai/ed22b051-iit-madras-foundation/RL_PA1_Sweep_PolicyComparison_FixedGamma</a>"
            ]
          },
          "metadata": {}
        },
        {
          "output_type": "display_data",
          "data": {
            "text/plain": [
              "<IPython.core.display.HTML object>"
            ],
            "text/html": [
              " View sweep at <a href='https://wandb.ai/ed22b051-iit-madras-foundation/RL_PA1_Sweep_PolicyComparison_FixedGamma/sweeps/vluleyzf' target=\"_blank\">https://wandb.ai/ed22b051-iit-madras-foundation/RL_PA1_Sweep_PolicyComparison_FixedGamma/sweeps/vluleyzf</a>"
            ]
          },
          "metadata": {}
        },
        {
          "output_type": "display_data",
          "data": {
            "text/plain": [
              "<IPython.core.display.HTML object>"
            ],
            "text/html": [
              " View run at <a href='https://wandb.ai/ed22b051-iit-madras-foundation/RL_PA1_Sweep_PolicyComparison_FixedGamma/runs/vedk7zv7' target=\"_blank\">https://wandb.ai/ed22b051-iit-madras-foundation/RL_PA1_Sweep_PolicyComparison_FixedGamma/runs/vedk7zv7</a>"
            ]
          },
          "metadata": {}
        },
        {
          "output_type": "stream",
          "name": "stderr",
          "text": [
            "Q-Learning (softmax): 100%|██████████| 1000/1000 [00:25<00:00, 39.85it/s]\n",
            "Q-Learning (softmax): 100%|██████████| 1000/1000 [00:09<00:00, 109.35it/s]\n",
            "Q-Learning (softmax): 100%|██████████| 1000/1000 [00:04<00:00, 218.24it/s]\n"
          ]
        },
        {
          "output_type": "display_data",
          "data": {
            "text/plain": [
              "<IPython.core.display.HTML object>"
            ],
            "text/html": []
          },
          "metadata": {}
        },
        {
          "output_type": "display_data",
          "data": {
            "text/plain": [
              "<IPython.core.display.HTML object>"
            ],
            "text/html": [
              "<br>    <style><br>        .wandb-row {<br>            display: flex;<br>            flex-direction: row;<br>            flex-wrap: wrap;<br>            justify-content: flex-start;<br>            width: 100%;<br>        }<br>        .wandb-col {<br>            display: flex;<br>            flex-direction: column;<br>            flex-basis: 100%;<br>            flex: 1;<br>            padding: 10px;<br>        }<br>    </style><br><div class=\"wandb-row\"><div class=\"wandb-col\"><h3>Run history:</h3><br/><table class=\"wandb\"><tr><td>Q_softmax/reward</td><td>▄█▅▅▇▂▆▆▁▇▁▃▁▂▁▄▂▂▄▁▁▂▂▁▂▂▂▁▁▂▁▁▁▁▁▁▁▂▁▁</td></tr><tr><td>avg_reward</td><td>▁</td></tr><tr><td>episode</td><td>▁▂▃▃▄▅▅▆▆▆▇██▁▁▂▂▃▃▃▄▅▅▅▆██▁▂▂▂▂▂▃▃▄▅▇▇█</td></tr></table><br/></div><div class=\"wandb-col\"><h3>Run summary:</h3><br/><table class=\"wandb\"><tr><td>Q_softmax/reward</td><td>18</td></tr><tr><td>avg_reward</td><td>52.41667</td></tr><tr><td>episode</td><td>999</td></tr></table><br/></div></div>"
            ]
          },
          "metadata": {}
        },
        {
          "output_type": "display_data",
          "data": {
            "text/plain": [
              "<IPython.core.display.HTML object>"
            ],
            "text/html": [
              " View run <strong style=\"color:#cdcd00\">morning-sweep-24</strong> at: <a href='https://wandb.ai/ed22b051-iit-madras-foundation/RL_PA1_Sweep_PolicyComparison_FixedGamma/runs/vedk7zv7' target=\"_blank\">https://wandb.ai/ed22b051-iit-madras-foundation/RL_PA1_Sweep_PolicyComparison_FixedGamma/runs/vedk7zv7</a><br> View project at: <a href='https://wandb.ai/ed22b051-iit-madras-foundation/RL_PA1_Sweep_PolicyComparison_FixedGamma' target=\"_blank\">https://wandb.ai/ed22b051-iit-madras-foundation/RL_PA1_Sweep_PolicyComparison_FixedGamma</a><br>Synced 5 W&B file(s), 0 media file(s), 0 artifact file(s) and 0 other file(s)"
            ]
          },
          "metadata": {}
        },
        {
          "output_type": "display_data",
          "data": {
            "text/plain": [
              "<IPython.core.display.HTML object>"
            ],
            "text/html": [
              "Find logs at: <code>./wandb/run-20250330_115838-vedk7zv7/logs</code>"
            ]
          },
          "metadata": {}
        },
        {
          "output_type": "stream",
          "name": "stderr",
          "text": [
            "\u001b[34m\u001b[1mwandb\u001b[0m: Agent Starting Run: chwszmyq with config:\n",
            "\u001b[34m\u001b[1mwandb\u001b[0m: \talgorithm: sarsa\n",
            "\u001b[34m\u001b[1mwandb\u001b[0m: \talpha: 0.38957507932252866\n",
            "\u001b[34m\u001b[1mwandb\u001b[0m: \tparam_value: 0.18031554509395945\n",
            "\u001b[34m\u001b[1mwandb\u001b[0m: \tpolicy_type: epsilon_greedy\n"
          ]
        },
        {
          "output_type": "display_data",
          "data": {
            "text/plain": [
              "<IPython.core.display.HTML object>"
            ],
            "text/html": [
              "Tracking run with wandb version 0.19.8"
            ]
          },
          "metadata": {}
        },
        {
          "output_type": "display_data",
          "data": {
            "text/plain": [
              "<IPython.core.display.HTML object>"
            ],
            "text/html": [
              "Run data is saved locally in <code>/content/wandb/run-20250330_115923-chwszmyq</code>"
            ]
          },
          "metadata": {}
        },
        {
          "output_type": "display_data",
          "data": {
            "text/plain": [
              "<IPython.core.display.HTML object>"
            ],
            "text/html": [
              "Syncing run <strong><a href='https://wandb.ai/ed22b051-iit-madras-foundation/RL_PA1_Sweep_PolicyComparison_FixedGamma/runs/chwszmyq' target=\"_blank\">absurd-sweep-25</a></strong> to <a href='https://wandb.ai/ed22b051-iit-madras-foundation/RL_PA1_Sweep_PolicyComparison_FixedGamma' target=\"_blank\">Weights & Biases</a> (<a href='https://wandb.me/developer-guide' target=\"_blank\">docs</a>)<br>Sweep page: <a href='https://wandb.ai/ed22b051-iit-madras-foundation/RL_PA1_Sweep_PolicyComparison_FixedGamma/sweeps/vluleyzf' target=\"_blank\">https://wandb.ai/ed22b051-iit-madras-foundation/RL_PA1_Sweep_PolicyComparison_FixedGamma/sweeps/vluleyzf</a>"
            ]
          },
          "metadata": {}
        },
        {
          "output_type": "display_data",
          "data": {
            "text/plain": [
              "<IPython.core.display.HTML object>"
            ],
            "text/html": [
              " View project at <a href='https://wandb.ai/ed22b051-iit-madras-foundation/RL_PA1_Sweep_PolicyComparison_FixedGamma' target=\"_blank\">https://wandb.ai/ed22b051-iit-madras-foundation/RL_PA1_Sweep_PolicyComparison_FixedGamma</a>"
            ]
          },
          "metadata": {}
        },
        {
          "output_type": "display_data",
          "data": {
            "text/plain": [
              "<IPython.core.display.HTML object>"
            ],
            "text/html": [
              " View sweep at <a href='https://wandb.ai/ed22b051-iit-madras-foundation/RL_PA1_Sweep_PolicyComparison_FixedGamma/sweeps/vluleyzf' target=\"_blank\">https://wandb.ai/ed22b051-iit-madras-foundation/RL_PA1_Sweep_PolicyComparison_FixedGamma/sweeps/vluleyzf</a>"
            ]
          },
          "metadata": {}
        },
        {
          "output_type": "display_data",
          "data": {
            "text/plain": [
              "<IPython.core.display.HTML object>"
            ],
            "text/html": [
              " View run at <a href='https://wandb.ai/ed22b051-iit-madras-foundation/RL_PA1_Sweep_PolicyComparison_FixedGamma/runs/chwszmyq' target=\"_blank\">https://wandb.ai/ed22b051-iit-madras-foundation/RL_PA1_Sweep_PolicyComparison_FixedGamma/runs/chwszmyq</a>"
            ]
          },
          "metadata": {}
        },
        {
          "output_type": "stream",
          "name": "stderr",
          "text": [
            "SARSA (epsilon_greedy): 100%|██████████| 1000/1000 [00:12<00:00, 77.50it/s]\n",
            "SARSA (epsilon_greedy): 100%|██████████| 1000/1000 [00:18<00:00, 54.04it/s]\n",
            "SARSA (epsilon_greedy): 100%|██████████| 1000/1000 [00:17<00:00, 58.68it/s]\n"
          ]
        },
        {
          "output_type": "display_data",
          "data": {
            "text/plain": [
              "<IPython.core.display.HTML object>"
            ],
            "text/html": []
          },
          "metadata": {}
        },
        {
          "output_type": "display_data",
          "data": {
            "text/plain": [
              "<IPython.core.display.HTML object>"
            ],
            "text/html": [
              "<br>    <style><br>        .wandb-row {<br>            display: flex;<br>            flex-direction: row;<br>            flex-wrap: wrap;<br>            justify-content: flex-start;<br>            width: 100%;<br>        }<br>        .wandb-col {<br>            display: flex;<br>            flex-direction: column;<br>            flex-basis: 100%;<br>            flex: 1;<br>            padding: 10px;<br>        }<br>    </style><br><div class=\"wandb-row\"><div class=\"wandb-col\"><h3>Run history:</h3><br/><table class=\"wandb\"><tr><td>SARSA_epsilon_greedy/reward</td><td>▁▁▁▁▁▂▃▃▁▃▃▂▄▃▄▂█▅▃▃▃▅▄▄▄▄▁▄▁▃▃▃▄▄▃▃▅▄▃▄</td></tr><tr><td>avg_reward</td><td>▁</td></tr><tr><td>episode</td><td>▁▂▂▂▂▄▅▅▅▆▇▇▇▇▇█▁▃▄▄▅▅▆▆▇███▂▂▂▂▃▄▅▅▆▆▇▇</td></tr></table><br/></div><div class=\"wandb-col\"><h3>Run summary:</h3><br/><table class=\"wandb\"><tr><td>SARSA_epsilon_greedy/reward</td><td>157</td></tr><tr><td>avg_reward</td><td>137.45333</td></tr><tr><td>episode</td><td>999</td></tr></table><br/></div></div>"
            ]
          },
          "metadata": {}
        },
        {
          "output_type": "display_data",
          "data": {
            "text/plain": [
              "<IPython.core.display.HTML object>"
            ],
            "text/html": [
              " View run <strong style=\"color:#cdcd00\">absurd-sweep-25</strong> at: <a href='https://wandb.ai/ed22b051-iit-madras-foundation/RL_PA1_Sweep_PolicyComparison_FixedGamma/runs/chwszmyq' target=\"_blank\">https://wandb.ai/ed22b051-iit-madras-foundation/RL_PA1_Sweep_PolicyComparison_FixedGamma/runs/chwszmyq</a><br> View project at: <a href='https://wandb.ai/ed22b051-iit-madras-foundation/RL_PA1_Sweep_PolicyComparison_FixedGamma' target=\"_blank\">https://wandb.ai/ed22b051-iit-madras-foundation/RL_PA1_Sweep_PolicyComparison_FixedGamma</a><br>Synced 5 W&B file(s), 0 media file(s), 0 artifact file(s) and 0 other file(s)"
            ]
          },
          "metadata": {}
        },
        {
          "output_type": "display_data",
          "data": {
            "text/plain": [
              "<IPython.core.display.HTML object>"
            ],
            "text/html": [
              "Find logs at: <code>./wandb/run-20250330_115923-chwszmyq/logs</code>"
            ]
          },
          "metadata": {}
        },
        {
          "output_type": "stream",
          "name": "stderr",
          "text": [
            "\u001b[34m\u001b[1mwandb\u001b[0m: Agent Starting Run: k11e8lyq with config:\n",
            "\u001b[34m\u001b[1mwandb\u001b[0m: \talgorithm: sarsa\n",
            "\u001b[34m\u001b[1mwandb\u001b[0m: \talpha: 0.37406857413212147\n",
            "\u001b[34m\u001b[1mwandb\u001b[0m: \tparam_value: 0.21160319901396024\n",
            "\u001b[34m\u001b[1mwandb\u001b[0m: \tpolicy_type: epsilon_greedy\n"
          ]
        },
        {
          "output_type": "display_data",
          "data": {
            "text/plain": [
              "<IPython.core.display.HTML object>"
            ],
            "text/html": [
              "Tracking run with wandb version 0.19.8"
            ]
          },
          "metadata": {}
        },
        {
          "output_type": "display_data",
          "data": {
            "text/plain": [
              "<IPython.core.display.HTML object>"
            ],
            "text/html": [
              "Run data is saved locally in <code>/content/wandb/run-20250330_120019-k11e8lyq</code>"
            ]
          },
          "metadata": {}
        },
        {
          "output_type": "display_data",
          "data": {
            "text/plain": [
              "<IPython.core.display.HTML object>"
            ],
            "text/html": [
              "Syncing run <strong><a href='https://wandb.ai/ed22b051-iit-madras-foundation/RL_PA1_Sweep_PolicyComparison_FixedGamma/runs/k11e8lyq' target=\"_blank\">apricot-sweep-26</a></strong> to <a href='https://wandb.ai/ed22b051-iit-madras-foundation/RL_PA1_Sweep_PolicyComparison_FixedGamma' target=\"_blank\">Weights & Biases</a> (<a href='https://wandb.me/developer-guide' target=\"_blank\">docs</a>)<br>Sweep page: <a href='https://wandb.ai/ed22b051-iit-madras-foundation/RL_PA1_Sweep_PolicyComparison_FixedGamma/sweeps/vluleyzf' target=\"_blank\">https://wandb.ai/ed22b051-iit-madras-foundation/RL_PA1_Sweep_PolicyComparison_FixedGamma/sweeps/vluleyzf</a>"
            ]
          },
          "metadata": {}
        },
        {
          "output_type": "display_data",
          "data": {
            "text/plain": [
              "<IPython.core.display.HTML object>"
            ],
            "text/html": [
              " View project at <a href='https://wandb.ai/ed22b051-iit-madras-foundation/RL_PA1_Sweep_PolicyComparison_FixedGamma' target=\"_blank\">https://wandb.ai/ed22b051-iit-madras-foundation/RL_PA1_Sweep_PolicyComparison_FixedGamma</a>"
            ]
          },
          "metadata": {}
        },
        {
          "output_type": "display_data",
          "data": {
            "text/plain": [
              "<IPython.core.display.HTML object>"
            ],
            "text/html": [
              " View sweep at <a href='https://wandb.ai/ed22b051-iit-madras-foundation/RL_PA1_Sweep_PolicyComparison_FixedGamma/sweeps/vluleyzf' target=\"_blank\">https://wandb.ai/ed22b051-iit-madras-foundation/RL_PA1_Sweep_PolicyComparison_FixedGamma/sweeps/vluleyzf</a>"
            ]
          },
          "metadata": {}
        },
        {
          "output_type": "display_data",
          "data": {
            "text/plain": [
              "<IPython.core.display.HTML object>"
            ],
            "text/html": [
              " View run at <a href='https://wandb.ai/ed22b051-iit-madras-foundation/RL_PA1_Sweep_PolicyComparison_FixedGamma/runs/k11e8lyq' target=\"_blank\">https://wandb.ai/ed22b051-iit-madras-foundation/RL_PA1_Sweep_PolicyComparison_FixedGamma/runs/k11e8lyq</a>"
            ]
          },
          "metadata": {}
        },
        {
          "output_type": "stream",
          "name": "stderr",
          "text": [
            "SARSA (epsilon_greedy): 100%|██████████| 1000/1000 [00:14<00:00, 66.94it/s]\n",
            "SARSA (epsilon_greedy): 100%|██████████| 1000/1000 [00:13<00:00, 72.13it/s]\n",
            "SARSA (epsilon_greedy): 100%|██████████| 1000/1000 [00:13<00:00, 72.50it/s]\n"
          ]
        },
        {
          "output_type": "display_data",
          "data": {
            "text/plain": [
              "<IPython.core.display.HTML object>"
            ],
            "text/html": []
          },
          "metadata": {}
        },
        {
          "output_type": "display_data",
          "data": {
            "text/plain": [
              "<IPython.core.display.HTML object>"
            ],
            "text/html": [
              "<br>    <style><br>        .wandb-row {<br>            display: flex;<br>            flex-direction: row;<br>            flex-wrap: wrap;<br>            justify-content: flex-start;<br>            width: 100%;<br>        }<br>        .wandb-col {<br>            display: flex;<br>            flex-direction: column;<br>            flex-basis: 100%;<br>            flex: 1;<br>            padding: 10px;<br>        }<br>    </style><br><div class=\"wandb-row\"><div class=\"wandb-col\"><h3>Run history:</h3><br/><table class=\"wandb\"><tr><td>SARSA_epsilon_greedy/reward</td><td>▁▂▂▃▅▇▂█▄▄▄▁▁▁▁▁▂▂▁▃▆▄▂▅▅▄▇██▁▂▂▂▃▆▄▄▃▄▄</td></tr><tr><td>avg_reward</td><td>▁</td></tr><tr><td>episode</td><td>▁▂▂▂▃▅▅▆██▂▃▃▄▄▄▅▇▇▇▇▇▁▁▁▂▂▂▃▄▄▄▅▅▅▆▆▇▇█</td></tr></table><br/></div><div class=\"wandb-col\"><h3>Run summary:</h3><br/><table class=\"wandb\"><tr><td>SARSA_epsilon_greedy/reward</td><td>150</td></tr><tr><td>avg_reward</td><td>130.28667</td></tr><tr><td>episode</td><td>999</td></tr></table><br/></div></div>"
            ]
          },
          "metadata": {}
        },
        {
          "output_type": "display_data",
          "data": {
            "text/plain": [
              "<IPython.core.display.HTML object>"
            ],
            "text/html": [
              " View run <strong style=\"color:#cdcd00\">apricot-sweep-26</strong> at: <a href='https://wandb.ai/ed22b051-iit-madras-foundation/RL_PA1_Sweep_PolicyComparison_FixedGamma/runs/k11e8lyq' target=\"_blank\">https://wandb.ai/ed22b051-iit-madras-foundation/RL_PA1_Sweep_PolicyComparison_FixedGamma/runs/k11e8lyq</a><br> View project at: <a href='https://wandb.ai/ed22b051-iit-madras-foundation/RL_PA1_Sweep_PolicyComparison_FixedGamma' target=\"_blank\">https://wandb.ai/ed22b051-iit-madras-foundation/RL_PA1_Sweep_PolicyComparison_FixedGamma</a><br>Synced 5 W&B file(s), 0 media file(s), 0 artifact file(s) and 0 other file(s)"
            ]
          },
          "metadata": {}
        },
        {
          "output_type": "display_data",
          "data": {
            "text/plain": [
              "<IPython.core.display.HTML object>"
            ],
            "text/html": [
              "Find logs at: <code>./wandb/run-20250330_120019-k11e8lyq/logs</code>"
            ]
          },
          "metadata": {}
        },
        {
          "output_type": "stream",
          "name": "stderr",
          "text": [
            "\u001b[34m\u001b[1mwandb\u001b[0m: Agent Starting Run: 5zwlcf6q with config:\n",
            "\u001b[34m\u001b[1mwandb\u001b[0m: \talgorithm: q_learning\n",
            "\u001b[34m\u001b[1mwandb\u001b[0m: \talpha: 0.4858983736443827\n",
            "\u001b[34m\u001b[1mwandb\u001b[0m: \tparam_value: 0.0860613409951398\n",
            "\u001b[34m\u001b[1mwandb\u001b[0m: \tpolicy_type: epsilon_greedy\n"
          ]
        },
        {
          "output_type": "display_data",
          "data": {
            "text/plain": [
              "<IPython.core.display.HTML object>"
            ],
            "text/html": [
              "Tracking run with wandb version 0.19.8"
            ]
          },
          "metadata": {}
        },
        {
          "output_type": "display_data",
          "data": {
            "text/plain": [
              "<IPython.core.display.HTML object>"
            ],
            "text/html": [
              "Run data is saved locally in <code>/content/wandb/run-20250330_120105-5zwlcf6q</code>"
            ]
          },
          "metadata": {}
        },
        {
          "output_type": "display_data",
          "data": {
            "text/plain": [
              "<IPython.core.display.HTML object>"
            ],
            "text/html": [
              "Syncing run <strong><a href='https://wandb.ai/ed22b051-iit-madras-foundation/RL_PA1_Sweep_PolicyComparison_FixedGamma/runs/5zwlcf6q' target=\"_blank\">cosmic-sweep-27</a></strong> to <a href='https://wandb.ai/ed22b051-iit-madras-foundation/RL_PA1_Sweep_PolicyComparison_FixedGamma' target=\"_blank\">Weights & Biases</a> (<a href='https://wandb.me/developer-guide' target=\"_blank\">docs</a>)<br>Sweep page: <a href='https://wandb.ai/ed22b051-iit-madras-foundation/RL_PA1_Sweep_PolicyComparison_FixedGamma/sweeps/vluleyzf' target=\"_blank\">https://wandb.ai/ed22b051-iit-madras-foundation/RL_PA1_Sweep_PolicyComparison_FixedGamma/sweeps/vluleyzf</a>"
            ]
          },
          "metadata": {}
        },
        {
          "output_type": "display_data",
          "data": {
            "text/plain": [
              "<IPython.core.display.HTML object>"
            ],
            "text/html": [
              " View project at <a href='https://wandb.ai/ed22b051-iit-madras-foundation/RL_PA1_Sweep_PolicyComparison_FixedGamma' target=\"_blank\">https://wandb.ai/ed22b051-iit-madras-foundation/RL_PA1_Sweep_PolicyComparison_FixedGamma</a>"
            ]
          },
          "metadata": {}
        },
        {
          "output_type": "display_data",
          "data": {
            "text/plain": [
              "<IPython.core.display.HTML object>"
            ],
            "text/html": [
              " View sweep at <a href='https://wandb.ai/ed22b051-iit-madras-foundation/RL_PA1_Sweep_PolicyComparison_FixedGamma/sweeps/vluleyzf' target=\"_blank\">https://wandb.ai/ed22b051-iit-madras-foundation/RL_PA1_Sweep_PolicyComparison_FixedGamma/sweeps/vluleyzf</a>"
            ]
          },
          "metadata": {}
        },
        {
          "output_type": "display_data",
          "data": {
            "text/plain": [
              "<IPython.core.display.HTML object>"
            ],
            "text/html": [
              " View run at <a href='https://wandb.ai/ed22b051-iit-madras-foundation/RL_PA1_Sweep_PolicyComparison_FixedGamma/runs/5zwlcf6q' target=\"_blank\">https://wandb.ai/ed22b051-iit-madras-foundation/RL_PA1_Sweep_PolicyComparison_FixedGamma/runs/5zwlcf6q</a>"
            ]
          },
          "metadata": {}
        },
        {
          "output_type": "stream",
          "name": "stderr",
          "text": [
            "Q-Learning (epsilon_greedy): 100%|██████████| 1000/1000 [00:13<00:00, 75.00it/s]\n",
            "Q-Learning (epsilon_greedy): 100%|██████████| 1000/1000 [00:16<00:00, 60.74it/s]\n",
            "Q-Learning (epsilon_greedy): 100%|██████████| 1000/1000 [00:17<00:00, 56.33it/s]\n"
          ]
        },
        {
          "output_type": "display_data",
          "data": {
            "text/plain": [
              "<IPython.core.display.HTML object>"
            ],
            "text/html": []
          },
          "metadata": {}
        },
        {
          "output_type": "display_data",
          "data": {
            "text/plain": [
              "<IPython.core.display.HTML object>"
            ],
            "text/html": [
              "<br>    <style><br>        .wandb-row {<br>            display: flex;<br>            flex-direction: row;<br>            flex-wrap: wrap;<br>            justify-content: flex-start;<br>            width: 100%;<br>        }<br>        .wandb-col {<br>            display: flex;<br>            flex-direction: column;<br>            flex-basis: 100%;<br>            flex: 1;<br>            padding: 10px;<br>        }<br>    </style><br><div class=\"wandb-row\"><div class=\"wandb-col\"><h3>Run history:</h3><br/><table class=\"wandb\"><tr><td>Q_epsilon_greedy/reward</td><td>▁▁▁▁▂▁▂▂▃▁▂▇▃▁▁▁▁▂▁▃▁▂▃█▃▂▂▃▃▄▂▁▁▁▂▂▇▂▂▂</td></tr><tr><td>avg_reward</td><td>▁</td></tr><tr><td>episode</td><td>▁▂▂▃▄▄▄▅▅▅▆▇▇▇██▁▁▁▁▂▂▃▃▄▅▅▅▆▇▂▂▃▄▄▅▆▆▇█</td></tr></table><br/></div><div class=\"wandb-col\"><h3>Run summary:</h3><br/><table class=\"wandb\"><tr><td>Q_epsilon_greedy/reward</td><td>96</td></tr><tr><td>avg_reward</td><td>128.53667</td></tr><tr><td>episode</td><td>999</td></tr></table><br/></div></div>"
            ]
          },
          "metadata": {}
        },
        {
          "output_type": "display_data",
          "data": {
            "text/plain": [
              "<IPython.core.display.HTML object>"
            ],
            "text/html": [
              " View run <strong style=\"color:#cdcd00\">cosmic-sweep-27</strong> at: <a href='https://wandb.ai/ed22b051-iit-madras-foundation/RL_PA1_Sweep_PolicyComparison_FixedGamma/runs/5zwlcf6q' target=\"_blank\">https://wandb.ai/ed22b051-iit-madras-foundation/RL_PA1_Sweep_PolicyComparison_FixedGamma/runs/5zwlcf6q</a><br> View project at: <a href='https://wandb.ai/ed22b051-iit-madras-foundation/RL_PA1_Sweep_PolicyComparison_FixedGamma' target=\"_blank\">https://wandb.ai/ed22b051-iit-madras-foundation/RL_PA1_Sweep_PolicyComparison_FixedGamma</a><br>Synced 5 W&B file(s), 0 media file(s), 0 artifact file(s) and 0 other file(s)"
            ]
          },
          "metadata": {}
        },
        {
          "output_type": "display_data",
          "data": {
            "text/plain": [
              "<IPython.core.display.HTML object>"
            ],
            "text/html": [
              "Find logs at: <code>./wandb/run-20250330_120105-5zwlcf6q/logs</code>"
            ]
          },
          "metadata": {}
        },
        {
          "output_type": "stream",
          "name": "stderr",
          "text": [
            "\u001b[34m\u001b[1mwandb\u001b[0m: Agent Starting Run: a43t9hiv with config:\n",
            "\u001b[34m\u001b[1mwandb\u001b[0m: \talgorithm: sarsa\n",
            "\u001b[34m\u001b[1mwandb\u001b[0m: \talpha: 0.6381682171736396\n",
            "\u001b[34m\u001b[1mwandb\u001b[0m: \tparam_value: 0.11962895231053382\n",
            "\u001b[34m\u001b[1mwandb\u001b[0m: \tpolicy_type: softmax\n"
          ]
        },
        {
          "output_type": "display_data",
          "data": {
            "text/plain": [
              "<IPython.core.display.HTML object>"
            ],
            "text/html": [
              "Tracking run with wandb version 0.19.8"
            ]
          },
          "metadata": {}
        },
        {
          "output_type": "display_data",
          "data": {
            "text/plain": [
              "<IPython.core.display.HTML object>"
            ],
            "text/html": [
              "Run data is saved locally in <code>/content/wandb/run-20250330_120156-a43t9hiv</code>"
            ]
          },
          "metadata": {}
        },
        {
          "output_type": "display_data",
          "data": {
            "text/plain": [
              "<IPython.core.display.HTML object>"
            ],
            "text/html": [
              "Syncing run <strong><a href='https://wandb.ai/ed22b051-iit-madras-foundation/RL_PA1_Sweep_PolicyComparison_FixedGamma/runs/a43t9hiv' target=\"_blank\">serene-sweep-28</a></strong> to <a href='https://wandb.ai/ed22b051-iit-madras-foundation/RL_PA1_Sweep_PolicyComparison_FixedGamma' target=\"_blank\">Weights & Biases</a> (<a href='https://wandb.me/developer-guide' target=\"_blank\">docs</a>)<br>Sweep page: <a href='https://wandb.ai/ed22b051-iit-madras-foundation/RL_PA1_Sweep_PolicyComparison_FixedGamma/sweeps/vluleyzf' target=\"_blank\">https://wandb.ai/ed22b051-iit-madras-foundation/RL_PA1_Sweep_PolicyComparison_FixedGamma/sweeps/vluleyzf</a>"
            ]
          },
          "metadata": {}
        },
        {
          "output_type": "display_data",
          "data": {
            "text/plain": [
              "<IPython.core.display.HTML object>"
            ],
            "text/html": [
              " View project at <a href='https://wandb.ai/ed22b051-iit-madras-foundation/RL_PA1_Sweep_PolicyComparison_FixedGamma' target=\"_blank\">https://wandb.ai/ed22b051-iit-madras-foundation/RL_PA1_Sweep_PolicyComparison_FixedGamma</a>"
            ]
          },
          "metadata": {}
        },
        {
          "output_type": "display_data",
          "data": {
            "text/plain": [
              "<IPython.core.display.HTML object>"
            ],
            "text/html": [
              " View sweep at <a href='https://wandb.ai/ed22b051-iit-madras-foundation/RL_PA1_Sweep_PolicyComparison_FixedGamma/sweeps/vluleyzf' target=\"_blank\">https://wandb.ai/ed22b051-iit-madras-foundation/RL_PA1_Sweep_PolicyComparison_FixedGamma/sweeps/vluleyzf</a>"
            ]
          },
          "metadata": {}
        },
        {
          "output_type": "display_data",
          "data": {
            "text/plain": [
              "<IPython.core.display.HTML object>"
            ],
            "text/html": [
              " View run at <a href='https://wandb.ai/ed22b051-iit-madras-foundation/RL_PA1_Sweep_PolicyComparison_FixedGamma/runs/a43t9hiv' target=\"_blank\">https://wandb.ai/ed22b051-iit-madras-foundation/RL_PA1_Sweep_PolicyComparison_FixedGamma/runs/a43t9hiv</a>"
            ]
          },
          "metadata": {}
        },
        {
          "output_type": "stream",
          "name": "stderr",
          "text": [
            "SARSA (softmax): 100%|██████████| 1000/1000 [00:04<00:00, 233.57it/s]\n",
            "SARSA (softmax): 100%|██████████| 1000/1000 [00:12<00:00, 81.35it/s]\n",
            "SARSA (softmax): 100%|██████████| 1000/1000 [00:06<00:00, 165.42it/s]\n"
          ]
        },
        {
          "output_type": "display_data",
          "data": {
            "text/plain": [
              "<IPython.core.display.HTML object>"
            ],
            "text/html": []
          },
          "metadata": {}
        },
        {
          "output_type": "display_data",
          "data": {
            "text/plain": [
              "<IPython.core.display.HTML object>"
            ],
            "text/html": [
              "<br>    <style><br>        .wandb-row {<br>            display: flex;<br>            flex-direction: row;<br>            flex-wrap: wrap;<br>            justify-content: flex-start;<br>            width: 100%;<br>        }<br>        .wandb-col {<br>            display: flex;<br>            flex-direction: column;<br>            flex-basis: 100%;<br>            flex: 1;<br>            padding: 10px;<br>        }<br>    </style><br><div class=\"wandb-row\"><div class=\"wandb-col\"><h3>Run history:</h3><br/><table class=\"wandb\"><tr><td>SARSA_softmax/reward</td><td>▂▂▁▂▁▁▁▂▁▂▂▃▂▁▃▇▁█▂▇▅█▆▁▇▁▁█▁▁▅▃▁▂▂▁▂▂▂▂</td></tr><tr><td>avg_reward</td><td>▁</td></tr><tr><td>episode</td><td>▁▂▂▃▃▃▃▄▄▄▄▅▅▅▆▇▇▇▂▂▃▄▄▄▅▅▆▆▇▁▄▅▇▇▇▇▇▇██</td></tr></table><br/></div><div class=\"wandb-col\"><h3>Run summary:</h3><br/><table class=\"wandb\"><tr><td>SARSA_softmax/reward</td><td>14</td></tr><tr><td>avg_reward</td><td>29.89667</td></tr><tr><td>episode</td><td>999</td></tr></table><br/></div></div>"
            ]
          },
          "metadata": {}
        },
        {
          "output_type": "display_data",
          "data": {
            "text/plain": [
              "<IPython.core.display.HTML object>"
            ],
            "text/html": [
              " View run <strong style=\"color:#cdcd00\">serene-sweep-28</strong> at: <a href='https://wandb.ai/ed22b051-iit-madras-foundation/RL_PA1_Sweep_PolicyComparison_FixedGamma/runs/a43t9hiv' target=\"_blank\">https://wandb.ai/ed22b051-iit-madras-foundation/RL_PA1_Sweep_PolicyComparison_FixedGamma/runs/a43t9hiv</a><br> View project at: <a href='https://wandb.ai/ed22b051-iit-madras-foundation/RL_PA1_Sweep_PolicyComparison_FixedGamma' target=\"_blank\">https://wandb.ai/ed22b051-iit-madras-foundation/RL_PA1_Sweep_PolicyComparison_FixedGamma</a><br>Synced 5 W&B file(s), 0 media file(s), 0 artifact file(s) and 0 other file(s)"
            ]
          },
          "metadata": {}
        },
        {
          "output_type": "display_data",
          "data": {
            "text/plain": [
              "<IPython.core.display.HTML object>"
            ],
            "text/html": [
              "Find logs at: <code>./wandb/run-20250330_120156-a43t9hiv/logs</code>"
            ]
          },
          "metadata": {}
        },
        {
          "output_type": "stream",
          "name": "stderr",
          "text": [
            "\u001b[34m\u001b[1mwandb\u001b[0m: Sweep Agent: Waiting for job.\n",
            "\u001b[34m\u001b[1mwandb\u001b[0m: Job received.\n",
            "\u001b[34m\u001b[1mwandb\u001b[0m: Agent Starting Run: sbg34o5i with config:\n",
            "\u001b[34m\u001b[1mwandb\u001b[0m: \talgorithm: q_learning\n",
            "\u001b[34m\u001b[1mwandb\u001b[0m: \talpha: 0.6844564881549355\n",
            "\u001b[34m\u001b[1mwandb\u001b[0m: \tparam_value: 0.26578920929873706\n",
            "\u001b[34m\u001b[1mwandb\u001b[0m: \tpolicy_type: epsilon_greedy\n"
          ]
        },
        {
          "output_type": "display_data",
          "data": {
            "text/plain": [
              "<IPython.core.display.HTML object>"
            ],
            "text/html": [
              "Tracking run with wandb version 0.19.8"
            ]
          },
          "metadata": {}
        },
        {
          "output_type": "display_data",
          "data": {
            "text/plain": [
              "<IPython.core.display.HTML object>"
            ],
            "text/html": [
              "Run data is saved locally in <code>/content/wandb/run-20250330_120231-sbg34o5i</code>"
            ]
          },
          "metadata": {}
        },
        {
          "output_type": "display_data",
          "data": {
            "text/plain": [
              "<IPython.core.display.HTML object>"
            ],
            "text/html": [
              "Syncing run <strong><a href='https://wandb.ai/ed22b051-iit-madras-foundation/RL_PA1_Sweep_PolicyComparison_FixedGamma/runs/sbg34o5i' target=\"_blank\">golden-sweep-29</a></strong> to <a href='https://wandb.ai/ed22b051-iit-madras-foundation/RL_PA1_Sweep_PolicyComparison_FixedGamma' target=\"_blank\">Weights & Biases</a> (<a href='https://wandb.me/developer-guide' target=\"_blank\">docs</a>)<br>Sweep page: <a href='https://wandb.ai/ed22b051-iit-madras-foundation/RL_PA1_Sweep_PolicyComparison_FixedGamma/sweeps/vluleyzf' target=\"_blank\">https://wandb.ai/ed22b051-iit-madras-foundation/RL_PA1_Sweep_PolicyComparison_FixedGamma/sweeps/vluleyzf</a>"
            ]
          },
          "metadata": {}
        },
        {
          "output_type": "display_data",
          "data": {
            "text/plain": [
              "<IPython.core.display.HTML object>"
            ],
            "text/html": [
              " View project at <a href='https://wandb.ai/ed22b051-iit-madras-foundation/RL_PA1_Sweep_PolicyComparison_FixedGamma' target=\"_blank\">https://wandb.ai/ed22b051-iit-madras-foundation/RL_PA1_Sweep_PolicyComparison_FixedGamma</a>"
            ]
          },
          "metadata": {}
        },
        {
          "output_type": "display_data",
          "data": {
            "text/plain": [
              "<IPython.core.display.HTML object>"
            ],
            "text/html": [
              " View sweep at <a href='https://wandb.ai/ed22b051-iit-madras-foundation/RL_PA1_Sweep_PolicyComparison_FixedGamma/sweeps/vluleyzf' target=\"_blank\">https://wandb.ai/ed22b051-iit-madras-foundation/RL_PA1_Sweep_PolicyComparison_FixedGamma/sweeps/vluleyzf</a>"
            ]
          },
          "metadata": {}
        },
        {
          "output_type": "display_data",
          "data": {
            "text/plain": [
              "<IPython.core.display.HTML object>"
            ],
            "text/html": [
              " View run at <a href='https://wandb.ai/ed22b051-iit-madras-foundation/RL_PA1_Sweep_PolicyComparison_FixedGamma/runs/sbg34o5i' target=\"_blank\">https://wandb.ai/ed22b051-iit-madras-foundation/RL_PA1_Sweep_PolicyComparison_FixedGamma/runs/sbg34o5i</a>"
            ]
          },
          "metadata": {}
        },
        {
          "output_type": "stream",
          "name": "stderr",
          "text": [
            "Q-Learning (epsilon_greedy): 100%|██████████| 1000/1000 [00:16<00:00, 59.91it/s]\n",
            "Q-Learning (epsilon_greedy): 100%|██████████| 1000/1000 [00:16<00:00, 59.52it/s]\n",
            "Q-Learning (epsilon_greedy): 100%|██████████| 1000/1000 [00:17<00:00, 58.77it/s]\n"
          ]
        },
        {
          "output_type": "display_data",
          "data": {
            "text/plain": [
              "<IPython.core.display.HTML object>"
            ],
            "text/html": []
          },
          "metadata": {}
        },
        {
          "output_type": "display_data",
          "data": {
            "text/plain": [
              "<IPython.core.display.HTML object>"
            ],
            "text/html": [
              "<br>    <style><br>        .wandb-row {<br>            display: flex;<br>            flex-direction: row;<br>            flex-wrap: wrap;<br>            justify-content: flex-start;<br>            width: 100%;<br>        }<br>        .wandb-col {<br>            display: flex;<br>            flex-direction: column;<br>            flex-basis: 100%;<br>            flex: 1;<br>            padding: 10px;<br>        }<br>    </style><br><div class=\"wandb-row\"><div class=\"wandb-col\"><h3>Run history:</h3><br/><table class=\"wandb\"><tr><td>Q_epsilon_greedy/reward</td><td>▃▄▃▂▂▄▂▃▂▃▅▄▄▄▄█▂▁▂▃▄▂▂▄▃▁▅▄▃▁▁▄▃▁▁▃▁▆▆▃</td></tr><tr><td>avg_reward</td><td>▁</td></tr><tr><td>episode</td><td>▁▁▂▂▃▄▅▅▇▁▂▂▃▃▄▄▄▅▅▅▆▇▇▇▇█▁▁▁▂▃▃▄▄▄▅▅▆▆▇</td></tr></table><br/></div><div class=\"wandb-col\"><h3>Run summary:</h3><br/><table class=\"wandb\"><tr><td>Q_epsilon_greedy/reward</td><td>89</td></tr><tr><td>avg_reward</td><td>120.08333</td></tr><tr><td>episode</td><td>999</td></tr></table><br/></div></div>"
            ]
          },
          "metadata": {}
        },
        {
          "output_type": "display_data",
          "data": {
            "text/plain": [
              "<IPython.core.display.HTML object>"
            ],
            "text/html": [
              " View run <strong style=\"color:#cdcd00\">golden-sweep-29</strong> at: <a href='https://wandb.ai/ed22b051-iit-madras-foundation/RL_PA1_Sweep_PolicyComparison_FixedGamma/runs/sbg34o5i' target=\"_blank\">https://wandb.ai/ed22b051-iit-madras-foundation/RL_PA1_Sweep_PolicyComparison_FixedGamma/runs/sbg34o5i</a><br> View project at: <a href='https://wandb.ai/ed22b051-iit-madras-foundation/RL_PA1_Sweep_PolicyComparison_FixedGamma' target=\"_blank\">https://wandb.ai/ed22b051-iit-madras-foundation/RL_PA1_Sweep_PolicyComparison_FixedGamma</a><br>Synced 5 W&B file(s), 0 media file(s), 0 artifact file(s) and 0 other file(s)"
            ]
          },
          "metadata": {}
        },
        {
          "output_type": "display_data",
          "data": {
            "text/plain": [
              "<IPython.core.display.HTML object>"
            ],
            "text/html": [
              "Find logs at: <code>./wandb/run-20250330_120231-sbg34o5i/logs</code>"
            ]
          },
          "metadata": {}
        },
        {
          "output_type": "stream",
          "name": "stderr",
          "text": [
            "\u001b[34m\u001b[1mwandb\u001b[0m: Agent Starting Run: 4fcgjf45 with config:\n",
            "\u001b[34m\u001b[1mwandb\u001b[0m: \talgorithm: q_learning\n",
            "\u001b[34m\u001b[1mwandb\u001b[0m: \talpha: 0.2877440784206879\n",
            "\u001b[34m\u001b[1mwandb\u001b[0m: \tparam_value: 0.15832143607090643\n",
            "\u001b[34m\u001b[1mwandb\u001b[0m: \tpolicy_type: epsilon_greedy\n"
          ]
        },
        {
          "output_type": "display_data",
          "data": {
            "text/plain": [
              "<IPython.core.display.HTML object>"
            ],
            "text/html": [
              "Tracking run with wandb version 0.19.8"
            ]
          },
          "metadata": {}
        },
        {
          "output_type": "display_data",
          "data": {
            "text/plain": [
              "<IPython.core.display.HTML object>"
            ],
            "text/html": [
              "Run data is saved locally in <code>/content/wandb/run-20250330_120327-4fcgjf45</code>"
            ]
          },
          "metadata": {}
        },
        {
          "output_type": "display_data",
          "data": {
            "text/plain": [
              "<IPython.core.display.HTML object>"
            ],
            "text/html": [
              "Syncing run <strong><a href='https://wandb.ai/ed22b051-iit-madras-foundation/RL_PA1_Sweep_PolicyComparison_FixedGamma/runs/4fcgjf45' target=\"_blank\">devout-sweep-30</a></strong> to <a href='https://wandb.ai/ed22b051-iit-madras-foundation/RL_PA1_Sweep_PolicyComparison_FixedGamma' target=\"_blank\">Weights & Biases</a> (<a href='https://wandb.me/developer-guide' target=\"_blank\">docs</a>)<br>Sweep page: <a href='https://wandb.ai/ed22b051-iit-madras-foundation/RL_PA1_Sweep_PolicyComparison_FixedGamma/sweeps/vluleyzf' target=\"_blank\">https://wandb.ai/ed22b051-iit-madras-foundation/RL_PA1_Sweep_PolicyComparison_FixedGamma/sweeps/vluleyzf</a>"
            ]
          },
          "metadata": {}
        },
        {
          "output_type": "display_data",
          "data": {
            "text/plain": [
              "<IPython.core.display.HTML object>"
            ],
            "text/html": [
              " View project at <a href='https://wandb.ai/ed22b051-iit-madras-foundation/RL_PA1_Sweep_PolicyComparison_FixedGamma' target=\"_blank\">https://wandb.ai/ed22b051-iit-madras-foundation/RL_PA1_Sweep_PolicyComparison_FixedGamma</a>"
            ]
          },
          "metadata": {}
        },
        {
          "output_type": "display_data",
          "data": {
            "text/plain": [
              "<IPython.core.display.HTML object>"
            ],
            "text/html": [
              " View sweep at <a href='https://wandb.ai/ed22b051-iit-madras-foundation/RL_PA1_Sweep_PolicyComparison_FixedGamma/sweeps/vluleyzf' target=\"_blank\">https://wandb.ai/ed22b051-iit-madras-foundation/RL_PA1_Sweep_PolicyComparison_FixedGamma/sweeps/vluleyzf</a>"
            ]
          },
          "metadata": {}
        },
        {
          "output_type": "display_data",
          "data": {
            "text/plain": [
              "<IPython.core.display.HTML object>"
            ],
            "text/html": [
              " View run at <a href='https://wandb.ai/ed22b051-iit-madras-foundation/RL_PA1_Sweep_PolicyComparison_FixedGamma/runs/4fcgjf45' target=\"_blank\">https://wandb.ai/ed22b051-iit-madras-foundation/RL_PA1_Sweep_PolicyComparison_FixedGamma/runs/4fcgjf45</a>"
            ]
          },
          "metadata": {}
        },
        {
          "output_type": "stream",
          "name": "stderr",
          "text": [
            "Q-Learning (epsilon_greedy): 100%|██████████| 1000/1000 [00:12<00:00, 82.90it/s]\n",
            "Q-Learning (epsilon_greedy): 100%|██████████| 1000/1000 [00:08<00:00, 122.10it/s]\n",
            "Q-Learning (epsilon_greedy): 100%|██████████| 1000/1000 [00:16<00:00, 58.93it/s]\n"
          ]
        },
        {
          "output_type": "display_data",
          "data": {
            "text/plain": [
              "<IPython.core.display.HTML object>"
            ],
            "text/html": []
          },
          "metadata": {}
        },
        {
          "output_type": "display_data",
          "data": {
            "text/plain": [
              "<IPython.core.display.HTML object>"
            ],
            "text/html": [
              "<br>    <style><br>        .wandb-row {<br>            display: flex;<br>            flex-direction: row;<br>            flex-wrap: wrap;<br>            justify-content: flex-start;<br>            width: 100%;<br>        }<br>        .wandb-col {<br>            display: flex;<br>            flex-direction: column;<br>            flex-basis: 100%;<br>            flex: 1;<br>            padding: 10px;<br>        }<br>    </style><br><div class=\"wandb-row\"><div class=\"wandb-col\"><h3>Run history:</h3><br/><table class=\"wandb\"><tr><td>Q_epsilon_greedy/reward</td><td>▁▁▁▁▃▃▂▂▁▁▂█▂▂▃▁▁▁▁▁▂▂▂▂▂▄▃▂▄▁▁▅▃▄▄▅▃▂▄█</td></tr><tr><td>avg_reward</td><td>▁</td></tr><tr><td>episode</td><td>▁▁▁▂▃▅▆▆▆▆▇█▁▂▂▂▂▃▃▃▃▄▄▄▆▇▇▁▂▂▄▄▅▅▅▆▇▇▇█</td></tr></table><br/></div><div class=\"wandb-col\"><h3>Run summary:</h3><br/><table class=\"wandb\"><tr><td>Q_epsilon_greedy/reward</td><td>65</td></tr><tr><td>avg_reward</td><td>117.21</td></tr><tr><td>episode</td><td>999</td></tr></table><br/></div></div>"
            ]
          },
          "metadata": {}
        },
        {
          "output_type": "display_data",
          "data": {
            "text/plain": [
              "<IPython.core.display.HTML object>"
            ],
            "text/html": [
              " View run <strong style=\"color:#cdcd00\">devout-sweep-30</strong> at: <a href='https://wandb.ai/ed22b051-iit-madras-foundation/RL_PA1_Sweep_PolicyComparison_FixedGamma/runs/4fcgjf45' target=\"_blank\">https://wandb.ai/ed22b051-iit-madras-foundation/RL_PA1_Sweep_PolicyComparison_FixedGamma/runs/4fcgjf45</a><br> View project at: <a href='https://wandb.ai/ed22b051-iit-madras-foundation/RL_PA1_Sweep_PolicyComparison_FixedGamma' target=\"_blank\">https://wandb.ai/ed22b051-iit-madras-foundation/RL_PA1_Sweep_PolicyComparison_FixedGamma</a><br>Synced 5 W&B file(s), 0 media file(s), 0 artifact file(s) and 0 other file(s)"
            ]
          },
          "metadata": {}
        },
        {
          "output_type": "display_data",
          "data": {
            "text/plain": [
              "<IPython.core.display.HTML object>"
            ],
            "text/html": [
              "Find logs at: <code>./wandb/run-20250330_120327-4fcgjf45/logs</code>"
            ]
          },
          "metadata": {}
        },
        {
          "output_type": "stream",
          "name": "stderr",
          "text": [
            "\u001b[34m\u001b[1mwandb\u001b[0m: Agent Starting Run: 0qqfwbb2 with config:\n",
            "\u001b[34m\u001b[1mwandb\u001b[0m: \talgorithm: q_learning\n",
            "\u001b[34m\u001b[1mwandb\u001b[0m: \talpha: 0.21814257785784563\n",
            "\u001b[34m\u001b[1mwandb\u001b[0m: \tparam_value: 0.1609363327108131\n",
            "\u001b[34m\u001b[1mwandb\u001b[0m: \tpolicy_type: softmax\n"
          ]
        },
        {
          "output_type": "display_data",
          "data": {
            "text/plain": [
              "<IPython.core.display.HTML object>"
            ],
            "text/html": [
              "Tracking run with wandb version 0.19.8"
            ]
          },
          "metadata": {}
        },
        {
          "output_type": "display_data",
          "data": {
            "text/plain": [
              "<IPython.core.display.HTML object>"
            ],
            "text/html": [
              "Run data is saved locally in <code>/content/wandb/run-20250330_120409-0qqfwbb2</code>"
            ]
          },
          "metadata": {}
        },
        {
          "output_type": "display_data",
          "data": {
            "text/plain": [
              "<IPython.core.display.HTML object>"
            ],
            "text/html": [
              "Syncing run <strong><a href='https://wandb.ai/ed22b051-iit-madras-foundation/RL_PA1_Sweep_PolicyComparison_FixedGamma/runs/0qqfwbb2' target=\"_blank\">usual-sweep-31</a></strong> to <a href='https://wandb.ai/ed22b051-iit-madras-foundation/RL_PA1_Sweep_PolicyComparison_FixedGamma' target=\"_blank\">Weights & Biases</a> (<a href='https://wandb.me/developer-guide' target=\"_blank\">docs</a>)<br>Sweep page: <a href='https://wandb.ai/ed22b051-iit-madras-foundation/RL_PA1_Sweep_PolicyComparison_FixedGamma/sweeps/vluleyzf' target=\"_blank\">https://wandb.ai/ed22b051-iit-madras-foundation/RL_PA1_Sweep_PolicyComparison_FixedGamma/sweeps/vluleyzf</a>"
            ]
          },
          "metadata": {}
        },
        {
          "output_type": "display_data",
          "data": {
            "text/plain": [
              "<IPython.core.display.HTML object>"
            ],
            "text/html": [
              " View project at <a href='https://wandb.ai/ed22b051-iit-madras-foundation/RL_PA1_Sweep_PolicyComparison_FixedGamma' target=\"_blank\">https://wandb.ai/ed22b051-iit-madras-foundation/RL_PA1_Sweep_PolicyComparison_FixedGamma</a>"
            ]
          },
          "metadata": {}
        },
        {
          "output_type": "display_data",
          "data": {
            "text/plain": [
              "<IPython.core.display.HTML object>"
            ],
            "text/html": [
              " View sweep at <a href='https://wandb.ai/ed22b051-iit-madras-foundation/RL_PA1_Sweep_PolicyComparison_FixedGamma/sweeps/vluleyzf' target=\"_blank\">https://wandb.ai/ed22b051-iit-madras-foundation/RL_PA1_Sweep_PolicyComparison_FixedGamma/sweeps/vluleyzf</a>"
            ]
          },
          "metadata": {}
        },
        {
          "output_type": "display_data",
          "data": {
            "text/plain": [
              "<IPython.core.display.HTML object>"
            ],
            "text/html": [
              " View run at <a href='https://wandb.ai/ed22b051-iit-madras-foundation/RL_PA1_Sweep_PolicyComparison_FixedGamma/runs/0qqfwbb2' target=\"_blank\">https://wandb.ai/ed22b051-iit-madras-foundation/RL_PA1_Sweep_PolicyComparison_FixedGamma/runs/0qqfwbb2</a>"
            ]
          },
          "metadata": {}
        },
        {
          "output_type": "stream",
          "name": "stderr",
          "text": [
            "Q-Learning (softmax): 100%|██████████| 1000/1000 [00:03<00:00, 298.07it/s]\n",
            "Q-Learning (softmax): 100%|██████████| 1000/1000 [00:14<00:00, 70.79it/s]\n",
            "Q-Learning (softmax): 100%|██████████| 1000/1000 [00:03<00:00, 329.12it/s]\n"
          ]
        },
        {
          "output_type": "display_data",
          "data": {
            "text/plain": [
              "<IPython.core.display.HTML object>"
            ],
            "text/html": []
          },
          "metadata": {}
        },
        {
          "output_type": "display_data",
          "data": {
            "text/plain": [
              "<IPython.core.display.HTML object>"
            ],
            "text/html": [
              "<br>    <style><br>        .wandb-row {<br>            display: flex;<br>            flex-direction: row;<br>            flex-wrap: wrap;<br>            justify-content: flex-start;<br>            width: 100%;<br>        }<br>        .wandb-col {<br>            display: flex;<br>            flex-direction: column;<br>            flex-basis: 100%;<br>            flex: 1;<br>            padding: 10px;<br>        }<br>    </style><br><div class=\"wandb-row\"><div class=\"wandb-col\"><h3>Run history:</h3><br/><table class=\"wandb\"><tr><td>Q_softmax/reward</td><td>▂▁▁▁▁▂▁▁▁▂▁▂▅▅▇▅▃▅█▅▆▃█▃█▃▅▁▁▁▁▁▁▁▁▁▁▁▁▁</td></tr><tr><td>avg_reward</td><td>▁</td></tr><tr><td>episode</td><td>▁▁▁▂▂▂▂▂▃▃▆▆▆▇▇▇▇▁▃▃▃▄▅▆▆█▁▂▃▃▄▄▅▅▆▇▇▇██</td></tr></table><br/></div><div class=\"wandb-col\"><h3>Run summary:</h3><br/><table class=\"wandb\"><tr><td>Q_softmax/reward</td><td>12</td></tr><tr><td>avg_reward</td><td>28.04667</td></tr><tr><td>episode</td><td>999</td></tr></table><br/></div></div>"
            ]
          },
          "metadata": {}
        },
        {
          "output_type": "display_data",
          "data": {
            "text/plain": [
              "<IPython.core.display.HTML object>"
            ],
            "text/html": [
              " View run <strong style=\"color:#cdcd00\">usual-sweep-31</strong> at: <a href='https://wandb.ai/ed22b051-iit-madras-foundation/RL_PA1_Sweep_PolicyComparison_FixedGamma/runs/0qqfwbb2' target=\"_blank\">https://wandb.ai/ed22b051-iit-madras-foundation/RL_PA1_Sweep_PolicyComparison_FixedGamma/runs/0qqfwbb2</a><br> View project at: <a href='https://wandb.ai/ed22b051-iit-madras-foundation/RL_PA1_Sweep_PolicyComparison_FixedGamma' target=\"_blank\">https://wandb.ai/ed22b051-iit-madras-foundation/RL_PA1_Sweep_PolicyComparison_FixedGamma</a><br>Synced 5 W&B file(s), 0 media file(s), 0 artifact file(s) and 0 other file(s)"
            ]
          },
          "metadata": {}
        },
        {
          "output_type": "display_data",
          "data": {
            "text/plain": [
              "<IPython.core.display.HTML object>"
            ],
            "text/html": [
              "Find logs at: <code>./wandb/run-20250330_120409-0qqfwbb2/logs</code>"
            ]
          },
          "metadata": {}
        },
        {
          "output_type": "stream",
          "name": "stderr",
          "text": [
            "\u001b[34m\u001b[1mwandb\u001b[0m: Agent Starting Run: c2jwku88 with config:\n",
            "\u001b[34m\u001b[1mwandb\u001b[0m: \talgorithm: q_learning\n",
            "\u001b[34m\u001b[1mwandb\u001b[0m: \talpha: 0.34672465354750587\n",
            "\u001b[34m\u001b[1mwandb\u001b[0m: \tparam_value: 0.28345608319494314\n",
            "\u001b[34m\u001b[1mwandb\u001b[0m: \tpolicy_type: epsilon_greedy\n"
          ]
        },
        {
          "output_type": "display_data",
          "data": {
            "text/plain": [
              "<IPython.core.display.HTML object>"
            ],
            "text/html": [
              "Tracking run with wandb version 0.19.8"
            ]
          },
          "metadata": {}
        },
        {
          "output_type": "display_data",
          "data": {
            "text/plain": [
              "<IPython.core.display.HTML object>"
            ],
            "text/html": [
              "Run data is saved locally in <code>/content/wandb/run-20250330_120434-c2jwku88</code>"
            ]
          },
          "metadata": {}
        },
        {
          "output_type": "display_data",
          "data": {
            "text/plain": [
              "<IPython.core.display.HTML object>"
            ],
            "text/html": [
              "Syncing run <strong><a href='https://wandb.ai/ed22b051-iit-madras-foundation/RL_PA1_Sweep_PolicyComparison_FixedGamma/runs/c2jwku88' target=\"_blank\">unique-sweep-32</a></strong> to <a href='https://wandb.ai/ed22b051-iit-madras-foundation/RL_PA1_Sweep_PolicyComparison_FixedGamma' target=\"_blank\">Weights & Biases</a> (<a href='https://wandb.me/developer-guide' target=\"_blank\">docs</a>)<br>Sweep page: <a href='https://wandb.ai/ed22b051-iit-madras-foundation/RL_PA1_Sweep_PolicyComparison_FixedGamma/sweeps/vluleyzf' target=\"_blank\">https://wandb.ai/ed22b051-iit-madras-foundation/RL_PA1_Sweep_PolicyComparison_FixedGamma/sweeps/vluleyzf</a>"
            ]
          },
          "metadata": {}
        },
        {
          "output_type": "display_data",
          "data": {
            "text/plain": [
              "<IPython.core.display.HTML object>"
            ],
            "text/html": [
              " View project at <a href='https://wandb.ai/ed22b051-iit-madras-foundation/RL_PA1_Sweep_PolicyComparison_FixedGamma' target=\"_blank\">https://wandb.ai/ed22b051-iit-madras-foundation/RL_PA1_Sweep_PolicyComparison_FixedGamma</a>"
            ]
          },
          "metadata": {}
        },
        {
          "output_type": "display_data",
          "data": {
            "text/plain": [
              "<IPython.core.display.HTML object>"
            ],
            "text/html": [
              " View sweep at <a href='https://wandb.ai/ed22b051-iit-madras-foundation/RL_PA1_Sweep_PolicyComparison_FixedGamma/sweeps/vluleyzf' target=\"_blank\">https://wandb.ai/ed22b051-iit-madras-foundation/RL_PA1_Sweep_PolicyComparison_FixedGamma/sweeps/vluleyzf</a>"
            ]
          },
          "metadata": {}
        },
        {
          "output_type": "display_data",
          "data": {
            "text/plain": [
              "<IPython.core.display.HTML object>"
            ],
            "text/html": [
              " View run at <a href='https://wandb.ai/ed22b051-iit-madras-foundation/RL_PA1_Sweep_PolicyComparison_FixedGamma/runs/c2jwku88' target=\"_blank\">https://wandb.ai/ed22b051-iit-madras-foundation/RL_PA1_Sweep_PolicyComparison_FixedGamma/runs/c2jwku88</a>"
            ]
          },
          "metadata": {}
        },
        {
          "output_type": "stream",
          "name": "stderr",
          "text": [
            "Q-Learning (epsilon_greedy): 100%|██████████| 1000/1000 [00:15<00:00, 62.79it/s]\n",
            "Q-Learning (epsilon_greedy): 100%|██████████| 1000/1000 [00:16<00:00, 59.15it/s]\n",
            "Q-Learning (epsilon_greedy): 100%|██████████| 1000/1000 [00:18<00:00, 54.12it/s]\n"
          ]
        },
        {
          "output_type": "display_data",
          "data": {
            "text/plain": [
              "<IPython.core.display.HTML object>"
            ],
            "text/html": []
          },
          "metadata": {}
        },
        {
          "output_type": "display_data",
          "data": {
            "text/plain": [
              "<IPython.core.display.HTML object>"
            ],
            "text/html": [
              "<br>    <style><br>        .wandb-row {<br>            display: flex;<br>            flex-direction: row;<br>            flex-wrap: wrap;<br>            justify-content: flex-start;<br>            width: 100%;<br>        }<br>        .wandb-col {<br>            display: flex;<br>            flex-direction: column;<br>            flex-basis: 100%;<br>            flex: 1;<br>            padding: 10px;<br>        }<br>    </style><br><div class=\"wandb-row\"><div class=\"wandb-col\"><h3>Run history:</h3><br/><table class=\"wandb\"><tr><td>Q_epsilon_greedy/reward</td><td>▁▁▁▂▃▃▂▄▄▂▃▄▃▄▂▅▆▃▇▁▂▂▁▄▂▂▃▃▂▁▂▁▆▄▃█▃▄▂▅</td></tr><tr><td>avg_reward</td><td>▁</td></tr><tr><td>episode</td><td>▁▁▂▃▃▄▄▅▅▅▆▆▇█▁▂▂▃▃▃▅▅▅▅▆█▁▁▂▂▃▄▄▄▄▆▆▆▇▇</td></tr></table><br/></div><div class=\"wandb-col\"><h3>Run summary:</h3><br/><table class=\"wandb\"><tr><td>Q_epsilon_greedy/reward</td><td>137</td></tr><tr><td>avg_reward</td><td>124.62</td></tr><tr><td>episode</td><td>999</td></tr></table><br/></div></div>"
            ]
          },
          "metadata": {}
        },
        {
          "output_type": "display_data",
          "data": {
            "text/plain": [
              "<IPython.core.display.HTML object>"
            ],
            "text/html": [
              " View run <strong style=\"color:#cdcd00\">unique-sweep-32</strong> at: <a href='https://wandb.ai/ed22b051-iit-madras-foundation/RL_PA1_Sweep_PolicyComparison_FixedGamma/runs/c2jwku88' target=\"_blank\">https://wandb.ai/ed22b051-iit-madras-foundation/RL_PA1_Sweep_PolicyComparison_FixedGamma/runs/c2jwku88</a><br> View project at: <a href='https://wandb.ai/ed22b051-iit-madras-foundation/RL_PA1_Sweep_PolicyComparison_FixedGamma' target=\"_blank\">https://wandb.ai/ed22b051-iit-madras-foundation/RL_PA1_Sweep_PolicyComparison_FixedGamma</a><br>Synced 5 W&B file(s), 0 media file(s), 0 artifact file(s) and 0 other file(s)"
            ]
          },
          "metadata": {}
        },
        {
          "output_type": "display_data",
          "data": {
            "text/plain": [
              "<IPython.core.display.HTML object>"
            ],
            "text/html": [
              "Find logs at: <code>./wandb/run-20250330_120434-c2jwku88/logs</code>"
            ]
          },
          "metadata": {}
        },
        {
          "output_type": "stream",
          "name": "stderr",
          "text": [
            "\u001b[34m\u001b[1mwandb\u001b[0m: Agent Starting Run: pfryjspm with config:\n",
            "\u001b[34m\u001b[1mwandb\u001b[0m: \talgorithm: q_learning\n",
            "\u001b[34m\u001b[1mwandb\u001b[0m: \talpha: 0.3649433143878696\n",
            "\u001b[34m\u001b[1mwandb\u001b[0m: \tparam_value: 0.06740690715138957\n",
            "\u001b[34m\u001b[1mwandb\u001b[0m: \tpolicy_type: softmax\n"
          ]
        },
        {
          "output_type": "display_data",
          "data": {
            "text/plain": [
              "<IPython.core.display.HTML object>"
            ],
            "text/html": [
              "Tracking run with wandb version 0.19.8"
            ]
          },
          "metadata": {}
        },
        {
          "output_type": "display_data",
          "data": {
            "text/plain": [
              "<IPython.core.display.HTML object>"
            ],
            "text/html": [
              "Run data is saved locally in <code>/content/wandb/run-20250330_120531-pfryjspm</code>"
            ]
          },
          "metadata": {}
        },
        {
          "output_type": "display_data",
          "data": {
            "text/plain": [
              "<IPython.core.display.HTML object>"
            ],
            "text/html": [
              "Syncing run <strong><a href='https://wandb.ai/ed22b051-iit-madras-foundation/RL_PA1_Sweep_PolicyComparison_FixedGamma/runs/pfryjspm' target=\"_blank\">happy-sweep-33</a></strong> to <a href='https://wandb.ai/ed22b051-iit-madras-foundation/RL_PA1_Sweep_PolicyComparison_FixedGamma' target=\"_blank\">Weights & Biases</a> (<a href='https://wandb.me/developer-guide' target=\"_blank\">docs</a>)<br>Sweep page: <a href='https://wandb.ai/ed22b051-iit-madras-foundation/RL_PA1_Sweep_PolicyComparison_FixedGamma/sweeps/vluleyzf' target=\"_blank\">https://wandb.ai/ed22b051-iit-madras-foundation/RL_PA1_Sweep_PolicyComparison_FixedGamma/sweeps/vluleyzf</a>"
            ]
          },
          "metadata": {}
        },
        {
          "output_type": "display_data",
          "data": {
            "text/plain": [
              "<IPython.core.display.HTML object>"
            ],
            "text/html": [
              " View project at <a href='https://wandb.ai/ed22b051-iit-madras-foundation/RL_PA1_Sweep_PolicyComparison_FixedGamma' target=\"_blank\">https://wandb.ai/ed22b051-iit-madras-foundation/RL_PA1_Sweep_PolicyComparison_FixedGamma</a>"
            ]
          },
          "metadata": {}
        },
        {
          "output_type": "display_data",
          "data": {
            "text/plain": [
              "<IPython.core.display.HTML object>"
            ],
            "text/html": [
              " View sweep at <a href='https://wandb.ai/ed22b051-iit-madras-foundation/RL_PA1_Sweep_PolicyComparison_FixedGamma/sweeps/vluleyzf' target=\"_blank\">https://wandb.ai/ed22b051-iit-madras-foundation/RL_PA1_Sweep_PolicyComparison_FixedGamma/sweeps/vluleyzf</a>"
            ]
          },
          "metadata": {}
        },
        {
          "output_type": "display_data",
          "data": {
            "text/plain": [
              "<IPython.core.display.HTML object>"
            ],
            "text/html": [
              " View run at <a href='https://wandb.ai/ed22b051-iit-madras-foundation/RL_PA1_Sweep_PolicyComparison_FixedGamma/runs/pfryjspm' target=\"_blank\">https://wandb.ai/ed22b051-iit-madras-foundation/RL_PA1_Sweep_PolicyComparison_FixedGamma/runs/pfryjspm</a>"
            ]
          },
          "metadata": {}
        },
        {
          "output_type": "stream",
          "name": "stderr",
          "text": [
            "Q-Learning (softmax): 100%|██████████| 1000/1000 [00:03<00:00, 289.18it/s]\n",
            "Q-Learning (softmax): 100%|██████████| 1000/1000 [00:07<00:00, 139.16it/s]\n",
            "Q-Learning (softmax): 100%|██████████| 1000/1000 [00:07<00:00, 127.06it/s]\n"
          ]
        },
        {
          "output_type": "display_data",
          "data": {
            "text/plain": [
              "<IPython.core.display.HTML object>"
            ],
            "text/html": []
          },
          "metadata": {}
        },
        {
          "output_type": "display_data",
          "data": {
            "text/plain": [
              "<IPython.core.display.HTML object>"
            ],
            "text/html": [
              "<br>    <style><br>        .wandb-row {<br>            display: flex;<br>            flex-direction: row;<br>            flex-wrap: wrap;<br>            justify-content: flex-start;<br>            width: 100%;<br>        }<br>        .wandb-col {<br>            display: flex;<br>            flex-direction: column;<br>            flex-basis: 100%;<br>            flex: 1;<br>            padding: 10px;<br>        }<br>    </style><br><div class=\"wandb-row\"><div class=\"wandb-col\"><h3>Run history:</h3><br/><table class=\"wandb\"><tr><td>Q_softmax/reward</td><td>▁▁▂▁▁▁▁▁▁▁▁▁▁▁▁▁▁█▁▂▁▂▁▄▁▂▅▂▁▃▁▁▂▂▃▅▂▅▂▂</td></tr><tr><td>avg_reward</td><td>▁</td></tr><tr><td>episode</td><td>▁▂▂▂▃▄▄▅▅▅██▄▄▄▅▅▅▆▆▇▇█▁▂▃▃▃▄▄▅▅▆▆▆▇▇▇▇█</td></tr></table><br/></div><div class=\"wandb-col\"><h3>Run summary:</h3><br/><table class=\"wandb\"><tr><td>Q_softmax/reward</td><td>13</td></tr><tr><td>avg_reward</td><td>25.73667</td></tr><tr><td>episode</td><td>999</td></tr></table><br/></div></div>"
            ]
          },
          "metadata": {}
        },
        {
          "output_type": "display_data",
          "data": {
            "text/plain": [
              "<IPython.core.display.HTML object>"
            ],
            "text/html": [
              " View run <strong style=\"color:#cdcd00\">happy-sweep-33</strong> at: <a href='https://wandb.ai/ed22b051-iit-madras-foundation/RL_PA1_Sweep_PolicyComparison_FixedGamma/runs/pfryjspm' target=\"_blank\">https://wandb.ai/ed22b051-iit-madras-foundation/RL_PA1_Sweep_PolicyComparison_FixedGamma/runs/pfryjspm</a><br> View project at: <a href='https://wandb.ai/ed22b051-iit-madras-foundation/RL_PA1_Sweep_PolicyComparison_FixedGamma' target=\"_blank\">https://wandb.ai/ed22b051-iit-madras-foundation/RL_PA1_Sweep_PolicyComparison_FixedGamma</a><br>Synced 5 W&B file(s), 0 media file(s), 0 artifact file(s) and 0 other file(s)"
            ]
          },
          "metadata": {}
        },
        {
          "output_type": "display_data",
          "data": {
            "text/plain": [
              "<IPython.core.display.HTML object>"
            ],
            "text/html": [
              "Find logs at: <code>./wandb/run-20250330_120531-pfryjspm/logs</code>"
            ]
          },
          "metadata": {}
        },
        {
          "output_type": "stream",
          "name": "stderr",
          "text": [
            "\u001b[34m\u001b[1mwandb\u001b[0m: Agent Starting Run: 849scpty with config:\n",
            "\u001b[34m\u001b[1mwandb\u001b[0m: \talgorithm: q_learning\n",
            "\u001b[34m\u001b[1mwandb\u001b[0m: \talpha: 0.6028385985340566\n",
            "\u001b[34m\u001b[1mwandb\u001b[0m: \tparam_value: 0.0926505011874306\n",
            "\u001b[34m\u001b[1mwandb\u001b[0m: \tpolicy_type: epsilon_greedy\n"
          ]
        },
        {
          "output_type": "display_data",
          "data": {
            "text/plain": [
              "<IPython.core.display.HTML object>"
            ],
            "text/html": [
              "Tracking run with wandb version 0.19.8"
            ]
          },
          "metadata": {}
        },
        {
          "output_type": "display_data",
          "data": {
            "text/plain": [
              "<IPython.core.display.HTML object>"
            ],
            "text/html": [
              "Run data is saved locally in <code>/content/wandb/run-20250330_120556-849scpty</code>"
            ]
          },
          "metadata": {}
        },
        {
          "output_type": "display_data",
          "data": {
            "text/plain": [
              "<IPython.core.display.HTML object>"
            ],
            "text/html": [
              "Syncing run <strong><a href='https://wandb.ai/ed22b051-iit-madras-foundation/RL_PA1_Sweep_PolicyComparison_FixedGamma/runs/849scpty' target=\"_blank\">tough-sweep-34</a></strong> to <a href='https://wandb.ai/ed22b051-iit-madras-foundation/RL_PA1_Sweep_PolicyComparison_FixedGamma' target=\"_blank\">Weights & Biases</a> (<a href='https://wandb.me/developer-guide' target=\"_blank\">docs</a>)<br>Sweep page: <a href='https://wandb.ai/ed22b051-iit-madras-foundation/RL_PA1_Sweep_PolicyComparison_FixedGamma/sweeps/vluleyzf' target=\"_blank\">https://wandb.ai/ed22b051-iit-madras-foundation/RL_PA1_Sweep_PolicyComparison_FixedGamma/sweeps/vluleyzf</a>"
            ]
          },
          "metadata": {}
        },
        {
          "output_type": "display_data",
          "data": {
            "text/plain": [
              "<IPython.core.display.HTML object>"
            ],
            "text/html": [
              " View project at <a href='https://wandb.ai/ed22b051-iit-madras-foundation/RL_PA1_Sweep_PolicyComparison_FixedGamma' target=\"_blank\">https://wandb.ai/ed22b051-iit-madras-foundation/RL_PA1_Sweep_PolicyComparison_FixedGamma</a>"
            ]
          },
          "metadata": {}
        },
        {
          "output_type": "display_data",
          "data": {
            "text/plain": [
              "<IPython.core.display.HTML object>"
            ],
            "text/html": [
              " View sweep at <a href='https://wandb.ai/ed22b051-iit-madras-foundation/RL_PA1_Sweep_PolicyComparison_FixedGamma/sweeps/vluleyzf' target=\"_blank\">https://wandb.ai/ed22b051-iit-madras-foundation/RL_PA1_Sweep_PolicyComparison_FixedGamma/sweeps/vluleyzf</a>"
            ]
          },
          "metadata": {}
        },
        {
          "output_type": "display_data",
          "data": {
            "text/plain": [
              "<IPython.core.display.HTML object>"
            ],
            "text/html": [
              " View run at <a href='https://wandb.ai/ed22b051-iit-madras-foundation/RL_PA1_Sweep_PolicyComparison_FixedGamma/runs/849scpty' target=\"_blank\">https://wandb.ai/ed22b051-iit-madras-foundation/RL_PA1_Sweep_PolicyComparison_FixedGamma/runs/849scpty</a>"
            ]
          },
          "metadata": {}
        },
        {
          "output_type": "stream",
          "name": "stderr",
          "text": [
            "Q-Learning (epsilon_greedy): 100%|██████████| 1000/1000 [00:14<00:00, 69.12it/s]\n",
            "Q-Learning (epsilon_greedy): 100%|██████████| 1000/1000 [00:14<00:00, 69.53it/s]\n",
            "Q-Learning (epsilon_greedy): 100%|██████████| 1000/1000 [00:14<00:00, 69.60it/s]\n"
          ]
        },
        {
          "output_type": "display_data",
          "data": {
            "text/plain": [
              "<IPython.core.display.HTML object>"
            ],
            "text/html": []
          },
          "metadata": {}
        },
        {
          "output_type": "display_data",
          "data": {
            "text/plain": [
              "<IPython.core.display.HTML object>"
            ],
            "text/html": [
              "<br>    <style><br>        .wandb-row {<br>            display: flex;<br>            flex-direction: row;<br>            flex-wrap: wrap;<br>            justify-content: flex-start;<br>            width: 100%;<br>        }<br>        .wandb-col {<br>            display: flex;<br>            flex-direction: column;<br>            flex-basis: 100%;<br>            flex: 1;<br>            padding: 10px;<br>        }<br>    </style><br><div class=\"wandb-row\"><div class=\"wandb-col\"><h3>Run history:</h3><br/><table class=\"wandb\"><tr><td>Q_epsilon_greedy/reward</td><td>▁▁▂▅▃▂▄▃▅▄▄▅▁▃▁▃▁▄▁▄▄▃█▄▅▃▃▁▁▁▁▁▁▃▂▃▃▁▅▃</td></tr><tr><td>avg_reward</td><td>▁</td></tr><tr><td>episode</td><td>▂▃▃▄▄▅▆▇██▂▂▂▂▂▃▃▄▄▄▄▅▅▇▇█▁▃▃▃▄▄▅▅▆▆▇███</td></tr></table><br/></div><div class=\"wandb-col\"><h3>Run summary:</h3><br/><table class=\"wandb\"><tr><td>Q_epsilon_greedy/reward</td><td>143</td></tr><tr><td>avg_reward</td><td>116.11667</td></tr><tr><td>episode</td><td>999</td></tr></table><br/></div></div>"
            ]
          },
          "metadata": {}
        },
        {
          "output_type": "display_data",
          "data": {
            "text/plain": [
              "<IPython.core.display.HTML object>"
            ],
            "text/html": [
              " View run <strong style=\"color:#cdcd00\">tough-sweep-34</strong> at: <a href='https://wandb.ai/ed22b051-iit-madras-foundation/RL_PA1_Sweep_PolicyComparison_FixedGamma/runs/849scpty' target=\"_blank\">https://wandb.ai/ed22b051-iit-madras-foundation/RL_PA1_Sweep_PolicyComparison_FixedGamma/runs/849scpty</a><br> View project at: <a href='https://wandb.ai/ed22b051-iit-madras-foundation/RL_PA1_Sweep_PolicyComparison_FixedGamma' target=\"_blank\">https://wandb.ai/ed22b051-iit-madras-foundation/RL_PA1_Sweep_PolicyComparison_FixedGamma</a><br>Synced 5 W&B file(s), 0 media file(s), 0 artifact file(s) and 0 other file(s)"
            ]
          },
          "metadata": {}
        },
        {
          "output_type": "display_data",
          "data": {
            "text/plain": [
              "<IPython.core.display.HTML object>"
            ],
            "text/html": [
              "Find logs at: <code>./wandb/run-20250330_120556-849scpty/logs</code>"
            ]
          },
          "metadata": {}
        },
        {
          "output_type": "stream",
          "name": "stderr",
          "text": [
            "\u001b[34m\u001b[1mwandb\u001b[0m: Agent Starting Run: i0ltr4zq with config:\n",
            "\u001b[34m\u001b[1mwandb\u001b[0m: \talgorithm: sarsa\n",
            "\u001b[34m\u001b[1mwandb\u001b[0m: \talpha: 0.34198428650630885\n",
            "\u001b[34m\u001b[1mwandb\u001b[0m: \tparam_value: 0.22784538825090672\n",
            "\u001b[34m\u001b[1mwandb\u001b[0m: \tpolicy_type: softmax\n"
          ]
        },
        {
          "output_type": "display_data",
          "data": {
            "text/plain": [
              "<IPython.core.display.HTML object>"
            ],
            "text/html": [
              "Tracking run with wandb version 0.19.8"
            ]
          },
          "metadata": {}
        },
        {
          "output_type": "display_data",
          "data": {
            "text/plain": [
              "<IPython.core.display.HTML object>"
            ],
            "text/html": [
              "Run data is saved locally in <code>/content/wandb/run-20250330_120647-i0ltr4zq</code>"
            ]
          },
          "metadata": {}
        },
        {
          "output_type": "display_data",
          "data": {
            "text/plain": [
              "<IPython.core.display.HTML object>"
            ],
            "text/html": [
              "Syncing run <strong><a href='https://wandb.ai/ed22b051-iit-madras-foundation/RL_PA1_Sweep_PolicyComparison_FixedGamma/runs/i0ltr4zq' target=\"_blank\">effortless-sweep-35</a></strong> to <a href='https://wandb.ai/ed22b051-iit-madras-foundation/RL_PA1_Sweep_PolicyComparison_FixedGamma' target=\"_blank\">Weights & Biases</a> (<a href='https://wandb.me/developer-guide' target=\"_blank\">docs</a>)<br>Sweep page: <a href='https://wandb.ai/ed22b051-iit-madras-foundation/RL_PA1_Sweep_PolicyComparison_FixedGamma/sweeps/vluleyzf' target=\"_blank\">https://wandb.ai/ed22b051-iit-madras-foundation/RL_PA1_Sweep_PolicyComparison_FixedGamma/sweeps/vluleyzf</a>"
            ]
          },
          "metadata": {}
        },
        {
          "output_type": "display_data",
          "data": {
            "text/plain": [
              "<IPython.core.display.HTML object>"
            ],
            "text/html": [
              " View project at <a href='https://wandb.ai/ed22b051-iit-madras-foundation/RL_PA1_Sweep_PolicyComparison_FixedGamma' target=\"_blank\">https://wandb.ai/ed22b051-iit-madras-foundation/RL_PA1_Sweep_PolicyComparison_FixedGamma</a>"
            ]
          },
          "metadata": {}
        },
        {
          "output_type": "display_data",
          "data": {
            "text/plain": [
              "<IPython.core.display.HTML object>"
            ],
            "text/html": [
              " View sweep at <a href='https://wandb.ai/ed22b051-iit-madras-foundation/RL_PA1_Sweep_PolicyComparison_FixedGamma/sweeps/vluleyzf' target=\"_blank\">https://wandb.ai/ed22b051-iit-madras-foundation/RL_PA1_Sweep_PolicyComparison_FixedGamma/sweeps/vluleyzf</a>"
            ]
          },
          "metadata": {}
        },
        {
          "output_type": "display_data",
          "data": {
            "text/plain": [
              "<IPython.core.display.HTML object>"
            ],
            "text/html": [
              " View run at <a href='https://wandb.ai/ed22b051-iit-madras-foundation/RL_PA1_Sweep_PolicyComparison_FixedGamma/runs/i0ltr4zq' target=\"_blank\">https://wandb.ai/ed22b051-iit-madras-foundation/RL_PA1_Sweep_PolicyComparison_FixedGamma/runs/i0ltr4zq</a>"
            ]
          },
          "metadata": {}
        },
        {
          "output_type": "stream",
          "name": "stderr",
          "text": [
            "SARSA (softmax): 100%|██████████| 1000/1000 [00:22<00:00, 43.96it/s]\n",
            "SARSA (softmax): 100%|██████████| 1000/1000 [00:13<00:00, 72.95it/s]\n",
            "SARSA (softmax): 100%|██████████| 1000/1000 [00:07<00:00, 126.16it/s]\n"
          ]
        },
        {
          "output_type": "display_data",
          "data": {
            "text/plain": [
              "<IPython.core.display.HTML object>"
            ],
            "text/html": []
          },
          "metadata": {}
        },
        {
          "output_type": "display_data",
          "data": {
            "text/plain": [
              "<IPython.core.display.HTML object>"
            ],
            "text/html": [
              "<br>    <style><br>        .wandb-row {<br>            display: flex;<br>            flex-direction: row;<br>            flex-wrap: wrap;<br>            justify-content: flex-start;<br>            width: 100%;<br>        }<br>        .wandb-col {<br>            display: flex;<br>            flex-direction: column;<br>            flex-basis: 100%;<br>            flex: 1;<br>            padding: 10px;<br>        }<br>    </style><br><div class=\"wandb-row\"><div class=\"wandb-col\"><h3>Run history:</h3><br/><table class=\"wandb\"><tr><td>SARSA_softmax/reward</td><td>▂▁▇▃▂▂█▁▂▇▁▂▂▂▆▁▁▃▁▁▃▁▆▁▁▁▆▃▆▂▁▁▁▁▂▂▃▄▃▁</td></tr><tr><td>avg_reward</td><td>▁</td></tr><tr><td>episode</td><td>▁▁▃▃▃▄▄▅▅▅▆▆▆▆▇▁▁▁▂▄▄▅▅▅▅▆▆▇▇█▂▃▃▄▄▅▅▆▇█</td></tr></table><br/></div><div class=\"wandb-col\"><h3>Run summary:</h3><br/><table class=\"wandb\"><tr><td>SARSA_softmax/reward</td><td>47</td></tr><tr><td>avg_reward</td><td>60.59</td></tr><tr><td>episode</td><td>999</td></tr></table><br/></div></div>"
            ]
          },
          "metadata": {}
        },
        {
          "output_type": "display_data",
          "data": {
            "text/plain": [
              "<IPython.core.display.HTML object>"
            ],
            "text/html": [
              " View run <strong style=\"color:#cdcd00\">effortless-sweep-35</strong> at: <a href='https://wandb.ai/ed22b051-iit-madras-foundation/RL_PA1_Sweep_PolicyComparison_FixedGamma/runs/i0ltr4zq' target=\"_blank\">https://wandb.ai/ed22b051-iit-madras-foundation/RL_PA1_Sweep_PolicyComparison_FixedGamma/runs/i0ltr4zq</a><br> View project at: <a href='https://wandb.ai/ed22b051-iit-madras-foundation/RL_PA1_Sweep_PolicyComparison_FixedGamma' target=\"_blank\">https://wandb.ai/ed22b051-iit-madras-foundation/RL_PA1_Sweep_PolicyComparison_FixedGamma</a><br>Synced 5 W&B file(s), 0 media file(s), 0 artifact file(s) and 0 other file(s)"
            ]
          },
          "metadata": {}
        },
        {
          "output_type": "display_data",
          "data": {
            "text/plain": [
              "<IPython.core.display.HTML object>"
            ],
            "text/html": [
              "Find logs at: <code>./wandb/run-20250330_120647-i0ltr4zq/logs</code>"
            ]
          },
          "metadata": {}
        },
        {
          "output_type": "stream",
          "name": "stderr",
          "text": [
            "\u001b[34m\u001b[1mwandb\u001b[0m: Agent Starting Run: nl1pzp3p with config:\n",
            "\u001b[34m\u001b[1mwandb\u001b[0m: \talgorithm: sarsa\n",
            "\u001b[34m\u001b[1mwandb\u001b[0m: \talpha: 0.31370666286884885\n",
            "\u001b[34m\u001b[1mwandb\u001b[0m: \tparam_value: 0.14556659860968174\n",
            "\u001b[34m\u001b[1mwandb\u001b[0m: \tpolicy_type: softmax\n"
          ]
        },
        {
          "output_type": "display_data",
          "data": {
            "text/plain": [
              "<IPython.core.display.HTML object>"
            ],
            "text/html": [
              "Tracking run with wandb version 0.19.8"
            ]
          },
          "metadata": {}
        },
        {
          "output_type": "display_data",
          "data": {
            "text/plain": [
              "<IPython.core.display.HTML object>"
            ],
            "text/html": [
              "Run data is saved locally in <code>/content/wandb/run-20250330_120738-nl1pzp3p</code>"
            ]
          },
          "metadata": {}
        },
        {
          "output_type": "display_data",
          "data": {
            "text/plain": [
              "<IPython.core.display.HTML object>"
            ],
            "text/html": [
              "Syncing run <strong><a href='https://wandb.ai/ed22b051-iit-madras-foundation/RL_PA1_Sweep_PolicyComparison_FixedGamma/runs/nl1pzp3p' target=\"_blank\">avid-sweep-36</a></strong> to <a href='https://wandb.ai/ed22b051-iit-madras-foundation/RL_PA1_Sweep_PolicyComparison_FixedGamma' target=\"_blank\">Weights & Biases</a> (<a href='https://wandb.me/developer-guide' target=\"_blank\">docs</a>)<br>Sweep page: <a href='https://wandb.ai/ed22b051-iit-madras-foundation/RL_PA1_Sweep_PolicyComparison_FixedGamma/sweeps/vluleyzf' target=\"_blank\">https://wandb.ai/ed22b051-iit-madras-foundation/RL_PA1_Sweep_PolicyComparison_FixedGamma/sweeps/vluleyzf</a>"
            ]
          },
          "metadata": {}
        },
        {
          "output_type": "display_data",
          "data": {
            "text/plain": [
              "<IPython.core.display.HTML object>"
            ],
            "text/html": [
              " View project at <a href='https://wandb.ai/ed22b051-iit-madras-foundation/RL_PA1_Sweep_PolicyComparison_FixedGamma' target=\"_blank\">https://wandb.ai/ed22b051-iit-madras-foundation/RL_PA1_Sweep_PolicyComparison_FixedGamma</a>"
            ]
          },
          "metadata": {}
        },
        {
          "output_type": "display_data",
          "data": {
            "text/plain": [
              "<IPython.core.display.HTML object>"
            ],
            "text/html": [
              " View sweep at <a href='https://wandb.ai/ed22b051-iit-madras-foundation/RL_PA1_Sweep_PolicyComparison_FixedGamma/sweeps/vluleyzf' target=\"_blank\">https://wandb.ai/ed22b051-iit-madras-foundation/RL_PA1_Sweep_PolicyComparison_FixedGamma/sweeps/vluleyzf</a>"
            ]
          },
          "metadata": {}
        },
        {
          "output_type": "display_data",
          "data": {
            "text/plain": [
              "<IPython.core.display.HTML object>"
            ],
            "text/html": [
              " View run at <a href='https://wandb.ai/ed22b051-iit-madras-foundation/RL_PA1_Sweep_PolicyComparison_FixedGamma/runs/nl1pzp3p' target=\"_blank\">https://wandb.ai/ed22b051-iit-madras-foundation/RL_PA1_Sweep_PolicyComparison_FixedGamma/runs/nl1pzp3p</a>"
            ]
          },
          "metadata": {}
        },
        {
          "output_type": "stream",
          "name": "stderr",
          "text": [
            "SARSA (softmax): 100%|██████████| 1000/1000 [00:12<00:00, 80.99it/s]\n",
            "SARSA (softmax): 100%|██████████| 1000/1000 [00:09<00:00, 109.08it/s]\n",
            "SARSA (softmax): 100%|██████████| 1000/1000 [00:05<00:00, 185.84it/s]\n"
          ]
        },
        {
          "output_type": "display_data",
          "data": {
            "text/plain": [
              "<IPython.core.display.HTML object>"
            ],
            "text/html": []
          },
          "metadata": {}
        },
        {
          "output_type": "display_data",
          "data": {
            "text/plain": [
              "<IPython.core.display.HTML object>"
            ],
            "text/html": [
              "<br>    <style><br>        .wandb-row {<br>            display: flex;<br>            flex-direction: row;<br>            flex-wrap: wrap;<br>            justify-content: flex-start;<br>            width: 100%;<br>        }<br>        .wandb-col {<br>            display: flex;<br>            flex-direction: column;<br>            flex-basis: 100%;<br>            flex: 1;<br>            padding: 10px;<br>        }<br>    </style><br><div class=\"wandb-row\"><div class=\"wandb-col\"><h3>Run history:</h3><br/><table class=\"wandb\"><tr><td>SARSA_softmax/reward</td><td>▆█▁▅▅▅▃▆▃▄▅▂▅▄▄▃▃▁▁▃▁▁▅▂▁▂▄▁▁▂▁▁▁▁▁▃▁▁▄▁</td></tr><tr><td>avg_reward</td><td>▁</td></tr><tr><td>episode</td><td>▁▂▃▃▄▆▆▆▇▇█▁▁▂▂▂▃▃▃▃▃▄▄▅▆█▁▁▁▂▂▃▃▃▄▆▆▇▇█</td></tr></table><br/></div><div class=\"wandb-col\"><h3>Run summary:</h3><br/><table class=\"wandb\"><tr><td>SARSA_softmax/reward</td><td>13</td></tr><tr><td>avg_reward</td><td>36.09333</td></tr><tr><td>episode</td><td>999</td></tr></table><br/></div></div>"
            ]
          },
          "metadata": {}
        },
        {
          "output_type": "display_data",
          "data": {
            "text/plain": [
              "<IPython.core.display.HTML object>"
            ],
            "text/html": [
              " View run <strong style=\"color:#cdcd00\">avid-sweep-36</strong> at: <a href='https://wandb.ai/ed22b051-iit-madras-foundation/RL_PA1_Sweep_PolicyComparison_FixedGamma/runs/nl1pzp3p' target=\"_blank\">https://wandb.ai/ed22b051-iit-madras-foundation/RL_PA1_Sweep_PolicyComparison_FixedGamma/runs/nl1pzp3p</a><br> View project at: <a href='https://wandb.ai/ed22b051-iit-madras-foundation/RL_PA1_Sweep_PolicyComparison_FixedGamma' target=\"_blank\">https://wandb.ai/ed22b051-iit-madras-foundation/RL_PA1_Sweep_PolicyComparison_FixedGamma</a><br>Synced 5 W&B file(s), 0 media file(s), 0 artifact file(s) and 0 other file(s)"
            ]
          },
          "metadata": {}
        },
        {
          "output_type": "display_data",
          "data": {
            "text/plain": [
              "<IPython.core.display.HTML object>"
            ],
            "text/html": [
              "Find logs at: <code>./wandb/run-20250330_120738-nl1pzp3p/logs</code>"
            ]
          },
          "metadata": {}
        },
        {
          "output_type": "stream",
          "name": "stderr",
          "text": [
            "\u001b[34m\u001b[1mwandb\u001b[0m: Agent Starting Run: 9h2gmywb with config:\n",
            "\u001b[34m\u001b[1mwandb\u001b[0m: \talgorithm: q_learning\n",
            "\u001b[34m\u001b[1mwandb\u001b[0m: \talpha: 0.3287161411374513\n",
            "\u001b[34m\u001b[1mwandb\u001b[0m: \tparam_value: 0.14547650697329215\n",
            "\u001b[34m\u001b[1mwandb\u001b[0m: \tpolicy_type: epsilon_greedy\n"
          ]
        },
        {
          "output_type": "display_data",
          "data": {
            "text/plain": [
              "<IPython.core.display.HTML object>"
            ],
            "text/html": [
              "Tracking run with wandb version 0.19.8"
            ]
          },
          "metadata": {}
        },
        {
          "output_type": "display_data",
          "data": {
            "text/plain": [
              "<IPython.core.display.HTML object>"
            ],
            "text/html": [
              "Run data is saved locally in <code>/content/wandb/run-20250330_120809-9h2gmywb</code>"
            ]
          },
          "metadata": {}
        },
        {
          "output_type": "display_data",
          "data": {
            "text/plain": [
              "<IPython.core.display.HTML object>"
            ],
            "text/html": [
              "Syncing run <strong><a href='https://wandb.ai/ed22b051-iit-madras-foundation/RL_PA1_Sweep_PolicyComparison_FixedGamma/runs/9h2gmywb' target=\"_blank\">desert-sweep-37</a></strong> to <a href='https://wandb.ai/ed22b051-iit-madras-foundation/RL_PA1_Sweep_PolicyComparison_FixedGamma' target=\"_blank\">Weights & Biases</a> (<a href='https://wandb.me/developer-guide' target=\"_blank\">docs</a>)<br>Sweep page: <a href='https://wandb.ai/ed22b051-iit-madras-foundation/RL_PA1_Sweep_PolicyComparison_FixedGamma/sweeps/vluleyzf' target=\"_blank\">https://wandb.ai/ed22b051-iit-madras-foundation/RL_PA1_Sweep_PolicyComparison_FixedGamma/sweeps/vluleyzf</a>"
            ]
          },
          "metadata": {}
        },
        {
          "output_type": "display_data",
          "data": {
            "text/plain": [
              "<IPython.core.display.HTML object>"
            ],
            "text/html": [
              " View project at <a href='https://wandb.ai/ed22b051-iit-madras-foundation/RL_PA1_Sweep_PolicyComparison_FixedGamma' target=\"_blank\">https://wandb.ai/ed22b051-iit-madras-foundation/RL_PA1_Sweep_PolicyComparison_FixedGamma</a>"
            ]
          },
          "metadata": {}
        },
        {
          "output_type": "display_data",
          "data": {
            "text/plain": [
              "<IPython.core.display.HTML object>"
            ],
            "text/html": [
              " View sweep at <a href='https://wandb.ai/ed22b051-iit-madras-foundation/RL_PA1_Sweep_PolicyComparison_FixedGamma/sweeps/vluleyzf' target=\"_blank\">https://wandb.ai/ed22b051-iit-madras-foundation/RL_PA1_Sweep_PolicyComparison_FixedGamma/sweeps/vluleyzf</a>"
            ]
          },
          "metadata": {}
        },
        {
          "output_type": "display_data",
          "data": {
            "text/plain": [
              "<IPython.core.display.HTML object>"
            ],
            "text/html": [
              " View run at <a href='https://wandb.ai/ed22b051-iit-madras-foundation/RL_PA1_Sweep_PolicyComparison_FixedGamma/runs/9h2gmywb' target=\"_blank\">https://wandb.ai/ed22b051-iit-madras-foundation/RL_PA1_Sweep_PolicyComparison_FixedGamma/runs/9h2gmywb</a>"
            ]
          },
          "metadata": {}
        },
        {
          "output_type": "stream",
          "name": "stderr",
          "text": [
            "Q-Learning (epsilon_greedy): 100%|██████████| 1000/1000 [00:14<00:00, 68.62it/s]\n",
            "Q-Learning (epsilon_greedy): 100%|██████████| 1000/1000 [00:15<00:00, 65.07it/s]\n",
            "Q-Learning (epsilon_greedy): 100%|██████████| 1000/1000 [00:12<00:00, 78.15it/s]\n"
          ]
        },
        {
          "output_type": "display_data",
          "data": {
            "text/plain": [
              "<IPython.core.display.HTML object>"
            ],
            "text/html": []
          },
          "metadata": {}
        },
        {
          "output_type": "display_data",
          "data": {
            "text/plain": [
              "<IPython.core.display.HTML object>"
            ],
            "text/html": [
              "<br>    <style><br>        .wandb-row {<br>            display: flex;<br>            flex-direction: row;<br>            flex-wrap: wrap;<br>            justify-content: flex-start;<br>            width: 100%;<br>        }<br>        .wandb-col {<br>            display: flex;<br>            flex-direction: column;<br>            flex-basis: 100%;<br>            flex: 1;<br>            padding: 10px;<br>        }<br>    </style><br><div class=\"wandb-row\"><div class=\"wandb-col\"><h3>Run history:</h3><br/><table class=\"wandb\"><tr><td>Q_epsilon_greedy/reward</td><td>▂▁▁▁▃▄▅▆▇█▅▄▂▄▆▄▃▃▄▃▃▃▄▁▃▁▅▁▁▁▄▄▃▃▄▃▄▃▅▃</td></tr><tr><td>avg_reward</td><td>▁</td></tr><tr><td>episode</td><td>▁▂▂▂▂▃▃▅▅▆▆▇▇█▂▂▂▃▃▃▄▄▄▄▄▅▆▆▇▇█▂▂▂▃▅▆▆▆▇</td></tr></table><br/></div><div class=\"wandb-col\"><h3>Run summary:</h3><br/><table class=\"wandb\"><tr><td>Q_epsilon_greedy/reward</td><td>114</td></tr><tr><td>avg_reward</td><td>111.70667</td></tr><tr><td>episode</td><td>999</td></tr></table><br/></div></div>"
            ]
          },
          "metadata": {}
        },
        {
          "output_type": "display_data",
          "data": {
            "text/plain": [
              "<IPython.core.display.HTML object>"
            ],
            "text/html": [
              " View run <strong style=\"color:#cdcd00\">desert-sweep-37</strong> at: <a href='https://wandb.ai/ed22b051-iit-madras-foundation/RL_PA1_Sweep_PolicyComparison_FixedGamma/runs/9h2gmywb' target=\"_blank\">https://wandb.ai/ed22b051-iit-madras-foundation/RL_PA1_Sweep_PolicyComparison_FixedGamma/runs/9h2gmywb</a><br> View project at: <a href='https://wandb.ai/ed22b051-iit-madras-foundation/RL_PA1_Sweep_PolicyComparison_FixedGamma' target=\"_blank\">https://wandb.ai/ed22b051-iit-madras-foundation/RL_PA1_Sweep_PolicyComparison_FixedGamma</a><br>Synced 5 W&B file(s), 0 media file(s), 0 artifact file(s) and 0 other file(s)"
            ]
          },
          "metadata": {}
        },
        {
          "output_type": "display_data",
          "data": {
            "text/plain": [
              "<IPython.core.display.HTML object>"
            ],
            "text/html": [
              "Find logs at: <code>./wandb/run-20250330_120809-9h2gmywb/logs</code>"
            ]
          },
          "metadata": {}
        },
        {
          "output_type": "stream",
          "name": "stderr",
          "text": [
            "\u001b[34m\u001b[1mwandb\u001b[0m: Agent Starting Run: ctd7zmaz with config:\n",
            "\u001b[34m\u001b[1mwandb\u001b[0m: \talgorithm: q_learning\n",
            "\u001b[34m\u001b[1mwandb\u001b[0m: \talpha: 0.24078942772613493\n",
            "\u001b[34m\u001b[1mwandb\u001b[0m: \tparam_value: 0.23369699120745083\n",
            "\u001b[34m\u001b[1mwandb\u001b[0m: \tpolicy_type: epsilon_greedy\n"
          ]
        },
        {
          "output_type": "display_data",
          "data": {
            "text/plain": [
              "<IPython.core.display.HTML object>"
            ],
            "text/html": [
              "Tracking run with wandb version 0.19.8"
            ]
          },
          "metadata": {}
        },
        {
          "output_type": "display_data",
          "data": {
            "text/plain": [
              "<IPython.core.display.HTML object>"
            ],
            "text/html": [
              "Run data is saved locally in <code>/content/wandb/run-20250330_120900-ctd7zmaz</code>"
            ]
          },
          "metadata": {}
        },
        {
          "output_type": "display_data",
          "data": {
            "text/plain": [
              "<IPython.core.display.HTML object>"
            ],
            "text/html": [
              "Syncing run <strong><a href='https://wandb.ai/ed22b051-iit-madras-foundation/RL_PA1_Sweep_PolicyComparison_FixedGamma/runs/ctd7zmaz' target=\"_blank\">easy-sweep-38</a></strong> to <a href='https://wandb.ai/ed22b051-iit-madras-foundation/RL_PA1_Sweep_PolicyComparison_FixedGamma' target=\"_blank\">Weights & Biases</a> (<a href='https://wandb.me/developer-guide' target=\"_blank\">docs</a>)<br>Sweep page: <a href='https://wandb.ai/ed22b051-iit-madras-foundation/RL_PA1_Sweep_PolicyComparison_FixedGamma/sweeps/vluleyzf' target=\"_blank\">https://wandb.ai/ed22b051-iit-madras-foundation/RL_PA1_Sweep_PolicyComparison_FixedGamma/sweeps/vluleyzf</a>"
            ]
          },
          "metadata": {}
        },
        {
          "output_type": "display_data",
          "data": {
            "text/plain": [
              "<IPython.core.display.HTML object>"
            ],
            "text/html": [
              " View project at <a href='https://wandb.ai/ed22b051-iit-madras-foundation/RL_PA1_Sweep_PolicyComparison_FixedGamma' target=\"_blank\">https://wandb.ai/ed22b051-iit-madras-foundation/RL_PA1_Sweep_PolicyComparison_FixedGamma</a>"
            ]
          },
          "metadata": {}
        },
        {
          "output_type": "display_data",
          "data": {
            "text/plain": [
              "<IPython.core.display.HTML object>"
            ],
            "text/html": [
              " View sweep at <a href='https://wandb.ai/ed22b051-iit-madras-foundation/RL_PA1_Sweep_PolicyComparison_FixedGamma/sweeps/vluleyzf' target=\"_blank\">https://wandb.ai/ed22b051-iit-madras-foundation/RL_PA1_Sweep_PolicyComparison_FixedGamma/sweeps/vluleyzf</a>"
            ]
          },
          "metadata": {}
        },
        {
          "output_type": "display_data",
          "data": {
            "text/plain": [
              "<IPython.core.display.HTML object>"
            ],
            "text/html": [
              " View run at <a href='https://wandb.ai/ed22b051-iit-madras-foundation/RL_PA1_Sweep_PolicyComparison_FixedGamma/runs/ctd7zmaz' target=\"_blank\">https://wandb.ai/ed22b051-iit-madras-foundation/RL_PA1_Sweep_PolicyComparison_FixedGamma/runs/ctd7zmaz</a>"
            ]
          },
          "metadata": {}
        },
        {
          "output_type": "stream",
          "name": "stderr",
          "text": [
            "Q-Learning (epsilon_greedy): 100%|██████████| 1000/1000 [00:18<00:00, 55.32it/s]\n",
            "Q-Learning (epsilon_greedy): 100%|██████████| 1000/1000 [00:14<00:00, 68.28it/s]\n",
            "Q-Learning (epsilon_greedy): 100%|██████████| 1000/1000 [00:12<00:00, 79.53it/s]\n"
          ]
        },
        {
          "output_type": "display_data",
          "data": {
            "text/plain": [
              "<IPython.core.display.HTML object>"
            ],
            "text/html": []
          },
          "metadata": {}
        },
        {
          "output_type": "display_data",
          "data": {
            "text/plain": [
              "<IPython.core.display.HTML object>"
            ],
            "text/html": [
              "<br>    <style><br>        .wandb-row {<br>            display: flex;<br>            flex-direction: row;<br>            flex-wrap: wrap;<br>            justify-content: flex-start;<br>            width: 100%;<br>        }<br>        .wandb-col {<br>            display: flex;<br>            flex-direction: column;<br>            flex-basis: 100%;<br>            flex: 1;<br>            padding: 10px;<br>        }<br>    </style><br><div class=\"wandb-row\"><div class=\"wandb-col\"><h3>Run history:</h3><br/><table class=\"wandb\"><tr><td>Q_epsilon_greedy/reward</td><td>▁▁▁▁▃▄▃▇▄▄▃▄▅█▃▂▂▂▄▃▃▄▂▄▃▁▁▁▁▁▂▄▅▄▃▇▂▄▄▄</td></tr><tr><td>avg_reward</td><td>▁</td></tr><tr><td>episode</td><td>▁▁▂▂▃▄▄▄▄▅▆▆▇▇█▁▁▂▂▃▃▃▃▃▄▆▇██▁▂▂▂▃▃▄▆▇▇█</td></tr></table><br/></div><div class=\"wandb-col\"><h3>Run summary:</h3><br/><table class=\"wandb\"><tr><td>Q_epsilon_greedy/reward</td><td>133</td></tr><tr><td>avg_reward</td><td>128.94333</td></tr><tr><td>episode</td><td>999</td></tr></table><br/></div></div>"
            ]
          },
          "metadata": {}
        },
        {
          "output_type": "display_data",
          "data": {
            "text/plain": [
              "<IPython.core.display.HTML object>"
            ],
            "text/html": [
              " View run <strong style=\"color:#cdcd00\">easy-sweep-38</strong> at: <a href='https://wandb.ai/ed22b051-iit-madras-foundation/RL_PA1_Sweep_PolicyComparison_FixedGamma/runs/ctd7zmaz' target=\"_blank\">https://wandb.ai/ed22b051-iit-madras-foundation/RL_PA1_Sweep_PolicyComparison_FixedGamma/runs/ctd7zmaz</a><br> View project at: <a href='https://wandb.ai/ed22b051-iit-madras-foundation/RL_PA1_Sweep_PolicyComparison_FixedGamma' target=\"_blank\">https://wandb.ai/ed22b051-iit-madras-foundation/RL_PA1_Sweep_PolicyComparison_FixedGamma</a><br>Synced 5 W&B file(s), 0 media file(s), 0 artifact file(s) and 0 other file(s)"
            ]
          },
          "metadata": {}
        },
        {
          "output_type": "display_data",
          "data": {
            "text/plain": [
              "<IPython.core.display.HTML object>"
            ],
            "text/html": [
              "Find logs at: <code>./wandb/run-20250330_120900-ctd7zmaz/logs</code>"
            ]
          },
          "metadata": {}
        },
        {
          "output_type": "stream",
          "name": "stderr",
          "text": [
            "\u001b[34m\u001b[1mwandb\u001b[0m: Agent Starting Run: f1yeovx2 with config:\n",
            "\u001b[34m\u001b[1mwandb\u001b[0m: \talgorithm: sarsa\n",
            "\u001b[34m\u001b[1mwandb\u001b[0m: \talpha: 0.38401627706104347\n",
            "\u001b[34m\u001b[1mwandb\u001b[0m: \tparam_value: 0.10612630849661488\n",
            "\u001b[34m\u001b[1mwandb\u001b[0m: \tpolicy_type: epsilon_greedy\n"
          ]
        },
        {
          "output_type": "display_data",
          "data": {
            "text/plain": [
              "<IPython.core.display.HTML object>"
            ],
            "text/html": [
              "Tracking run with wandb version 0.19.8"
            ]
          },
          "metadata": {}
        },
        {
          "output_type": "display_data",
          "data": {
            "text/plain": [
              "<IPython.core.display.HTML object>"
            ],
            "text/html": [
              "Run data is saved locally in <code>/content/wandb/run-20250330_120951-f1yeovx2</code>"
            ]
          },
          "metadata": {}
        },
        {
          "output_type": "display_data",
          "data": {
            "text/plain": [
              "<IPython.core.display.HTML object>"
            ],
            "text/html": [
              "Syncing run <strong><a href='https://wandb.ai/ed22b051-iit-madras-foundation/RL_PA1_Sweep_PolicyComparison_FixedGamma/runs/f1yeovx2' target=\"_blank\">grateful-sweep-39</a></strong> to <a href='https://wandb.ai/ed22b051-iit-madras-foundation/RL_PA1_Sweep_PolicyComparison_FixedGamma' target=\"_blank\">Weights & Biases</a> (<a href='https://wandb.me/developer-guide' target=\"_blank\">docs</a>)<br>Sweep page: <a href='https://wandb.ai/ed22b051-iit-madras-foundation/RL_PA1_Sweep_PolicyComparison_FixedGamma/sweeps/vluleyzf' target=\"_blank\">https://wandb.ai/ed22b051-iit-madras-foundation/RL_PA1_Sweep_PolicyComparison_FixedGamma/sweeps/vluleyzf</a>"
            ]
          },
          "metadata": {}
        },
        {
          "output_type": "display_data",
          "data": {
            "text/plain": [
              "<IPython.core.display.HTML object>"
            ],
            "text/html": [
              " View project at <a href='https://wandb.ai/ed22b051-iit-madras-foundation/RL_PA1_Sweep_PolicyComparison_FixedGamma' target=\"_blank\">https://wandb.ai/ed22b051-iit-madras-foundation/RL_PA1_Sweep_PolicyComparison_FixedGamma</a>"
            ]
          },
          "metadata": {}
        },
        {
          "output_type": "display_data",
          "data": {
            "text/plain": [
              "<IPython.core.display.HTML object>"
            ],
            "text/html": [
              " View sweep at <a href='https://wandb.ai/ed22b051-iit-madras-foundation/RL_PA1_Sweep_PolicyComparison_FixedGamma/sweeps/vluleyzf' target=\"_blank\">https://wandb.ai/ed22b051-iit-madras-foundation/RL_PA1_Sweep_PolicyComparison_FixedGamma/sweeps/vluleyzf</a>"
            ]
          },
          "metadata": {}
        },
        {
          "output_type": "display_data",
          "data": {
            "text/plain": [
              "<IPython.core.display.HTML object>"
            ],
            "text/html": [
              " View run at <a href='https://wandb.ai/ed22b051-iit-madras-foundation/RL_PA1_Sweep_PolicyComparison_FixedGamma/runs/f1yeovx2' target=\"_blank\">https://wandb.ai/ed22b051-iit-madras-foundation/RL_PA1_Sweep_PolicyComparison_FixedGamma/runs/f1yeovx2</a>"
            ]
          },
          "metadata": {}
        },
        {
          "output_type": "stream",
          "name": "stderr",
          "text": [
            "SARSA (epsilon_greedy): 100%|██████████| 1000/1000 [00:05<00:00, 187.67it/s]\n",
            "SARSA (epsilon_greedy): 100%|██████████| 1000/1000 [00:12<00:00, 77.60it/s]\n",
            "SARSA (epsilon_greedy): 100%|██████████| 1000/1000 [00:10<00:00, 99.45it/s]\n"
          ]
        },
        {
          "output_type": "display_data",
          "data": {
            "text/plain": [
              "<IPython.core.display.HTML object>"
            ],
            "text/html": []
          },
          "metadata": {}
        },
        {
          "output_type": "display_data",
          "data": {
            "text/plain": [
              "<IPython.core.display.HTML object>"
            ],
            "text/html": [
              "<br>    <style><br>        .wandb-row {<br>            display: flex;<br>            flex-direction: row;<br>            flex-wrap: wrap;<br>            justify-content: flex-start;<br>            width: 100%;<br>        }<br>        .wandb-col {<br>            display: flex;<br>            flex-direction: column;<br>            flex-basis: 100%;<br>            flex: 1;<br>            padding: 10px;<br>        }<br>    </style><br><div class=\"wandb-row\"><div class=\"wandb-col\"><h3>Run history:</h3><br/><table class=\"wandb\"><tr><td>SARSA_epsilon_greedy/reward</td><td>▁▁▁▁▁▁▁▂▂▂▂▂▇▅▁▁▃▅▆▆▆▇▆▇▁▁▁▁▁▂▃▂▇▅█▃▇▅▆▄</td></tr><tr><td>avg_reward</td><td>▁</td></tr><tr><td>episode</td><td>▁▁▂▂▂▃▄▅▅▅▆▇███▂▂▂▃▃▄▅▅▆▇▇█▁▂▃▃▄▄▅▅▆▆▆▆█</td></tr></table><br/></div><div class=\"wandb-col\"><h3>Run summary:</h3><br/><table class=\"wandb\"><tr><td>SARSA_epsilon_greedy/reward</td><td>197</td></tr><tr><td>avg_reward</td><td>105.26</td></tr><tr><td>episode</td><td>999</td></tr></table><br/></div></div>"
            ]
          },
          "metadata": {}
        },
        {
          "output_type": "display_data",
          "data": {
            "text/plain": [
              "<IPython.core.display.HTML object>"
            ],
            "text/html": [
              " View run <strong style=\"color:#cdcd00\">grateful-sweep-39</strong> at: <a href='https://wandb.ai/ed22b051-iit-madras-foundation/RL_PA1_Sweep_PolicyComparison_FixedGamma/runs/f1yeovx2' target=\"_blank\">https://wandb.ai/ed22b051-iit-madras-foundation/RL_PA1_Sweep_PolicyComparison_FixedGamma/runs/f1yeovx2</a><br> View project at: <a href='https://wandb.ai/ed22b051-iit-madras-foundation/RL_PA1_Sweep_PolicyComparison_FixedGamma' target=\"_blank\">https://wandb.ai/ed22b051-iit-madras-foundation/RL_PA1_Sweep_PolicyComparison_FixedGamma</a><br>Synced 5 W&B file(s), 0 media file(s), 0 artifact file(s) and 0 other file(s)"
            ]
          },
          "metadata": {}
        },
        {
          "output_type": "display_data",
          "data": {
            "text/plain": [
              "<IPython.core.display.HTML object>"
            ],
            "text/html": [
              "Find logs at: <code>./wandb/run-20250330_120951-f1yeovx2/logs</code>"
            ]
          },
          "metadata": {}
        },
        {
          "output_type": "stream",
          "name": "stderr",
          "text": [
            "\u001b[34m\u001b[1mwandb\u001b[0m: Agent Starting Run: krtxr62g with config:\n",
            "\u001b[34m\u001b[1mwandb\u001b[0m: \talgorithm: q_learning\n",
            "\u001b[34m\u001b[1mwandb\u001b[0m: \talpha: 0.3972300673377691\n",
            "\u001b[34m\u001b[1mwandb\u001b[0m: \tparam_value: 0.2725441953820888\n",
            "\u001b[34m\u001b[1mwandb\u001b[0m: \tpolicy_type: softmax\n"
          ]
        },
        {
          "output_type": "display_data",
          "data": {
            "text/plain": [
              "<IPython.core.display.HTML object>"
            ],
            "text/html": [
              "Tracking run with wandb version 0.19.8"
            ]
          },
          "metadata": {}
        },
        {
          "output_type": "display_data",
          "data": {
            "text/plain": [
              "<IPython.core.display.HTML object>"
            ],
            "text/html": [
              "Run data is saved locally in <code>/content/wandb/run-20250330_121027-krtxr62g</code>"
            ]
          },
          "metadata": {}
        },
        {
          "output_type": "display_data",
          "data": {
            "text/plain": [
              "<IPython.core.display.HTML object>"
            ],
            "text/html": [
              "Syncing run <strong><a href='https://wandb.ai/ed22b051-iit-madras-foundation/RL_PA1_Sweep_PolicyComparison_FixedGamma/runs/krtxr62g' target=\"_blank\">dandy-sweep-40</a></strong> to <a href='https://wandb.ai/ed22b051-iit-madras-foundation/RL_PA1_Sweep_PolicyComparison_FixedGamma' target=\"_blank\">Weights & Biases</a> (<a href='https://wandb.me/developer-guide' target=\"_blank\">docs</a>)<br>Sweep page: <a href='https://wandb.ai/ed22b051-iit-madras-foundation/RL_PA1_Sweep_PolicyComparison_FixedGamma/sweeps/vluleyzf' target=\"_blank\">https://wandb.ai/ed22b051-iit-madras-foundation/RL_PA1_Sweep_PolicyComparison_FixedGamma/sweeps/vluleyzf</a>"
            ]
          },
          "metadata": {}
        },
        {
          "output_type": "display_data",
          "data": {
            "text/plain": [
              "<IPython.core.display.HTML object>"
            ],
            "text/html": [
              " View project at <a href='https://wandb.ai/ed22b051-iit-madras-foundation/RL_PA1_Sweep_PolicyComparison_FixedGamma' target=\"_blank\">https://wandb.ai/ed22b051-iit-madras-foundation/RL_PA1_Sweep_PolicyComparison_FixedGamma</a>"
            ]
          },
          "metadata": {}
        },
        {
          "output_type": "display_data",
          "data": {
            "text/plain": [
              "<IPython.core.display.HTML object>"
            ],
            "text/html": [
              " View sweep at <a href='https://wandb.ai/ed22b051-iit-madras-foundation/RL_PA1_Sweep_PolicyComparison_FixedGamma/sweeps/vluleyzf' target=\"_blank\">https://wandb.ai/ed22b051-iit-madras-foundation/RL_PA1_Sweep_PolicyComparison_FixedGamma/sweeps/vluleyzf</a>"
            ]
          },
          "metadata": {}
        },
        {
          "output_type": "display_data",
          "data": {
            "text/plain": [
              "<IPython.core.display.HTML object>"
            ],
            "text/html": [
              " View run at <a href='https://wandb.ai/ed22b051-iit-madras-foundation/RL_PA1_Sweep_PolicyComparison_FixedGamma/runs/krtxr62g' target=\"_blank\">https://wandb.ai/ed22b051-iit-madras-foundation/RL_PA1_Sweep_PolicyComparison_FixedGamma/runs/krtxr62g</a>"
            ]
          },
          "metadata": {}
        },
        {
          "output_type": "stream",
          "name": "stderr",
          "text": [
            "Q-Learning (softmax): 100%|██████████| 1000/1000 [00:09<00:00, 108.84it/s]\n",
            "Q-Learning (softmax): 100%|██████████| 1000/1000 [00:18<00:00, 53.87it/s]\n",
            "Q-Learning (softmax): 100%|██████████| 1000/1000 [00:06<00:00, 147.88it/s]\n"
          ]
        },
        {
          "output_type": "display_data",
          "data": {
            "text/plain": [
              "<IPython.core.display.HTML object>"
            ],
            "text/html": []
          },
          "metadata": {}
        },
        {
          "output_type": "display_data",
          "data": {
            "text/plain": [
              "<IPython.core.display.HTML object>"
            ],
            "text/html": [
              "<br>    <style><br>        .wandb-row {<br>            display: flex;<br>            flex-direction: row;<br>            flex-wrap: wrap;<br>            justify-content: flex-start;<br>            width: 100%;<br>        }<br>        .wandb-col {<br>            display: flex;<br>            flex-direction: column;<br>            flex-basis: 100%;<br>            flex: 1;<br>            padding: 10px;<br>        }<br>    </style><br><div class=\"wandb-row\"><div class=\"wandb-col\"><h3>Run history:</h3><br/><table class=\"wandb\"><tr><td>Q_softmax/reward</td><td>▃▂▂▄▃▄▁▃▅▂▄▃▃▄▅▅▆▆▄▄▂▅█▇▅▆▆▄▄▅▃▁▁▁▁▁▁▅▁▁</td></tr><tr><td>avg_reward</td><td>▁</td></tr><tr><td>episode</td><td>▁▂▃▃▃▄▄▆▆▆▇▇███▁▂▂▃▃▄▄▆▆▇▇██▁▁▂▂▂▃▃▃▄▅▅▆</td></tr></table><br/></div><div class=\"wandb-col\"><h3>Run summary:</h3><br/><table class=\"wandb\"><tr><td>Q_softmax/reward</td><td>14</td></tr><tr><td>avg_reward</td><td>46.58333</td></tr><tr><td>episode</td><td>999</td></tr></table><br/></div></div>"
            ]
          },
          "metadata": {}
        },
        {
          "output_type": "display_data",
          "data": {
            "text/plain": [
              "<IPython.core.display.HTML object>"
            ],
            "text/html": [
              " View run <strong style=\"color:#cdcd00\">dandy-sweep-40</strong> at: <a href='https://wandb.ai/ed22b051-iit-madras-foundation/RL_PA1_Sweep_PolicyComparison_FixedGamma/runs/krtxr62g' target=\"_blank\">https://wandb.ai/ed22b051-iit-madras-foundation/RL_PA1_Sweep_PolicyComparison_FixedGamma/runs/krtxr62g</a><br> View project at: <a href='https://wandb.ai/ed22b051-iit-madras-foundation/RL_PA1_Sweep_PolicyComparison_FixedGamma' target=\"_blank\">https://wandb.ai/ed22b051-iit-madras-foundation/RL_PA1_Sweep_PolicyComparison_FixedGamma</a><br>Synced 5 W&B file(s), 0 media file(s), 0 artifact file(s) and 0 other file(s)"
            ]
          },
          "metadata": {}
        },
        {
          "output_type": "display_data",
          "data": {
            "text/plain": [
              "<IPython.core.display.HTML object>"
            ],
            "text/html": [
              "Find logs at: <code>./wandb/run-20250330_121027-krtxr62g/logs</code>"
            ]
          },
          "metadata": {}
        },
        {
          "output_type": "stream",
          "name": "stdout",
          "text": [
            "\n",
            "Best parameters found:\n",
            "SARSA (ε-greedy): {'alpha': 0.38957507932252866, 'param_value': 0.18031554509395945}\n",
            "SARSA (Softmax): {'alpha': 0.34198428650630885, 'param_value': 0.22784538825090672}\n",
            "Q-Learning (ε-greedy): {'alpha': 0.4293378198000344, 'param_value': 0.21966424880097157}\n",
            "Q-Learning (Softmax): {'alpha': 0.16960813191185864, 'param_value': 0.25713144394209253}\n",
            "\n",
            "Running final training with best parameters...\n"
          ]
        },
        {
          "output_type": "display_data",
          "data": {
            "text/plain": [
              "<IPython.core.display.HTML object>"
            ],
            "text/html": [
              "Changes to your `wandb` environment variables will be ignored because your `wandb` session has already started. For more information on how to modify your settings with `wandb.init()` arguments, please refer to <a href='https://wandb.me/wandb-init' target=\"_blank\">the W&B docs</a>."
            ]
          },
          "metadata": {}
        },
        {
          "output_type": "display_data",
          "data": {
            "text/plain": [
              "<IPython.core.display.HTML object>"
            ],
            "text/html": [
              "Ignoring project 'RL_PA1_Final_PolicyComparison_FixedGamma' when running a sweep."
            ]
          },
          "metadata": {}
        },
        {
          "output_type": "display_data",
          "data": {
            "text/plain": [
              "<IPython.core.display.HTML object>"
            ],
            "text/html": [
              "Tracking run with wandb version 0.19.8"
            ]
          },
          "metadata": {}
        },
        {
          "output_type": "display_data",
          "data": {
            "text/plain": [
              "<IPython.core.display.HTML object>"
            ],
            "text/html": [
              "Run data is saved locally in <code>/content/wandb/run-20250330_121103-krtxr62g</code>"
            ]
          },
          "metadata": {}
        },
        {
          "output_type": "display_data",
          "data": {
            "text/plain": [
              "<IPython.core.display.HTML object>"
            ],
            "text/html": [
              "Syncing run <strong><a href='https://wandb.ai/ed22b051-iit-madras-foundation/RL_PA1_Sweep_PolicyComparison_FixedGamma/runs/krtxr62g' target=\"_blank\">Final_Training</a></strong> to <a href='https://wandb.ai/ed22b051-iit-madras-foundation/RL_PA1_Sweep_PolicyComparison_FixedGamma' target=\"_blank\">Weights & Biases</a> (<a href='https://wandb.me/developer-guide' target=\"_blank\">docs</a>)<br>Sweep page: <a href='https://wandb.ai/ed22b051-iit-madras-foundation/RL_PA1_Sweep_PolicyComparison_FixedGamma/sweeps/vluleyzf' target=\"_blank\">https://wandb.ai/ed22b051-iit-madras-foundation/RL_PA1_Sweep_PolicyComparison_FixedGamma/sweeps/vluleyzf</a>"
            ]
          },
          "metadata": {}
        },
        {
          "output_type": "display_data",
          "data": {
            "text/plain": [
              "<IPython.core.display.HTML object>"
            ],
            "text/html": [
              " View project at <a href='https://wandb.ai/ed22b051-iit-madras-foundation/RL_PA1_Sweep_PolicyComparison_FixedGamma' target=\"_blank\">https://wandb.ai/ed22b051-iit-madras-foundation/RL_PA1_Sweep_PolicyComparison_FixedGamma</a>"
            ]
          },
          "metadata": {}
        },
        {
          "output_type": "display_data",
          "data": {
            "text/plain": [
              "<IPython.core.display.HTML object>"
            ],
            "text/html": [
              " View sweep at <a href='https://wandb.ai/ed22b051-iit-madras-foundation/RL_PA1_Sweep_PolicyComparison_FixedGamma/sweeps/vluleyzf' target=\"_blank\">https://wandb.ai/ed22b051-iit-madras-foundation/RL_PA1_Sweep_PolicyComparison_FixedGamma/sweeps/vluleyzf</a>"
            ]
          },
          "metadata": {}
        },
        {
          "output_type": "display_data",
          "data": {
            "text/plain": [
              "<IPython.core.display.HTML object>"
            ],
            "text/html": [
              " View run at <a href='https://wandb.ai/ed22b051-iit-madras-foundation/RL_PA1_Sweep_PolicyComparison_FixedGamma/runs/krtxr62g' target=\"_blank\">https://wandb.ai/ed22b051-iit-madras-foundation/RL_PA1_Sweep_PolicyComparison_FixedGamma/runs/krtxr62g</a>"
            ]
          },
          "metadata": {}
        },
        {
          "output_type": "stream",
          "name": "stderr",
          "text": [
            "SARSA (epsilon_greedy): 100%|██████████| 2000/2000 [00:38<00:00, 51.97it/s]\n",
            "SARSA (epsilon_greedy): 100%|██████████| 2000/2000 [00:38<00:00, 52.11it/s]\n",
            "SARSA (epsilon_greedy): 100%|██████████| 2000/2000 [00:39<00:00, 50.32it/s]\n",
            "SARSA (epsilon_greedy): 100%|██████████| 2000/2000 [01:07<00:00, 29.61it/s]\n",
            "SARSA (epsilon_greedy): 100%|██████████| 2000/2000 [00:46<00:00, 43.09it/s]\n",
            "SARSA (softmax): 100%|██████████| 2000/2000 [00:09<00:00, 211.79it/s]\n",
            "SARSA (softmax): 100%|██████████| 2000/2000 [00:14<00:00, 141.42it/s]\n",
            "SARSA (softmax): 100%|██████████| 2000/2000 [00:08<00:00, 244.76it/s]\n",
            "SARSA (softmax): 100%|██████████| 2000/2000 [00:11<00:00, 178.32it/s]\n",
            "SARSA (softmax): 100%|██████████| 2000/2000 [00:10<00:00, 196.43it/s]\n",
            "Q-Learning (epsilon_greedy): 100%|██████████| 2000/2000 [00:44<00:00, 45.22it/s]\n",
            "Q-Learning (epsilon_greedy): 100%|██████████| 2000/2000 [00:44<00:00, 45.00it/s]\n",
            "Q-Learning (epsilon_greedy): 100%|██████████| 2000/2000 [00:43<00:00, 45.60it/s]\n",
            "Q-Learning (epsilon_greedy): 100%|██████████| 2000/2000 [00:43<00:00, 45.62it/s]\n",
            "Q-Learning (epsilon_greedy): 100%|██████████| 2000/2000 [00:42<00:00, 46.59it/s]\n",
            "Q-Learning (softmax): 100%|██████████| 2000/2000 [00:10<00:00, 184.55it/s]\n",
            "Q-Learning (softmax): 100%|██████████| 2000/2000 [00:21<00:00, 91.23it/s]\n",
            "Q-Learning (softmax): 100%|██████████| 2000/2000 [00:09<00:00, 210.14it/s]\n",
            "Q-Learning (softmax): 100%|██████████| 2000/2000 [00:23<00:00, 83.35it/s]\n",
            "Q-Learning (softmax): 100%|██████████| 2000/2000 [00:11<00:00, 169.08it/s]\n"
          ]
        },
        {
          "output_type": "stream",
          "name": "stdout",
          "text": [
            "\n",
            "Final Performance:\n",
            "SARSA (ε-greedy, last 100 episodes): 200.6 ± 93.3\n",
            "SARSA (Softmax, last 100 episodes): 20.3 ± 9.3\n",
            "Q-Learning (ε-greedy, last 100 episodes): 178.7 ± 91.6\n",
            "Q-Learning (Softmax, last 100 episodes): 30.3 ± 19.7\n"
          ]
        },
        {
          "output_type": "display_data",
          "data": {
            "text/plain": [
              "<Figure size 1200x600 with 1 Axes>"
            ],
            "image/png": "[encoded data removed]"
          },
          "metadata": {}
        },
        {
          "output_type": "display_data",
          "data": {
            "text/plain": [
              "<Figure size 1200x600 with 1 Axes>"
            ],
            "image/png": "[encoded data removed]"
          },
          "metadata": {}
        },
        {
          "output_type": "display_data",
          "data": {
            "text/plain": [
              "<IPython.core.display.HTML object>"
            ],
            "text/html": []
          },
          "metadata": {}
        },
        {
          "output_type": "display_data",
          "data": {
            "text/plain": [
              "<IPython.core.display.HTML object>"
            ],
            "text/html": [
              "<br>    <style><br>        .wandb-row {<br>            display: flex;<br>            flex-direction: row;<br>            flex-wrap: wrap;<br>            justify-content: flex-start;<br>            width: 100%;<br>        }<br>        .wandb-col {<br>            display: flex;<br>            flex-direction: column;<br>            flex-basis: 100%;<br>            flex: 1;<br>            padding: 10px;<br>        }<br>    </style><br><div class=\"wandb-row\"><div class=\"wandb-col\"><h3>Run history:</h3><br/><table class=\"wandb\"><tr><td>Q_Learning_epsilon_greedy/final_reward</td><td>▁</td></tr><tr><td>Q_Learning_softmax/final_reward</td><td>▁</td></tr><tr><td>Q_epsilon_greedy/reward</td><td>▂▃▄▄█▁▁▃▂▂▄▅▄▆▅▁▁▁▂▁▄▃▄▄▂▁▂▂▂▅▂▄▁▂▄▄▂▃▂▄</td></tr><tr><td>Q_softmax/reward</td><td>▁▃▃▂▂▁▃▁▁▃▁▃█▆▁▅▁▁▁▁▃▂▁▃▃▃▅▄▄▄▂▃▃▅▂▁▂▆▂▂</td></tr><tr><td>SARSA_epsilon_greedy/final_reward</td><td>▁</td></tr><tr><td>SARSA_epsilon_greedy/reward</td><td>▁▁▁▂▂▂▂▄▃▃▃▁▂▅▃▅▄▃▃▄▂▃▄▂▄▃▄▂▆▆▇█▆▂▄▃▂▂▅▃</td></tr><tr><td>SARSA_softmax/final_reward</td><td>▁</td></tr><tr><td>SARSA_softmax/reward</td><td>▂▂▁▂▂▄▁▁▂▁▇▂▂▂▁▂▁█▇▁▂▁▁▁▂▁▁▁▃▁▄▃▂▂▁▁▂▂▁▁</td></tr><tr><td>episode</td><td>▁▁▅▅▆▅▃▄▅▅▇▅▆▅▅▆▂▃▄▅▂█▂▃▄▆▂██▃▄▆▅▃▄▆▇▁▄▄</td></tr></table><br/></div><div class=\"wandb-col\"><h3>Run summary:</h3><br/><table class=\"wandb\"><tr><td>Q_Learning_epsilon_greedy/final_reward</td><td>178.676</td></tr><tr><td>Q_Learning_softmax/final_reward</td><td>30.316</td></tr><tr><td>Q_epsilon_greedy/reward</td><td>107</td></tr><tr><td>Q_softmax/reward</td><td>21</td></tr><tr><td>SARSA_epsilon_greedy/final_reward</td><td>200.62</td></tr><tr><td>SARSA_epsilon_greedy/reward</td><td>162</td></tr><tr><td>SARSA_softmax/final_reward</td><td>20.268</td></tr><tr><td>SARSA_softmax/reward</td><td>25</td></tr><tr><td>episode</td><td>1999</td></tr></table><br/></div></div>"
            ]
          },
          "metadata": {}
        },
        {
          "output_type": "display_data",
          "data": {
            "text/plain": [
              "<IPython.core.display.HTML object>"
            ],
            "text/html": [
              " View run <strong style=\"color:#cdcd00\">Final_Training</strong> at: <a href='https://wandb.ai/ed22b051-iit-madras-foundation/RL_PA1_Sweep_PolicyComparison_FixedGamma/runs/krtxr62g' target=\"_blank\">https://wandb.ai/ed22b051-iit-madras-foundation/RL_PA1_Sweep_PolicyComparison_FixedGamma/runs/krtxr62g</a><br> View project at: <a href='https://wandb.ai/ed22b051-iit-madras-foundation/RL_PA1_Sweep_PolicyComparison_FixedGamma' target=\"_blank\">https://wandb.ai/ed22b051-iit-madras-foundation/RL_PA1_Sweep_PolicyComparison_FixedGamma</a><br>Synced 5 W&B file(s), 2 media file(s), 0 artifact file(s) and 0 other file(s)"
            ]
          },
          "metadata": {}
        },
        {
          "output_type": "display_data",
          "data": {
            "text/plain": [
              "<IPython.core.display.HTML object>"
            ],
            "text/html": [
              "Find logs at: <code>./wandb/run-20250330_121103-krtxr62g/logs</code>"
            ]
          },
          "metadata": {}
        }
      ],
      "source": [
        "import numpy as np\n",
        "import gymnasium as gym\n",
        "import matplotlib.pyplot as plt\n",
        "from collections import defaultdict\n",
        "from tqdm import tqdm\n",
        "import random\n",
        "import wandb\n",
        "\n",
        "\n",
        "env = gym.make('CartPole-v1')\n",
        "\n",
        "\n",
        "def discretize_state(state, bins=(10, 10, 20, 20)):\n",
        "    bounds = [(-2.4, 2.4), (-3.0, 3.0), (-0.3, 0.3), (-3.0, 3.0)]\n",
        "    discretized = []\n",
        "    for i in range(4):\n",
        "        discretized.append(np.digitize(np.clip(state[i], bounds[i][0], bounds[i][1]),\n",
        "                         np.linspace(bounds[i][0], bounds[i][1], bins[i])))\n",
        "    return tuple(discretized)\n",
        "\n",
        "\n",
        "def stable_softmax(q_values, temperature=1.0):\n",
        "    shifted_q = q_values - np.max(q_values)\n",
        "    exp_q = np.exp(shifted_q / temperature)\n",
        "    return exp_q / np.sum(exp_q)\n",
        "\n",
        "\n",
        "def epsilon_greedy(q_values, epsilon):\n",
        "    return random.randint(0, len(q_values)-1) if random.random() < epsilon else np.argmax(q_values)\n",
        "\n",
        "\n",
        "def q_learning(env, policy_type='epsilon_greedy', num_episodes=2000, alpha=0.5, gamma=0.99, param_value=0.1):\n",
        "    q_table = defaultdict(lambda: np.zeros(env.action_space.n))\n",
        "    rewards = []\n",
        "\n",
        "    for episode in tqdm(range(num_episodes), desc=f\"Q-Learning ({policy_type})\"):\n",
        "        state, _ = env.reset()\n",
        "        state = discretize_state(state)\n",
        "        episode_reward = 0\n",
        "        done = False\n",
        "\n",
        "\n",
        "        episode_alpha = alpha / (1 + episode * 0.001)\n",
        "\n",
        "        while not done:\n",
        "\n",
        "            if policy_type == 'epsilon_greedy':\n",
        "                action = epsilon_greedy(q_table[state], param_value)\n",
        "            else:\n",
        "                action_probs = stable_softmax(q_table[state], param_value)\n",
        "                action = np.random.choice(env.action_space.n, p=action_probs)\n",
        "\n",
        "            next_state, reward, terminated, truncated, _ = env.step(action)\n",
        "            done = terminated or truncated\n",
        "            next_state = discretize_state(next_state)\n",
        "\n",
        "            best_next_q = np.max(q_table[next_state])\n",
        "            q_table[state][action] += episode_alpha * (reward + gamma * best_next_q - q_table[state][action])\n",
        "\n",
        "            state = next_state\n",
        "            episode_reward += reward\n",
        "\n",
        "        rewards.append(episode_reward)\n",
        "        if wandb.run is not None:\n",
        "            wandb.log({f\"Q_{policy_type}/reward\": episode_reward, \"episode\": episode})\n",
        "\n",
        "    return rewards\n",
        "\n",
        "\n",
        "def sarsa(env, policy_type='epsilon_greedy', num_episodes=2000, alpha=0.5, gamma=0.99, param_value=0.1):\n",
        "    q_table = defaultdict(lambda: np.zeros(env.action_space.n))\n",
        "    rewards = []\n",
        "\n",
        "    for episode in tqdm(range(num_episodes), desc=f\"SARSA ({policy_type})\"):\n",
        "        state, _ = env.reset()\n",
        "        state = discretize_state(state)\n",
        "\n",
        "\n",
        "        if policy_type == 'epsilon_greedy':\n",
        "            action = epsilon_greedy(q_table[state], param_value)\n",
        "        else:\n",
        "            action_probs = stable_softmax(q_table[state], param_value)\n",
        "            action = np.random.choice(env.action_space.n, p=action_probs)\n",
        "\n",
        "        episode_reward = 0\n",
        "        done = False\n",
        "\n",
        "\n",
        "        episode_alpha = alpha / (1 + episode * 0.001)\n",
        "\n",
        "        while not done:\n",
        "            next_state, reward, terminated, truncated, _ = env.step(action)\n",
        "            done = terminated or truncated\n",
        "            next_state = discretize_state(next_state)\n",
        "\n",
        "\n",
        "            if policy_type == 'epsilon_greedy':\n",
        "                next_action = epsilon_greedy(q_table[next_state], param_value)\n",
        "            else:\n",
        "                next_action_probs = stable_softmax(q_table[next_state], param_value)\n",
        "                next_action = np.random.choice(env.action_space.n, p=next_action_probs)\n",
        "\n",
        "            q_table[state][action] += episode_alpha * (reward + gamma * q_table[next_state][next_action] - q_table[state][action])\n",
        "\n",
        "            state, action = next_state, next_action\n",
        "            episode_reward += reward\n",
        "\n",
        "        rewards.append(episode_reward)\n",
        "        if wandb.run is not None:\n",
        "            wandb.log({f\"SARSA_{policy_type}/reward\": episode_reward, \"episode\": episode})\n",
        "\n",
        "    return rewards\n",
        "\n",
        "def run_multiple_seeds(algorithm, policy_type, env, num_seeds=5, num_episodes=2000, **kwargs):\n",
        "    all_rewards = []\n",
        "    for seed in range(num_seeds):\n",
        "        np.random.seed(seed)\n",
        "        random.seed(seed)\n",
        "        if algorithm == 'q_learning':\n",
        "            rewards = q_learning(env, policy_type, num_episodes, **kwargs)\n",
        "        else:\n",
        "            rewards = sarsa(env, policy_type, num_episodes, **kwargs)\n",
        "        all_rewards.append(rewards)\n",
        "    return np.mean(all_rewards, axis=0), np.std(all_rewards, axis=0)\n",
        "\n",
        "def plot_algorithm_comparison(algorithm, eg_mean, eg_std, sm_mean, sm_std):\n",
        "    plt.figure(figsize=(12, 6))\n",
        "    episodes = np.arange(len(eg_mean))\n",
        "\n",
        "    plt.plot(episodes, eg_mean, label=f'{algorithm} (ε-greedy)', color='blue')\n",
        "    plt.fill_between(episodes, eg_mean-eg_std, eg_mean+eg_std, color='blue', alpha=0.2)\n",
        "\n",
        "    plt.plot(episodes, sm_mean, label=f'{algorithm} (Softmax)', color='red')\n",
        "    plt.fill_between(episodes, sm_mean-sm_std, sm_mean+sm_std, color='red', alpha=0.2)\n",
        "\n",
        "    plt.xlabel('Episode')\n",
        "    plt.ylabel('Average Reward')\n",
        "    plt.title(f'{algorithm} Learning Curves: ε-greedy vs Softmax (5 seeds)')\n",
        "    plt.legend()\n",
        "    plt.grid(True)\n",
        "    plt.savefig(f'{algorithm.lower()}_comparison.png')\n",
        "\n",
        "    if wandb.run is not None:\n",
        "        wandb.log({f\"{algorithm}_comparison\": wandb.Image(plt)})\n",
        "\n",
        "    plt.show()\n",
        "\n",
        "def main():\n",
        "    wandb.login()\n",
        "\n",
        "\n",
        "    fixed_gamma = 0.99\n",
        "\n",
        "\n",
        "    sweep_config = {\n",
        "        'method': 'bayes',\n",
        "        'metric': {'name': 'avg_reward', 'goal': 'maximize'},\n",
        "        'parameters': {\n",
        "            'algorithm': {'values': ['sarsa', 'q_learning']},\n",
        "            'policy_type': {'values': ['epsilon_greedy', 'softmax']},\n",
        "            'alpha': {'min': 0.1, 'max': 0.7},\n",
        "            'param_value': {\n",
        "                'min': 0.05,\n",
        "                'max': 0.3,\n",
        "                'distribution': 'uniform'\n",
        "            }\n",
        "        }\n",
        "    }\n",
        "\n",
        "\n",
        "    print(\"Running hyperparameter sweep...\")\n",
        "    sweep_id = wandb.sweep(sweep_config, project=\"RL_PA1_Sweep_PolicyComparison_FixedGamma\")\n",
        "\n",
        "    best_params = {\n",
        "        'sarsa': {'epsilon_greedy': None, 'softmax': None},\n",
        "        'q_learning': {'epsilon_greedy': None, 'softmax': None}\n",
        "    }\n",
        "    best_rewards = {\n",
        "        'sarsa': {'epsilon_greedy': -np.inf, 'softmax': -np.inf},\n",
        "        'q_learning': {'epsilon_greedy': -np.inf, 'softmax': -np.inf}\n",
        "    }\n",
        "\n",
        "    def train():\n",
        "        nonlocal best_params, best_rewards\n",
        "        with wandb.init() as run:\n",
        "            config = run.config\n",
        "            rewards = []\n",
        "            for seed in range(3):\n",
        "                np.random.seed(seed)\n",
        "                random.seed(seed)\n",
        "                if config.algorithm == 'sarsa':\n",
        "                    rewards.append(sarsa(env, config.policy_type, 1000, config.alpha, fixed_gamma, config.param_value))\n",
        "                else:\n",
        "                    rewards.append(q_learning(env, config.policy_type, 1000, config.alpha, fixed_gamma, config.param_value))\n",
        "\n",
        "            avg_reward = np.mean([np.mean(r[-100:]) for r in rewards])\n",
        "            wandb.log({'avg_reward': avg_reward})\n",
        "\n",
        "            # Track best parameters\n",
        "            if avg_reward > best_rewards[config.algorithm][config.policy_type]:\n",
        "                best_rewards[config.algorithm][config.policy_type] = avg_reward\n",
        "                best_params[config.algorithm][config.policy_type] = {\n",
        "                    'alpha': config.alpha,\n",
        "                    'param_value': config.param_value\n",
        "                }\n",
        "\n",
        "    wandb.agent(sweep_id, train, count=40)\n",
        "\n",
        "    print(\"\\nBest parameters found:\")\n",
        "    print(f\"SARSA (ε-greedy): {best_params['sarsa']['epsilon_greedy']}\")\n",
        "    print(f\"SARSA (Softmax): {best_params['sarsa']['softmax']}\")\n",
        "    print(f\"Q-Learning (ε-greedy): {best_params['q_learning']['epsilon_greedy']}\")\n",
        "    print(f\"Q-Learning (Softmax): {best_params['q_learning']['softmax']}\")\n",
        "\n",
        "\n",
        "    print(\"\\nRunning final training with best parameters...\")\n",
        "    wandb.init(project=\"RL_PA1_Final_PolicyComparison_FixedGamma\", name=\"Final_Training\")\n",
        "\n",
        "\n",
        "    sarsa_eg_mean, sarsa_eg_std = run_multiple_seeds(\n",
        "        'sarsa', 'epsilon_greedy', env, 5, 2000,\n",
        "        alpha=best_params['sarsa']['epsilon_greedy']['alpha'],\n",
        "        gamma=fixed_gamma,\n",
        "        param_value=best_params['sarsa']['epsilon_greedy']['param_value']\n",
        "    )\n",
        "\n",
        "    sarsa_sm_mean, sarsa_sm_std = run_multiple_seeds(\n",
        "        'sarsa', 'softmax', env, 5, 2000,\n",
        "        alpha=best_params['sarsa']['softmax']['alpha'],\n",
        "        gamma=fixed_gamma,\n",
        "        param_value=best_params['sarsa']['softmax']['param_value']\n",
        "    )\n",
        "\n",
        "\n",
        "    q_eg_mean, q_eg_std = run_multiple_seeds(\n",
        "        'q_learning', 'epsilon_greedy', env, 5, 2000,\n",
        "        alpha=best_params['q_learning']['epsilon_greedy']['alpha'],\n",
        "        gamma=fixed_gamma,\n",
        "        param_value=best_params['q_learning']['epsilon_greedy']['param_value']\n",
        "    )\n",
        "\n",
        "    q_sm_mean, q_sm_std = run_multiple_seeds(\n",
        "        'q_learning', 'softmax', env, 5, 2000,\n",
        "        alpha=best_params['q_learning']['softmax']['alpha'],\n",
        "        gamma=fixed_gamma,\n",
        "        param_value=best_params['q_learning']['softmax']['param_value']\n",
        "    )\n",
        "\n",
        "\n",
        "    print(\"\\nFinal Performance:\")\n",
        "    print(f\"SARSA (ε-greedy, last 100 episodes): {np.mean(sarsa_eg_mean[-100:]):.1f} ± {np.mean(sarsa_eg_std[-100:]):.1f}\")\n",
        "    print(f\"SARSA (Softmax, last 100 episodes): {np.mean(sarsa_sm_mean[-100:]):.1f} ± {np.mean(sarsa_sm_std[-100:]):.1f}\")\n",
        "    print(f\"Q-Learning (ε-greedy, last 100 episodes): {np.mean(q_eg_mean[-100:]):.1f} ± {np.mean(q_eg_std[-100:]):.1f}\")\n",
        "    print(f\"Q-Learning (Softmax, last 100 episodes): {np.mean(q_sm_mean[-100:]):.1f} ± {np.mean(q_sm_std[-100:]):.1f}\")\n",
        "\n",
        "\n",
        "    plot_algorithm_comparison('SARSA', sarsa_eg_mean, sarsa_eg_std, sarsa_sm_mean, sarsa_sm_std)\n",
        "    plot_algorithm_comparison('Q-Learning', q_eg_mean, q_eg_std, q_sm_mean, q_sm_std)\n",
        "\n",
        "\n",
        "    wandb.log({\n",
        "        \"SARSA_epsilon_greedy/final_reward\": np.mean(sarsa_eg_mean[-100:]),\n",
        "        \"SARSA_softmax/final_reward\": np.mean(sarsa_sm_mean[-100:]),\n",
        "        \"Q_Learning_epsilon_greedy/final_reward\": np.mean(q_eg_mean[-100:]),\n",
        "        \"Q_Learning_softmax/final_reward\": np.mean(q_sm_mean[-100:])\n",
        "    })\n",
        "    wandb.finish()\n",
        "\n",
        "if __name__ == \"__main__\":\n",
        "    main()"
      ]
    }
  ],
  "metadata": {
    "colab": {
      "provenance": []
    },
    "kernelspec": {
      "display_name": "Python 3",
      "name": "python3"
    },
    "language_info": {
      "name": "python"
    }
  },
  "nbformat": 4,
  "nbformat_minor": 0
}